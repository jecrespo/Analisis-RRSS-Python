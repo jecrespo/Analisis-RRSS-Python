{
 "cells": [
  {
   "cell_type": "code",
   "execution_count": 1,
   "metadata": {},
   "outputs": [],
   "source": [
    "#análisis exploratorio\n",
    "import tweepy\n",
    "from twitter_secrets import CONSUMER_KEY, CONSUMER_SECRET, ACCESS_TOKEN, ACCESS_TOKEN_SECRET\n",
    "\n",
    "auth = tweepy.OAuthHandler(CONSUMER_KEY, CONSUMER_SECRET)\n",
    "auth.set_access_token(ACCESS_TOKEN, ACCESS_TOKEN_SECRET)\n",
    "\n",
    "api = tweepy.API(auth)\n"
   ]
  },
  {
   "cell_type": "code",
   "execution_count": 2,
   "metadata": {},
   "outputs": [],
   "source": [
    "#recuperar datos\n",
    "tweets = api.search(q='Tensorflow,Pytorch',lang='en',count=100)"
   ]
  },
  {
   "cell_type": "code",
   "execution_count": 3,
   "metadata": {},
   "outputs": [
    {
     "data": {
      "text/plain": [
       "91"
      ]
     },
     "execution_count": 3,
     "metadata": {},
     "output_type": "execute_result"
    }
   ],
   "source": [
    "len(tweets)"
   ]
  },
  {
   "cell_type": "code",
   "execution_count": 4,
   "metadata": {},
   "outputs": [
    {
     "name": "stdout",
     "output_type": "stream",
     "text": [
      "<class 'tweepy.models.SearchResults'>\n"
     ]
    }
   ],
   "source": [
    "print(type(tweets))"
   ]
  },
  {
   "cell_type": "code",
   "execution_count": 5,
   "metadata": {},
   "outputs": [],
   "source": [
    "status = tweets[0]"
   ]
  },
  {
   "cell_type": "code",
   "execution_count": 6,
   "metadata": {},
   "outputs": [
    {
     "data": {
      "text/plain": [
       "'en'"
      ]
     },
     "execution_count": 6,
     "metadata": {},
     "output_type": "execute_result"
    }
   ],
   "source": [
    "status.lang"
   ]
  },
  {
   "cell_type": "code",
   "execution_count": 7,
   "metadata": {},
   "outputs": [
    {
     "name": "stdout",
     "output_type": "stream",
     "text": [
      "NodeBotJs2 RT @dayus4heaven: Essential Cheat Sheets for MachineLearning&amp;DeepLearning\n",
      "#WebDev #BigData #Analytics #DataScience #CyberSecurity #IoT #IIo…\n",
      "okemname RT @dayus4heaven: Essential Cheat Sheets for MachineLearning&amp;DeepLearning\n",
      "#WebDev #BigData #Analytics #DataScience #CyberSecurity #IoT #IIo…\n",
      "ShyBOT7 RT @odsc: Announcing AI+ Training by #ODSC. Learn from acclaimed instructor and author Jon Krohn, PhD, this July. Register now to save 30%:…\n",
      "tobi_aiyelokun RT @EmmanuelTorty: VS Code Cheat Sheet (2020)\n",
      "#WebDev #BigData #Analytics #DataScience #CyberSecurity #IoT #IIoT #PyTorch #Python #RStats #…\n",
      "_reactdev RT @dayus4heaven: Essential Cheat Sheets for MachineLearning&amp;DeepLearning\n",
      "#WebDev #BigData #Analytics #DataScience #CyberSecurity #IoT #IIo…\n",
      "jamilouazzani RT @dayus4heaven: Essential Cheat Sheets for MachineLearning&amp;DeepLearning\n",
      "#WebDev #BigData #Analytics #DataScience #CyberSecurity #IoT #IIo…\n",
      "C0mment_Reader RT @pak_aims: #Programmer directory!\n",
      "\n",
      "#AI #Analytics #DataScience #rstats #IoT #TensorFlow #javascript #reactjs #Cloud #Serverless #NodeJS…\n",
      "ddcombot RT @FARHAN_RABBANI: Programming Dictionary!\n",
      "\n",
      "#Robots #Robotics #AI #BigData #Analytics #DataScience #rstats #IoT #TensorFlow #javascript #r…\n",
      "LlnuxBot RT @FARHAN_RABBANI: Programming Dictionary!\n",
      "\n",
      "#Robots #Robotics #AI #BigData #Analytics #DataScience #rstats #IoT #TensorFlow #javascript #r…\n",
      "ProjectLearn_io RT @FARHAN_RABBANI: Programming Dictionary!\n",
      "\n",
      "#Robots #Robotics #AI #BigData #Analytics #DataScience #rstats #IoT #TensorFlow #javascript #r…\n",
      "Wrdlbrmpfd_Wrdl RT @PratikNilange: Me explaining client how to use the program!🤣\n",
      "#WebDev #BigData #Analytics #DataScience #CyberSecurity #IoT #IIoT #PyTorc…\n",
      "ManushaDilan RT @EmmanuelTorty: VS Code Cheat Sheet (2020)\n",
      "#WebDev #BigData #Analytics #DataScience #CyberSecurity #IoT #IIoT #PyTorch #Python #RStats #…\n",
      "herhtom RT @EmmanuelTorty: VS Code Cheat Sheet (2020)\n",
      "#WebDev #BigData #Analytics #DataScience #CyberSecurity #IoT #IIoT #PyTorch #Python #RStats #…\n",
      "Woodywood4Woody RT @odsc: Announcing AI+ Training by #ODSC. Learn from acclaimed instructor and author Jon Krohn, PhD, this July. Register now to save 30%:…\n",
      "merit_bakare RT @odsc: Announcing AI+ Training by #ODSC. Learn from acclaimed instructor and author Jon Krohn, PhD, this July. Register now to save 30%:…\n",
      "odsc Announcing AI+ Training by #ODSC. Learn from acclaimed instructor and author Jon Krohn, PhD, this July. Register no… https://t.co/lwo9fqwbK8\n",
      "ddcombot RT @tut_ml: Best Books on Data Science in 2020\n",
      "#WebDev #BigData #Analytics #DataScience #CyberSecurity #IoT #IIoT #PyTorch #Python #RStats…\n",
      "ddcombot RT @tut_ml: Best Books on Data Science in 2020\n",
      "#WebDev #BigData #Analytics #DataScience #CyberSecurity #IoT #IIoT #PyTorch #Python #RStats…\n",
      "cybersec_feeds RT @tut_ml: Best Books on Data Science in 2020\n",
      "#WebDev #BigData #Analytics #DataScience #CyberSecurity #IoT #IIoT #PyTorch #Python #RStats…\n",
      "MariaLasNieves2 RT @dayus4heaven: Essential Cheat Sheets for MachineLearning&amp;DeepLearning\n",
      "#WebDev #BigData #Analytics #DataScience #CyberSecurity #IoT #IIo…\n",
      "ddcombot RT @y2yuuuki: For DataScientists\n",
      "\n",
      "https://t.co/c5dzcBeyMi\n",
      "ーーー\n",
      "#WebDev #BigData #Analytics #DataScience #CyberSecurity #IoT #IIoT #PyTorch #…\n",
      "CodeGnuts RT @y2yuuuki: For DataScientists\n",
      "\n",
      "https://t.co/c5dzcBeyMi\n",
      "ーーー\n",
      "#WebDev #BigData #Analytics #DataScience #CyberSecurity #IoT #IIoT #PyTorch #…\n",
      "PandhareSidhesh RT @y2yuuuki: For DataScientists\n",
      "\n",
      "https://t.co/c5dzcBeyMi\n",
      "ーーー\n",
      "#WebDev #BigData #Analytics #DataScience #CyberSecurity #IoT #IIoT #PyTorch #…\n",
      "m_khairahman RT @EmmanuelTorty: VS Code Cheat Sheet (2020)\n",
      "#WebDev #BigData #Analytics #DataScience #CyberSecurity #IoT #IIoT #PyTorch #Python #RStats #…\n",
      "jonico22 RT @EmmanuelTorty: VS Code Cheat Sheet (2020)\n",
      "#WebDev #BigData #Analytics #DataScience #CyberSecurity #IoT #IIoT #PyTorch #Python #RStats #…\n",
      "LabOfBro RT @EmmanuelTorty: VS Code Cheat Sheet (2020)\n",
      "#WebDev #BigData #Analytics #DataScience #CyberSecurity #IoT #IIoT #PyTorch #Python #RStats #…\n",
      "cybe_rpunkfixer RT @EmmanuelTorty: VS Code Cheat Sheet (2020)\n",
      "#WebDev #BigData #Analytics #DataScience #CyberSecurity #IoT #IIoT #PyTorch #Python #RStats #…\n",
      "Taieb_Bot RT @pak_aims: #Programmer directory!\n",
      "\n",
      "#AI #Analytics #DataScience #rstats #IoT #TensorFlow #javascript #reactjs #Cloud #Serverless #NodeJS…\n",
      "cybersec_feeds RT @pak_aims: #Programmer directory!\n",
      "\n",
      "#AI #Analytics #DataScience #rstats #IoT #TensorFlow #javascript #reactjs #Cloud #Serverless #NodeJS…\n",
      "ML_Tweet_Bot RT @Deep_In_Depth: Awesome Julia Machine-Learning Packages Everyone Should Try! https://t.co/XWdemKy8us #DL #AI #ML #DeepLearning #NeuralNe…\n",
      "LearnWithHarry RT @Deep_In_Depth: Awesome Julia Machine-Learning Packages Everyone Should Try! https://t.co/XWdemKy8us #DL #AI #ML #DeepLearning #NeuralNe…\n",
      "Akrati69904291 RT @Deep_In_Depth: Awesome Julia Machine-Learning Packages Everyone Should Try! https://t.co/XWdemKy8us #DL #AI #ML #DeepLearning #NeuralNe…\n",
      "codedailybot RT @tut_ml: Best Books on Data Science in 2020\n",
      "#WebDev #BigData #Analytics #DataScience #CyberSecurity #IoT #IIoT #PyTorch #Python #RStats…\n",
      "Akrati69904291 RT @tut_ml: Best Books on Data Science in 2020\n",
      "#WebDev #BigData #Analytics #DataScience #CyberSecurity #IoT #IIoT #PyTorch #Python #RStats…\n",
      "dahlbys RT @kwasi_arhin_: @venikunche @DiversifyTechCo Hey #TechTwitter, My name is Kwasi Arhin\n",
      "\n",
      "I'm currently seeking Data Scientist/Machine Learn…\n",
      "FredericRoland7 RT @kwasi_arhin_: @venikunche @DiversifyTechCo Hey #TechTwitter, My name is Kwasi Arhin\n",
      "\n",
      "I'm currently seeking Data Scientist/Machine Learn…\n",
      "Dev_Luismi RT @kwasi_arhin_: @venikunche @DiversifyTechCo Hey #TechTwitter, My name is Kwasi Arhin\n",
      "\n",
      "I'm currently seeking Data Scientist/Machine Learn…\n",
      "KingdomPython RT @kwasi_arhin_: @venikunche @DiversifyTechCo Hey #TechTwitter, My name is Kwasi Arhin\n",
      "\n",
      "I'm currently seeking Data Scientist/Machine Learn…\n",
      "AdamMico1 RT @kwasi_arhin_: @venikunche @DiversifyTechCo Hey #TechTwitter, My name is Kwasi Arhin\n",
      "\n",
      "I'm currently seeking Data Scientist/Machine Learn…\n",
      "BlkHwk0ps RT @kwasi_arhin_: @venikunche @DiversifyTechCo Hey #TechTwitter, My name is Kwasi Arhin\n",
      "\n",
      "I'm currently seeking Data Scientist/Machine Learn…\n",
      "ThatGoodTweet RT @kwasi_arhin_: @venikunche @DiversifyTechCo Hey #TechTwitter, My name is Kwasi Arhin\n",
      "\n",
      "I'm currently seeking Data Scientist/Machine Learn…\n",
      "venikunche RT @kwasi_arhin_: @venikunche @DiversifyTechCo Hey #TechTwitter, My name is Kwasi Arhin\n",
      "\n",
      "I'm currently seeking Data Scientist/Machine Learn…\n",
      "FishEyeBoxIndia RT @PinakiLaskar: Best #Selfies\n",
      "#STEM #Memes #math #science #engineering #cybersecurity #artificialintelligence #technology #machinelearnin…\n",
      "LlnuxBot RT @patri_vaquero_: 🔬 #Azure #MachineLearning- Model Training. #BigData #Analytics #DataScience #AI  #IoT #IIoT #PyTorch #Python #RStats #T…\n",
      "tokhope RT @PratikNilange: Me explaining client how to use the program!🤣\n",
      "#WebDev #BigData #Analytics #DataScience #CyberSecurity #IoT #IIoT #PyTorc…\n",
      "Motion84 RT @patri_vaquero_: 🔬 #Azure #MachineLearning- Model Training. #BigData #Analytics #DataScience #AI  #IoT #IIoT #PyTorch #Python #RStats #T…\n",
      "qualystat RT @ekecoding: VS Code Cheat Sheet (2020)\n",
      "#WebDev #BigData #Analytics #DataScience #CyberSecurity #IoT #IIoT #PyTorch #Python #RStats #Tens…\n",
      "Kohei_Dozono Uhhn, for GANs, PyTorch seems ve suitable compared to TensorFlow... (especially, GD part)\n",
      "\n",
      "How Pytorch has made GAN… https://t.co/2Nbzn1lKmS\n",
      "FisheyeboxLab RT @PinakiLaskar: Best #Selfies\n",
      "#STEM #Memes #math #science #engineering #cybersecurity #artificialintelligence #technology #machinelearnin…\n",
      "ph055a RT @kwasi_arhin_: @venikunche @DiversifyTechCo Hey #TechTwitter, My name is Kwasi Arhin\n",
      "\n",
      "I'm currently seeking Data Scientist/Machine Learn…\n",
      "fullNam35087976 RT @ekecoding: VS Code Cheat Sheet (2020)\n",
      "#WebDev #BigData #Analytics #DataScience #CyberSecurity #IoT #IIoT #PyTorch #Python #RStats #Tens…\n",
      "LinuxDreams RT @ekecoding: VS Code Cheat Sheet (2020)\n",
      "#WebDev #BigData #Analytics #DataScience #CyberSecurity #IoT #IIoT #PyTorch #Python #RStats #Tens…\n",
      "ddcombot RT @ekecoding: VS Code Cheat Sheet (2020)\n",
      "#WebDev #BigData #Analytics #DataScience #CyberSecurity #IoT #IIoT #PyTorch #Python #RStats #Tens…\n",
      "LlnuxBot RT @ekecoding: VS Code Cheat Sheet (2020)\n",
      "#WebDev #BigData #Analytics #DataScience #CyberSecurity #IoT #IIoT #PyTorch #Python #RStats #Tens…\n",
      "CodeGnuts RT @ekecoding: VS Code Cheat Sheet (2020)\n",
      "#WebDev #BigData #Analytics #DataScience #CyberSecurity #IoT #IIoT #PyTorch #Python #RStats #Tens…\n",
      "AaronCuddeback RT @ekecoding: VS Code Cheat Sheet (2020)\n",
      "#WebDev #BigData #Analytics #DataScience #CyberSecurity #IoT #IIoT #PyTorch #Python #RStats #Tens…\n",
      "learn__together RT @ekecoding: VS Code Cheat Sheet (2020)\n",
      "#WebDev #BigData #Analytics #DataScience #CyberSecurity #IoT #IIoT #PyTorch #Python #RStats #Tens…\n",
      "JSNewsBot RT @ekecoding: VS Code Cheat Sheet (2020)\n",
      "#WebDev #BigData #Analytics #DataScience #CyberSecurity #IoT #IIoT #PyTorch #Python #RStats #Tens…\n",
      "TheDeveloperBot RT @ekecoding: VS Code Cheat Sheet (2020)\n",
      "#WebDev #BigData #Analytics #DataScience #CyberSecurity #IoT #IIoT #PyTorch #Python #RStats #Tens…\n",
      "ServerlessFan RT @ekecoding: VS Code Cheat Sheet (2020)\n",
      "#WebDev #BigData #Analytics #DataScience #CyberSecurity #IoT #IIoT #PyTorch #Python #RStats #Tens…\n",
      "CyberSecurityN8 RT @ekecoding: VS Code Cheat Sheet (2020)\n",
      "#WebDev #BigData #Analytics #DataScience #CyberSecurity #IoT #IIoT #PyTorch #Python #RStats #Tens…\n",
      "sectest9 RT @ekecoding: VS Code Cheat Sheet (2020)\n",
      "#WebDev #BigData #Analytics #DataScience #CyberSecurity #IoT #IIoT #PyTorch #Python #RStats #Tens…\n",
      "nlognbot RT @ekecoding: VS Code Cheat Sheet (2020)\n",
      "#WebDev #BigData #Analytics #DataScience #CyberSecurity #IoT #IIoT #PyTorch #Python #RStats #Tens…\n",
      "ekecoding VS Code Cheat Sheet (2020)\n",
      "#WebDev #BigData #Analytics #DataScience #CyberSecurity #IoT #IIoT #PyTorch #Python… https://t.co/shNLBTrBEG\n",
      "itsOdhiambo_ RT @EmmanuelTorty: VS Code Cheat Sheet (2020)\n",
      "#WebDev #BigData #Analytics #DataScience #CyberSecurity #IoT #IIoT #PyTorch #Python #RStats #…\n",
      "Taieb_Bot RT @dayus4heaven: Essential Cheat Sheets for MachineLearning&amp;DeepLearning\n",
      "#WebDev #BigData #Analytics #DataScience #CyberSecurity #IoT #IIo…\n",
      "cephalopodluke2 RT @dayus4heaven: Essential Cheat Sheets for MachineLearning&amp;DeepLearning\n",
      "#WebDev #BigData #Analytics #DataScience #CyberSecurity #IoT #IIo…\n",
      "cybersec_feeds RT @dayus4heaven: Essential Cheat Sheets for MachineLearning&amp;DeepLearning\n",
      "#WebDev #BigData #Analytics #DataScience #CyberSecurity #IoT #IIo…\n",
      "ddcombot RT @PratikNilange: Me explaining client how to use the program!🤣\n",
      "#WebDev #BigData #Analytics #DataScience #CyberSecurity #IoT #IIoT #PyTorc…\n",
      "_reactdev RT @PratikNilange: Me explaining client how to use the program!🤣\n",
      "#WebDev #BigData #Analytics #DataScience #CyberSecurity #IoT #IIoT #PyTorc…\n",
      "_reactdev RT @PratikNilange: Me explaining client how to use the program!🤣\n",
      "#WebDev #BigData #Analytics #DataScience #CyberSecurity #IoT #IIoT #PyTorc…\n",
      "coding64 RT @AI212news: OpenAI GPT-3 with 175 billion parameters  . Language Models are Few-Shot Learners\n",
      "https://t.co/caP7MGyO6u\n",
      "#GPT3 #Tensorflow…\n",
      "saleemrash1d RT @kwasi_arhin_: @venikunche @DiversifyTechCo Hey #TechTwitter, My name is Kwasi Arhin\n",
      "\n",
      "I'm currently seeking Data Scientist/Machine Learn…\n",
      "redianbot RT @PratikNilange: Me explaining client how to use the program!🤣\n",
      "#WebDev #BigData #Analytics #DataScience #CyberSecurity #IoT #IIoT #PyTorc…\n",
      "nlognbot RT @PratikNilange: Me explaining client how to use the program!🤣\n",
      "#WebDev #BigData #Analytics #DataScience #CyberSecurity #IoT #IIoT #PyTorc…\n",
      "xaelbot RT @PratikNilange: Me explaining client how to use the program!🤣\n",
      "#WebDev #BigData #Analytics #DataScience #CyberSecurity #IoT #IIoT #PyTorc…\n",
      "sectest9 RT @PratikNilange: Me explaining client how to use the program!🤣\n",
      "#WebDev #BigData #Analytics #DataScience #CyberSecurity #IoT #IIoT #PyTorc…\n",
      "LlnuxBot RT @PratikNilange: Me explaining client how to use the program!🤣\n",
      "#WebDev #BigData #Analytics #DataScience #CyberSecurity #IoT #IIoT #PyTorc…\n",
      "cybersec_feeds RT @wil_bielert: RT @dayus4heaven: Essential Cheat Sheets for MachineLearning&amp;DeepLearning\n",
      "#WebDev #BigData #Analytics #DataScience #CyberS…\n",
      "CyberSecurityN8 RT @PratikNilange: Me explaining client how to use the program!🤣\n",
      "#WebDev #BigData #Analytics #DataScience #CyberSecurity #IoT #IIoT #PyTorc…\n",
      "BademciSevim RT @PratikNilange: Me explaining client how to use the program!🤣\n",
      "#WebDev #BigData #Analytics #DataScience #CyberSecurity #IoT #IIoT #PyTorc…\n",
      "ATHARVBHAT @tunguz I was surprised how painless pytorch is to install compared to tensorflow\n",
      "rickovir RT @EmmanuelTorty: VS Code Cheat Sheet (2020)\n",
      "#WebDev #BigData #Analytics #DataScience #CyberSecurity #IoT #IIoT #PyTorch #Python #RStats #…\n",
      "athigah RT @EmmanuelTorty: VS Code Cheat Sheet (2020)\n",
      "#WebDev #BigData #Analytics #DataScience #CyberSecurity #IoT #IIoT #PyTorch #Python #RStats #…\n",
      "pralhadnasane10 RT @dayus4heaven: Python Flask  Cheat Sheet for your use.\n",
      "#WebDev #BigData #Analytics #DataScience #CyberSecurity #IoT #IIoT #PyTorch #Pyth…\n",
      "YogeshBang RT @dayus4heaven: Essential Cheat Sheets for MachineLearning&amp;DeepLearning\n",
      "#WebDev #BigData #Analytics #DataScience #CyberSecurity #IoT #IIo…\n",
      "CodeGnuts RT @PinakiLaskar: Best #Selfies\n",
      "#STEM #Memes #math #science #engineering #cybersecurity #artificialintelligence #technology #machinelearnin…\n",
      "pralhadnasane10 RT @PinakiLaskar: Best #Selfies\n",
      "#STEM #Memes #math #science #engineering #cybersecurity #artificialintelligence #technology #machinelearnin…\n",
      "ML_Tweet_Bot RT @tut_ml: Top 5 robust Machine Learning Algorithms #WebDev #BigData #Analytics #DataScience #CyberSecurity #IoT #IIoT #PyTorch #Python #R…\n",
      "pralhadnasane10 RT @tut_ml: Top 5 robust Machine Learning Algorithms #WebDev #BigData #Analytics #DataScience #CyberSecurity #IoT #IIoT #PyTorch #Python #R…\n",
      "CodeGnuts RT @EmmanuelTorty: VS Code Cheat Sheet (2020)\n",
      "#WebDev #BigData #Analytics #DataScience #CyberSecurity #IoT #IIoT #PyTorch #Python #RStats #…\n"
     ]
    }
   ],
   "source": [
    "for tweet in tweets:\n",
    "    print(tweet.user.screen_name,tweet.text)"
   ]
  },
  {
   "cell_type": "code",
   "execution_count": 8,
   "metadata": {},
   "outputs": [],
   "source": [
    "t = tweets[0]"
   ]
  },
  {
   "cell_type": "code",
   "execution_count": 9,
   "metadata": {},
   "outputs": [
    {
     "data": {
      "text/plain": [
       "Status(_api=<tweepy.api.API object at 0x7f8a05532850>, _json={'created_at': 'Wed Jun 03 14:43:44 +0000 2020', 'id': 1268191645259964417, 'id_str': '1268191645259964417', 'text': 'RT @dayus4heaven: Essential Cheat Sheets for MachineLearning&amp;DeepLearning\\n#WebDev #BigData #Analytics #DataScience #CyberSecurity #IoT #IIo…', 'truncated': False, 'entities': {'hashtags': [{'text': 'WebDev', 'indices': [78, 85]}, {'text': 'BigData', 'indices': [86, 94]}, {'text': 'Analytics', 'indices': [95, 105]}, {'text': 'DataScience', 'indices': [106, 118]}, {'text': 'CyberSecurity', 'indices': [119, 133]}, {'text': 'IoT', 'indices': [134, 138]}], 'symbols': [], 'user_mentions': [{'screen_name': 'dayus4heaven', 'name': 'Adedayo #BreakingBarriers', 'id': 795524725, 'id_str': '795524725', 'indices': [3, 16]}], 'urls': []}, 'metadata': {'iso_language_code': 'en', 'result_type': 'recent'}, 'source': '<a href=\"https://www.pointsofcontact.org\" rel=\"nofollow\">NodeBot Js</a>', 'in_reply_to_status_id': None, 'in_reply_to_status_id_str': None, 'in_reply_to_user_id': None, 'in_reply_to_user_id_str': None, 'in_reply_to_screen_name': None, 'user': {'id': 1268118362112045056, 'id_str': '1268118362112045056', 'name': 'NodeBotJs', 'screen_name': 'NodeBotJs2', 'location': '', 'description': 'Just a bot to retweet #100DaysOfCode and other Dev stuff. Created by @NechemiahK', 'url': None, 'entities': {'description': {'urls': []}}, 'protected': False, 'followers_count': 5, 'friends_count': 1, 'listed_count': 0, 'created_at': 'Wed Jun 03 09:52:49 +0000 2020', 'favourites_count': 0, 'utc_offset': None, 'time_zone': None, 'geo_enabled': False, 'verified': False, 'statuses_count': 498, 'lang': None, 'contributors_enabled': False, 'is_translator': False, 'is_translation_enabled': False, 'profile_background_color': 'F5F8FA', 'profile_background_image_url': None, 'profile_background_image_url_https': None, 'profile_background_tile': False, 'profile_image_url': 'http://pbs.twimg.com/profile_images/1268121418228813825/j3dVIgBP_normal.jpg', 'profile_image_url_https': 'https://pbs.twimg.com/profile_images/1268121418228813825/j3dVIgBP_normal.jpg', 'profile_banner_url': 'https://pbs.twimg.com/profile_banners/1268118362112045056/1591178856', 'profile_link_color': '1DA1F2', 'profile_sidebar_border_color': 'C0DEED', 'profile_sidebar_fill_color': 'DDEEF6', 'profile_text_color': '333333', 'profile_use_background_image': True, 'has_extended_profile': False, 'default_profile': True, 'default_profile_image': False, 'following': False, 'follow_request_sent': False, 'notifications': False, 'translator_type': 'none'}, 'geo': None, 'coordinates': None, 'place': None, 'contributors': None, 'retweeted_status': {'created_at': 'Wed Jun 03 06:03:01 +0000 2020', 'id': 1268060601101750273, 'id_str': '1268060601101750273', 'text': 'Essential Cheat Sheets for MachineLearning&amp;DeepLearning\\n#WebDev #BigData #Analytics #DataScience #CyberSecurity… https://t.co/IICvU4kN36', 'truncated': True, 'entities': {'hashtags': [{'text': 'WebDev', 'indices': [60, 67]}, {'text': 'BigData', 'indices': [68, 76]}, {'text': 'Analytics', 'indices': [77, 87]}, {'text': 'DataScience', 'indices': [88, 100]}, {'text': 'CyberSecurity', 'indices': [101, 115]}], 'symbols': [], 'user_mentions': [], 'urls': [{'url': 'https://t.co/IICvU4kN36', 'expanded_url': 'https://twitter.com/i/web/status/1268060601101750273', 'display_url': 'twitter.com/i/web/status/1…', 'indices': [117, 140]}]}, 'metadata': {'iso_language_code': 'en', 'result_type': 'recent'}, 'source': '<a href=\"http://twitter.com/download/iphone\" rel=\"nofollow\">Twitter for iPhone</a>', 'in_reply_to_status_id': None, 'in_reply_to_status_id_str': None, 'in_reply_to_user_id': None, 'in_reply_to_user_id_str': None, 'in_reply_to_screen_name': None, 'user': {'id': 795524725, 'id_str': '795524725', 'name': 'Adedayo #BreakingBarriers', 'screen_name': 'dayus4heaven', 'location': 'Lagos, Nigeria', 'description': '#DataScientist, #Python #programmer, Curator: #BreakingBarriers Deedee’s Husband ❤️ https://t.co/LDlABYZzGV, https://t.co/Bi0QSlFKJe', 'url': 'https://t.co/huqfZ2QR23', 'entities': {'url': {'urls': [{'url': 'https://t.co/huqfZ2QR23', 'expanded_url': 'http://unleashidea.wordpress.com', 'display_url': 'unleashidea.wordpress.com', 'indices': [0, 23]}]}, 'description': {'urls': [{'url': 'https://t.co/LDlABYZzGV', 'expanded_url': 'https://medium.com/@dayus4heaven', 'display_url': 'medium.com/@dayus4heaven', 'indices': [84, 107]}, {'url': 'https://t.co/Bi0QSlFKJe', 'expanded_url': 'https://github.com/dayus4heaven', 'display_url': 'github.com/dayus4heaven', 'indices': [109, 132]}]}}, 'protected': False, 'followers_count': 5401, 'friends_count': 3107, 'listed_count': 97, 'created_at': 'Sat Sep 01 07:05:42 +0000 2012', 'favourites_count': 10687, 'utc_offset': None, 'time_zone': None, 'geo_enabled': True, 'verified': False, 'statuses_count': 66533, 'lang': None, 'contributors_enabled': False, 'is_translator': False, 'is_translation_enabled': False, 'profile_background_color': 'C0DEED', 'profile_background_image_url': 'http://abs.twimg.com/images/themes/theme1/bg.png', 'profile_background_image_url_https': 'https://abs.twimg.com/images/themes/theme1/bg.png', 'profile_background_tile': False, 'profile_image_url': 'http://pbs.twimg.com/profile_images/1253114467812020226/Fi50XGyU_normal.jpg', 'profile_image_url_https': 'https://pbs.twimg.com/profile_images/1253114467812020226/Fi50XGyU_normal.jpg', 'profile_banner_url': 'https://pbs.twimg.com/profile_banners/795524725/1382183555', 'profile_link_color': '1DA1F2', 'profile_sidebar_border_color': 'C0DEED', 'profile_sidebar_fill_color': 'DDEEF6', 'profile_text_color': '333333', 'profile_use_background_image': True, 'has_extended_profile': True, 'default_profile': True, 'default_profile_image': False, 'following': False, 'follow_request_sent': False, 'notifications': False, 'translator_type': 'none'}, 'geo': None, 'coordinates': None, 'place': None, 'contributors': None, 'is_quote_status': False, 'retweet_count': 34, 'favorite_count': 21, 'favorited': False, 'retweeted': False, 'possibly_sensitive': False, 'lang': 'en'}, 'is_quote_status': False, 'retweet_count': 34, 'favorite_count': 0, 'favorited': False, 'retweeted': False, 'lang': 'en'}, created_at=datetime.datetime(2020, 6, 3, 14, 43, 44), id=1268191645259964417, id_str='1268191645259964417', text='RT @dayus4heaven: Essential Cheat Sheets for MachineLearning&amp;DeepLearning\\n#WebDev #BigData #Analytics #DataScience #CyberSecurity #IoT #IIo…', truncated=False, entities={'hashtags': [{'text': 'WebDev', 'indices': [78, 85]}, {'text': 'BigData', 'indices': [86, 94]}, {'text': 'Analytics', 'indices': [95, 105]}, {'text': 'DataScience', 'indices': [106, 118]}, {'text': 'CyberSecurity', 'indices': [119, 133]}, {'text': 'IoT', 'indices': [134, 138]}], 'symbols': [], 'user_mentions': [{'screen_name': 'dayus4heaven', 'name': 'Adedayo #BreakingBarriers', 'id': 795524725, 'id_str': '795524725', 'indices': [3, 16]}], 'urls': []}, metadata={'iso_language_code': 'en', 'result_type': 'recent'}, source='NodeBot Js', source_url='https://www.pointsofcontact.org', in_reply_to_status_id=None, in_reply_to_status_id_str=None, in_reply_to_user_id=None, in_reply_to_user_id_str=None, in_reply_to_screen_name=None, author=User(_api=<tweepy.api.API object at 0x7f8a05532850>, _json={'id': 1268118362112045056, 'id_str': '1268118362112045056', 'name': 'NodeBotJs', 'screen_name': 'NodeBotJs2', 'location': '', 'description': 'Just a bot to retweet #100DaysOfCode and other Dev stuff. Created by @NechemiahK', 'url': None, 'entities': {'description': {'urls': []}}, 'protected': False, 'followers_count': 5, 'friends_count': 1, 'listed_count': 0, 'created_at': 'Wed Jun 03 09:52:49 +0000 2020', 'favourites_count': 0, 'utc_offset': None, 'time_zone': None, 'geo_enabled': False, 'verified': False, 'statuses_count': 498, 'lang': None, 'contributors_enabled': False, 'is_translator': False, 'is_translation_enabled': False, 'profile_background_color': 'F5F8FA', 'profile_background_image_url': None, 'profile_background_image_url_https': None, 'profile_background_tile': False, 'profile_image_url': 'http://pbs.twimg.com/profile_images/1268121418228813825/j3dVIgBP_normal.jpg', 'profile_image_url_https': 'https://pbs.twimg.com/profile_images/1268121418228813825/j3dVIgBP_normal.jpg', 'profile_banner_url': 'https://pbs.twimg.com/profile_banners/1268118362112045056/1591178856', 'profile_link_color': '1DA1F2', 'profile_sidebar_border_color': 'C0DEED', 'profile_sidebar_fill_color': 'DDEEF6', 'profile_text_color': '333333', 'profile_use_background_image': True, 'has_extended_profile': False, 'default_profile': True, 'default_profile_image': False, 'following': False, 'follow_request_sent': False, 'notifications': False, 'translator_type': 'none'}, id=1268118362112045056, id_str='1268118362112045056', name='NodeBotJs', screen_name='NodeBotJs2', location='', description='Just a bot to retweet #100DaysOfCode and other Dev stuff. Created by @NechemiahK', url=None, entities={'description': {'urls': []}}, protected=False, followers_count=5, friends_count=1, listed_count=0, created_at=datetime.datetime(2020, 6, 3, 9, 52, 49), favourites_count=0, utc_offset=None, time_zone=None, geo_enabled=False, verified=False, statuses_count=498, lang=None, contributors_enabled=False, is_translator=False, is_translation_enabled=False, profile_background_color='F5F8FA', profile_background_image_url=None, profile_background_image_url_https=None, profile_background_tile=False, profile_image_url='http://pbs.twimg.com/profile_images/1268121418228813825/j3dVIgBP_normal.jpg', profile_image_url_https='https://pbs.twimg.com/profile_images/1268121418228813825/j3dVIgBP_normal.jpg', profile_banner_url='https://pbs.twimg.com/profile_banners/1268118362112045056/1591178856', profile_link_color='1DA1F2', profile_sidebar_border_color='C0DEED', profile_sidebar_fill_color='DDEEF6', profile_text_color='333333', profile_use_background_image=True, has_extended_profile=False, default_profile=True, default_profile_image=False, following=False, follow_request_sent=False, notifications=False, translator_type='none'), user=User(_api=<tweepy.api.API object at 0x7f8a05532850>, _json={'id': 1268118362112045056, 'id_str': '1268118362112045056', 'name': 'NodeBotJs', 'screen_name': 'NodeBotJs2', 'location': '', 'description': 'Just a bot to retweet #100DaysOfCode and other Dev stuff. Created by @NechemiahK', 'url': None, 'entities': {'description': {'urls': []}}, 'protected': False, 'followers_count': 5, 'friends_count': 1, 'listed_count': 0, 'created_at': 'Wed Jun 03 09:52:49 +0000 2020', 'favourites_count': 0, 'utc_offset': None, 'time_zone': None, 'geo_enabled': False, 'verified': False, 'statuses_count': 498, 'lang': None, 'contributors_enabled': False, 'is_translator': False, 'is_translation_enabled': False, 'profile_background_color': 'F5F8FA', 'profile_background_image_url': None, 'profile_background_image_url_https': None, 'profile_background_tile': False, 'profile_image_url': 'http://pbs.twimg.com/profile_images/1268121418228813825/j3dVIgBP_normal.jpg', 'profile_image_url_https': 'https://pbs.twimg.com/profile_images/1268121418228813825/j3dVIgBP_normal.jpg', 'profile_banner_url': 'https://pbs.twimg.com/profile_banners/1268118362112045056/1591178856', 'profile_link_color': '1DA1F2', 'profile_sidebar_border_color': 'C0DEED', 'profile_sidebar_fill_color': 'DDEEF6', 'profile_text_color': '333333', 'profile_use_background_image': True, 'has_extended_profile': False, 'default_profile': True, 'default_profile_image': False, 'following': False, 'follow_request_sent': False, 'notifications': False, 'translator_type': 'none'}, id=1268118362112045056, id_str='1268118362112045056', name='NodeBotJs', screen_name='NodeBotJs2', location='', description='Just a bot to retweet #100DaysOfCode and other Dev stuff. Created by @NechemiahK', url=None, entities={'description': {'urls': []}}, protected=False, followers_count=5, friends_count=1, listed_count=0, created_at=datetime.datetime(2020, 6, 3, 9, 52, 49), favourites_count=0, utc_offset=None, time_zone=None, geo_enabled=False, verified=False, statuses_count=498, lang=None, contributors_enabled=False, is_translator=False, is_translation_enabled=False, profile_background_color='F5F8FA', profile_background_image_url=None, profile_background_image_url_https=None, profile_background_tile=False, profile_image_url='http://pbs.twimg.com/profile_images/1268121418228813825/j3dVIgBP_normal.jpg', profile_image_url_https='https://pbs.twimg.com/profile_images/1268121418228813825/j3dVIgBP_normal.jpg', profile_banner_url='https://pbs.twimg.com/profile_banners/1268118362112045056/1591178856', profile_link_color='1DA1F2', profile_sidebar_border_color='C0DEED', profile_sidebar_fill_color='DDEEF6', profile_text_color='333333', profile_use_background_image=True, has_extended_profile=False, default_profile=True, default_profile_image=False, following=False, follow_request_sent=False, notifications=False, translator_type='none'), geo=None, coordinates=None, place=None, contributors=None, retweeted_status=Status(_api=<tweepy.api.API object at 0x7f8a05532850>, _json={'created_at': 'Wed Jun 03 06:03:01 +0000 2020', 'id': 1268060601101750273, 'id_str': '1268060601101750273', 'text': 'Essential Cheat Sheets for MachineLearning&amp;DeepLearning\\n#WebDev #BigData #Analytics #DataScience #CyberSecurity… https://t.co/IICvU4kN36', 'truncated': True, 'entities': {'hashtags': [{'text': 'WebDev', 'indices': [60, 67]}, {'text': 'BigData', 'indices': [68, 76]}, {'text': 'Analytics', 'indices': [77, 87]}, {'text': 'DataScience', 'indices': [88, 100]}, {'text': 'CyberSecurity', 'indices': [101, 115]}], 'symbols': [], 'user_mentions': [], 'urls': [{'url': 'https://t.co/IICvU4kN36', 'expanded_url': 'https://twitter.com/i/web/status/1268060601101750273', 'display_url': 'twitter.com/i/web/status/1…', 'indices': [117, 140]}]}, 'metadata': {'iso_language_code': 'en', 'result_type': 'recent'}, 'source': '<a href=\"http://twitter.com/download/iphone\" rel=\"nofollow\">Twitter for iPhone</a>', 'in_reply_to_status_id': None, 'in_reply_to_status_id_str': None, 'in_reply_to_user_id': None, 'in_reply_to_user_id_str': None, 'in_reply_to_screen_name': None, 'user': {'id': 795524725, 'id_str': '795524725', 'name': 'Adedayo #BreakingBarriers', 'screen_name': 'dayus4heaven', 'location': 'Lagos, Nigeria', 'description': '#DataScientist, #Python #programmer, Curator: #BreakingBarriers Deedee’s Husband ❤️ https://t.co/LDlABYZzGV, https://t.co/Bi0QSlFKJe', 'url': 'https://t.co/huqfZ2QR23', 'entities': {'url': {'urls': [{'url': 'https://t.co/huqfZ2QR23', 'expanded_url': 'http://unleashidea.wordpress.com', 'display_url': 'unleashidea.wordpress.com', 'indices': [0, 23]}]}, 'description': {'urls': [{'url': 'https://t.co/LDlABYZzGV', 'expanded_url': 'https://medium.com/@dayus4heaven', 'display_url': 'medium.com/@dayus4heaven', 'indices': [84, 107]}, {'url': 'https://t.co/Bi0QSlFKJe', 'expanded_url': 'https://github.com/dayus4heaven', 'display_url': 'github.com/dayus4heaven', 'indices': [109, 132]}]}}, 'protected': False, 'followers_count': 5401, 'friends_count': 3107, 'listed_count': 97, 'created_at': 'Sat Sep 01 07:05:42 +0000 2012', 'favourites_count': 10687, 'utc_offset': None, 'time_zone': None, 'geo_enabled': True, 'verified': False, 'statuses_count': 66533, 'lang': None, 'contributors_enabled': False, 'is_translator': False, 'is_translation_enabled': False, 'profile_background_color': 'C0DEED', 'profile_background_image_url': 'http://abs.twimg.com/images/themes/theme1/bg.png', 'profile_background_image_url_https': 'https://abs.twimg.com/images/themes/theme1/bg.png', 'profile_background_tile': False, 'profile_image_url': 'http://pbs.twimg.com/profile_images/1253114467812020226/Fi50XGyU_normal.jpg', 'profile_image_url_https': 'https://pbs.twimg.com/profile_images/1253114467812020226/Fi50XGyU_normal.jpg', 'profile_banner_url': 'https://pbs.twimg.com/profile_banners/795524725/1382183555', 'profile_link_color': '1DA1F2', 'profile_sidebar_border_color': 'C0DEED', 'profile_sidebar_fill_color': 'DDEEF6', 'profile_text_color': '333333', 'profile_use_background_image': True, 'has_extended_profile': True, 'default_profile': True, 'default_profile_image': False, 'following': False, 'follow_request_sent': False, 'notifications': False, 'translator_type': 'none'}, 'geo': None, 'coordinates': None, 'place': None, 'contributors': None, 'is_quote_status': False, 'retweet_count': 34, 'favorite_count': 21, 'favorited': False, 'retweeted': False, 'possibly_sensitive': False, 'lang': 'en'}, created_at=datetime.datetime(2020, 6, 3, 6, 3, 1), id=1268060601101750273, id_str='1268060601101750273', text='Essential Cheat Sheets for MachineLearning&amp;DeepLearning\\n#WebDev #BigData #Analytics #DataScience #CyberSecurity… https://t.co/IICvU4kN36', truncated=True, entities={'hashtags': [{'text': 'WebDev', 'indices': [60, 67]}, {'text': 'BigData', 'indices': [68, 76]}, {'text': 'Analytics', 'indices': [77, 87]}, {'text': 'DataScience', 'indices': [88, 100]}, {'text': 'CyberSecurity', 'indices': [101, 115]}], 'symbols': [], 'user_mentions': [], 'urls': [{'url': 'https://t.co/IICvU4kN36', 'expanded_url': 'https://twitter.com/i/web/status/1268060601101750273', 'display_url': 'twitter.com/i/web/status/1…', 'indices': [117, 140]}]}, metadata={'iso_language_code': 'en', 'result_type': 'recent'}, source='Twitter for iPhone', source_url='http://twitter.com/download/iphone', in_reply_to_status_id=None, in_reply_to_status_id_str=None, in_reply_to_user_id=None, in_reply_to_user_id_str=None, in_reply_to_screen_name=None, author=User(_api=<tweepy.api.API object at 0x7f8a05532850>, _json={'id': 795524725, 'id_str': '795524725', 'name': 'Adedayo #BreakingBarriers', 'screen_name': 'dayus4heaven', 'location': 'Lagos, Nigeria', 'description': '#DataScientist, #Python #programmer, Curator: #BreakingBarriers Deedee’s Husband ❤️ https://t.co/LDlABYZzGV, https://t.co/Bi0QSlFKJe', 'url': 'https://t.co/huqfZ2QR23', 'entities': {'url': {'urls': [{'url': 'https://t.co/huqfZ2QR23', 'expanded_url': 'http://unleashidea.wordpress.com', 'display_url': 'unleashidea.wordpress.com', 'indices': [0, 23]}]}, 'description': {'urls': [{'url': 'https://t.co/LDlABYZzGV', 'expanded_url': 'https://medium.com/@dayus4heaven', 'display_url': 'medium.com/@dayus4heaven', 'indices': [84, 107]}, {'url': 'https://t.co/Bi0QSlFKJe', 'expanded_url': 'https://github.com/dayus4heaven', 'display_url': 'github.com/dayus4heaven', 'indices': [109, 132]}]}}, 'protected': False, 'followers_count': 5401, 'friends_count': 3107, 'listed_count': 97, 'created_at': 'Sat Sep 01 07:05:42 +0000 2012', 'favourites_count': 10687, 'utc_offset': None, 'time_zone': None, 'geo_enabled': True, 'verified': False, 'statuses_count': 66533, 'lang': None, 'contributors_enabled': False, 'is_translator': False, 'is_translation_enabled': False, 'profile_background_color': 'C0DEED', 'profile_background_image_url': 'http://abs.twimg.com/images/themes/theme1/bg.png', 'profile_background_image_url_https': 'https://abs.twimg.com/images/themes/theme1/bg.png', 'profile_background_tile': False, 'profile_image_url': 'http://pbs.twimg.com/profile_images/1253114467812020226/Fi50XGyU_normal.jpg', 'profile_image_url_https': 'https://pbs.twimg.com/profile_images/1253114467812020226/Fi50XGyU_normal.jpg', 'profile_banner_url': 'https://pbs.twimg.com/profile_banners/795524725/1382183555', 'profile_link_color': '1DA1F2', 'profile_sidebar_border_color': 'C0DEED', 'profile_sidebar_fill_color': 'DDEEF6', 'profile_text_color': '333333', 'profile_use_background_image': True, 'has_extended_profile': True, 'default_profile': True, 'default_profile_image': False, 'following': False, 'follow_request_sent': False, 'notifications': False, 'translator_type': 'none'}, id=795524725, id_str='795524725', name='Adedayo #BreakingBarriers', screen_name='dayus4heaven', location='Lagos, Nigeria', description='#DataScientist, #Python #programmer, Curator: #BreakingBarriers Deedee’s Husband ❤️ https://t.co/LDlABYZzGV, https://t.co/Bi0QSlFKJe', url='https://t.co/huqfZ2QR23', entities={'url': {'urls': [{'url': 'https://t.co/huqfZ2QR23', 'expanded_url': 'http://unleashidea.wordpress.com', 'display_url': 'unleashidea.wordpress.com', 'indices': [0, 23]}]}, 'description': {'urls': [{'url': 'https://t.co/LDlABYZzGV', 'expanded_url': 'https://medium.com/@dayus4heaven', 'display_url': 'medium.com/@dayus4heaven', 'indices': [84, 107]}, {'url': 'https://t.co/Bi0QSlFKJe', 'expanded_url': 'https://github.com/dayus4heaven', 'display_url': 'github.com/dayus4heaven', 'indices': [109, 132]}]}}, protected=False, followers_count=5401, friends_count=3107, listed_count=97, created_at=datetime.datetime(2012, 9, 1, 7, 5, 42), favourites_count=10687, utc_offset=None, time_zone=None, geo_enabled=True, verified=False, statuses_count=66533, lang=None, contributors_enabled=False, is_translator=False, is_translation_enabled=False, profile_background_color='C0DEED', profile_background_image_url='http://abs.twimg.com/images/themes/theme1/bg.png', profile_background_image_url_https='https://abs.twimg.com/images/themes/theme1/bg.png', profile_background_tile=False, profile_image_url='http://pbs.twimg.com/profile_images/1253114467812020226/Fi50XGyU_normal.jpg', profile_image_url_https='https://pbs.twimg.com/profile_images/1253114467812020226/Fi50XGyU_normal.jpg', profile_banner_url='https://pbs.twimg.com/profile_banners/795524725/1382183555', profile_link_color='1DA1F2', profile_sidebar_border_color='C0DEED', profile_sidebar_fill_color='DDEEF6', profile_text_color='333333', profile_use_background_image=True, has_extended_profile=True, default_profile=True, default_profile_image=False, following=False, follow_request_sent=False, notifications=False, translator_type='none'), user=User(_api=<tweepy.api.API object at 0x7f8a05532850>, _json={'id': 795524725, 'id_str': '795524725', 'name': 'Adedayo #BreakingBarriers', 'screen_name': 'dayus4heaven', 'location': 'Lagos, Nigeria', 'description': '#DataScientist, #Python #programmer, Curator: #BreakingBarriers Deedee’s Husband ❤️ https://t.co/LDlABYZzGV, https://t.co/Bi0QSlFKJe', 'url': 'https://t.co/huqfZ2QR23', 'entities': {'url': {'urls': [{'url': 'https://t.co/huqfZ2QR23', 'expanded_url': 'http://unleashidea.wordpress.com', 'display_url': 'unleashidea.wordpress.com', 'indices': [0, 23]}]}, 'description': {'urls': [{'url': 'https://t.co/LDlABYZzGV', 'expanded_url': 'https://medium.com/@dayus4heaven', 'display_url': 'medium.com/@dayus4heaven', 'indices': [84, 107]}, {'url': 'https://t.co/Bi0QSlFKJe', 'expanded_url': 'https://github.com/dayus4heaven', 'display_url': 'github.com/dayus4heaven', 'indices': [109, 132]}]}}, 'protected': False, 'followers_count': 5401, 'friends_count': 3107, 'listed_count': 97, 'created_at': 'Sat Sep 01 07:05:42 +0000 2012', 'favourites_count': 10687, 'utc_offset': None, 'time_zone': None, 'geo_enabled': True, 'verified': False, 'statuses_count': 66533, 'lang': None, 'contributors_enabled': False, 'is_translator': False, 'is_translation_enabled': False, 'profile_background_color': 'C0DEED', 'profile_background_image_url': 'http://abs.twimg.com/images/themes/theme1/bg.png', 'profile_background_image_url_https': 'https://abs.twimg.com/images/themes/theme1/bg.png', 'profile_background_tile': False, 'profile_image_url': 'http://pbs.twimg.com/profile_images/1253114467812020226/Fi50XGyU_normal.jpg', 'profile_image_url_https': 'https://pbs.twimg.com/profile_images/1253114467812020226/Fi50XGyU_normal.jpg', 'profile_banner_url': 'https://pbs.twimg.com/profile_banners/795524725/1382183555', 'profile_link_color': '1DA1F2', 'profile_sidebar_border_color': 'C0DEED', 'profile_sidebar_fill_color': 'DDEEF6', 'profile_text_color': '333333', 'profile_use_background_image': True, 'has_extended_profile': True, 'default_profile': True, 'default_profile_image': False, 'following': False, 'follow_request_sent': False, 'notifications': False, 'translator_type': 'none'}, id=795524725, id_str='795524725', name='Adedayo #BreakingBarriers', screen_name='dayus4heaven', location='Lagos, Nigeria', description='#DataScientist, #Python #programmer, Curator: #BreakingBarriers Deedee’s Husband ❤️ https://t.co/LDlABYZzGV, https://t.co/Bi0QSlFKJe', url='https://t.co/huqfZ2QR23', entities={'url': {'urls': [{'url': 'https://t.co/huqfZ2QR23', 'expanded_url': 'http://unleashidea.wordpress.com', 'display_url': 'unleashidea.wordpress.com', 'indices': [0, 23]}]}, 'description': {'urls': [{'url': 'https://t.co/LDlABYZzGV', 'expanded_url': 'https://medium.com/@dayus4heaven', 'display_url': 'medium.com/@dayus4heaven', 'indices': [84, 107]}, {'url': 'https://t.co/Bi0QSlFKJe', 'expanded_url': 'https://github.com/dayus4heaven', 'display_url': 'github.com/dayus4heaven', 'indices': [109, 132]}]}}, protected=False, followers_count=5401, friends_count=3107, listed_count=97, created_at=datetime.datetime(2012, 9, 1, 7, 5, 42), favourites_count=10687, utc_offset=None, time_zone=None, geo_enabled=True, verified=False, statuses_count=66533, lang=None, contributors_enabled=False, is_translator=False, is_translation_enabled=False, profile_background_color='C0DEED', profile_background_image_url='http://abs.twimg.com/images/themes/theme1/bg.png', profile_background_image_url_https='https://abs.twimg.com/images/themes/theme1/bg.png', profile_background_tile=False, profile_image_url='http://pbs.twimg.com/profile_images/1253114467812020226/Fi50XGyU_normal.jpg', profile_image_url_https='https://pbs.twimg.com/profile_images/1253114467812020226/Fi50XGyU_normal.jpg', profile_banner_url='https://pbs.twimg.com/profile_banners/795524725/1382183555', profile_link_color='1DA1F2', profile_sidebar_border_color='C0DEED', profile_sidebar_fill_color='DDEEF6', profile_text_color='333333', profile_use_background_image=True, has_extended_profile=True, default_profile=True, default_profile_image=False, following=False, follow_request_sent=False, notifications=False, translator_type='none'), geo=None, coordinates=None, place=None, contributors=None, is_quote_status=False, retweet_count=34, favorite_count=21, favorited=False, retweeted=False, possibly_sensitive=False, lang='en'), is_quote_status=False, retweet_count=34, favorite_count=0, favorited=False, retweeted=False, lang='en')"
      ]
     },
     "execution_count": 9,
     "metadata": {},
     "output_type": "execute_result"
    }
   ],
   "source": [
    "t"
   ]
  },
  {
   "cell_type": "code",
   "execution_count": 10,
   "metadata": {},
   "outputs": [
    {
     "data": {
      "text/plain": [
       "34"
      ]
     },
     "execution_count": 10,
     "metadata": {},
     "output_type": "execute_result"
    }
   ],
   "source": [
    "t.retweet_count"
   ]
  },
  {
   "cell_type": "code",
   "execution_count": 11,
   "metadata": {},
   "outputs": [
    {
     "data": {
      "text/plain": [
       "User(_api=<tweepy.api.API object at 0x7f8a05532850>, _json={'id': 1268118362112045056, 'id_str': '1268118362112045056', 'name': 'NodeBotJs', 'screen_name': 'NodeBotJs2', 'location': '', 'description': 'Just a bot to retweet #100DaysOfCode and other Dev stuff. Created by @NechemiahK', 'url': None, 'entities': {'description': {'urls': []}}, 'protected': False, 'followers_count': 5, 'friends_count': 1, 'listed_count': 0, 'created_at': 'Wed Jun 03 09:52:49 +0000 2020', 'favourites_count': 0, 'utc_offset': None, 'time_zone': None, 'geo_enabled': False, 'verified': False, 'statuses_count': 498, 'lang': None, 'contributors_enabled': False, 'is_translator': False, 'is_translation_enabled': False, 'profile_background_color': 'F5F8FA', 'profile_background_image_url': None, 'profile_background_image_url_https': None, 'profile_background_tile': False, 'profile_image_url': 'http://pbs.twimg.com/profile_images/1268121418228813825/j3dVIgBP_normal.jpg', 'profile_image_url_https': 'https://pbs.twimg.com/profile_images/1268121418228813825/j3dVIgBP_normal.jpg', 'profile_banner_url': 'https://pbs.twimg.com/profile_banners/1268118362112045056/1591178856', 'profile_link_color': '1DA1F2', 'profile_sidebar_border_color': 'C0DEED', 'profile_sidebar_fill_color': 'DDEEF6', 'profile_text_color': '333333', 'profile_use_background_image': True, 'has_extended_profile': False, 'default_profile': True, 'default_profile_image': False, 'following': False, 'follow_request_sent': False, 'notifications': False, 'translator_type': 'none'}, id=1268118362112045056, id_str='1268118362112045056', name='NodeBotJs', screen_name='NodeBotJs2', location='', description='Just a bot to retweet #100DaysOfCode and other Dev stuff. Created by @NechemiahK', url=None, entities={'description': {'urls': []}}, protected=False, followers_count=5, friends_count=1, listed_count=0, created_at=datetime.datetime(2020, 6, 3, 9, 52, 49), favourites_count=0, utc_offset=None, time_zone=None, geo_enabled=False, verified=False, statuses_count=498, lang=None, contributors_enabled=False, is_translator=False, is_translation_enabled=False, profile_background_color='F5F8FA', profile_background_image_url=None, profile_background_image_url_https=None, profile_background_tile=False, profile_image_url='http://pbs.twimg.com/profile_images/1268121418228813825/j3dVIgBP_normal.jpg', profile_image_url_https='https://pbs.twimg.com/profile_images/1268121418228813825/j3dVIgBP_normal.jpg', profile_banner_url='https://pbs.twimg.com/profile_banners/1268118362112045056/1591178856', profile_link_color='1DA1F2', profile_sidebar_border_color='C0DEED', profile_sidebar_fill_color='DDEEF6', profile_text_color='333333', profile_use_background_image=True, has_extended_profile=False, default_profile=True, default_profile_image=False, following=False, follow_request_sent=False, notifications=False, translator_type='none')"
      ]
     },
     "execution_count": 11,
     "metadata": {},
     "output_type": "execute_result"
    }
   ],
   "source": [
    "t.user"
   ]
  },
  {
   "cell_type": "code",
   "execution_count": 12,
   "metadata": {},
   "outputs": [
    {
     "data": {
      "text/plain": [
       "{'id': 1266133633389060097,\n",
       " 'id_str': '1266133633389060097',\n",
       " 'name': 'Gnuts about Code',\n",
       " 'screen_name': 'CodeGnuts',\n",
       " 'location': '',\n",
       " 'description': 'Just a bot helping coders show their progress. Automation built in #NodeJs by @AdamSpiceOnline. #100DaysOfCode',\n",
       " 'url': None,\n",
       " 'entities': {'description': {'urls': []}},\n",
       " 'protected': False,\n",
       " 'followers_count': 218,\n",
       " 'friends_count': 0,\n",
       " 'listed_count': 11,\n",
       " 'created_at': 'Thu May 28 22:26:07 +0000 2020',\n",
       " 'favourites_count': 2384,\n",
       " 'utc_offset': None,\n",
       " 'time_zone': None,\n",
       " 'geo_enabled': False,\n",
       " 'verified': False,\n",
       " 'statuses_count': 16371,\n",
       " 'lang': None,\n",
       " 'contributors_enabled': False,\n",
       " 'is_translator': False,\n",
       " 'is_translation_enabled': False,\n",
       " 'profile_background_color': 'F5F8FA',\n",
       " 'profile_background_image_url': None,\n",
       " 'profile_background_image_url_https': None,\n",
       " 'profile_background_tile': False,\n",
       " 'profile_image_url': 'http://pbs.twimg.com/profile_images/1266134298429517824/Gxv_xYd7_normal.jpg',\n",
       " 'profile_image_url_https': 'https://pbs.twimg.com/profile_images/1266134298429517824/Gxv_xYd7_normal.jpg',\n",
       " 'profile_banner_url': 'https://pbs.twimg.com/profile_banners/1266133633389060097/1590708060',\n",
       " 'profile_link_color': '1DA1F2',\n",
       " 'profile_sidebar_border_color': 'C0DEED',\n",
       " 'profile_sidebar_fill_color': 'DDEEF6',\n",
       " 'profile_text_color': '333333',\n",
       " 'profile_use_background_image': True,\n",
       " 'has_extended_profile': False,\n",
       " 'default_profile': True,\n",
       " 'default_profile_image': False,\n",
       " 'following': False,\n",
       " 'follow_request_sent': False,\n",
       " 'notifications': False,\n",
       " 'translator_type': 'none'}"
      ]
     },
     "execution_count": 12,
     "metadata": {},
     "output_type": "execute_result"
    }
   ],
   "source": [
    "tweet.user._json"
   ]
  },
  {
   "cell_type": "code",
   "execution_count": 13,
   "metadata": {},
   "outputs": [
    {
     "data": {
      "text/plain": [
       "False"
      ]
     },
     "execution_count": 13,
     "metadata": {},
     "output_type": "execute_result"
    }
   ],
   "source": [
    "t.user.follow_request_sent"
   ]
  },
  {
   "cell_type": "code",
   "execution_count": 14,
   "metadata": {},
   "outputs": [],
   "source": [
    "import numpy as np"
   ]
  },
  {
   "cell_type": "code",
   "execution_count": 15,
   "metadata": {},
   "outputs": [],
   "source": [
    "m  = [[1,2],[3,4]]"
   ]
  },
  {
   "cell_type": "code",
   "execution_count": 16,
   "metadata": {},
   "outputs": [],
   "source": [
    "A = np.array(m)"
   ]
  },
  {
   "cell_type": "code",
   "execution_count": 17,
   "metadata": {},
   "outputs": [
    {
     "data": {
      "text/plain": [
       "array([2, 4])"
      ]
     },
     "execution_count": 17,
     "metadata": {},
     "output_type": "execute_result"
    }
   ],
   "source": [
    "A[:,1]"
   ]
  },
  {
   "cell_type": "code",
   "execution_count": 18,
   "metadata": {},
   "outputs": [
    {
     "data": {
      "text/plain": [
       "array([3, 4])"
      ]
     },
     "execution_count": 18,
     "metadata": {},
     "output_type": "execute_result"
    }
   ],
   "source": [
    "A[-1,:]"
   ]
  },
  {
   "cell_type": "code",
   "execution_count": 19,
   "metadata": {},
   "outputs": [],
   "source": [
    "import pandas as pd"
   ]
  },
  {
   "cell_type": "code",
   "execution_count": 20,
   "metadata": {},
   "outputs": [],
   "source": [
    "#Seleccionamos la información que queremos almacenar en un diccionario, generamos un dataframe y lo añadimos al csv...\n",
    "datos = []\n",
    "for tweet in tweets:\n",
    "    d = {'id': tweet.id,\n",
    "         'lang': tweet.lang,\n",
    "         'text': tweet.text,\n",
    "         'user_id': tweet.user.id,\n",
    "         'screen_name': tweet.user.screen_name,\n",
    "         'name':tweet.user.name,\n",
    "         'statuses_count': tweet.user.statuses_count,\n",
    "         'retweet_count':tweet.retweet_count,\n",
    "         'source_url':tweet.source_url\n",
    "    }\n",
    "    datos.append(d)"
   ]
  },
  {
   "cell_type": "code",
   "execution_count": 21,
   "metadata": {},
   "outputs": [],
   "source": [
    "#creo un dataframe de una lista de diccionarios\n",
    "df=pd.DataFrame(datos)"
   ]
  },
  {
   "cell_type": "code",
   "execution_count": 22,
   "metadata": {},
   "outputs": [
    {
     "name": "stdout",
     "output_type": "stream",
     "text": [
      "<class 'pandas.core.frame.DataFrame'>\n",
      "RangeIndex: 91 entries, 0 to 90\n",
      "Data columns (total 9 columns):\n",
      " #   Column          Non-Null Count  Dtype \n",
      "---  ------          --------------  ----- \n",
      " 0   id              91 non-null     int64 \n",
      " 1   lang            91 non-null     object\n",
      " 2   text            91 non-null     object\n",
      " 3   user_id         91 non-null     int64 \n",
      " 4   screen_name     91 non-null     object\n",
      " 5   name            91 non-null     object\n",
      " 6   statuses_count  91 non-null     int64 \n",
      " 7   retweet_count   91 non-null     int64 \n",
      " 8   source_url      85 non-null     object\n",
      "dtypes: int64(4), object(5)\n",
      "memory usage: 6.5+ KB\n"
     ]
    }
   ],
   "source": [
    "df.info()"
   ]
  },
  {
   "cell_type": "code",
   "execution_count": 23,
   "metadata": {},
   "outputs": [
    {
     "data": {
      "text/html": [
       "<div>\n",
       "<style scoped>\n",
       "    .dataframe tbody tr th:only-of-type {\n",
       "        vertical-align: middle;\n",
       "    }\n",
       "\n",
       "    .dataframe tbody tr th {\n",
       "        vertical-align: top;\n",
       "    }\n",
       "\n",
       "    .dataframe thead th {\n",
       "        text-align: right;\n",
       "    }\n",
       "</style>\n",
       "<table border=\"1\" class=\"dataframe\">\n",
       "  <thead>\n",
       "    <tr style=\"text-align: right;\">\n",
       "      <th></th>\n",
       "      <th>id</th>\n",
       "      <th>lang</th>\n",
       "      <th>text</th>\n",
       "      <th>user_id</th>\n",
       "      <th>screen_name</th>\n",
       "      <th>name</th>\n",
       "      <th>statuses_count</th>\n",
       "      <th>retweet_count</th>\n",
       "      <th>source_url</th>\n",
       "    </tr>\n",
       "  </thead>\n",
       "  <tbody>\n",
       "    <tr>\n",
       "      <th>0</th>\n",
       "      <td>1268191645259964417</td>\n",
       "      <td>en</td>\n",
       "      <td>RT @dayus4heaven: Essential Cheat Sheets for M...</td>\n",
       "      <td>1268118362112045056</td>\n",
       "      <td>NodeBotJs2</td>\n",
       "      <td>NodeBotJs</td>\n",
       "      <td>498</td>\n",
       "      <td>34</td>\n",
       "      <td>https://www.pointsofcontact.org</td>\n",
       "    </tr>\n",
       "    <tr>\n",
       "      <th>1</th>\n",
       "      <td>1268191637395640321</td>\n",
       "      <td>en</td>\n",
       "      <td>RT @dayus4heaven: Essential Cheat Sheets for M...</td>\n",
       "      <td>721036352</td>\n",
       "      <td>okemname</td>\n",
       "      <td>مہک ایمان خان</td>\n",
       "      <td>3109</td>\n",
       "      <td>34</td>\n",
       "      <td>http://twitter.com/download/iphone</td>\n",
       "    </tr>\n",
       "    <tr>\n",
       "      <th>2</th>\n",
       "      <td>1268185258706505742</td>\n",
       "      <td>en</td>\n",
       "      <td>RT @odsc: Announcing AI+ Training by #ODSC. Le...</td>\n",
       "      <td>1134668128489656320</td>\n",
       "      <td>ShyBOT7</td>\n",
       "      <td>Shy BOT</td>\n",
       "      <td>43765</td>\n",
       "      <td>3</td>\n",
       "      <td>https://digitalinspiration.com</td>\n",
       "    </tr>\n",
       "    <tr>\n",
       "      <th>3</th>\n",
       "      <td>1268184854425997314</td>\n",
       "      <td>en</td>\n",
       "      <td>RT @EmmanuelTorty: VS Code Cheat Sheet (2020)\\...</td>\n",
       "      <td>1166373999343017986</td>\n",
       "      <td>tobi_aiyelokun</td>\n",
       "      <td>Oluwatobi</td>\n",
       "      <td>492</td>\n",
       "      <td>60</td>\n",
       "      <td>http://twitter.com/download/android</td>\n",
       "    </tr>\n",
       "    <tr>\n",
       "      <th>4</th>\n",
       "      <td>1268182756435079168</td>\n",
       "      <td>en</td>\n",
       "      <td>RT @dayus4heaven: Essential Cheat Sheets for M...</td>\n",
       "      <td>812555214024740865</td>\n",
       "      <td>_reactdev</td>\n",
       "      <td>React Developer</td>\n",
       "      <td>189457</td>\n",
       "      <td>34</td>\n",
       "      <td>https://rishabhmishra.me/</td>\n",
       "    </tr>\n",
       "  </tbody>\n",
       "</table>\n",
       "</div>"
      ],
      "text/plain": [
       "                    id lang  \\\n",
       "0  1268191645259964417   en   \n",
       "1  1268191637395640321   en   \n",
       "2  1268185258706505742   en   \n",
       "3  1268184854425997314   en   \n",
       "4  1268182756435079168   en   \n",
       "\n",
       "                                                text              user_id  \\\n",
       "0  RT @dayus4heaven: Essential Cheat Sheets for M...  1268118362112045056   \n",
       "1  RT @dayus4heaven: Essential Cheat Sheets for M...            721036352   \n",
       "2  RT @odsc: Announcing AI+ Training by #ODSC. Le...  1134668128489656320   \n",
       "3  RT @EmmanuelTorty: VS Code Cheat Sheet (2020)\\...  1166373999343017986   \n",
       "4  RT @dayus4heaven: Essential Cheat Sheets for M...   812555214024740865   \n",
       "\n",
       "      screen_name             name  statuses_count  retweet_count  \\\n",
       "0      NodeBotJs2        NodeBotJs             498             34   \n",
       "1        okemname    مہک ایمان خان            3109             34   \n",
       "2         ShyBOT7          Shy BOT           43765              3   \n",
       "3  tobi_aiyelokun        Oluwatobi             492             60   \n",
       "4       _reactdev  React Developer          189457             34   \n",
       "\n",
       "                            source_url  \n",
       "0      https://www.pointsofcontact.org  \n",
       "1   http://twitter.com/download/iphone  \n",
       "2       https://digitalinspiration.com  \n",
       "3  http://twitter.com/download/android  \n",
       "4            https://rishabhmishra.me/  "
      ]
     },
     "execution_count": 23,
     "metadata": {},
     "output_type": "execute_result"
    }
   ],
   "source": [
    "df.head()"
   ]
  },
  {
   "cell_type": "code",
   "execution_count": 24,
   "metadata": {},
   "outputs": [
    {
     "data": {
      "text/html": [
       "<div>\n",
       "<style scoped>\n",
       "    .dataframe tbody tr th:only-of-type {\n",
       "        vertical-align: middle;\n",
       "    }\n",
       "\n",
       "    .dataframe tbody tr th {\n",
       "        vertical-align: top;\n",
       "    }\n",
       "\n",
       "    .dataframe thead th {\n",
       "        text-align: right;\n",
       "    }\n",
       "</style>\n",
       "<table border=\"1\" class=\"dataframe\">\n",
       "  <thead>\n",
       "    <tr style=\"text-align: right;\">\n",
       "      <th></th>\n",
       "      <th>id</th>\n",
       "      <th>user_id</th>\n",
       "      <th>statuses_count</th>\n",
       "      <th>retweet_count</th>\n",
       "    </tr>\n",
       "  </thead>\n",
       "  <tbody>\n",
       "    <tr>\n",
       "      <th>count</th>\n",
       "      <td>9.100000e+01</td>\n",
       "      <td>9.100000e+01</td>\n",
       "      <td>9.100000e+01</td>\n",
       "      <td>91.000000</td>\n",
       "    </tr>\n",
       "    <tr>\n",
       "      <th>mean</th>\n",
       "      <td>1.268146e+18</td>\n",
       "      <td>8.219758e+17</td>\n",
       "      <td>1.517757e+05</td>\n",
       "      <td>154.857143</td>\n",
       "    </tr>\n",
       "    <tr>\n",
       "      <th>std</th>\n",
       "      <td>2.081332e+13</td>\n",
       "      <td>5.049602e+17</td>\n",
       "      <td>3.288760e+05</td>\n",
       "      <td>323.377955</td>\n",
       "    </tr>\n",
       "    <tr>\n",
       "      <th>min</th>\n",
       "      <td>1.268118e+18</td>\n",
       "      <td>1.743324e+07</td>\n",
       "      <td>6.000000e+00</td>\n",
       "      <td>0.000000</td>\n",
       "    </tr>\n",
       "    <tr>\n",
       "      <th>25%</th>\n",
       "      <td>1.268129e+18</td>\n",
       "      <td>3.550619e+17</td>\n",
       "      <td>3.495500e+03</td>\n",
       "      <td>16.000000</td>\n",
       "    </tr>\n",
       "    <tr>\n",
       "      <th>50%</th>\n",
       "      <td>1.268139e+18</td>\n",
       "      <td>1.032460e+18</td>\n",
       "      <td>1.637100e+04</td>\n",
       "      <td>24.000000</td>\n",
       "    </tr>\n",
       "    <tr>\n",
       "      <th>75%</th>\n",
       "      <td>1.268165e+18</td>\n",
       "      <td>1.226628e+18</td>\n",
       "      <td>1.447480e+05</td>\n",
       "      <td>60.000000</td>\n",
       "    </tr>\n",
       "    <tr>\n",
       "      <th>max</th>\n",
       "      <td>1.268192e+18</td>\n",
       "      <td>1.268118e+18</td>\n",
       "      <td>1.829643e+06</td>\n",
       "      <td>978.000000</td>\n",
       "    </tr>\n",
       "  </tbody>\n",
       "</table>\n",
       "</div>"
      ],
      "text/plain": [
       "                 id       user_id  statuses_count  retweet_count\n",
       "count  9.100000e+01  9.100000e+01    9.100000e+01      91.000000\n",
       "mean   1.268146e+18  8.219758e+17    1.517757e+05     154.857143\n",
       "std    2.081332e+13  5.049602e+17    3.288760e+05     323.377955\n",
       "min    1.268118e+18  1.743324e+07    6.000000e+00       0.000000\n",
       "25%    1.268129e+18  3.550619e+17    3.495500e+03      16.000000\n",
       "50%    1.268139e+18  1.032460e+18    1.637100e+04      24.000000\n",
       "75%    1.268165e+18  1.226628e+18    1.447480e+05      60.000000\n",
       "max    1.268192e+18  1.268118e+18    1.829643e+06     978.000000"
      ]
     },
     "execution_count": 24,
     "metadata": {},
     "output_type": "execute_result"
    }
   ],
   "source": [
    "df.describe()"
   ]
  },
  {
   "cell_type": "code",
   "execution_count": 25,
   "metadata": {},
   "outputs": [
    {
     "data": {
      "text/plain": [
       "<matplotlib.axes._subplots.AxesSubplot at 0x7f8a07dd23d0>"
      ]
     },
     "execution_count": 25,
     "metadata": {},
     "output_type": "execute_result"
    },
    {
     "data": {
      "image/png": "[encoded data removed]",
      "text/plain": [
       "<Figure size 432x288 with 1 Axes>"
      ]
     },
     "metadata": {
      "needs_background": "light"
     },
     "output_type": "display_data"
    }
   ],
   "source": [
    "df.plot()"
   ]
  },
  {
   "cell_type": "code",
   "execution_count": 26,
   "metadata": {},
   "outputs": [
    {
     "data": {
      "text/plain": [
       "0     34\n",
       "1     34\n",
       "2      3\n",
       "3     60\n",
       "4     34\n",
       "      ..\n",
       "86    24\n",
       "87    24\n",
       "88    25\n",
       "89    25\n",
       "90    60\n",
       "Name: retweet_count, Length: 91, dtype: int64"
      ]
     },
     "execution_count": 26,
     "metadata": {},
     "output_type": "execute_result"
    }
   ],
   "source": [
    "#solo la cuenta de retweets\n",
    "df.retweet_count"
   ]
  },
  {
   "cell_type": "code",
   "execution_count": 27,
   "metadata": {},
   "outputs": [
    {
     "data": {
      "text/plain": [
       "array([[<matplotlib.axes._subplots.AxesSubplot object at 0x7f8a073598d0>,\n",
       "        <matplotlib.axes._subplots.AxesSubplot object at 0x7f8a08064f10>],\n",
       "       [<matplotlib.axes._subplots.AxesSubplot object at 0x7f8a080e2b90>,\n",
       "        <matplotlib.axes._subplots.AxesSubplot object at 0x7f8a0811ff10>]],\n",
       "      dtype=object)"
      ]
     },
     "execution_count": 27,
     "metadata": {},
     "output_type": "execute_result"
    },
    {
     "data": {
      "image/png": "[encoded data removed]",
      "text/plain": [
       "<Figure size 432x288 with 4 Axes>"
      ]
     },
     "metadata": {
      "needs_background": "light"
     },
     "output_type": "display_data"
    }
   ],
   "source": [
    "df.hist()"
   ]
  },
  {
   "cell_type": "code",
   "execution_count": 28,
   "metadata": {},
   "outputs": [
    {
     "data": {
      "text/plain": [
       "<matplotlib.axes._subplots.AxesSubplot at 0x7f8a0820cb90>"
      ]
     },
     "execution_count": 28,
     "metadata": {},
     "output_type": "execute_result"
    },
    {
     "data": {
      "image/png": "[encoded data removed]",
      "text/plain": [
       "<Figure size 432x288 with 1 Axes>"
      ]
     },
     "metadata": {
      "needs_background": "light"
     },
     "output_type": "display_data"
    }
   ],
   "source": [
    "df.retweet_count.hist(bins=50)"
   ]
  },
  {
   "cell_type": "code",
   "execution_count": 29,
   "metadata": {},
   "outputs": [],
   "source": [
    "#esto no cambia el dataframe, sino que me devuelve un nuevo df con los datos eliminiados\n",
    "df_sinid = df.drop(columns=['id','user_id'])"
   ]
  },
  {
   "cell_type": "code",
   "execution_count": 30,
   "metadata": {},
   "outputs": [],
   "source": [
    "import seaborn as sns"
   ]
  },
  {
   "cell_type": "code",
   "execution_count": 31,
   "metadata": {},
   "outputs": [
    {
     "data": {
      "text/plain": [
       "<seaborn.axisgrid.PairGrid at 0x7f8a09caad90>"
      ]
     },
     "execution_count": 31,
     "metadata": {},
     "output_type": "execute_result"
    },
    {
     "data": {
      "image/png": "[encoded data removed]",
      "text/plain": [
       "<Figure size 360x360 with 6 Axes>"
      ]
     },
     "metadata": {
      "needs_background": "light"
     },
     "output_type": "display_data"
    }
   ],
   "source": [
    "#comparativa de variables - Para ver la relación entre dos variables utilizaremos seaborn:\n",
    "sns.pairplot(df_sinid)"
   ]
  },
  {
   "cell_type": "code",
   "execution_count": 32,
   "metadata": {},
   "outputs": [
    {
     "name": "stdout",
     "output_type": "stream",
     "text": [
      "(75, id                                              1268128082222776325\n",
      "lang                                                             en\n",
      "text              RT @PratikNilange: Me explaining client how to...\n",
      "user_id                                         1127829883013361665\n",
      "screen_name                                                 xaelbot\n",
      "name                                                       xael bot\n",
      "statuses_count                                               427814\n",
      "retweet_count                                                   978\n",
      "source_url                             https://yathinbabu.github.io\n",
      "Name: 75, dtype: object)\n",
      "(10, id                                              1268175441002737664\n",
      "lang                                                             en\n",
      "text              RT @PratikNilange: Me explaining client how to...\n",
      "user_id                                          992317227079753728\n",
      "screen_name                                         Wrdlbrmpfd_Wrdl\n",
      "name                                                    Thomas Cave\n",
      "statuses_count                                                13572\n",
      "retweet_count                                                   978\n",
      "source_url                               https://mobile.twitter.com\n",
      "Name: 10, dtype: object)\n",
      "(44, id                                              1268139107454197761\n",
      "lang                                                             en\n",
      "text              RT @PratikNilange: Me explaining client how to...\n",
      "user_id                                         1267740324144742401\n",
      "screen_name                                                 tokhope\n",
      "name                                                 Nadya Tokareva\n",
      "statuses_count                                                    6\n",
      "retweet_count                                                   978\n",
      "source_url                               https://mobile.twitter.com\n",
      "Name: 44, dtype: object)\n",
      "(73, id                                              1268128137570914305\n",
      "lang                                                             en\n",
      "text              RT @PratikNilange: Me explaining client how to...\n",
      "user_id                                         1229091405152256001\n",
      "screen_name                                               redianbot\n",
      "name                                                      Ready Dev\n",
      "statuses_count                                               125922\n",
      "retweet_count                                                   978\n",
      "source_url                          https://go-shopal.herokuapp.com\n",
      "Name: 73, dtype: object)\n",
      "(74, id                                              1268128134022471680\n",
      "lang                                                             en\n",
      "text              RT @PratikNilange: Me explaining client how to...\n",
      "user_id                                         1260062769543434240\n",
      "screen_name                                                nlognbot\n",
      "name                                                       nlognbot\n",
      "statuses_count                                                42632\n",
      "retweet_count                                                   978\n",
      "source_url                                         https://nlogn.in\n",
      "Name: 74, dtype: object)\n",
      "(70, id                                              1268128381553565697\n",
      "lang                                                             en\n",
      "text              RT @PratikNilange: Me explaining client how to...\n",
      "user_id                                          812555214024740865\n",
      "screen_name                                               _reactdev\n",
      "name                                                React Developer\n",
      "statuses_count                                               189457\n",
      "retweet_count                                                   978\n",
      "source_url                                https://rishabhmishra.me/\n",
      "Name: 70, dtype: object)\n",
      "(69, id                                              1268128381557772293\n",
      "lang                                                             en\n",
      "text              RT @PratikNilange: Me explaining client how to...\n",
      "user_id                                          812555214024740865\n",
      "screen_name                                               _reactdev\n",
      "name                                                React Developer\n",
      "statuses_count                                               189457\n",
      "retweet_count                                                   978\n",
      "source_url                                https://rishabhmishra.me/\n",
      "Name: 69, dtype: object)\n",
      "(68, id                                              1268128632377049093\n",
      "lang                                                             en\n",
      "text              RT @PratikNilange: Me explaining client how to...\n",
      "user_id                                         1267176842856927233\n",
      "screen_name                                                ddcombot\n",
      "name                                       DevelopersDiscussion.com\n",
      "statuses_count                                                 5521\n",
      "retweet_count                                                   978\n",
      "source_url                                                     None\n",
      "Name: 68, dtype: object)\n",
      "(76, id                                              1268128064392900608\n",
      "lang                                                             en\n",
      "text              RT @PratikNilange: Me explaining client how to...\n",
      "user_id                                          710123736175783938\n",
      "screen_name                                                sectest9\n",
      "name                                               Security Testing\n",
      "statuses_count                                              1829643\n",
      "retweet_count                                                   978\n",
      "source_url                                           https://ho.com\n",
      "Name: 76, dtype: object)\n",
      "(77, id                                              1268128057572732928\n",
      "lang                                                             en\n",
      "text              RT @PratikNilange: Me explaining client how to...\n",
      "user_id                                         1190726565073522694\n",
      "screen_name                                                LlnuxBot\n",
      "name                                                       LinuxBot\n",
      "statuses_count                                               267239\n",
      "retweet_count                                                   978\n",
      "source_url                                       https://techdox.nz\n",
      "Name: 77, dtype: object)\n",
      "(79, id                                              1268128049461112832\n",
      "lang                                                             en\n",
      "text              RT @PratikNilange: Me explaining client how to...\n",
      "user_id                                         1142424032794406912\n",
      "screen_name                                         CyberSecurityN8\n",
      "name                                            Cyber Security News\n",
      "statuses_count                                               257660\n",
      "retweet_count                                                   978\n",
      "source_url                                      https://homeinc.com\n",
      "Name: 79, dtype: object)\n",
      "(80, id                                              1268128005630701573\n",
      "lang                                                             en\n",
      "text              RT @PratikNilange: Me explaining client how to...\n",
      "user_id                                                  2651324655\n",
      "screen_name                                            BademciSevim\n",
      "name                                                  Sevim Bademci\n",
      "statuses_count                                                24581\n",
      "retweet_count                                                   978\n",
      "source_url                      http://twitter.com/download/android\n",
      "Name: 80, dtype: object)\n",
      "(27, id                                              1268154323751534592\n",
      "lang                                                             en\n",
      "text              RT @pak_aims: #Programmer directory!\\n\\n#AI #A...\n",
      "user_id                                          885513434569355265\n",
      "screen_name                                               Taieb_Bot\n",
      "name                                                          JSBot\n",
      "statuses_count                                               458169\n",
      "retweet_count                                                   111\n",
      "source_url                          https://github.com/AlFalahTaieb\n",
      "Name: 27, dtype: object)\n",
      "(6, id                                              1268181933755858945\n",
      "lang                                                             en\n",
      "text              RT @pak_aims: #Programmer directory!\\n\\n#AI #A...\n",
      "user_id                                         1222084242789634050\n",
      "screen_name                                          C0mment_Reader\n",
      "name                                      Official_Comment_Reader™️\n",
      "statuses_count                                                 2642\n",
      "retweet_count                                                   111\n",
      "source_url                      http://twitter.com/download/android\n",
      "Name: 6, dtype: object)\n",
      "(28, id                                              1268154299227480064\n",
      "lang                                                             en\n",
      "text              RT @pak_aims: #Programmer directory!\\n\\n#AI #A...\n",
      "user_id                                         1131854274223366144\n",
      "screen_name                                          cybersec_feeds\n",
      "name                                            Cyber Security Feed\n",
      "statuses_count                                               854150\n",
      "retweet_count                                                   111\n",
      "source_url                      https://abdirahiimyassin.weebly.com\n",
      "Name: 28, dtype: object)\n",
      "(64, id                                              1268130697816027138\n",
      "lang                                                             en\n",
      "text              RT @EmmanuelTorty: VS Code Cheat Sheet (2020)\\...\n",
      "user_id                                         1123530277287018496\n",
      "screen_name                                            itsOdhiambo_\n",
      "name                                                      Daniel?!!\n",
      "statuses_count                                                13376\n",
      "retweet_count                                                    60\n",
      "source_url                      http://twitter.com/download/android\n",
      "Name: 64, dtype: object)\n",
      "(23, id                                              1268164231678984192\n",
      "lang                                                             en\n",
      "text              RT @EmmanuelTorty: VS Code Cheat Sheet (2020)\\...\n",
      "user_id                                          910440206074970113\n",
      "screen_name                                            m_khairahman\n",
      "name                                                    Khai Rahman\n",
      "statuses_count                                                 3016\n",
      "retweet_count                                                    60\n",
      "source_url                      http://twitter.com/download/android\n",
      "Name: 23, dtype: object)\n",
      "(24, id                                              1268162755468591108\n",
      "lang                                                             en\n",
      "text              RT @EmmanuelTorty: VS Code Cheat Sheet (2020)\\...\n",
      "user_id                                                   503986471\n",
      "screen_name                                                jonico22\n",
      "name                                                 jose luis yana\n",
      "statuses_count                                                 8515\n",
      "retweet_count                                                    60\n",
      "source_url                       http://twitter.com/download/iphone\n",
      "Name: 24, dtype: object)\n",
      "(90, id                                              1268117634261942273\n",
      "lang                                                             en\n",
      "text              RT @EmmanuelTorty: VS Code Cheat Sheet (2020)\\...\n",
      "user_id                                         1266133633389060097\n",
      "screen_name                                               CodeGnuts\n",
      "name                                               Gnuts about Code\n",
      "statuses_count                                                16371\n",
      "retweet_count                                                    60\n",
      "source_url                                https://adam-spice.online\n",
      "Name: 90, dtype: object)\n",
      "(26, id                                              1268156084587503616\n",
      "lang                                                             en\n",
      "text              RT @EmmanuelTorty: VS Code Cheat Sheet (2020)\\...\n",
      "user_id                                         1234687264497770497\n",
      "screen_name                                         cybe_rpunkfixer\n",
      "name                                                cyberpunk_fixer\n",
      "statuses_count                                                16335\n",
      "retweet_count                                                    60\n",
      "source_url                               https://mobile.twitter.com\n",
      "Name: 26, dtype: object)\n",
      "(12, id                                              1268175110604591105\n",
      "lang                                                             en\n",
      "text              RT @EmmanuelTorty: VS Code Cheat Sheet (2020)\\...\n",
      "user_id                                                   117805461\n",
      "screen_name                                                 herhtom\n",
      "name                                                            tom\n",
      "statuses_count                                                 7634\n",
      "retweet_count                                                    60\n",
      "source_url                       http://twitter.com/download/iphone\n",
      "Name: 12, dtype: object)\n",
      "(11, id                                              1268175437307408389\n",
      "lang                                                             en\n",
      "text              RT @EmmanuelTorty: VS Code Cheat Sheet (2020)\\...\n",
      "user_id                                                   548227643\n",
      "screen_name                                            ManushaDilan\n",
      "name                                                  Manusha Dilan\n",
      "statuses_count                                                 3452\n",
      "retweet_count                                                    60\n",
      "source_url                      http://twitter.com/download/android\n",
      "Name: 11, dtype: object)\n",
      "(82, id                                              1268123493574438912\n",
      "lang                                                             en\n",
      "text              RT @EmmanuelTorty: VS Code Cheat Sheet (2020)\\...\n",
      "user_id                                                   241867166\n",
      "screen_name                                                rickovir\n",
      "name                                                 Ricko Virnanda\n",
      "statuses_count                                                 2513\n",
      "retweet_count                                                    60\n",
      "source_url                               https://mobile.twitter.com\n",
      "Name: 82, dtype: object)\n",
      "(3, id                                              1268184854425997314\n",
      "lang                                                             en\n",
      "text              RT @EmmanuelTorty: VS Code Cheat Sheet (2020)\\...\n",
      "user_id                                         1166373999343017986\n",
      "screen_name                                          tobi_aiyelokun\n",
      "name                                                      Oluwatobi\n",
      "statuses_count                                                  492\n",
      "retweet_count                                                    60\n",
      "source_url                      http://twitter.com/download/android\n",
      "Name: 3, dtype: object)\n",
      "(83, id                                              1268121157137502217\n",
      "lang                                                             en\n",
      "text              RT @EmmanuelTorty: VS Code Cheat Sheet (2020)\\...\n",
      "user_id                                          726725974709121024\n",
      "screen_name                                                 athigah\n",
      "name                                                Patrick Githiga\n",
      "statuses_count                                                72491\n",
      "retweet_count                                                    60\n",
      "source_url                      http://twitter.com/download/android\n",
      "Name: 83, dtype: object)\n",
      "(25, id                                              1268159654246350858\n",
      "lang                                                             en\n",
      "text              RT @EmmanuelTorty: VS Code Cheat Sheet (2020)\\...\n",
      "user_id                                         1260861717258657794\n",
      "screen_name                                                LabOfBro\n",
      "name                                                        broslab\n",
      "statuses_count                                                  185\n",
      "retweet_count                                                    60\n",
      "source_url                       http://twitter.com/download/iphone\n",
      "Name: 25, dtype: object)\n",
      "(16, id                                              1268171456686383114\n",
      "lang                                                             en\n",
      "text              RT @tut_ml: Best Books on Data Science in 2020...\n",
      "user_id                                         1267176842856927233\n",
      "screen_name                                                ddcombot\n",
      "name                                       DevelopersDiscussion.com\n",
      "statuses_count                                                 5521\n",
      "retweet_count                                                    52\n",
      "source_url                                                     None\n",
      "Name: 16, dtype: object)\n",
      "(18, id                                              1268171444632129537\n",
      "lang                                                             en\n",
      "text              RT @tut_ml: Best Books on Data Science in 2020...\n",
      "user_id                                         1131854274223366144\n",
      "screen_name                                          cybersec_feeds\n",
      "name                                            Cyber Security Feed\n",
      "statuses_count                                               854150\n",
      "retweet_count                                                    52\n",
      "source_url                      https://abdirahiimyassin.weebly.com\n",
      "Name: 18, dtype: object)\n",
      "(17, id                                              1268171456581644295\n",
      "lang                                                             en\n",
      "text              RT @tut_ml: Best Books on Data Science in 2020...\n",
      "user_id                                         1267176842856927233\n",
      "screen_name                                                ddcombot\n",
      "name                                       DevelopersDiscussion.com\n",
      "statuses_count                                                 5521\n",
      "retweet_count                                                    52\n",
      "source_url                                                     None\n",
      "Name: 17, dtype: object)\n",
      "(32, id                                              1268150079996735491\n",
      "lang                                                             en\n",
      "text              RT @tut_ml: Best Books on Data Science in 2020...\n",
      "user_id                                         1204128767251230720\n",
      "screen_name                                            codedailybot\n",
      "name                                                 #100daysOfCode\n",
      "statuses_count                                               368786\n",
      "retweet_count                                                    52\n",
      "source_url                         https://twitter.com/codedailybot\n",
      "Name: 32, dtype: object)\n",
      "(33, id                                              1268149789968879622\n",
      "lang                                                             en\n",
      "text              RT @tut_ml: Best Books on Data Science in 2020...\n",
      "user_id                                         1201368586398208000\n",
      "screen_name                                          Akrati69904291\n",
      "name                                                         akrati\n",
      "statuses_count                                                 1695\n",
      "retweet_count                                                    52\n",
      "source_url                                      https://www.abc.com\n",
      "Name: 33, dtype: object)\n",
      "(43, id                                              1268139137346895873\n",
      "lang                                                             en\n",
      "text              RT @patri_vaquero_: 🔬 #Azure #MachineLearning-...\n",
      "user_id                                         1190726565073522694\n",
      "screen_name                                                LlnuxBot\n",
      "name                                                       LinuxBot\n",
      "statuses_count                                               267239\n",
      "retweet_count                                                    38\n",
      "source_url                                       https://techdox.nz\n",
      "Name: 43, dtype: object)\n",
      "(45, id                                              1268138919436173312\n",
      "lang                                                             en\n",
      "text              RT @patri_vaquero_: 🔬 #Azure #MachineLearning-...\n",
      "user_id                                                   612587658\n",
      "screen_name                                                Motion84\n",
      "name                                                   M. Tausha N.\n",
      "statuses_count                                                 3726\n",
      "retweet_count                                                    38\n",
      "source_url                      http://twitter.com/download/android\n",
      "Name: 45, dtype: object)\n",
      "(0, id                                              1268191645259964417\n",
      "lang                                                             en\n",
      "text              RT @dayus4heaven: Essential Cheat Sheets for M...\n",
      "user_id                                         1268118362112045056\n",
      "screen_name                                              NodeBotJs2\n",
      "name                                                      NodeBotJs\n",
      "statuses_count                                                  498\n",
      "retweet_count                                                    34\n",
      "source_url                          https://www.pointsofcontact.org\n",
      "Name: 0, dtype: object)\n",
      "(1, id                                              1268191637395640321\n",
      "lang                                                             en\n",
      "text              RT @dayus4heaven: Essential Cheat Sheets for M...\n",
      "user_id                                                   721036352\n",
      "screen_name                                                okemname\n",
      "name                                                  مہک ایمان خان\n",
      "statuses_count                                                 3109\n",
      "retweet_count                                                    34\n",
      "source_url                       http://twitter.com/download/iphone\n",
      "Name: 1, dtype: object)\n",
      "(19, id                                              1268167879888961537\n",
      "lang                                                             en\n",
      "text              RT @dayus4heaven: Essential Cheat Sheets for M...\n",
      "user_id                                          877159974346133505\n",
      "screen_name                                         MariaLasNieves2\n",
      "name                                               Maria Las Nieves\n",
      "statuses_count                                                 2872\n",
      "retweet_count                                                    34\n",
      "source_url                               https://mobile.twitter.com\n",
      "Name: 19, dtype: object)\n",
      "(85, id                                              1268120014021853186\n",
      "lang                                                             en\n",
      "text              RT @dayus4heaven: Essential Cheat Sheets for M...\n",
      "user_id                                                    80253571\n",
      "screen_name                                              YogeshBang\n",
      "name                                                  🎤Yogesh Bang🎸\n",
      "statuses_count                                                65744\n",
      "retweet_count                                                    34\n",
      "source_url                      http://twitter.com/download/android\n",
      "Name: 85, dtype: object)\n",
      "(66, id                                              1268130420287254531\n",
      "lang                                                             en\n",
      "text              RT @dayus4heaven: Essential Cheat Sheets for M...\n",
      "user_id                                          983177740965773312\n",
      "screen_name                                         cephalopodluke2\n",
      "name                                              cephalopodlukebot\n",
      "statuses_count                                                77292\n",
      "retweet_count                                                    34\n",
      "source_url                                   https://www.google.com\n",
      "Name: 66, dtype: object)\n",
      "(4, id                                              1268182756435079168\n",
      "lang                                                             en\n",
      "text              RT @dayus4heaven: Essential Cheat Sheets for M...\n",
      "user_id                                          812555214024740865\n",
      "screen_name                                               _reactdev\n",
      "name                                                React Developer\n",
      "statuses_count                                               189457\n",
      "retweet_count                                                    34\n",
      "source_url                                https://rishabhmishra.me/\n",
      "Name: 4, dtype: object)\n",
      "(67, id                                              1268130354101174272\n",
      "lang                                                             en\n",
      "text              RT @dayus4heaven: Essential Cheat Sheets for M...\n",
      "user_id                                         1131854274223366144\n",
      "screen_name                                          cybersec_feeds\n",
      "name                                            Cyber Security Feed\n",
      "statuses_count                                               854150\n",
      "retweet_count                                                    34\n",
      "source_url                      https://abdirahiimyassin.weebly.com\n",
      "Name: 67, dtype: object)\n",
      "(5, id                                              1268182738131181568\n",
      "lang                                                             en\n",
      "text              RT @dayus4heaven: Essential Cheat Sheets for M...\n",
      "user_id                                                   248816081\n",
      "screen_name                                           jamilouazzani\n",
      "name                                                 Jamil Ouazzani\n",
      "statuses_count                                                21647\n",
      "retweet_count                                                    34\n",
      "source_url                      http://twitter.com/download/android\n",
      "Name: 5, dtype: object)\n",
      "(65, id                                              1268130444110958593\n",
      "lang                                                             en\n",
      "text              RT @dayus4heaven: Essential Cheat Sheets for M...\n",
      "user_id                                          885513434569355265\n",
      "screen_name                                               Taieb_Bot\n",
      "name                                                          JSBot\n",
      "statuses_count                                               458169\n",
      "retweet_count                                                    34\n",
      "source_url                          https://github.com/AlFalahTaieb\n",
      "Name: 65, dtype: object)\n",
      "(89, id                                              1268118664131166208\n",
      "lang                                                             en\n",
      "text              RT @tut_ml: Top 5 robust Machine Learning Algo...\n",
      "user_id                                          724565930823561217\n",
      "screen_name                                         pralhadnasane10\n",
      "name                                                 Pralhad Nasane\n",
      "statuses_count                                                 6361\n",
      "retweet_count                                                    25\n",
      "source_url              https://pralhadnasane1999.wixsite.com/tech7\n",
      "Name: 89, dtype: object)\n",
      "(88, id                                              1268118686424072194\n",
      "lang                                                             en\n",
      "text              RT @tut_ml: Top 5 robust Machine Learning Algo...\n",
      "user_id                                         1257170815881228295\n",
      "screen_name                                            ML_Tweet_Bot\n",
      "name                                           Machine Learning Bot\n",
      "statuses_count                                                51890\n",
      "retweet_count                                                    25\n",
      "source_url                                     https://twitter.com/\n",
      "Name: 88, dtype: object)\n",
      "(48, id                                              1268136923505274880\n",
      "lang                                                             en\n",
      "text              RT @PinakiLaskar: Best #Selfies\\n#STEM #Memes ...\n",
      "user_id                                         1006953374242111489\n",
      "screen_name                                           FisheyeboxLab\n",
      "name                     AI for Learning .ۗۗۗۗۗۗۗۗۗۗۗۗۗۗۗۗۗۗۗۗۗۗۗۗۗ\n",
      "statuses_count                                                 1353\n",
      "retweet_count                                                    24\n",
      "source_url                               https://mobile.twitter.com\n",
      "Name: 48, dtype: object)\n",
      "(42, id                                              1268139275142549504\n",
      "lang                                                             en\n",
      "text              RT @PinakiLaskar: Best #Selfies\\n#STEM #Memes ...\n",
      "user_id                                          932538546497380352\n",
      "screen_name                                         FishEyeBoxIndia\n",
      "name                                                AI for Everyone\n",
      "statuses_count                                                 2108\n",
      "retweet_count                                                    24\n",
      "source_url                               https://mobile.twitter.com\n",
      "Name: 42, dtype: object)\n",
      "(86, id                                              1268119401812934661\n",
      "lang                                                             en\n",
      "text              RT @PinakiLaskar: Best #Selfies\\n#STEM #Memes ...\n",
      "user_id                                         1266133633389060097\n",
      "screen_name                                               CodeGnuts\n",
      "name                                               Gnuts about Code\n",
      "statuses_count                                                16371\n",
      "retweet_count                                                    24\n",
      "source_url                                https://adam-spice.online\n",
      "Name: 86, dtype: object)\n",
      "(87, id                                              1268119379721375744\n",
      "lang                                                             en\n",
      "text              RT @PinakiLaskar: Best #Selfies\\n#STEM #Memes ...\n",
      "user_id                                          724565930823561217\n",
      "screen_name                                         pralhadnasane10\n",
      "name                                                 Pralhad Nasane\n",
      "statuses_count                                                 6361\n",
      "retweet_count                                                    24\n",
      "source_url              https://pralhadnasane1999.wixsite.com/tech7\n",
      "Name: 87, dtype: object)\n",
      "(22, id                                              1268166366852526081\n",
      "lang                                                             en\n",
      "text              RT @y2yuuuki: For DataScientists\\n\\nhttps://t....\n",
      "user_id                                                  2840980285\n",
      "screen_name                                         PandhareSidhesh\n",
      "name                                            Sidheshwar Pandhare\n",
      "statuses_count                                                 7142\n",
      "retweet_count                                                    22\n",
      "source_url                                     http://twinybots.com\n",
      "Name: 22, dtype: object)\n",
      "(20, id                                              1268166419235123200\n",
      "lang                                                             en\n",
      "text              RT @y2yuuuki: For DataScientists\\n\\nhttps://t....\n",
      "user_id                                         1267176842856927233\n",
      "screen_name                                                ddcombot\n",
      "name                                       DevelopersDiscussion.com\n",
      "statuses_count                                                 5521\n",
      "retweet_count                                                    22\n",
      "source_url                                                     None\n",
      "Name: 20, dtype: object)\n",
      "(21, id                                              1268166388788662274\n",
      "lang                                                             en\n",
      "text              RT @y2yuuuki: For DataScientists\\n\\nhttps://t....\n",
      "user_id                                         1266133633389060097\n",
      "screen_name                                               CodeGnuts\n",
      "name                                               Gnuts about Code\n",
      "statuses_count                                                16371\n",
      "retweet_count                                                    22\n",
      "source_url                                https://adam-spice.online\n",
      "Name: 21, dtype: object)\n",
      "(84, id                                              1268120253936005120\n",
      "lang                                                             en\n",
      "text              RT @dayus4heaven: Python Flask  Cheat Sheet fo...\n",
      "user_id                                          724565930823561217\n",
      "screen_name                                         pralhadnasane10\n",
      "name                                                 Pralhad Nasane\n",
      "statuses_count                                                 6361\n",
      "retweet_count                                                    21\n",
      "source_url              https://pralhadnasane1999.wixsite.com/tech7\n",
      "Name: 84, dtype: object)\n",
      "(8, id                                              1268179444520255488\n",
      "lang                                                             en\n",
      "text              RT @FARHAN_RABBANI: Programming Dictionary!\\n\\...\n",
      "user_id                                         1190726565073522694\n",
      "screen_name                                                LlnuxBot\n",
      "name                                                       LinuxBot\n",
      "statuses_count                                               267239\n",
      "retweet_count                                                    20\n",
      "source_url                                       https://techdox.nz\n",
      "Name: 8, dtype: object)\n",
      "(9, id                                              1268179354166706176\n",
      "lang                                                             en\n",
      "text              RT @FARHAN_RABBANI: Programming Dictionary!\\n\\...\n",
      "user_id                                         1243237017695051778\n",
      "screen_name                                         ProjectLearn_io\n",
      "name                                                   ProjectLearn\n",
      "statuses_count                                                53003\n",
      "retweet_count                                                    20\n",
      "source_url                                  https://projectlearn.io\n",
      "Name: 9, dtype: object)\n",
      "(7, id                                              1268179517388009472\n",
      "lang                                                             en\n",
      "text              RT @FARHAN_RABBANI: Programming Dictionary!\\n\\...\n",
      "user_id                                         1267176842856927233\n",
      "screen_name                                                ddcombot\n",
      "name                                       DevelopersDiscussion.com\n",
      "statuses_count                                                 5521\n",
      "retweet_count                                                    20\n",
      "source_url                                                     None\n",
      "Name: 7, dtype: object)\n",
      "(59, id                                              1268133113240195072\n",
      "lang                                                             en\n",
      "text              RT @ekecoding: VS Code Cheat Sheet (2020)\\n#We...\n",
      "user_id                                          971620109197312000\n",
      "screen_name                                           ServerlessFan\n",
      "name                                                 Serverless Fan\n",
      "statuses_count                                               224094\n",
      "retweet_count                                                    16\n",
      "source_url                                     http://localhost.com\n",
      "Name: 59, dtype: object)\n",
      "(63, id                                              1268133091400433666\n",
      "lang                                                             en\n",
      "text              VS Code Cheat Sheet (2020)\\n#WebDev #BigData #...\n",
      "user_id                                                   634954495\n",
      "screen_name                                               ekecoding\n",
      "name                                               Emmanuel Nwolisa\n",
      "statuses_count                                                 4321\n",
      "retweet_count                                                    16\n",
      "source_url                       http://twitter.com/download/iphone\n",
      "Name: 63, dtype: object)\n",
      "(61, id                                              1268133111117819904\n",
      "lang                                                             en\n",
      "text              RT @ekecoding: VS Code Cheat Sheet (2020)\\n#We...\n",
      "user_id                                          710123736175783938\n",
      "screen_name                                                sectest9\n",
      "name                                               Security Testing\n",
      "statuses_count                                              1829643\n",
      "retweet_count                                                    16\n",
      "source_url                                           https://ho.com\n",
      "Name: 61, dtype: object)\n",
      "(60, id                                              1268133111205896192\n",
      "lang                                                             en\n",
      "text              RT @ekecoding: VS Code Cheat Sheet (2020)\\n#We...\n",
      "user_id                                         1142424032794406912\n",
      "screen_name                                         CyberSecurityN8\n",
      "name                                            Cyber Security News\n",
      "statuses_count                                               257660\n",
      "retweet_count                                                    16\n",
      "source_url                                      https://homeinc.com\n",
      "Name: 60, dtype: object)\n",
      "(62, id                                              1268133097456963584\n",
      "lang                                                             en\n",
      "text              RT @ekecoding: VS Code Cheat Sheet (2020)\\n#We...\n",
      "user_id                                         1260062769543434240\n",
      "screen_name                                                nlognbot\n",
      "name                                                       nlognbot\n",
      "statuses_count                                                42632\n",
      "retweet_count                                                    16\n",
      "source_url                                         https://nlogn.in\n",
      "Name: 62, dtype: object)\n",
      "(58, id                                              1268133113248571392\n",
      "lang                                                             en\n",
      "text              RT @ekecoding: VS Code Cheat Sheet (2020)\\n#We...\n",
      "user_id                                         1250164632968298497\n",
      "screen_name                                         TheDeveloperBot\n",
      "name                                              The Developer Bot\n",
      "statuses_count                                                56666\n",
      "retweet_count                                                    16\n",
      "source_url                                 https://dreamsofimran.in\n",
      "Name: 58, dtype: object)\n",
      "(56, id                                              1268133114443792389\n",
      "lang                                                             en\n",
      "text              RT @ekecoding: VS Code Cheat Sheet (2020)\\n#We...\n",
      "user_id                                         1224163949957939201\n",
      "screen_name                                         learn__together\n",
      "name                                         Let's learn together 🤖\n",
      "statuses_count                                               229712\n",
      "retweet_count                                                    16\n",
      "source_url                      https://twitter.com/learn__together\n",
      "Name: 56, dtype: object)\n",
      "(55, id                                              1268133262880358401\n",
      "lang                                                             en\n",
      "text              RT @ekecoding: VS Code Cheat Sheet (2020)\\n#We...\n",
      "user_id                                                   310897418\n",
      "screen_name                                          AaronCuddeback\n",
      "name                                                Aaron Cuddeback\n",
      "statuses_count                                               856467\n",
      "retweet_count                                                    16\n",
      "source_url                                http://aaroncuddeback.com\n",
      "Name: 55, dtype: object)\n",
      "(54, id                                              1268133284782804992\n",
      "lang                                                             en\n",
      "text              RT @ekecoding: VS Code Cheat Sheet (2020)\\n#We...\n",
      "user_id                                         1266133633389060097\n",
      "screen_name                                               CodeGnuts\n",
      "name                                               Gnuts about Code\n",
      "statuses_count                                                16371\n",
      "retweet_count                                                    16\n",
      "source_url                                https://adam-spice.online\n",
      "Name: 54, dtype: object)\n",
      "(53, id                                              1268133345038184448\n",
      "lang                                                             en\n",
      "text              RT @ekecoding: VS Code Cheat Sheet (2020)\\n#We...\n",
      "user_id                                         1190726565073522694\n",
      "screen_name                                                LlnuxBot\n",
      "name                                                       LinuxBot\n",
      "statuses_count                                               267239\n",
      "retweet_count                                                    16\n",
      "source_url                                       https://techdox.nz\n",
      "Name: 53, dtype: object)\n",
      "(52, id                                              1268133418484858880\n",
      "lang                                                             en\n",
      "text              RT @ekecoding: VS Code Cheat Sheet (2020)\\n#We...\n",
      "user_id                                         1267176842856927233\n",
      "screen_name                                                ddcombot\n",
      "name                                       DevelopersDiscussion.com\n",
      "statuses_count                                                 5521\n",
      "retweet_count                                                    16\n",
      "source_url                                                     None\n",
      "Name: 52, dtype: object)\n",
      "(51, id                                              1268135129152708612\n",
      "lang                                                             en\n",
      "text              RT @ekecoding: VS Code Cheat Sheet (2020)\\n#We...\n",
      "user_id                                         1152052858721918977\n",
      "screen_name                                             LinuxDreams\n",
      "name                                                    LinuxDreams\n",
      "statuses_count                                               126506\n",
      "retweet_count                                                    16\n",
      "source_url                   https://avcourt.github.io/tiny-cluster\n",
      "Name: 51, dtype: object)\n",
      "(50, id                                              1268135466068398081\n",
      "lang                                                             en\n",
      "text              RT @ekecoding: VS Code Cheat Sheet (2020)\\n#We...\n",
      "user_id                                          985425300292022273\n",
      "screen_name                                         fullNam35087976\n",
      "name                                              akasatanahama.com\n",
      "statuses_count                                               135907\n",
      "retweet_count                                                    16\n",
      "source_url                               https://akasatanahama.com/\n",
      "Name: 50, dtype: object)\n",
      "(46, id                                              1268138860778795015\n",
      "lang                                                             en\n",
      "text              RT @ekecoding: VS Code Cheat Sheet (2020)\\n#We...\n",
      "user_id                                                  4863506745\n",
      "screen_name                                               qualystat\n",
      "name                                                          uh-oh\n",
      "statuses_count                                                 7606\n",
      "retweet_count                                                    16\n",
      "source_url                               http://www.korzenowski.com\n",
      "Name: 46, dtype: object)\n",
      "(57, id                                              1268133113600921600\n",
      "lang                                                             en\n",
      "text              RT @ekecoding: VS Code Cheat Sheet (2020)\\n#We...\n",
      "user_id                                         1018459979047624710\n",
      "screen_name                                               JSNewsBot\n",
      "name                                                        JS News\n",
      "statuses_count                                               153589\n",
      "retweet_count                                                    16\n",
      "source_url                          https://jsnewsbot.herokuapp.com\n",
      "Name: 57, dtype: object)\n",
      "(37, id                                              1268142019509211143\n",
      "lang                                                             en\n",
      "text              RT @kwasi_arhin_: @venikunche @DiversifyTechCo...\n",
      "user_id                                         1264189368253759489\n",
      "screen_name                                           KingdomPython\n",
      "name                                             The Python Kingdom\n",
      "statuses_count                                                 1099\n",
      "retweet_count                                                    13\n",
      "source_url                        https://twitter.com/KingdomPython\n",
      "Name: 37, dtype: object)\n",
      "(39, id                                              1268140055849205762\n",
      "lang                                                             en\n",
      "text              RT @kwasi_arhin_: @venikunche @DiversifyTechCo...\n",
      "user_id                                          940832638490894336\n",
      "screen_name                                               BlkHwk0ps\n",
      "name                         Coding for a better world. ¿Need help?\n",
      "statuses_count                                                49575\n",
      "retweet_count                                                    13\n",
      "source_url                            http://yoelijoserfeliz.com.mx\n",
      "Name: 39, dtype: object)\n",
      "(78, id                                              1268128056935399424\n",
      "lang                                                             en\n",
      "text              RT @wil_bielert: RT @dayus4heaven: Essential C...\n",
      "user_id                                         1131854274223366144\n",
      "screen_name                                          cybersec_feeds\n",
      "name                                            Cyber Security Feed\n",
      "statuses_count                                               854150\n",
      "retweet_count                                                    13\n",
      "source_url                      https://abdirahiimyassin.weebly.com\n",
      "Name: 78, dtype: object)\n",
      "(38, id                                              1268141993156370433\n",
      "lang                                                             en\n",
      "text              RT @kwasi_arhin_: @venikunche @DiversifyTechCo...\n",
      "user_id                                         1158109936146092033\n",
      "screen_name                                               AdamMico1\n",
      "name                                                      Adam Mico\n",
      "statuses_count                                                 4227\n",
      "retweet_count                                                    13\n",
      "source_url                               https://mobile.twitter.com\n",
      "Name: 38, dtype: object)\n",
      "(49, id                                              1268136382637019138\n",
      "lang                                                             en\n",
      "text              RT @kwasi_arhin_: @venikunche @DiversifyTechCo...\n",
      "user_id                                          963077280858697729\n",
      "screen_name                                                  ph055a\n",
      "name                                                         ph055a\n",
      "statuses_count                                                 2769\n",
      "retweet_count                                                    13\n",
      "source_url                               https://mobile.twitter.com\n",
      "Name: 49, dtype: object)\n",
      "(36, id                                              1268145113261379584\n",
      "lang                                                             en\n",
      "text              RT @kwasi_arhin_: @venikunche @DiversifyTechCo...\n",
      "user_id                                         1032460060998479872\n",
      "screen_name                                              Dev_Luismi\n",
      "name                                                         Luis ☢\n",
      "statuses_count                                                 2315\n",
      "retweet_count                                                    13\n",
      "source_url                               http://www.samruston.co.uk\n",
      "Name: 36, dtype: object)\n",
      "(72, id                                              1268128308572622849\n",
      "lang                                                             en\n",
      "text              RT @kwasi_arhin_: @venikunche @DiversifyTechCo...\n",
      "user_id                                                  3290570816\n",
      "screen_name                                            saleemrash1d\n",
      "name                                                  Saleem Rashid\n",
      "statuses_count                                                23641\n",
      "retweet_count                                                    13\n",
      "source_url                               https://mobile.twitter.com\n",
      "Name: 72, dtype: object)\n",
      "(35, id                                              1268145538110763008\n",
      "lang                                                             en\n",
      "text              RT @kwasi_arhin_: @venikunche @DiversifyTechCo...\n",
      "user_id                                         1183615367937253376\n",
      "screen_name                                         FredericRoland7\n",
      "name                                                Frederic Roland\n",
      "statuses_count                                                  234\n",
      "retweet_count                                                    13\n",
      "source_url                      http://twitter.com/download/android\n",
      "Name: 35, dtype: object)\n",
      "(41, id                                              1268139714500050944\n",
      "lang                                                             en\n",
      "text              RT @kwasi_arhin_: @venikunche @DiversifyTechCo...\n",
      "user_id                                                   297102985\n",
      "screen_name                                              venikunche\n",
      "name                                                    Veni Kunche\n",
      "statuses_count                                                21702\n",
      "retweet_count                                                    13\n",
      "source_url                               https://mobile.twitter.com\n",
      "Name: 41, dtype: object)\n",
      "(34, id                                              1268146695763869698\n",
      "lang                                                             en\n",
      "text              RT @kwasi_arhin_: @venikunche @DiversifyTechCo...\n",
      "user_id                                                    17433243\n",
      "screen_name                                                 dahlbys\n",
      "name                                                Samantha Dahlby\n",
      "statuses_count                                                 3539\n",
      "retweet_count                                                    13\n",
      "source_url                      http://twitter.com/download/android\n",
      "Name: 34, dtype: object)\n",
      "(40, id                                              1268139812084645889\n",
      "lang                                                             en\n",
      "text              RT @kwasi_arhin_: @venikunche @DiversifyTechCo...\n",
      "user_id                                                    31322694\n",
      "screen_name                                           ThatGoodTweet\n",
      "name                        What’s a King🤴🏾 without his Crown 🙇🏾‍♂️\n",
      "statuses_count                                                13021\n",
      "retweet_count                                                    13\n",
      "source_url                       http://twitter.com/download/iphone\n",
      "Name: 40, dtype: object)\n",
      "(31, id                                              1268151290296557568\n",
      "lang                                                             en\n",
      "text              RT @Deep_In_Depth: Awesome Julia Machine-Learn...\n",
      "user_id                                         1201368586398208000\n",
      "screen_name                                          Akrati69904291\n",
      "name                                                         akrati\n",
      "statuses_count                                                 1695\n",
      "retweet_count                                                     9\n",
      "source_url                                      https://www.abc.com\n",
      "Name: 31, dtype: object)\n",
      "(30, id                                              1268152364503990273\n",
      "lang                                                             en\n",
      "text              RT @Deep_In_Depth: Awesome Julia Machine-Learn...\n",
      "user_id                                         1261355507203203072\n",
      "screen_name                                          LearnWithHarry\n",
      "name                                                          Harry\n",
      "statuses_count                                                12523\n",
      "retweet_count                                                     9\n",
      "source_url                             https://notarealwebsite.nope\n",
      "Name: 30, dtype: object)\n",
      "(29, id                                              1268152396775129089\n",
      "lang                                                             en\n",
      "text              RT @Deep_In_Depth: Awesome Julia Machine-Learn...\n",
      "user_id                                         1257170815881228295\n",
      "screen_name                                            ML_Tweet_Bot\n",
      "name                                           Machine Learning Bot\n",
      "statuses_count                                                51890\n",
      "retweet_count                                                     9\n",
      "source_url                                     https://twitter.com/\n",
      "Name: 29, dtype: object)\n",
      "(71, id                                              1268128360737185798\n",
      "lang                                                             en\n",
      "text              RT @AI212news: OpenAI GPT-3 with 175 billion p...\n",
      "user_id                                                  2813035738\n",
      "screen_name                                                coding64\n",
      "name                                                       Coding64\n",
      "statuses_count                                                 1646\n",
      "retweet_count                                                     6\n",
      "source_url                               https://mobile.twitter.com\n",
      "Name: 71, dtype: object)\n",
      "(2, id                                              1268185258706505742\n",
      "lang                                                             en\n",
      "text              RT @odsc: Announcing AI+ Training by #ODSC. Le...\n",
      "user_id                                         1134668128489656320\n",
      "screen_name                                                 ShyBOT7\n",
      "name                                                        Shy BOT\n",
      "statuses_count                                                43765\n",
      "retweet_count                                                     3\n",
      "source_url                           https://digitalinspiration.com\n",
      "Name: 2, dtype: object)\n",
      "(14, id                                              1268174787123257346\n",
      "lang                                                             en\n",
      "text              RT @odsc: Announcing AI+ Training by #ODSC. Le...\n",
      "user_id                                                  3340145579\n",
      "screen_name                                            merit_bakare\n",
      "name                                                   meritvision.\n",
      "statuses_count                                                 3282\n",
      "retweet_count                                                     3\n",
      "source_url                       http://twitter.com/download/iphone\n",
      "Name: 14, dtype: object)\n",
      "(15, id                                              1268173088702836748\n",
      "lang                                                             en\n",
      "text              Announcing AI+ Training by #ODSC. Learn from a...\n",
      "user_id                                                  3018841323\n",
      "screen_name                                                    odsc\n",
      "name                                              Open Data Science\n",
      "statuses_count                                                43539\n",
      "retweet_count                                                     3\n",
      "source_url                                  http://www.hubspot.com/\n",
      "Name: 15, dtype: object)\n",
      "(13, id                                              1268175018866999300\n",
      "lang                                                             en\n",
      "text              RT @odsc: Announcing AI+ Training by #ODSC. Le...\n",
      "user_id                                                  2930520904\n",
      "screen_name                                         Woodywood4Woody\n",
      "name                                                        Jessica\n",
      "statuses_count                                                 2945\n",
      "retweet_count                                                     3\n",
      "source_url                               https://mobile.twitter.com\n",
      "Name: 13, dtype: object)\n",
      "(81, id                                              1268123674399305729\n",
      "lang                                                             en\n",
      "text              @tunguz I was surprised how painless pytorch i...\n",
      "user_id                                                   711326345\n",
      "screen_name                                              ATHARVBHAT\n",
      "name                                                    Atharv Bhat\n",
      "statuses_count                                                  652\n",
      "retweet_count                                                     0\n",
      "source_url                      http://twitter.com/download/android\n",
      "Name: 81, dtype: object)\n",
      "(47, id                                              1268137618518073347\n",
      "lang                                                             en\n",
      "text              Uhhn, for GANs, PyTorch seems ve suitable comp...\n",
      "user_id                                                  2697873409\n",
      "screen_name                                            Kohei_Dozono\n",
      "name                                               Kohei Dozono🇲🇾🇯🇵\n",
      "statuses_count                                                 1424\n",
      "retweet_count                                                     0\n",
      "source_url                               https://mobile.twitter.com\n",
      "Name: 47, dtype: object)\n"
     ]
    }
   ],
   "source": [
    "#tweet más popular\n",
    "for row in df.sort_values(by='retweet_count',ascending=False).iterrows():\n",
    "    print(row)"
   ]
  },
  {
   "cell_type": "code",
   "execution_count": 33,
   "metadata": {},
   "outputs": [
    {
     "data": {
      "text/plain": [
       "{'hashtags': [{'text': 'WebDev', 'indices': [46, 53]},\n",
       "  {'text': 'BigData', 'indices': [54, 62]},\n",
       "  {'text': 'Analytics', 'indices': [63, 73]},\n",
       "  {'text': 'DataScience', 'indices': [74, 86]},\n",
       "  {'text': 'CyberSecurity', 'indices': [87, 101]},\n",
       "  {'text': 'IoT', 'indices': [102, 106]},\n",
       "  {'text': 'IIoT', 'indices': [107, 112]},\n",
       "  {'text': 'PyTorch', 'indices': [113, 121]},\n",
       "  {'text': 'Python', 'indices': [122, 129]},\n",
       "  {'text': 'RStats', 'indices': [130, 137]}],\n",
       " 'symbols': [],\n",
       " 'user_mentions': [{'screen_name': 'EmmanuelTorty',\n",
       "   'name': 'Torty Emmanuel',\n",
       "   'id': 1474607317,\n",
       "   'id_str': '1474607317',\n",
       "   'indices': [3, 17]}],\n",
       " 'urls': []}"
      ]
     },
     "execution_count": 33,
     "metadata": {},
     "output_type": "execute_result"
    }
   ],
   "source": [
    "#entities me dice los hashtags, simbolos, menciones, etc...\n",
    "#tweet es el último tweet de tweets\n",
    "tweet.entities"
   ]
  },
  {
   "cell_type": "code",
   "execution_count": 34,
   "metadata": {},
   "outputs": [],
   "source": [
    "#contar los hashtags que hay en esos tweets\n",
    "contador = {}\n",
    "for tweet in tweets:\n",
    "    for hashtag in tweet.entities['hashtags']:\n",
    "        try:\n",
    "            contador[hashtag['text']] += 1\n",
    "        except KeyError: #en caso que no exista esa clave\n",
    "            contador[hashtag['text']] = 1\n",
    "        "
   ]
  },
  {
   "cell_type": "code",
   "execution_count": 35,
   "metadata": {},
   "outputs": [
    {
     "data": {
      "text/plain": [
       "{'WebDev': 59,\n",
       " 'BigData': 64,\n",
       " 'Analytics': 67,\n",
       " 'DataScience': 67,\n",
       " 'CyberSecurity': 58,\n",
       " 'IoT': 66,\n",
       " 'ODSC': 4,\n",
       " 'IIoT': 51,\n",
       " 'PyTorch': 39,\n",
       " 'Python': 35,\n",
       " 'RStats': 32,\n",
       " 'Programmer': 3,\n",
       " 'AI': 11,\n",
       " 'rstats': 6,\n",
       " 'TensorFlow': 6,\n",
       " 'javascript': 6,\n",
       " 'reactjs': 3,\n",
       " 'Cloud': 3,\n",
       " 'Serverless': 3,\n",
       " 'NodeJS': 3,\n",
       " 'Robots': 3,\n",
       " 'Robotics': 3,\n",
       " 'DL': 3,\n",
       " 'ML': 3,\n",
       " 'DeepLearning': 3,\n",
       " 'TechTwitter': 10,\n",
       " 'Selfies': 4,\n",
       " 'STEM': 4,\n",
       " 'Memes': 4,\n",
       " 'math': 4,\n",
       " 'science': 4,\n",
       " 'engineering': 4,\n",
       " 'cybersecurity': 4,\n",
       " 'artificialintelligence': 4,\n",
       " 'technology': 4,\n",
       " 'Azure': 2,\n",
       " 'MachineLearning': 2,\n",
       " 'GPT3': 1,\n",
       " 'Tensorflow': 1}"
      ]
     },
     "execution_count": 35,
     "metadata": {},
     "output_type": "execute_result"
    }
   ],
   "source": [
    "contador"
   ]
  },
  {
   "cell_type": "code",
   "execution_count": 58,
   "metadata": {},
   "outputs": [
    {
     "name": "stdout",
     "output_type": "stream",
     "text": [
      "[('GPT3', 1), ('Tensorflow', 1), ('Azure', 2), ('MachineLearning', 2), ('Programmer', 3), ('reactjs', 3), ('Cloud', 3), ('Serverless', 3), ('NodeJS', 3), ('Robots', 3), ('Robotics', 3), ('DL', 3), ('ML', 3), ('DeepLearning', 3), ('ODSC', 4), ('Selfies', 4), ('STEM', 4), ('Memes', 4), ('math', 4), ('science', 4), ('engineering', 4), ('cybersecurity', 4), ('artificialintelligence', 4), ('technology', 4), ('rstats', 6), ('TensorFlow', 6), ('javascript', 6), ('TechTwitter', 10), ('AI', 11), ('RStats', 32), ('Python', 35), ('PyTorch', 39), ('IIoT', 51), ('CyberSecurity', 58), ('WebDev', 59), ('BigData', 64), ('IoT', 66), ('Analytics', 67), ('DataScience', 67)]\n"
     ]
    }
   ],
   "source": [
    "#ordenar \n",
    "import operator\n",
    "sortedDict = sorted(contador.items(), key=operator.itemgetter(1))\n",
    "print(sortedDict)"
   ]
  },
  {
   "cell_type": "code",
   "execution_count": 123,
   "metadata": {},
   "outputs": [],
   "source": [
    "#preguntas:\n",
    "#que hashtags tienen más retweets\n",
    "#predecir retweets en función de los Hashtags"
   ]
  },
  {
   "cell_type": "code",
   "execution_count": 36,
   "metadata": {},
   "outputs": [
    {
     "data": {
      "text/plain": [
       "'GnutsBot'"
      ]
     },
     "execution_count": 36,
     "metadata": {},
     "output_type": "execute_result"
    }
   ],
   "source": [
    "tweet.source"
   ]
  },
  {
   "cell_type": "code",
   "execution_count": 37,
   "metadata": {},
   "outputs": [
    {
     "data": {
      "text/plain": [
       "'https://adam-spice.online'"
      ]
     },
     "execution_count": 37,
     "metadata": {},
     "output_type": "execute_result"
    }
   ],
   "source": [
    "tweet.source_url"
   ]
  },
  {
   "cell_type": "code",
   "execution_count": 38,
   "metadata": {},
   "outputs": [
    {
     "data": {
      "text/plain": [
       "0                 https://www.pointsofcontact.org\n",
       "1              http://twitter.com/download/iphone\n",
       "2                  https://digitalinspiration.com\n",
       "3             http://twitter.com/download/android\n",
       "4                       https://rishabhmishra.me/\n",
       "                         ...                     \n",
       "86                      https://adam-spice.online\n",
       "87    https://pralhadnasane1999.wixsite.com/tech7\n",
       "88                           https://twitter.com/\n",
       "89    https://pralhadnasane1999.wixsite.com/tech7\n",
       "90                      https://adam-spice.online\n",
       "Name: source_url, Length: 91, dtype: object"
      ]
     },
     "execution_count": 38,
     "metadata": {},
     "output_type": "execute_result"
    }
   ],
   "source": [
    "df.source_url"
   ]
  },
  {
   "cell_type": "code",
   "execution_count": 39,
   "metadata": {},
   "outputs": [
    {
     "data": {
      "text/plain": [
       "<matplotlib.axes._subplots.AxesSubplot at 0x7f8a09f036d0>"
      ]
     },
     "execution_count": 39,
     "metadata": {},
     "output_type": "execute_result"
    },
    {
     "data": {
      "image/png": "[encoded data removed]",
      "text/plain": [
       "<Figure size 432x288 with 1 Axes>"
      ]
     },
     "metadata": {
      "needs_background": "light"
     },
     "output_type": "display_data"
    }
   ],
   "source": [
    "df.source_url.hist()"
   ]
  },
  {
   "cell_type": "code",
   "execution_count": 41,
   "metadata": {},
   "outputs": [
    {
     "data": {
      "text/plain": [
       "0                 https://www.pointsofcontact.org\n",
       "1              http://twitter.com/download/iphone\n",
       "2                  https://digitalinspiration.com\n",
       "3             http://twitter.com/download/android\n",
       "4                       https://rishabhmishra.me/\n",
       "                         ...                     \n",
       "86                      https://adam-spice.online\n",
       "87    https://pralhadnasane1999.wixsite.com/tech7\n",
       "88                           https://twitter.com/\n",
       "89    https://pralhadnasane1999.wixsite.com/tech7\n",
       "90                      https://adam-spice.online\n",
       "Name: source_url, Length: 91, dtype: category\n",
       "Categories (35, object): [http://aaroncuddeback.com, http://localhost.com, http://twinybots.com, http://twitter.com/download/android, ..., https://www.abc.com, https://www.google.com, https://www.pointsofcontact.org, https://yathinbabu.github.io]"
      ]
     },
     "execution_count": 41,
     "metadata": {},
     "output_type": "execute_result"
    }
   ],
   "source": [
    "df.source_url.astype('category') #categorizar, es decir poner un valor numérico"
   ]
  },
  {
   "cell_type": "code",
   "execution_count": 42,
   "metadata": {},
   "outputs": [],
   "source": [
    "df['source_url_cat'] = df.source_url.astype('category')"
   ]
  },
  {
   "cell_type": "code",
   "execution_count": 43,
   "metadata": {},
   "outputs": [
    {
     "name": "stdout",
     "output_type": "stream",
     "text": [
      "<class 'pandas.core.frame.DataFrame'>\n",
      "RangeIndex: 91 entries, 0 to 90\n",
      "Data columns (total 10 columns):\n",
      " #   Column          Non-Null Count  Dtype   \n",
      "---  ------          --------------  -----   \n",
      " 0   id              91 non-null     int64   \n",
      " 1   lang            91 non-null     object  \n",
      " 2   text            91 non-null     object  \n",
      " 3   user_id         91 non-null     int64   \n",
      " 4   screen_name     91 non-null     object  \n",
      " 5   name            91 non-null     object  \n",
      " 6   statuses_count  91 non-null     int64   \n",
      " 7   retweet_count   91 non-null     int64   \n",
      " 8   source_url      85 non-null     object  \n",
      " 9   source_url_cat  85 non-null     category\n",
      "dtypes: category(1), int64(4), object(5)\n",
      "memory usage: 8.1+ KB\n"
     ]
    }
   ],
   "source": [
    "df.info()"
   ]
  },
  {
   "cell_type": "code",
   "execution_count": 44,
   "metadata": {},
   "outputs": [
    {
     "data": {
      "text/html": [
       "<div>\n",
       "<style scoped>\n",
       "    .dataframe tbody tr th:only-of-type {\n",
       "        vertical-align: middle;\n",
       "    }\n",
       "\n",
       "    .dataframe tbody tr th {\n",
       "        vertical-align: top;\n",
       "    }\n",
       "\n",
       "    .dataframe thead th {\n",
       "        text-align: right;\n",
       "    }\n",
       "</style>\n",
       "<table border=\"1\" class=\"dataframe\">\n",
       "  <thead>\n",
       "    <tr style=\"text-align: right;\">\n",
       "      <th></th>\n",
       "      <th>id</th>\n",
       "      <th>user_id</th>\n",
       "      <th>statuses_count</th>\n",
       "      <th>retweet_count</th>\n",
       "    </tr>\n",
       "  </thead>\n",
       "  <tbody>\n",
       "    <tr>\n",
       "      <th>count</th>\n",
       "      <td>9.100000e+01</td>\n",
       "      <td>9.100000e+01</td>\n",
       "      <td>9.100000e+01</td>\n",
       "      <td>91.000000</td>\n",
       "    </tr>\n",
       "    <tr>\n",
       "      <th>mean</th>\n",
       "      <td>1.268146e+18</td>\n",
       "      <td>8.219758e+17</td>\n",
       "      <td>1.517757e+05</td>\n",
       "      <td>154.857143</td>\n",
       "    </tr>\n",
       "    <tr>\n",
       "      <th>std</th>\n",
       "      <td>2.081332e+13</td>\n",
       "      <td>5.049602e+17</td>\n",
       "      <td>3.288760e+05</td>\n",
       "      <td>323.377955</td>\n",
       "    </tr>\n",
       "    <tr>\n",
       "      <th>min</th>\n",
       "      <td>1.268118e+18</td>\n",
       "      <td>1.743324e+07</td>\n",
       "      <td>6.000000e+00</td>\n",
       "      <td>0.000000</td>\n",
       "    </tr>\n",
       "    <tr>\n",
       "      <th>25%</th>\n",
       "      <td>1.268129e+18</td>\n",
       "      <td>3.550619e+17</td>\n",
       "      <td>3.495500e+03</td>\n",
       "      <td>16.000000</td>\n",
       "    </tr>\n",
       "    <tr>\n",
       "      <th>50%</th>\n",
       "      <td>1.268139e+18</td>\n",
       "      <td>1.032460e+18</td>\n",
       "      <td>1.637100e+04</td>\n",
       "      <td>24.000000</td>\n",
       "    </tr>\n",
       "    <tr>\n",
       "      <th>75%</th>\n",
       "      <td>1.268165e+18</td>\n",
       "      <td>1.226628e+18</td>\n",
       "      <td>1.447480e+05</td>\n",
       "      <td>60.000000</td>\n",
       "    </tr>\n",
       "    <tr>\n",
       "      <th>max</th>\n",
       "      <td>1.268192e+18</td>\n",
       "      <td>1.268118e+18</td>\n",
       "      <td>1.829643e+06</td>\n",
       "      <td>978.000000</td>\n",
       "    </tr>\n",
       "  </tbody>\n",
       "</table>\n",
       "</div>"
      ],
      "text/plain": [
       "                 id       user_id  statuses_count  retweet_count\n",
       "count  9.100000e+01  9.100000e+01    9.100000e+01      91.000000\n",
       "mean   1.268146e+18  8.219758e+17    1.517757e+05     154.857143\n",
       "std    2.081332e+13  5.049602e+17    3.288760e+05     323.377955\n",
       "min    1.268118e+18  1.743324e+07    6.000000e+00       0.000000\n",
       "25%    1.268129e+18  3.550619e+17    3.495500e+03      16.000000\n",
       "50%    1.268139e+18  1.032460e+18    1.637100e+04      24.000000\n",
       "75%    1.268165e+18  1.226628e+18    1.447480e+05      60.000000\n",
       "max    1.268192e+18  1.268118e+18    1.829643e+06     978.000000"
      ]
     },
     "execution_count": 44,
     "metadata": {},
     "output_type": "execute_result"
    }
   ],
   "source": [
    "df.describe()"
   ]
  },
  {
   "cell_type": "code",
   "execution_count": 45,
   "metadata": {},
   "outputs": [],
   "source": [
    "df.to_excel('tweets.xlsx')"
   ]
  },
  {
   "cell_type": "code",
   "execution_count": 46,
   "metadata": {},
   "outputs": [],
   "source": [
    "df.to_csv('tweets.csv')"
   ]
  },
  {
   "cell_type": "code",
   "execution_count": 47,
   "metadata": {},
   "outputs": [],
   "source": [
    "df2=df"
   ]
  },
  {
   "cell_type": "code",
   "execution_count": 48,
   "metadata": {},
   "outputs": [],
   "source": [
    "#añado más filas al csv\n",
    "df2.to_csv('tweets.csv',header=False,mode='a')"
   ]
  },
  {
   "cell_type": "code",
   "execution_count": 49,
   "metadata": {},
   "outputs": [],
   "source": [
    "df.to_json('tweets.json')"
   ]
  },
  {
   "cell_type": "code",
   "execution_count": 51,
   "metadata": {},
   "outputs": [],
   "source": [
    "import pickle\n",
    "with open('tweets.pkl','wb') as f:\n",
    "    pickle.dump(tweet, f)"
   ]
  },
  {
   "cell_type": "code",
   "execution_count": 52,
   "metadata": {},
   "outputs": [],
   "source": [
    "#para recuperar los datos"
   ]
  },
  {
   "cell_type": "code",
   "execution_count": 53,
   "metadata": {},
   "outputs": [
    {
     "name": "stdout",
     "output_type": "stream",
     "text": [
      "<class 'pandas.core.frame.DataFrame'>\n",
      "RangeIndex: 182 entries, 0 to 181\n",
      "Data columns (total 11 columns):\n",
      " #   Column          Non-Null Count  Dtype \n",
      "---  ------          --------------  ----- \n",
      " 0   Unnamed: 0      182 non-null    int64 \n",
      " 1   id              182 non-null    int64 \n",
      " 2   lang            182 non-null    object\n",
      " 3   text            182 non-null    object\n",
      " 4   user_id         182 non-null    int64 \n",
      " 5   screen_name     182 non-null    object\n",
      " 6   name            182 non-null    object\n",
      " 7   statuses_count  182 non-null    int64 \n",
      " 8   retweet_count   182 non-null    int64 \n",
      " 9   source_url      170 non-null    object\n",
      " 10  source_url_cat  170 non-null    object\n",
      "dtypes: int64(5), object(6)\n",
      "memory usage: 15.8+ KB\n"
     ]
    }
   ],
   "source": [
    "csv_fn = 'tweets.csv'\n",
    "df = pd.read_csv(csv_fn)\n",
    "df.info()"
   ]
  },
  {
   "cell_type": "code",
   "execution_count": 54,
   "metadata": {},
   "outputs": [
    {
     "data": {
      "text/plain": [
       "dict"
      ]
     },
     "execution_count": 54,
     "metadata": {},
     "output_type": "execute_result"
    }
   ],
   "source": [
    "type(contador)"
   ]
  },
  {
   "cell_type": "code",
   "execution_count": null,
   "metadata": {},
   "outputs": [],
   "source": []
  }
 ],
 "metadata": {
  "kernelspec": {
   "display_name": "Python 3",
   "language": "python",
   "name": "python3"
  },
  "language_info": {
   "codemirror_mode": {
    "name": "ipython",
    "version": 3
   },
   "file_extension": ".py",
   "mimetype": "text/x-python",
   "name": "python",
   "nbconvert_exporter": "python",
   "pygments_lexer": "ipython3",
   "version": "3.7.7"
  }
 },
 "nbformat": 4,
 "nbformat_minor": 4
}
