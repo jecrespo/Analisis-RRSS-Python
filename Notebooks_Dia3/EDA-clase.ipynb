{
 "cells": [
  {
   "cell_type": "code",
   "execution_count": 1,
   "metadata": {},
   "outputs": [],
   "source": [
    "import tweepy\n",
    "from twitter_secrets import CONSUMER_KEY, CONSUMER_SECRET, ACCESS_TOKEN, ACCESS_TOKEN_SECRET"
   ]
  },
  {
   "cell_type": "code",
   "execution_count": 2,
   "metadata": {},
   "outputs": [],
   "source": [
    "auth = tweepy.OAuthHandler(CONSUMER_KEY, CONSUMER_SECRET)\n",
    "auth.set_access_token(ACCESS_TOKEN, ACCESS_TOKEN_SECRET)\n",
    "\n",
    "api = tweepy.API(auth)"
   ]
  },
  {
   "cell_type": "code",
   "execution_count": 67,
   "metadata": {},
   "outputs": [],
   "source": [
    "tweets = api.search(q='Tensorflow,Pytorch', lang='en', count=100)"
   ]
  },
  {
   "cell_type": "code",
   "execution_count": 68,
   "metadata": {},
   "outputs": [
    {
     "data": {
      "text/plain": [
       "98"
      ]
     },
     "execution_count": 68,
     "metadata": {},
     "output_type": "execute_result"
    }
   ],
   "source": [
    "len(tweets)"
   ]
  },
  {
   "cell_type": "code",
   "execution_count": null,
   "metadata": {},
   "outputs": [],
   "source": [
    "for tweet in tweets:\n",
    "    print(tweet.user.screen_name, tweet.text)\n",
    "tweet = tweets[0]\n"
   ]
  },
  {
   "cell_type": "code",
   "execution_count": 44,
   "metadata": {},
   "outputs": [
    {
     "data": {
      "text/plain": [
       "User(_api=<tweepy.api.API object at 0x000001B44E3DDB88>, _json={'id': 868084744763965443, 'id_str': '868084744763965443', 'name': 'IoT Worlds', 'screen_name': 'iotworlds', 'location': 'Earth', 'description': 'Discover the IoT devices, technologies and solutions. Create your smart world. Boost your business. ENGINEERING – MANAGEMENT – DIGITAL MARKETING #IoT #IoTWorlds', 'url': 'https://t.co/yAbD7BqoXI', 'entities': {'url': {'urls': [{'url': 'https://t.co/yAbD7BqoXI', 'expanded_url': 'http://www.iotworlds.com', 'display_url': 'iotworlds.com', 'indices': [0, 23]}]}, 'description': {'urls': []}}, 'protected': False, 'followers_count': 7853, 'friends_count': 5583, 'listed_count': 80, 'created_at': 'Fri May 26 12:41:46 +0000 2017', 'favourites_count': 13280, 'utc_offset': None, 'time_zone': None, 'geo_enabled': False, 'verified': False, 'statuses_count': 39988, 'lang': None, 'contributors_enabled': False, 'is_translator': False, 'is_translation_enabled': False, 'profile_background_color': 'F5F8FA', 'profile_background_image_url': None, 'profile_background_image_url_https': None, 'profile_background_tile': False, 'profile_image_url': 'http://pbs.twimg.com/profile_images/868112926753816576/fMXYcA5j_normal.jpg', 'profile_image_url_https': 'https://pbs.twimg.com/profile_images/868112926753816576/fMXYcA5j_normal.jpg', 'profile_banner_url': 'https://pbs.twimg.com/profile_banners/868084744763965443/1495809280', 'profile_link_color': '1DA1F2', 'profile_sidebar_border_color': 'C0DEED', 'profile_sidebar_fill_color': 'DDEEF6', 'profile_text_color': '333333', 'profile_use_background_image': True, 'has_extended_profile': True, 'default_profile': True, 'default_profile_image': False, 'following': False, 'follow_request_sent': False, 'notifications': False, 'translator_type': 'none'}, id=868084744763965443, id_str='868084744763965443', name='IoT Worlds', screen_name='iotworlds', location='Earth', description='Discover the IoT devices, technologies and solutions. Create your smart world. Boost your business. ENGINEERING – MANAGEMENT – DIGITAL MARKETING #IoT #IoTWorlds', url='https://t.co/yAbD7BqoXI', entities={'url': {'urls': [{'url': 'https://t.co/yAbD7BqoXI', 'expanded_url': 'http://www.iotworlds.com', 'display_url': 'iotworlds.com', 'indices': [0, 23]}]}, 'description': {'urls': []}}, protected=False, followers_count=7853, friends_count=5583, listed_count=80, created_at=datetime.datetime(2017, 5, 26, 12, 41, 46), favourites_count=13280, utc_offset=None, time_zone=None, geo_enabled=False, verified=False, statuses_count=39988, lang=None, contributors_enabled=False, is_translator=False, is_translation_enabled=False, profile_background_color='F5F8FA', profile_background_image_url=None, profile_background_image_url_https=None, profile_background_tile=False, profile_image_url='http://pbs.twimg.com/profile_images/868112926753816576/fMXYcA5j_normal.jpg', profile_image_url_https='https://pbs.twimg.com/profile_images/868112926753816576/fMXYcA5j_normal.jpg', profile_banner_url='https://pbs.twimg.com/profile_banners/868084744763965443/1495809280', profile_link_color='1DA1F2', profile_sidebar_border_color='C0DEED', profile_sidebar_fill_color='DDEEF6', profile_text_color='333333', profile_use_background_image=True, has_extended_profile=True, default_profile=True, default_profile_image=False, following=False, follow_request_sent=False, notifications=False, translator_type='none')"
      ]
     },
     "execution_count": 44,
     "metadata": {},
     "output_type": "execute_result"
    }
   ],
   "source": [
    "tweet.user"
   ]
  },
  {
   "cell_type": "code",
   "execution_count": null,
   "metadata": {},
   "outputs": [],
   "source": [
    "tweet.user._json"
   ]
  },
  {
   "cell_type": "code",
   "execution_count": 46,
   "metadata": {},
   "outputs": [
    {
     "data": {
      "text/plain": [
       "{'created_at': 'Wed May 27 15:14:59 +0000 2020',\n",
       " 'id': 1265662794134945792,\n",
       " 'id_str': '1265662794134945792',\n",
       " 'text': 'RT @dayus4heaven: Python Essential Cheat Sheet for your use.\\n#WebDev #BigData #Analytics #DataScience #CyberSecurity #IoT #IIoT #PyTorch #P…',\n",
       " 'truncated': False,\n",
       " 'entities': {'hashtags': [{'text': 'WebDev', 'indices': [61, 68]},\n",
       "   {'text': 'BigData', 'indices': [69, 77]},\n",
       "   {'text': 'Analytics', 'indices': [78, 88]},\n",
       "   {'text': 'DataScience', 'indices': [89, 101]},\n",
       "   {'text': 'CyberSecurity', 'indices': [102, 116]},\n",
       "   {'text': 'IoT', 'indices': [117, 121]},\n",
       "   {'text': 'IIoT', 'indices': [122, 127]},\n",
       "   {'text': 'PyTorch', 'indices': [128, 136]}],\n",
       "  'symbols': [],\n",
       "  'user_mentions': [{'screen_name': 'dayus4heaven',\n",
       "    'name': 'Adedayo #BreakingBarriers',\n",
       "    'id': 795524725,\n",
       "    'id_str': '795524725',\n",
       "    'indices': [3, 16]}],\n",
       "  'urls': []},\n",
       " 'metadata': {'iso_language_code': 'en', 'result_type': 'recent'},\n",
       " 'source': '<a href=\"https://mobile.twitter.com\" rel=\"nofollow\">Mobile Web (M2)</a>',\n",
       " 'in_reply_to_status_id': None,\n",
       " 'in_reply_to_status_id_str': None,\n",
       " 'in_reply_to_user_id': None,\n",
       " 'in_reply_to_user_id_str': None,\n",
       " 'in_reply_to_screen_name': None,\n",
       " 'user': {'id': 868084744763965443,\n",
       "  'id_str': '868084744763965443',\n",
       "  'name': 'IoT Worlds',\n",
       "  'screen_name': 'iotworlds',\n",
       "  'location': 'Earth',\n",
       "  'description': 'Discover the IoT devices, technologies and solutions. Create your smart world. Boost your business. ENGINEERING – MANAGEMENT – DIGITAL MARKETING #IoT #IoTWorlds',\n",
       "  'url': 'https://t.co/yAbD7BqoXI',\n",
       "  'entities': {'url': {'urls': [{'url': 'https://t.co/yAbD7BqoXI',\n",
       "      'expanded_url': 'http://www.iotworlds.com',\n",
       "      'display_url': 'iotworlds.com',\n",
       "      'indices': [0, 23]}]},\n",
       "   'description': {'urls': []}},\n",
       "  'protected': False,\n",
       "  'followers_count': 7853,\n",
       "  'friends_count': 5583,\n",
       "  'listed_count': 80,\n",
       "  'created_at': 'Fri May 26 12:41:46 +0000 2017',\n",
       "  'favourites_count': 13280,\n",
       "  'utc_offset': None,\n",
       "  'time_zone': None,\n",
       "  'geo_enabled': False,\n",
       "  'verified': False,\n",
       "  'statuses_count': 39988,\n",
       "  'lang': None,\n",
       "  'contributors_enabled': False,\n",
       "  'is_translator': False,\n",
       "  'is_translation_enabled': False,\n",
       "  'profile_background_color': 'F5F8FA',\n",
       "  'profile_background_image_url': None,\n",
       "  'profile_background_image_url_https': None,\n",
       "  'profile_background_tile': False,\n",
       "  'profile_image_url': 'http://pbs.twimg.com/profile_images/868112926753816576/fMXYcA5j_normal.jpg',\n",
       "  'profile_image_url_https': 'https://pbs.twimg.com/profile_images/868112926753816576/fMXYcA5j_normal.jpg',\n",
       "  'profile_banner_url': 'https://pbs.twimg.com/profile_banners/868084744763965443/1495809280',\n",
       "  'profile_link_color': '1DA1F2',\n",
       "  'profile_sidebar_border_color': 'C0DEED',\n",
       "  'profile_sidebar_fill_color': 'DDEEF6',\n",
       "  'profile_text_color': '333333',\n",
       "  'profile_use_background_image': True,\n",
       "  'has_extended_profile': True,\n",
       "  'default_profile': True,\n",
       "  'default_profile_image': False,\n",
       "  'following': False,\n",
       "  'follow_request_sent': False,\n",
       "  'notifications': False,\n",
       "  'translator_type': 'none'},\n",
       " 'geo': None,\n",
       " 'coordinates': None,\n",
       " 'place': None,\n",
       " 'contributors': None,\n",
       " 'retweeted_status': {'created_at': 'Mon May 25 11:46:19 +0000 2020',\n",
       "  'id': 1264885506363531264,\n",
       "  'id_str': '1264885506363531264',\n",
       "  'text': 'Python Essential Cheat Sheet for your use.\\n#WebDev #BigData #Analytics #DataScience #CyberSecurity #IoT #IIoT… https://t.co/Yv6LuI959H',\n",
       "  'truncated': True,\n",
       "  'entities': {'hashtags': [{'text': 'WebDev', 'indices': [43, 50]},\n",
       "    {'text': 'BigData', 'indices': [51, 59]},\n",
       "    {'text': 'Analytics', 'indices': [60, 70]},\n",
       "    {'text': 'DataScience', 'indices': [71, 83]},\n",
       "    {'text': 'CyberSecurity', 'indices': [84, 98]},\n",
       "    {'text': 'IoT', 'indices': [99, 103]},\n",
       "    {'text': 'IIoT', 'indices': [104, 109]}],\n",
       "   'symbols': [],\n",
       "   'user_mentions': [],\n",
       "   'urls': [{'url': 'https://t.co/Yv6LuI959H',\n",
       "     'expanded_url': 'https://twitter.com/i/web/status/1264885506363531264',\n",
       "     'display_url': 'twitter.com/i/web/status/1…',\n",
       "     'indices': [111, 134]}]},\n",
       "  'metadata': {'iso_language_code': 'en', 'result_type': 'recent'},\n",
       "  'source': '<a href=\"http://twitter.com/download/iphone\" rel=\"nofollow\">Twitter for iPhone</a>',\n",
       "  'in_reply_to_status_id': None,\n",
       "  'in_reply_to_status_id_str': None,\n",
       "  'in_reply_to_user_id': None,\n",
       "  'in_reply_to_user_id_str': None,\n",
       "  'in_reply_to_screen_name': None,\n",
       "  'user': {'id': 795524725,\n",
       "   'id_str': '795524725',\n",
       "   'name': 'Adedayo #BreakingBarriers',\n",
       "   'screen_name': 'dayus4heaven',\n",
       "   'location': 'Lagos, Nigeria',\n",
       "   'description': '#DataScientist, #Python #programmer, Curator: #BreakingBarriers Deedee’s Husband ❤️ https://t.co/LDlABYZzGV, https://t.co/Bi0QSlFKJe',\n",
       "   'url': 'https://t.co/huqfZ2QR23',\n",
       "   'entities': {'url': {'urls': [{'url': 'https://t.co/huqfZ2QR23',\n",
       "       'expanded_url': 'http://unleashidea.wordpress.com',\n",
       "       'display_url': 'unleashidea.wordpress.com',\n",
       "       'indices': [0, 23]}]},\n",
       "    'description': {'urls': [{'url': 'https://t.co/LDlABYZzGV',\n",
       "       'expanded_url': 'https://medium.com/@dayus4heaven',\n",
       "       'display_url': 'medium.com/@dayus4heaven',\n",
       "       'indices': [84, 107]},\n",
       "      {'url': 'https://t.co/Bi0QSlFKJe',\n",
       "       'expanded_url': 'https://github.com/dayus4heaven',\n",
       "       'display_url': 'github.com/dayus4heaven',\n",
       "       'indices': [109, 132]}]}},\n",
       "   'protected': False,\n",
       "   'followers_count': 5410,\n",
       "   'friends_count': 3111,\n",
       "   'listed_count': 97,\n",
       "   'created_at': 'Sat Sep 01 07:05:42 +0000 2012',\n",
       "   'favourites_count': 10663,\n",
       "   'utc_offset': None,\n",
       "   'time_zone': None,\n",
       "   'geo_enabled': True,\n",
       "   'verified': False,\n",
       "   'statuses_count': 66487,\n",
       "   'lang': None,\n",
       "   'contributors_enabled': False,\n",
       "   'is_translator': False,\n",
       "   'is_translation_enabled': False,\n",
       "   'profile_background_color': 'C0DEED',\n",
       "   'profile_background_image_url': 'http://abs.twimg.com/images/themes/theme1/bg.png',\n",
       "   'profile_background_image_url_https': 'https://abs.twimg.com/images/themes/theme1/bg.png',\n",
       "   'profile_background_tile': False,\n",
       "   'profile_image_url': 'http://pbs.twimg.com/profile_images/1253114467812020226/Fi50XGyU_normal.jpg',\n",
       "   'profile_image_url_https': 'https://pbs.twimg.com/profile_images/1253114467812020226/Fi50XGyU_normal.jpg',\n",
       "   'profile_banner_url': 'https://pbs.twimg.com/profile_banners/795524725/1382183555',\n",
       "   'profile_link_color': '1DA1F2',\n",
       "   'profile_sidebar_border_color': 'C0DEED',\n",
       "   'profile_sidebar_fill_color': 'DDEEF6',\n",
       "   'profile_text_color': '333333',\n",
       "   'profile_use_background_image': True,\n",
       "   'has_extended_profile': True,\n",
       "   'default_profile': True,\n",
       "   'default_profile_image': False,\n",
       "   'following': False,\n",
       "   'follow_request_sent': False,\n",
       "   'notifications': False,\n",
       "   'translator_type': 'none'},\n",
       "  'geo': None,\n",
       "  'coordinates': None,\n",
       "  'place': None,\n",
       "  'contributors': None,\n",
       "  'is_quote_status': False,\n",
       "  'retweet_count': 57,\n",
       "  'favorite_count': 54,\n",
       "  'favorited': False,\n",
       "  'retweeted': False,\n",
       "  'possibly_sensitive': False,\n",
       "  'lang': 'en'},\n",
       " 'is_quote_status': False,\n",
       " 'retweet_count': 57,\n",
       " 'favorite_count': 0,\n",
       " 'favorited': False,\n",
       " 'retweeted': False,\n",
       " 'lang': 'en'}"
      ]
     },
     "execution_count": 46,
     "metadata": {},
     "output_type": "execute_result"
    }
   ],
   "source": [
    "tweet._json"
   ]
  },
  {
   "cell_type": "code",
   "execution_count": 47,
   "metadata": {},
   "outputs": [],
   "source": [
    "l = [1, 2, 3, 4]"
   ]
  },
  {
   "cell_type": "code",
   "execution_count": 48,
   "metadata": {},
   "outputs": [],
   "source": [
    "m = [[1, 2], [3, 4]]"
   ]
  },
  {
   "cell_type": "code",
   "execution_count": 49,
   "metadata": {},
   "outputs": [
    {
     "data": {
      "text/plain": [
       "[[1, 2], [3, 4]]"
      ]
     },
     "execution_count": 49,
     "metadata": {},
     "output_type": "execute_result"
    }
   ],
   "source": [
    "m"
   ]
  },
  {
   "cell_type": "code",
   "execution_count": 50,
   "metadata": {},
   "outputs": [],
   "source": [
    "import numpy as np\n",
    "A = np.array(m)"
   ]
  },
  {
   "cell_type": "code",
   "execution_count": 51,
   "metadata": {},
   "outputs": [
    {
     "data": {
      "text/plain": [
       "array([[1, 2],\n",
       "       [3, 4]])"
      ]
     },
     "execution_count": 51,
     "metadata": {},
     "output_type": "execute_result"
    }
   ],
   "source": [
    "A"
   ]
  },
  {
   "cell_type": "code",
   "execution_count": 52,
   "metadata": {},
   "outputs": [
    {
     "data": {
      "text/plain": [
       "array([2, 4])"
      ]
     },
     "execution_count": 52,
     "metadata": {},
     "output_type": "execute_result"
    }
   ],
   "source": [
    "A[:,1]"
   ]
  },
  {
   "cell_type": "code",
   "execution_count": 53,
   "metadata": {},
   "outputs": [
    {
     "data": {
      "text/plain": [
       "array([3, 4])"
      ]
     },
     "execution_count": 53,
     "metadata": {},
     "output_type": "execute_result"
    }
   ],
   "source": [
    "A[-1, :]"
   ]
  },
  {
   "cell_type": "code",
   "execution_count": 54,
   "metadata": {},
   "outputs": [],
   "source": [
    "import pandas as pd"
   ]
  },
  {
   "cell_type": "code",
   "execution_count": 99,
   "metadata": {},
   "outputs": [],
   "source": [
    "datos = []\n",
    "for tweet in tweets:\n",
    "    d = {'id': tweet.id,\n",
    "         'lang': tweet.lang,\n",
    "         'text': tweet.text,\n",
    "         'user_id': tweet.user.id,\n",
    "         'screen_name': tweet.user.screen_name,\n",
    "         'name': tweet.user.name,\n",
    "         'statuses_count': tweet.user.statuses_count,\n",
    "         'retweet_count': tweet.retweet_count,\n",
    "         'source_url': tweet.source_url\n",
    "    }\n",
    "    datos.append(d)"
   ]
  },
  {
   "cell_type": "code",
   "execution_count": 100,
   "metadata": {},
   "outputs": [],
   "source": [
    "df = pd.DataFrame(datos)"
   ]
  },
  {
   "cell_type": "code",
   "execution_count": 101,
   "metadata": {},
   "outputs": [
    {
     "name": "stdout",
     "output_type": "stream",
     "text": [
      "<class 'pandas.core.frame.DataFrame'>\n",
      "RangeIndex: 98 entries, 0 to 97\n",
      "Data columns (total 9 columns):\n",
      " #   Column          Non-Null Count  Dtype \n",
      "---  ------          --------------  ----- \n",
      " 0   id              98 non-null     int64 \n",
      " 1   lang            98 non-null     object\n",
      " 2   text            98 non-null     object\n",
      " 3   user_id         98 non-null     int64 \n",
      " 4   screen_name     98 non-null     object\n",
      " 5   name            98 non-null     object\n",
      " 6   statuses_count  98 non-null     int64 \n",
      " 7   retweet_count   98 non-null     int64 \n",
      " 8   source_url      98 non-null     object\n",
      "dtypes: int64(4), object(5)\n",
      "memory usage: 7.0+ KB\n"
     ]
    }
   ],
   "source": [
    "df.info()"
   ]
  },
  {
   "cell_type": "code",
   "execution_count": 102,
   "metadata": {},
   "outputs": [
    {
     "data": {
      "text/html": [
       "<div>\n",
       "<style scoped>\n",
       "    .dataframe tbody tr th:only-of-type {\n",
       "        vertical-align: middle;\n",
       "    }\n",
       "\n",
       "    .dataframe tbody tr th {\n",
       "        vertical-align: top;\n",
       "    }\n",
       "\n",
       "    .dataframe thead th {\n",
       "        text-align: right;\n",
       "    }\n",
       "</style>\n",
       "<table border=\"1\" class=\"dataframe\">\n",
       "  <thead>\n",
       "    <tr style=\"text-align: right;\">\n",
       "      <th></th>\n",
       "      <th>id</th>\n",
       "      <th>lang</th>\n",
       "      <th>text</th>\n",
       "      <th>user_id</th>\n",
       "      <th>screen_name</th>\n",
       "      <th>name</th>\n",
       "      <th>statuses_count</th>\n",
       "      <th>retweet_count</th>\n",
       "      <th>source_url</th>\n",
       "    </tr>\n",
       "  </thead>\n",
       "  <tbody>\n",
       "    <tr>\n",
       "      <th>0</th>\n",
       "      <td>1265667254873739264</td>\n",
       "      <td>en</td>\n",
       "      <td>RT @patri_vaquero_: 🔬 Colab Pro: Is it Worth t...</td>\n",
       "      <td>1264897037742505985</td>\n",
       "      <td>_awesomecoder</td>\n",
       "      <td>Awesome Coder</td>\n",
       "      <td>33</td>\n",
       "      <td>13</td>\n",
       "      <td>https://dephraiim.github.io</td>\n",
       "    </tr>\n",
       "    <tr>\n",
       "      <th>1</th>\n",
       "      <td>1265667246837424129</td>\n",
       "      <td>en</td>\n",
       "      <td>RT @patri_vaquero_: 🔬 Colab Pro: Is it Worth t...</td>\n",
       "      <td>955039188264603648</td>\n",
       "      <td>CloudCoopItaly</td>\n",
       "      <td>CloudCoop ☁️</td>\n",
       "      <td>14975</td>\n",
       "      <td>13</td>\n",
       "      <td>http://www.cloudcoop.it</td>\n",
       "    </tr>\n",
       "    <tr>\n",
       "      <th>2</th>\n",
       "      <td>1265667132043309057</td>\n",
       "      <td>en</td>\n",
       "      <td>RT @patri_vaquero_: 🔬 Colab Pro: Is it Worth t...</td>\n",
       "      <td>1242050244285624320</td>\n",
       "      <td>ndroid_techk</td>\n",
       "      <td>Ndroid Technology</td>\n",
       "      <td>4131</td>\n",
       "      <td>13</td>\n",
       "      <td>http://ndroid.online</td>\n",
       "    </tr>\n",
       "    <tr>\n",
       "      <th>3</th>\n",
       "      <td>1265665079321587712</td>\n",
       "      <td>en</td>\n",
       "      <td>RT @patri_vaquero_: 🔬 Awesome Cheat Sheets for...</td>\n",
       "      <td>1190726565073522694</td>\n",
       "      <td>LlnuxBot</td>\n",
       "      <td>LinuxBot</td>\n",
       "      <td>256851</td>\n",
       "      <td>85</td>\n",
       "      <td>https://techdox.nz</td>\n",
       "    </tr>\n",
       "    <tr>\n",
       "      <th>4</th>\n",
       "      <td>1265665055368118276</td>\n",
       "      <td>en</td>\n",
       "      <td>RT @patri_vaquero_: 🔬 Awesome Cheat Sheets for...</td>\n",
       "      <td>1260062769543434240</td>\n",
       "      <td>nlognbot</td>\n",
       "      <td>nlognbot</td>\n",
       "      <td>28780</td>\n",
       "      <td>85</td>\n",
       "      <td>https://nlogn.in</td>\n",
       "    </tr>\n",
       "  </tbody>\n",
       "</table>\n",
       "</div>"
      ],
      "text/plain": [
       "                    id lang  \\\n",
       "0  1265667254873739264   en   \n",
       "1  1265667246837424129   en   \n",
       "2  1265667132043309057   en   \n",
       "3  1265665079321587712   en   \n",
       "4  1265665055368118276   en   \n",
       "\n",
       "                                                text              user_id  \\\n",
       "0  RT @patri_vaquero_: 🔬 Colab Pro: Is it Worth t...  1264897037742505985   \n",
       "1  RT @patri_vaquero_: 🔬 Colab Pro: Is it Worth t...   955039188264603648   \n",
       "2  RT @patri_vaquero_: 🔬 Colab Pro: Is it Worth t...  1242050244285624320   \n",
       "3  RT @patri_vaquero_: 🔬 Awesome Cheat Sheets for...  1190726565073522694   \n",
       "4  RT @patri_vaquero_: 🔬 Awesome Cheat Sheets for...  1260062769543434240   \n",
       "\n",
       "      screen_name               name  statuses_count  retweet_count  \\\n",
       "0   _awesomecoder      Awesome Coder              33             13   \n",
       "1  CloudCoopItaly       CloudCoop ☁️           14975             13   \n",
       "2    ndroid_techk  Ndroid Technology            4131             13   \n",
       "3        LlnuxBot           LinuxBot          256851             85   \n",
       "4        nlognbot           nlognbot           28780             85   \n",
       "\n",
       "                    source_url  \n",
       "0  https://dephraiim.github.io  \n",
       "1      http://www.cloudcoop.it  \n",
       "2         http://ndroid.online  \n",
       "3           https://techdox.nz  \n",
       "4             https://nlogn.in  "
      ]
     },
     "execution_count": 102,
     "metadata": {},
     "output_type": "execute_result"
    }
   ],
   "source": [
    "df.head()"
   ]
  },
  {
   "cell_type": "code",
   "execution_count": 103,
   "metadata": {},
   "outputs": [
    {
     "data": {
      "text/html": [
       "<div>\n",
       "<style scoped>\n",
       "    .dataframe tbody tr th:only-of-type {\n",
       "        vertical-align: middle;\n",
       "    }\n",
       "\n",
       "    .dataframe tbody tr th {\n",
       "        vertical-align: top;\n",
       "    }\n",
       "\n",
       "    .dataframe thead th {\n",
       "        text-align: right;\n",
       "    }\n",
       "</style>\n",
       "<table border=\"1\" class=\"dataframe\">\n",
       "  <thead>\n",
       "    <tr style=\"text-align: right;\">\n",
       "      <th></th>\n",
       "      <th>id</th>\n",
       "      <th>user_id</th>\n",
       "      <th>statuses_count</th>\n",
       "      <th>retweet_count</th>\n",
       "    </tr>\n",
       "  </thead>\n",
       "  <tbody>\n",
       "    <tr>\n",
       "      <th>count</th>\n",
       "      <td>9.800000e+01</td>\n",
       "      <td>9.800000e+01</td>\n",
       "      <td>9.800000e+01</td>\n",
       "      <td>98.000000</td>\n",
       "    </tr>\n",
       "    <tr>\n",
       "      <th>mean</th>\n",
       "      <td>1.265650e+18</td>\n",
       "      <td>9.534178e+17</td>\n",
       "      <td>1.487981e+05</td>\n",
       "      <td>71.306122</td>\n",
       "    </tr>\n",
       "    <tr>\n",
       "      <th>std</th>\n",
       "      <td>1.023889e+13</td>\n",
       "      <td>3.898472e+17</td>\n",
       "      <td>1.977864e+05</td>\n",
       "      <td>160.622334</td>\n",
       "    </tr>\n",
       "    <tr>\n",
       "      <th>min</th>\n",
       "      <td>1.265623e+18</td>\n",
       "      <td>8.514822e+06</td>\n",
       "      <td>3.300000e+01</td>\n",
       "      <td>5.000000</td>\n",
       "    </tr>\n",
       "    <tr>\n",
       "      <th>25%</th>\n",
       "      <td>1.265645e+18</td>\n",
       "      <td>8.512481e+17</td>\n",
       "      <td>7.533000e+03</td>\n",
       "      <td>17.000000</td>\n",
       "    </tr>\n",
       "    <tr>\n",
       "      <th>50%</th>\n",
       "      <td>1.265649e+18</td>\n",
       "      <td>1.134668e+18</td>\n",
       "      <td>4.000800e+04</td>\n",
       "      <td>44.000000</td>\n",
       "    </tr>\n",
       "    <tr>\n",
       "      <th>75%</th>\n",
       "      <td>1.265658e+18</td>\n",
       "      <td>1.200778e+18</td>\n",
       "      <td>2.568510e+05</td>\n",
       "      <td>65.000000</td>\n",
       "    </tr>\n",
       "    <tr>\n",
       "      <th>max</th>\n",
       "      <td>1.265667e+18</td>\n",
       "      <td>1.264897e+18</td>\n",
       "      <td>1.020413e+06</td>\n",
       "      <td>948.000000</td>\n",
       "    </tr>\n",
       "  </tbody>\n",
       "</table>\n",
       "</div>"
      ],
      "text/plain": [
       "                 id       user_id  statuses_count  retweet_count\n",
       "count  9.800000e+01  9.800000e+01    9.800000e+01      98.000000\n",
       "mean   1.265650e+18  9.534178e+17    1.487981e+05      71.306122\n",
       "std    1.023889e+13  3.898472e+17    1.977864e+05     160.622334\n",
       "min    1.265623e+18  8.514822e+06    3.300000e+01       5.000000\n",
       "25%    1.265645e+18  8.512481e+17    7.533000e+03      17.000000\n",
       "50%    1.265649e+18  1.134668e+18    4.000800e+04      44.000000\n",
       "75%    1.265658e+18  1.200778e+18    2.568510e+05      65.000000\n",
       "max    1.265667e+18  1.264897e+18    1.020413e+06     948.000000"
      ]
     },
     "execution_count": 103,
     "metadata": {},
     "output_type": "execute_result"
    }
   ],
   "source": [
    "df.describe()"
   ]
  },
  {
   "cell_type": "code",
   "execution_count": 107,
   "metadata": {},
   "outputs": [],
   "source": [
    "df['source_url_cat'] = df.source_url.astype('category')"
   ]
  },
  {
   "cell_type": "code",
   "execution_count": 110,
   "metadata": {},
   "outputs": [
    {
     "data": {
      "text/plain": [
       "<matplotlib.axes._subplots.AxesSubplot at 0x1b457350e48>"
      ]
     },
     "execution_count": 110,
     "metadata": {},
     "output_type": "execute_result"
    },
    {
     "data": {
      "image/png": "[encoded data removed]",
      "text/plain": [
       "<Figure size 432x288 with 1 Axes>"
      ]
     },
     "metadata": {
      "needs_background": "light"
     },
     "output_type": "display_data"
    }
   ],
   "source": [
    "df.source_url_cat.hist()"
   ]
  },
  {
   "cell_type": "code",
   "execution_count": 82,
   "metadata": {},
   "outputs": [
    {
     "name": "stdout",
     "output_type": "stream",
     "text": [
      "<class 'pandas.core.frame.DataFrame'>\n",
      "RangeIndex: 98 entries, 0 to 97\n",
      "Data columns (total 8 columns):\n",
      " #   Column          Non-Null Count  Dtype \n",
      "---  ------          --------------  ----- \n",
      " 0   id              98 non-null     int64 \n",
      " 1   lang            98 non-null     object\n",
      " 2   text            98 non-null     object\n",
      " 3   user_id         98 non-null     int64 \n",
      " 4   screen_name     98 non-null     object\n",
      " 5   name            98 non-null     object\n",
      " 6   statuses_count  98 non-null     int64 \n",
      " 7   retweet_count   98 non-null     int64 \n",
      "dtypes: int64(4), object(4)\n",
      "memory usage: 6.2+ KB\n"
     ]
    }
   ],
   "source": [
    "df.info()"
   ]
  },
  {
   "cell_type": "code",
   "execution_count": 83,
   "metadata": {},
   "outputs": [
    {
     "name": "stdout",
     "output_type": "stream",
     "text": [
      "<class 'pandas.core.frame.DataFrame'>\n",
      "RangeIndex: 98 entries, 0 to 97\n",
      "Data columns (total 6 columns):\n",
      " #   Column          Non-Null Count  Dtype \n",
      "---  ------          --------------  ----- \n",
      " 0   lang            98 non-null     object\n",
      " 1   text            98 non-null     object\n",
      " 2   screen_name     98 non-null     object\n",
      " 3   name            98 non-null     object\n",
      " 4   statuses_count  98 non-null     int64 \n",
      " 5   retweet_count   98 non-null     int64 \n",
      "dtypes: int64(2), object(4)\n",
      "memory usage: 4.7+ KB\n"
     ]
    }
   ],
   "source": [
    "df_sin_id.info()"
   ]
  },
  {
   "cell_type": "code",
   "execution_count": 84,
   "metadata": {},
   "outputs": [],
   "source": [
    "import seaborn as sns"
   ]
  },
  {
   "cell_type": "code",
   "execution_count": 85,
   "metadata": {},
   "outputs": [
    {
     "data": {
      "text/plain": [
       "<seaborn.axisgrid.PairGrid at 0x1b455a1a288>"
      ]
     },
     "execution_count": 85,
     "metadata": {},
     "output_type": "execute_result"
    },
    {
     "data": {
      "image/png": "[encoded data removed]",
      "text/plain": [
       "<Figure size 360x360 with 6 Axes>"
      ]
     },
     "metadata": {
      "needs_background": "light"
     },
     "output_type": "display_data"
    }
   ],
   "source": [
    "sns.pairplot(df_sin_id)"
   ]
  },
  {
   "cell_type": "code",
   "execution_count": null,
   "metadata": {},
   "outputs": [],
   "source": [
    "for row in df.sort_values(by='retweet_count', ascending=False).iterrows():\n",
    "    print(row)"
   ]
  },
  {
   "cell_type": "code",
   "execution_count": 90,
   "metadata": {},
   "outputs": [
    {
     "data": {
      "text/plain": [
       "{'hashtags': [],\n",
       " 'symbols': [],\n",
       " 'user_mentions': [{'screen_name': 'keunwoochoi',\n",
       "   'name': 'Keunwoo Choi',\n",
       "   'id': 3305607009,\n",
       "   'id_str': '3305607009',\n",
       "   'indices': [3, 15]}],\n",
       " 'urls': []}"
      ]
     },
     "execution_count": 90,
     "metadata": {},
     "output_type": "execute_result"
    }
   ],
   "source": [
    "tweet.entities"
   ]
  },
  {
   "cell_type": "code",
   "execution_count": 91,
   "metadata": {},
   "outputs": [
    {
     "data": {
      "text/plain": [
       "'RT @keunwoochoi: It seems clear to me that Tensorflow developers are not deeply understanding why researchers struggle with their product.…'"
      ]
     },
     "execution_count": 91,
     "metadata": {},
     "output_type": "execute_result"
    }
   ],
   "source": [
    "tweet.text"
   ]
  },
  {
   "cell_type": "code",
   "execution_count": 94,
   "metadata": {},
   "outputs": [],
   "source": [
    "contador = {}\n",
    "for tweet in tweets:\n",
    "    for hashtag in tweet.entities['hashtags']:\n",
    "        try:\n",
    "            contador[hashtag['text']] += 1\n",
    "        except KeyError:\n",
    "            contador[hashtag['text']] = 1"
   ]
  },
  {
   "cell_type": "code",
   "execution_count": 95,
   "metadata": {},
   "outputs": [
    {
     "data": {
      "text/plain": [
       "{'BigData': 79,\n",
       " 'Analytics': 83,\n",
       " 'DataScience': 78,\n",
       " 'AI': 32,\n",
       " 'MachineLearning': 20,\n",
       " 'IoT': 61,\n",
       " 'PyTorch': 47,\n",
       " 'Python': 45,\n",
       " 'RStats': 23,\n",
       " 'Programming': 7,\n",
       " 'CPP': 7,\n",
       " 'IIoT': 36,\n",
       " 'WebDev': 39,\n",
       " 'CyberSecurity': 19,\n",
       " 'Programmer': 6,\n",
       " 'rstats': 12,\n",
       " 'TensorFlow': 19,\n",
       " 'javascript': 12,\n",
       " 'reactjs': 6,\n",
       " 'Cloud': 6,\n",
       " 'Serverless': 6,\n",
       " 'Robots': 6,\n",
       " 'Robotics': 9,\n",
       " 'DeepLearning': 3,\n",
       " 'research': 1,\n",
       " 'india': 6,\n",
       " 'Security': 6,\n",
       " 'Memes': 6,\n",
       " 'math': 6,\n",
       " 'science': 6,\n",
       " 'engineering': 6,\n",
       " 'cybersecurity': 6,\n",
       " 'artificialintelligence': 6,\n",
       " 'technology': 6,\n",
       " 'Java': 7,\n",
       " 'machinelearning': 3,\n",
       " 'code': 5,\n",
       " 'DL': 1,\n",
       " 'ML': 1,\n",
       " 'NeuralNetworks': 1}"
      ]
     },
     "execution_count": 95,
     "metadata": {},
     "output_type": "execute_result"
    }
   ],
   "source": [
    "contador"
   ]
  },
  {
   "cell_type": "code",
   "execution_count": 97,
   "metadata": {},
   "outputs": [
    {
     "data": {
      "text/plain": [
       "'Twitter for iPhone'"
      ]
     },
     "execution_count": 97,
     "metadata": {},
     "output_type": "execute_result"
    }
   ],
   "source": [
    "tweet.source"
   ]
  },
  {
   "cell_type": "code",
   "execution_count": 98,
   "metadata": {},
   "outputs": [
    {
     "data": {
      "text/plain": [
       "'http://twitter.com/download/iphone'"
      ]
     },
     "execution_count": 98,
     "metadata": {},
     "output_type": "execute_result"
    }
   ],
   "source": [
    "tweet.source_url"
   ]
  },
  {
   "cell_type": "code",
   "execution_count": 111,
   "metadata": {},
   "outputs": [],
   "source": [
    "df.to_excel('tweets.xlsx')"
   ]
  },
  {
   "cell_type": "code",
   "execution_count": 112,
   "metadata": {},
   "outputs": [],
   "source": [
    "df.to_csv('tweets.csv')"
   ]
  },
  {
   "cell_type": "code",
   "execution_count": 113,
   "metadata": {},
   "outputs": [],
   "source": [
    "df2 = df"
   ]
  },
  {
   "cell_type": "code",
   "execution_count": 114,
   "metadata": {},
   "outputs": [],
   "source": [
    "df2.to_csv('tweets.csv', header=False, mode='a')"
   ]
  },
  {
   "cell_type": "code",
   "execution_count": 115,
   "metadata": {},
   "outputs": [],
   "source": [
    "df.to_json('tweets.json')"
   ]
  },
  {
   "cell_type": "code",
   "execution_count": 120,
   "metadata": {},
   "outputs": [],
   "source": [
    "import pickle\n",
    "with open('tweet.pkl', 'wb') as f:\n",
    "    pickle.dump(tweet, f)"
   ]
  },
  {
   "cell_type": "code",
   "execution_count": null,
   "metadata": {},
   "outputs": [],
   "source": []
  }
 ],
 "metadata": {
  "kernelspec": {
   "display_name": "Python 3",
   "language": "python",
   "name": "python3"
  },
  "language_info": {
   "codemirror_mode": {
    "name": "ipython",
    "version": 3
   },
   "file_extension": ".py",
   "mimetype": "text/x-python",
   "name": "python",
   "nbconvert_exporter": "python",
   "pygments_lexer": "ipython3",
   "version": "3.7.7"
  }
 },
 "nbformat": 4,
 "nbformat_minor": 4
}
