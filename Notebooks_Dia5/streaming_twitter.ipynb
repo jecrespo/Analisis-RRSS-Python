{
 "cells": [
  {
   "cell_type": "code",
   "execution_count": 18,
   "metadata": {},
   "outputs": [],
   "source": [
    "import tweepy\n",
    "from twitter_secrets import CONSUMER_KEY, CONSUMER_SECRET, ACCESS_TOKEN, ACCESS_TOKEN_SECRET\n",
    "\n",
    "auth = tweepy.OAuthHandler(CONSUMER_KEY, CONSUMER_SECRET)\n",
    "auth.set_access_token(ACCESS_TOKEN, ACCESS_TOKEN_SECRET)\n",
    "\n",
    "api = tweepy.API(auth)"
   ]
  },
  {
   "cell_type": "code",
   "execution_count": 19,
   "metadata": {},
   "outputs": [],
   "source": [
    "#clase stream de twitter que imprime el texto\n",
    "class MyStreamListener(tweepy.StreamListener):\n",
    "    def on_status(self, status): #función de callback que se ejecuta\n",
    "        print(status.text)\n",
    "\n",
    "#objeto listener\n",
    "stream_listener = MyStreamListener()\n",
    "\n",
    "#clase stream de twitter que guarda los estados\n",
    "class OnMemoryMyStreamListener(tweepy.StreamListener):\n",
    "    def __init__(self,*args,**kwargs): #al iniciar la clase crea la propiedad statuses que es una lista donde almacena los tweets\n",
    "        super().__init__(*args, **kwargs)\n",
    "        self.statuses = []\n",
    "        \n",
    "    def on_status(self, status): #función de callback que se ejecuta\n",
    "        print(status.text)\n",
    "        self.statuses.append(status)\n",
    "        \n",
    "stream_listener = OnMemoryMyStreamListener()"
   ]
  },
  {
   "cell_type": "code",
   "execution_count": 20,
   "metadata": {},
   "outputs": [
    {
     "name": "stdout",
     "output_type": "stream",
     "text": [
      "Start streaming.\n",
      "RT @paul_furber: Quick and dirty video channel checker for Sebastian RLC: \n",
      "\n",
      "https://t.co/cfON5onHYL\n",
      "\n",
      "Grabs title and description of all his…\n",
      "RT @farm_infinite: IF is being made in Python as I'm still learning this new (to me) language.\n",
      "RT @i__emeka: @venikunche @DiversifyTechCo Tech Twitter 🖥\n",
      "\n",
      "Currently seeking for a remote Web Developer/Engineering Role\n",
      "\n",
      "Skills: Php, Vue.…\n",
      "@harryunknown51 You're fine. This whole thing requires you to be a programmer and know C++ and Python's obscure fun… https://t.co/A3aIlsBC7Q\n",
      "RT @YasminCodes: @venikunche @DiversifyTechCo Hi Tech Twitter ☺️ 👋🏽 \n",
      "\n",
      "I’m currently looking for an entry level backend role.\n",
      "\n",
      "I’m self taug…\n",
      "ThePSF has not issued a public message in response to \"COVID-19's discrimination and slander against Asians around… https://t.co/vpHo5qh0rT\n",
      "RT @Avaltenea: - Pueden elegir lenguaje para el nuevo servicio.\n",
      "- PYTHON\n",
      "- Pero pueden probar algo nuevo, sientanse libres.\n",
      "- Python.\n",
      "- Per…\n",
      "Stopped.\n",
      "Done.\n"
     ]
    }
   ],
   "source": [
    "#recibir mensajes de python filtrados por lenguaje\n",
    "stream = tweepy.Stream(auth = api.auth,\n",
    "                       listener=stream_listener)\n",
    "\n",
    "try:\n",
    "    print('Start streaming.')\n",
    "    stream.filter(track=['python'], languages=['es','en']) #función bloqueante \n",
    "except KeyboardInterrupt as e :\n",
    "    print(\"Stopped.\")\n",
    "finally:\n",
    "    print('Done.')\n",
    "    stream.disconnect()"
   ]
  },
  {
   "cell_type": "code",
   "execution_count": 22,
   "metadata": {},
   "outputs": [
    {
     "name": "stdout",
     "output_type": "stream",
     "text": [
      "7\n",
      "['RT @paul_furber: Quick and dirty video channel checker for Sebastian RLC: \\n\\nhttps://t.co/cfON5onHYL\\n\\nGrabs title and description of all his…', \"RT @farm_infinite: IF is being made in Python as I'm still learning this new (to me) language.\", 'RT @i__emeka: @venikunche @DiversifyTechCo Tech Twitter 🖥\\n\\nCurrently seeking for a remote Web Developer/Engineering Role\\n\\nSkills: Php, Vue.…', \"@harryunknown51 You're fine. This whole thing requires you to be a programmer and know C++ and Python's obscure fun… https://t.co/A3aIlsBC7Q\", 'RT @YasminCodes: @venikunche @DiversifyTechCo Hi Tech Twitter ☺️ 👋🏽 \\n\\nI’m currently looking for an entry level backend role.\\n\\nI’m self taug…', 'ThePSF has not issued a public message in response to \"COVID-19\\'s discrimination and slander against Asians around… https://t.co/vpHo5qh0rT', 'RT @Avaltenea: - Pueden elegir lenguaje para el nuevo servicio.\\n- PYTHON\\n- Pero pueden probar algo nuevo, sientanse libres.\\n- Python.\\n- Per…']\n",
      "['en', 'en', 'en', 'en', 'en', 'en', 'es']\n"
     ]
    }
   ],
   "source": [
    "#una vez guardados los datos los veo\n",
    "print(len(stream_listener.statuses))\n",
    "textos = [s.text for s in stream_listener.statuses]\n",
    "lang = [s.lang for s in stream_listener.statuses]\n",
    "print(textos)\n",
    "print(lang)"
   ]
  },
  {
   "cell_type": "code",
   "execution_count": 23,
   "metadata": {},
   "outputs": [
    {
     "name": "stdout",
     "output_type": "stream",
     "text": [
      "Start streaming.\n",
      "@I6xury honestly 👀👀👀 https://t.co/crNTDqNwvQ\n",
      "@samisamosas Bruh.  And I thought I was bad https://t.co/XUKvdoIqwA\n",
      "Esperando a que #Anonymuos diga que la reina Isabel II es un robot https://t.co/kBHeHpf80b\n",
      "Cancerbero,rapero que con canciones como \"Es epico\" y \"aceptas\" nos queríamos abrir los ojos. https://t.co/4Egh5QHdxS\n",
      "Martyrs shone the light to a better path for our generation. It is because of them that we can be who we are today.… https://t.co/Sq5hHNNT6m\n",
      "RESULTADO DE SORTEO\n",
      "Centena Activa\n",
      "02/06/2020\n",
      "05:15 PM\n",
      "TERMINAL 08 https://t.co/5YtdgpV30D\n",
      "Se me acercó mi hermano y me dijo ' tenés un olor raro, no se cómo es, como EL OLOR QUE TIENEN LAS PERSONAS VIEJAS'\n",
      "RT @yoonjiminnie: 🐱: amor, deja de tomarme fotos y ven a ver este análisis de la ino. Creo que ese día sí nos pasamos. https://t.co/MW6ZAIn…\n",
      "RT @yourmalinche: si ahorita no puedes donar monetariamente, empieza un diálogo con tu familia racista, con tus compas que usan gato/naco/i…\n",
      "RT @FLOTUK: Working like a dog so you can afford to go on holiday 2 times a year. What we do on holiday let’s you know how far gone we are…\n",
      "12PM PST*\n",
      "RT @villana_vzla: Es mi primer SORTEO y muy especial porque es con mi modelo de auto favorito 💕\n",
      "\n",
      "‼️Elige Un Numero Del 1 al 200‼️\n",
      "\n",
      "⏳Cierra…\n",
      "RT @amandaactuallyY: Judge went to the scene of Dallas protest where 300 people were being held and said let them go. DA called and said he…\n",
      "RT @SerranoIsmael: Ser antifascista es condición necesaria para ser demócrata.\n",
      "@jamesjamesbrown @ben_machell Isn’t it one of the novicock guys?\n",
      "RT @juanrallo: “La acumulación de todos los poderes (legislativo, ejecutivo y judicial) en unas mismas manos, sean las de una sola persona…\n",
      "RT @enbyspidey: “You can be friends and have different opinions.” Sure, we  can share different opinions on tv shows , celebrities, clothes…\n",
      "RT @MAYLINTHATBABY: guys who insist for you to have sex wit them won’t consider themselves part of it &amp; it’s crazy lmao\n",
      "@ShardiB2 What time frames on ur charts do u use mostly Shardi???\n",
      "RT @eliehonig: “I am your President of law and order,” says the President who has committed more crimes than anyone can even really track.\n",
      "@PatoParizzia @pablocarrozza Jajaja los tiene alquilados mas que a los rugbyers\n",
      "RT @redbyts: something about these numbers doesn’t add up to me https://t.co/EBO5zHLEJ8\n",
      "@AnaLili17444022 Yo por donde\n",
      "RT @Queenn1k: This the one. Then blame the daughter “ asking for it “\n",
      "RT @NiceGuyxVinny: im sorry but if youre mexican from Long Beach and protesting but go home to or have family whos racist or from longos, b…\n",
      "RT @IBDMD: Our joint GI society statement mentions the many health disparities that compound the persistent injustices in our country, espe…\n",
      "RT @realDonaldTrump: SILENT MAJORITY!\n",
      "RT @RudyGiuliani: The Mayor in NYC has lost control of the mob and of the city.\n",
      "\n",
      "The Mayor is preventing the NYPD to take the actions neces…\n",
      "RT @XOinYourEyes: JAMES CORDEN MADE A BETTER STATEMENT THAN EVERY POLITICIAN IVE HEARD. JAMES. CORDEN. WHY IS IT SO HARD TO SPEAK THE TRUTH\n",
      "@Devon_OnEarth its like my parents, faildaughter, you could choose to succeed instead!!!\n",
      "RT @AbduDaMan: Oomf is so fine I want us to JUST DO IT😭😭😭😭\n",
      "@Jamie198629 Same, ever since this whole thing got serious. I think it’s sensible!\n",
      "Check out Paden McNiff's video! #TikTok https://t.co/xu8c318Nmk\n",
      "@forfanxyred manifesting\n",
      "RT @JKCorden: If you’re struggling to explain white privilage or historical cultural differences in upbringing to your children during this…\n",
      "RT @MSNBC: Mayor of Birmingham, Alabama, Randall Woodfin, discusses the city removing a Confederate monument overnight Tuesday. \n",
      "\n",
      "\"Revision…\n",
      "RT @thisisibrox: Under 2 hours to change this...\n",
      "RT @bjon_bbttr: The only man fit to narrate 2020.\n",
      "RT @sweetpeachxo: Would you eat me out? 🥺 https://t.co/mYi7EjwY8J\n",
      "RT @InnocentNudess: Goals https://t.co/80VT6QB1oA\n",
      "Polvo Mariposa aqui\n",
      "@AndrewYang You need a new 😷. Trump didn’t murder George Floyd.\n",
      "She should try reading it when there is no cameras around.\n",
      "Julius Jones is innocent. Don't let him be executed by the state of Oklahoma. - Sign the Petition! https://t.co/G1Bsc28kXK via @Change\n",
      "😂😂😂 poor jack\n",
      "@Tokdoc @CanariesBlue @realDonaldTrump I do not condone racism or violent speech from either side. \n",
      "\n",
      "We need to com… https://t.co/fZNYMhoQxe\n",
      "@thehill Why would anyone want to worship at your “building” anyway ! \n",
      "Have you heard yourself talk? \n",
      "You are not s… https://t.co/pkr9mYIqun\n",
      "@JerryF4780 @gate_io @BlackBit9 Bullish Diamond $ONT https://t.co/qUQNqKTuCT\n",
      "RT @NicoBalbian: La vacuna se hizo en 2019 y es muy efectiva. En máximo 1 día el paciente  ya está curado. Esta echa a base de colita  de r…\n",
      "RT @TAEYONG_TH: 🌱FANACC : 200602 VDO CALL WITH TAEYONG HOTTRACKS CHINA EVENT\n",
      "\n",
      "วิ้งค์ •~ 😉\n",
      "\n",
      "©️七层七七七七\n",
      "\n",
      "🔗https://t.co/YUzGo7upBH\n",
      "\n",
      "#NCT127_Punc…\n",
      "Ofcourse y’all are going to make a bigger deal of him being there than the actual protest 😬\n",
      "\n",
      "But anyways goodnight 💤\n",
      "RT @itsJeffTiedrich: what kind of shithole country hands the hardest job in the world to the stupidest fucking recklessly-impulsive pig-ign…\n",
      "RT @prodwybh: i have 2 followers but what if twitter did its thing https://t.co/rJyz4OUGJh\n",
      "RT @joncoopertweets: FUN FACT: Trump’s disapproval rating has climbed to 54% — the highest disapproval for any president in U.S. history.\n",
      "RT @KwahnSoprano: DaBaby went on a whole 2 year tour fighting niggas, security guards, even slapped a woman in public but when it comes to…\n",
      "RT @SpencerTfromME: This morning @JoeBiden answered the call for a leadership that can unite us and bring us together. He asked us all to r…\n",
      "RT @cerealesarbol: Por qué no eres como los k-poppers. https://t.co/9541Ei0KNW\n",
      "RT @kingfatimaaaa: it’s boils my skin for some people to have the audacity to say “well maybe if you didn’t wear this” MAN SHUT THE FUCK UP…\n",
      "RT @undercover0000: Trump’s disapproval rating is at 54% — the highest disapproval for any president in U.S. history.\n",
      "@memes_ric Jesus\n",
      "RT @charliekirk11: If you're more offended by the President of the United States holding a bible than ANTIFA terrorists burning down a chur…\n",
      "I’m so emotional because I want jose you get out of work already :(\n",
      "RT @santichiaevelyn: Holis mis amores. Estoy por publicar lo nuevo en mis paginas.. ya ya ya vengan a mirar los quiero. Me regalan un rt 💙…\n",
      "one person followed me and 2 people unfollowed me // automatically checked by https://t.co/63jKou3jpw\n",
      "@walkingthedogg CORRECT\n",
      "RT @berryporny: This snow bunny @SnowStaxks is down for the cause https://t.co/Q7LLQxU0Bn\n",
      "@haloanimal AGFJSHDK WHY DO GAMES ALWAYS GO ON SALE THE WEEK AFTER I BUY THEM\n",
      "@ksorbs Horrible\n",
      "@tuskynocontext @ todos menos yo\n",
      "@senrobportman Shut up dude you created this\n",
      "RT @springer: Me and my friends were teargassed to make this political ad happen.\n",
      "@MsGady__ 1. So I can ride shotgun \n",
      "2. So we go check out some good specs n get a real beast 😉\n",
      "RT @BrutumF: Look at this cop forcing the weapon into the protester's hand to create cause. https://t.co/kT7zNNuTH0\n",
      "@abenaopp @JamesEFoster Is there a plan to stop it. Why are you all going along with it?\n",
      "RT @AudaciousKev: Big facts!\n",
      "RT @YourAnonCentral: Hundreds of thousands take the streets in France in support of Black Lives Matter. They demand an end to racism, impun…\n",
      "@dpinsen Cucks\n",
      "Gary Clark Jr. shared a powerful message in an almost 10-minute-long video via his Instagram https://t.co/5xGiZFLwmc\n",
      "EEEEEP I CANT CONTAIN MY EXCITEMENT\n",
      "What my friend said the last election. 😀\n",
      "🎙 \"Será complicado que veamos público en las gradas\"\n",
      "\n",
      "https://t.co/70s1DZJ1yI\n",
      "RT @nana20199: @TYOUK #OnThisDay 1987 Aranthalawa massacre where 31 Buddhist monks &amp; 3 civilians were killed by the LTTE. \n",
      "One of the sadde…\n",
      "@JoshSnowden9 IMO athletes like doing them and also total motor units involved in doing them, high force high veloc… https://t.co/1gZNbNqVXU\n",
      "Biden’s never done anything unless it was for him.\n",
      "RT @malindalo: Everybody in kidlit publishing putting out those statements supporting Black Lives Matter: have you read Kekla’s essay yet?…\n",
      "Bueno yo Hace 8 meses me mude y casi nadie se fijo ahhh pero se muda un famoso y allí si sale la gente hablando que… https://t.co/VfgW2YA8KP\n",
      "Looking forward to launching the information booklet for parents of children with dyslexia @DyslexiaIreland in a Ga… https://t.co/08lP0oY6Q8\n",
      "Stopped.\n",
      "Done.\n"
     ]
    }
   ],
   "source": [
    "#sample\n",
    "stream = tweepy.Stream(auth = api.auth, \n",
    "                       listener=stream_listener)\n",
    "try:\n",
    "    print('Start streaming.')\n",
    "    stream.sample(languages=['es', 'en'])\n",
    "except KeyboardInterrupt as e :\n",
    "    print(\"Stopped.\")\n",
    "finally:\n",
    "    print('Done.')\n",
    "    stream.disconnect()"
   ]
  },
  {
   "cell_type": "code",
   "execution_count": 24,
   "metadata": {},
   "outputs": [
    {
     "name": "stdout",
     "output_type": "stream",
     "text": [
      "94\n",
      "['RT @paul_furber: Quick and dirty video channel checker for Sebastian RLC: \\n\\nhttps://t.co/cfON5onHYL\\n\\nGrabs title and description of all his…', \"RT @farm_infinite: IF is being made in Python as I'm still learning this new (to me) language.\", 'RT @i__emeka: @venikunche @DiversifyTechCo Tech Twitter 🖥\\n\\nCurrently seeking for a remote Web Developer/Engineering Role\\n\\nSkills: Php, Vue.…', \"@harryunknown51 You're fine. This whole thing requires you to be a programmer and know C++ and Python's obscure fun… https://t.co/A3aIlsBC7Q\", 'RT @YasminCodes: @venikunche @DiversifyTechCo Hi Tech Twitter ☺️ 👋🏽 \\n\\nI’m currently looking for an entry level backend role.\\n\\nI’m self taug…', 'ThePSF has not issued a public message in response to \"COVID-19\\'s discrimination and slander against Asians around… https://t.co/vpHo5qh0rT', 'RT @Avaltenea: - Pueden elegir lenguaje para el nuevo servicio.\\n- PYTHON\\n- Pero pueden probar algo nuevo, sientanse libres.\\n- Python.\\n- Per…', '@I6xury honestly 👀👀👀 https://t.co/crNTDqNwvQ', '@samisamosas Bruh.  And I thought I was bad https://t.co/XUKvdoIqwA', 'Esperando a que #Anonymuos diga que la reina Isabel II es un robot https://t.co/kBHeHpf80b', 'Cancerbero,rapero que con canciones como \"Es epico\" y \"aceptas\" nos queríamos abrir los ojos. https://t.co/4Egh5QHdxS', 'Martyrs shone the light to a better path for our generation. It is because of them that we can be who we are today.… https://t.co/Sq5hHNNT6m', 'RESULTADO DE SORTEO\\nCentena Activa\\n02/06/2020\\n05:15 PM\\nTERMINAL 08 https://t.co/5YtdgpV30D', \"Se me acercó mi hermano y me dijo ' tenés un olor raro, no se cómo es, como EL OLOR QUE TIENEN LAS PERSONAS VIEJAS'\", 'RT @yoonjiminnie: 🐱: amor, deja de tomarme fotos y ven a ver este análisis de la ino. Creo que ese día sí nos pasamos. https://t.co/MW6ZAIn…', 'RT @yourmalinche: si ahorita no puedes donar monetariamente, empieza un diálogo con tu familia racista, con tus compas que usan gato/naco/i…', 'RT @FLOTUK: Working like a dog so you can afford to go on holiday 2 times a year. What we do on holiday let’s you know how far gone we are…', '12PM PST*', 'RT @villana_vzla: Es mi primer SORTEO y muy especial porque es con mi modelo de auto favorito 💕\\n\\n‼️Elige Un Numero Del 1 al 200‼️\\n\\n⏳Cierra…', 'RT @amandaactuallyY: Judge went to the scene of Dallas protest where 300 people were being held and said let them go. DA called and said he…', 'RT @SerranoIsmael: Ser antifascista es condición necesaria para ser demócrata.', '@jamesjamesbrown @ben_machell Isn’t it one of the novicock guys?', 'RT @juanrallo: “La acumulación de todos los poderes (legislativo, ejecutivo y judicial) en unas mismas manos, sean las de una sola persona…', 'RT @enbyspidey: “You can be friends and have different opinions.” Sure, we  can share different opinions on tv shows , celebrities, clothes…', 'RT @MAYLINTHATBABY: guys who insist for you to have sex wit them won’t consider themselves part of it &amp; it’s crazy lmao', '@ShardiB2 What time frames on ur charts do u use mostly Shardi???', 'RT @eliehonig: “I am your President of law and order,” says the President who has committed more crimes than anyone can even really track.', '@PatoParizzia @pablocarrozza Jajaja los tiene alquilados mas que a los rugbyers', 'RT @redbyts: something about these numbers doesn’t add up to me https://t.co/EBO5zHLEJ8', '@AnaLili17444022 Yo por donde', 'RT @Queenn1k: This the one. Then blame the daughter “ asking for it “', 'RT @NiceGuyxVinny: im sorry but if youre mexican from Long Beach and protesting but go home to or have family whos racist or from longos, b…', 'RT @IBDMD: Our joint GI society statement mentions the many health disparities that compound the persistent injustices in our country, espe…', 'RT @realDonaldTrump: SILENT MAJORITY!', 'RT @RudyGiuliani: The Mayor in NYC has lost control of the mob and of the city.\\n\\nThe Mayor is preventing the NYPD to take the actions neces…', 'RT @XOinYourEyes: JAMES CORDEN MADE A BETTER STATEMENT THAN EVERY POLITICIAN IVE HEARD. JAMES. CORDEN. WHY IS IT SO HARD TO SPEAK THE TRUTH', '@Devon_OnEarth its like my parents, faildaughter, you could choose to succeed instead!!!', 'RT @AbduDaMan: Oomf is so fine I want us to JUST DO IT😭😭😭😭', '@Jamie198629 Same, ever since this whole thing got serious. I think it’s sensible!', \"Check out Paden McNiff's video! #TikTok https://t.co/xu8c318Nmk\", '@forfanxyred manifesting', 'RT @JKCorden: If you’re struggling to explain white privilage or historical cultural differences in upbringing to your children during this…', 'RT @MSNBC: Mayor of Birmingham, Alabama, Randall Woodfin, discusses the city removing a Confederate monument overnight Tuesday. \\n\\n\"Revision…', 'RT @thisisibrox: Under 2 hours to change this...', 'RT @bjon_bbttr: The only man fit to narrate 2020.', 'RT @sweetpeachxo: Would you eat me out? 🥺 https://t.co/mYi7EjwY8J', 'RT @InnocentNudess: Goals https://t.co/80VT6QB1oA', 'Polvo Mariposa aqui', '@AndrewYang You need a new 😷. Trump didn’t murder George Floyd.', 'She should try reading it when there is no cameras around.', \"Julius Jones is innocent. Don't let him be executed by the state of Oklahoma. - Sign the Petition! https://t.co/G1Bsc28kXK via @Change\", '😂😂😂 poor jack', '@Tokdoc @CanariesBlue @realDonaldTrump I do not condone racism or violent speech from either side. \\n\\nWe need to com… https://t.co/fZNYMhoQxe', '@thehill Why would anyone want to worship at your “building” anyway ! \\nHave you heard yourself talk? \\nYou are not s… https://t.co/pkr9mYIqun', '@JerryF4780 @gate_io @BlackBit9 Bullish Diamond $ONT https://t.co/qUQNqKTuCT', 'RT @NicoBalbian: La vacuna se hizo en 2019 y es muy efectiva. En máximo 1 día el paciente  ya está curado. Esta echa a base de colita  de r…', 'RT @TAEYONG_TH: 🌱FANACC : 200602 VDO CALL WITH TAEYONG HOTTRACKS CHINA EVENT\\n\\nวิ้งค์ •~ 😉\\n\\n©️七层七七七七\\n\\n🔗https://t.co/YUzGo7upBH\\n\\n#NCT127_Punc…', 'Ofcourse y’all are going to make a bigger deal of him being there than the actual protest 😬\\n\\nBut anyways goodnight 💤', 'RT @itsJeffTiedrich: what kind of shithole country hands the hardest job in the world to the stupidest fucking recklessly-impulsive pig-ign…', 'RT @prodwybh: i have 2 followers but what if twitter did its thing https://t.co/rJyz4OUGJh', 'RT @joncoopertweets: FUN FACT: Trump’s disapproval rating has climbed to 54% — the highest disapproval for any president in U.S. history.', 'RT @KwahnSoprano: DaBaby went on a whole 2 year tour fighting niggas, security guards, even slapped a woman in public but when it comes to…', 'RT @SpencerTfromME: This morning @JoeBiden answered the call for a leadership that can unite us and bring us together. He asked us all to r…', 'RT @cerealesarbol: Por qué no eres como los k-poppers. https://t.co/9541Ei0KNW', 'RT @kingfatimaaaa: it’s boils my skin for some people to have the audacity to say “well maybe if you didn’t wear this” MAN SHUT THE FUCK UP…', 'RT @undercover0000: Trump’s disapproval rating is at 54% — the highest disapproval for any president in U.S. history.', '@memes_ric Jesus', \"RT @charliekirk11: If you're more offended by the President of the United States holding a bible than ANTIFA terrorists burning down a chur…\", 'I’m so emotional because I want jose you get out of work already :(', 'RT @santichiaevelyn: Holis mis amores. Estoy por publicar lo nuevo en mis paginas.. ya ya ya vengan a mirar los quiero. Me regalan un rt 💙…', 'one person followed me and 2 people unfollowed me // automatically checked by https://t.co/63jKou3jpw', '@walkingthedogg CORRECT', 'RT @berryporny: This snow bunny @SnowStaxks is down for the cause https://t.co/Q7LLQxU0Bn', '@haloanimal AGFJSHDK WHY DO GAMES ALWAYS GO ON SALE THE WEEK AFTER I BUY THEM', '@ksorbs Horrible', '@tuskynocontext @ todos menos yo', '@senrobportman Shut up dude you created this', 'RT @springer: Me and my friends were teargassed to make this political ad happen.', '@MsGady__ 1. So I can ride shotgun \\n2. So we go check out some good specs n get a real beast 😉', \"RT @BrutumF: Look at this cop forcing the weapon into the protester's hand to create cause. https://t.co/kT7zNNuTH0\", '@abenaopp @JamesEFoster Is there a plan to stop it. Why are you all going along with it?', 'RT @AudaciousKev: Big facts!', 'RT @YourAnonCentral: Hundreds of thousands take the streets in France in support of Black Lives Matter. They demand an end to racism, impun…', '@dpinsen Cucks', 'Gary Clark Jr. shared a powerful message in an almost 10-minute-long video via his Instagram https://t.co/5xGiZFLwmc', 'EEEEEP I CANT CONTAIN MY EXCITEMENT', 'What my friend said the last election. 😀', '🎙 \"Será complicado que veamos público en las gradas\"\\n\\nhttps://t.co/70s1DZJ1yI', 'RT @nana20199: @TYOUK #OnThisDay 1987 Aranthalawa massacre where 31 Buddhist monks &amp; 3 civilians were killed by the LTTE. \\nOne of the sadde…', '@JoshSnowden9 IMO athletes like doing them and also total motor units involved in doing them, high force high veloc… https://t.co/1gZNbNqVXU', 'Biden’s never done anything unless it was for him.', 'RT @malindalo: Everybody in kidlit publishing putting out those statements supporting Black Lives Matter: have you read Kekla’s essay yet?…', 'Bueno yo Hace 8 meses me mude y casi nadie se fijo ahhh pero se muda un famoso y allí si sale la gente hablando que… https://t.co/VfgW2YA8KP', 'Looking forward to launching the information booklet for parents of children with dyslexia @DyslexiaIreland in a Ga… https://t.co/08lP0oY6Q8']\n",
      "['en', 'en', 'en', 'en', 'en', 'en', 'es', 'en', 'en', 'es', 'es', 'en', 'es', 'es', 'es', 'es', 'en', 'en', 'es', 'en', 'es', 'en', 'es', 'en', 'en', 'en', 'en', 'es', 'en', 'es', 'en', 'en', 'en', 'en', 'en', 'en', 'en', 'en', 'en', 'en', 'en', 'en', 'en', 'en', 'en', 'en', 'en', 'es', 'en', 'en', 'en', 'en', 'en', 'en', 'en', 'es', 'en', 'en', 'en', 'en', 'en', 'en', 'en', 'es', 'en', 'en', 'en', 'en', 'en', 'es', 'en', 'en', 'en', 'en', 'en', 'es', 'en', 'en', 'en', 'en', 'en', 'en', 'en', 'en', 'en', 'en', 'en', 'es', 'en', 'en', 'en', 'en', 'es', 'en']\n"
     ]
    }
   ],
   "source": [
    "#una vez guardados los datos los veo\n",
    "print(len(stream_listener.statuses))\n",
    "textos = [s.text for s in stream_listener.statuses]\n",
    "lang = [s.lang for s in stream_listener.statuses]\n",
    "print(textos)\n",
    "print(lang)"
   ]
  },
  {
   "cell_type": "code",
   "execution_count": 38,
   "metadata": {},
   "outputs": [
    {
     "name": "stdout",
     "output_type": "stream",
     "text": [
      "2602\n",
      "Start streaming.\n",
      "Check out @davedarko's Animatronic BD-1\n",
      "RT @jcpastrana: La izquierda debe albergar la ilusión de enterrar el delito de los dineros de #Odebrecht y #Rubiales a @JuanManSantos en la…\n",
      "RT @NacionDigital2: 🤛 Brutal repaso de Alvise Pérez a Arrimadas por su apoyo al PSOE pese a que ya hay fecha para la mesa con los golpistas…\n",
      "@Belen_Larioss @Rapsies21 Le tendrán que juzgar\n",
      "@fmasero @puerto @_soniabn No se hable más, al ataque\n",
      "RT @20m: Espinosa de los Monteros pide a los inmigrantes que no vengan a España en tres idiomas: \"No serán bien recibidos\" https://t.co/UC0…\n",
      "@alberto_gilsanz @ieducando @gsuite Tal vez tengo iniciada sesión en Drive con la cuenta personal... ya me ocurrió… https://t.co/ENvzKEF4c4\n",
      "Nueva jornada de protestas pese al toque de queda en EE UU por la muerte de George Floyd https://t.co/0sZJRG8RYI\n",
      "RT @Mariade14194890: Estoy hasta las narices q se metan con mi ortografía\n",
      "  Todos hacemos faltas de ortografía unos más q otros però con mi…\n",
      "@Halmu @MdT_TVE Jajajaja pues si 🤗\n",
      "RT @20m: Ocho almejas con interruptores pueden cortar el suministro de agua de toda Varsovia si detectan contaminación https://t.co/xj6IWnn…\n",
      "RT @Belen_Larioss: Olona #conunpar @Macarena_Olona \n",
      "Le habla claro a Marlaska \n",
      "\" Sr. Marlaska,  Vd. caerá por sus subordinados \"\n",
      "#MarlaskaD…\n",
      "@20m Vox.\n",
      "RT @RodolfoIrago: Illa matiza a Ábalos: no habrá movimientos entre CCAA el próximo lunes día 8, aunque muchas entren en fase 3. Hay que esp…\n",
      "RT @NewsReputation: Estáis todos invitados a rellenar el cuestionario sobre el confinamiento, desescalada y gestión de la crisis. Tercera o…\n",
      "RT @ecucafd: El glúteo medio juega un papel muy importante en la estabilidad y fuerza de las caderas.\n",
      "\n",
      "Lo necesitamos para caminar, correr,…\n",
      "@20m Bien hecho\n",
      "Stopped.\n",
      "Done.\n"
     ]
    }
   ],
   "source": [
    "# Para recibir todos los mensajes de los followers de jecrespom\n",
    "stream = tweepy.Stream(\n",
    "    auth = api.auth, listener=stream_listener)\n",
    "\n",
    "followers_ids = api.followers_ids('jecrespom')\n",
    "print(len(followers_ids))\n",
    "\n",
    "#followers_ids = ['1138115772', '867052638873022464', '93147038', '1690789872', '3298925390']\n",
    "#el filtro debe se una lista de str y no de números\n",
    "followers_ids_str = [str(i) for i in followers_ids]\n",
    "\n",
    "#print(followers_ids_str)\n",
    "\n",
    "try:\n",
    "    print('Start streaming.')\n",
    "    stream.filter(follow=followers_ids_str)\n",
    "except KeyboardInterrupt as e :\n",
    "    print(\"Stopped.\")\n",
    "finally:\n",
    "    print('Done.')\n",
    "    stream.disconnect()"
   ]
  },
  {
   "cell_type": "code",
   "execution_count": 39,
   "metadata": {},
   "outputs": [
    {
     "name": "stdout",
     "output_type": "stream",
     "text": [
      "136\n",
      "['RT @paul_furber: Quick and dirty video channel checker for Sebastian RLC: \\n\\nhttps://t.co/cfON5onHYL\\n\\nGrabs title and description of all his…', \"RT @farm_infinite: IF is being made in Python as I'm still learning this new (to me) language.\", 'RT @i__emeka: @venikunche @DiversifyTechCo Tech Twitter 🖥\\n\\nCurrently seeking for a remote Web Developer/Engineering Role\\n\\nSkills: Php, Vue.…', \"@harryunknown51 You're fine. This whole thing requires you to be a programmer and know C++ and Python's obscure fun… https://t.co/A3aIlsBC7Q\", 'RT @YasminCodes: @venikunche @DiversifyTechCo Hi Tech Twitter ☺️ 👋🏽 \\n\\nI’m currently looking for an entry level backend role.\\n\\nI’m self taug…', 'ThePSF has not issued a public message in response to \"COVID-19\\'s discrimination and slander against Asians around… https://t.co/vpHo5qh0rT', 'RT @Avaltenea: - Pueden elegir lenguaje para el nuevo servicio.\\n- PYTHON\\n- Pero pueden probar algo nuevo, sientanse libres.\\n- Python.\\n- Per…', '@I6xury honestly 👀👀👀 https://t.co/crNTDqNwvQ', '@samisamosas Bruh.  And I thought I was bad https://t.co/XUKvdoIqwA', 'Esperando a que #Anonymuos diga que la reina Isabel II es un robot https://t.co/kBHeHpf80b', 'Cancerbero,rapero que con canciones como \"Es epico\" y \"aceptas\" nos queríamos abrir los ojos. https://t.co/4Egh5QHdxS', 'Martyrs shone the light to a better path for our generation. It is because of them that we can be who we are today.… https://t.co/Sq5hHNNT6m', 'RESULTADO DE SORTEO\\nCentena Activa\\n02/06/2020\\n05:15 PM\\nTERMINAL 08 https://t.co/5YtdgpV30D', \"Se me acercó mi hermano y me dijo ' tenés un olor raro, no se cómo es, como EL OLOR QUE TIENEN LAS PERSONAS VIEJAS'\", 'RT @yoonjiminnie: 🐱: amor, deja de tomarme fotos y ven a ver este análisis de la ino. Creo que ese día sí nos pasamos. https://t.co/MW6ZAIn…', 'RT @yourmalinche: si ahorita no puedes donar monetariamente, empieza un diálogo con tu familia racista, con tus compas que usan gato/naco/i…', 'RT @FLOTUK: Working like a dog so you can afford to go on holiday 2 times a year. What we do on holiday let’s you know how far gone we are…', '12PM PST*', 'RT @villana_vzla: Es mi primer SORTEO y muy especial porque es con mi modelo de auto favorito 💕\\n\\n‼️Elige Un Numero Del 1 al 200‼️\\n\\n⏳Cierra…', 'RT @amandaactuallyY: Judge went to the scene of Dallas protest where 300 people were being held and said let them go. DA called and said he…', 'RT @SerranoIsmael: Ser antifascista es condición necesaria para ser demócrata.', '@jamesjamesbrown @ben_machell Isn’t it one of the novicock guys?', 'RT @juanrallo: “La acumulación de todos los poderes (legislativo, ejecutivo y judicial) en unas mismas manos, sean las de una sola persona…', 'RT @enbyspidey: “You can be friends and have different opinions.” Sure, we  can share different opinions on tv shows , celebrities, clothes…', 'RT @MAYLINTHATBABY: guys who insist for you to have sex wit them won’t consider themselves part of it &amp; it’s crazy lmao', '@ShardiB2 What time frames on ur charts do u use mostly Shardi???', 'RT @eliehonig: “I am your President of law and order,” says the President who has committed more crimes than anyone can even really track.', '@PatoParizzia @pablocarrozza Jajaja los tiene alquilados mas que a los rugbyers', 'RT @redbyts: something about these numbers doesn’t add up to me https://t.co/EBO5zHLEJ8', '@AnaLili17444022 Yo por donde', 'RT @Queenn1k: This the one. Then blame the daughter “ asking for it “', 'RT @NiceGuyxVinny: im sorry but if youre mexican from Long Beach and protesting but go home to or have family whos racist or from longos, b…', 'RT @IBDMD: Our joint GI society statement mentions the many health disparities that compound the persistent injustices in our country, espe…', 'RT @realDonaldTrump: SILENT MAJORITY!', 'RT @RudyGiuliani: The Mayor in NYC has lost control of the mob and of the city.\\n\\nThe Mayor is preventing the NYPD to take the actions neces…', 'RT @XOinYourEyes: JAMES CORDEN MADE A BETTER STATEMENT THAN EVERY POLITICIAN IVE HEARD. JAMES. CORDEN. WHY IS IT SO HARD TO SPEAK THE TRUTH', '@Devon_OnEarth its like my parents, faildaughter, you could choose to succeed instead!!!', 'RT @AbduDaMan: Oomf is so fine I want us to JUST DO IT😭😭😭😭', '@Jamie198629 Same, ever since this whole thing got serious. I think it’s sensible!', \"Check out Paden McNiff's video! #TikTok https://t.co/xu8c318Nmk\", '@forfanxyred manifesting', 'RT @JKCorden: If you’re struggling to explain white privilage or historical cultural differences in upbringing to your children during this…', 'RT @MSNBC: Mayor of Birmingham, Alabama, Randall Woodfin, discusses the city removing a Confederate monument overnight Tuesday. \\n\\n\"Revision…', 'RT @thisisibrox: Under 2 hours to change this...', 'RT @bjon_bbttr: The only man fit to narrate 2020.', 'RT @sweetpeachxo: Would you eat me out? 🥺 https://t.co/mYi7EjwY8J', 'RT @InnocentNudess: Goals https://t.co/80VT6QB1oA', 'Polvo Mariposa aqui', '@AndrewYang You need a new 😷. Trump didn’t murder George Floyd.', 'She should try reading it when there is no cameras around.', \"Julius Jones is innocent. Don't let him be executed by the state of Oklahoma. - Sign the Petition! https://t.co/G1Bsc28kXK via @Change\", '😂😂😂 poor jack', '@Tokdoc @CanariesBlue @realDonaldTrump I do not condone racism or violent speech from either side. \\n\\nWe need to com… https://t.co/fZNYMhoQxe', '@thehill Why would anyone want to worship at your “building” anyway ! \\nHave you heard yourself talk? \\nYou are not s… https://t.co/pkr9mYIqun', '@JerryF4780 @gate_io @BlackBit9 Bullish Diamond $ONT https://t.co/qUQNqKTuCT', 'RT @NicoBalbian: La vacuna se hizo en 2019 y es muy efectiva. En máximo 1 día el paciente  ya está curado. Esta echa a base de colita  de r…', 'RT @TAEYONG_TH: 🌱FANACC : 200602 VDO CALL WITH TAEYONG HOTTRACKS CHINA EVENT\\n\\nวิ้งค์ •~ 😉\\n\\n©️七层七七七七\\n\\n🔗https://t.co/YUzGo7upBH\\n\\n#NCT127_Punc…', 'Ofcourse y’all are going to make a bigger deal of him being there than the actual protest 😬\\n\\nBut anyways goodnight 💤', 'RT @itsJeffTiedrich: what kind of shithole country hands the hardest job in the world to the stupidest fucking recklessly-impulsive pig-ign…', 'RT @prodwybh: i have 2 followers but what if twitter did its thing https://t.co/rJyz4OUGJh', 'RT @joncoopertweets: FUN FACT: Trump’s disapproval rating has climbed to 54% — the highest disapproval for any president in U.S. history.', 'RT @KwahnSoprano: DaBaby went on a whole 2 year tour fighting niggas, security guards, even slapped a woman in public but when it comes to…', 'RT @SpencerTfromME: This morning @JoeBiden answered the call for a leadership that can unite us and bring us together. He asked us all to r…', 'RT @cerealesarbol: Por qué no eres como los k-poppers. https://t.co/9541Ei0KNW', 'RT @kingfatimaaaa: it’s boils my skin for some people to have the audacity to say “well maybe if you didn’t wear this” MAN SHUT THE FUCK UP…', 'RT @undercover0000: Trump’s disapproval rating is at 54% — the highest disapproval for any president in U.S. history.', '@memes_ric Jesus', \"RT @charliekirk11: If you're more offended by the President of the United States holding a bible than ANTIFA terrorists burning down a chur…\", 'I’m so emotional because I want jose you get out of work already :(', 'RT @santichiaevelyn: Holis mis amores. Estoy por publicar lo nuevo en mis paginas.. ya ya ya vengan a mirar los quiero. Me regalan un rt 💙…', 'one person followed me and 2 people unfollowed me // automatically checked by https://t.co/63jKou3jpw', '@walkingthedogg CORRECT', 'RT @berryporny: This snow bunny @SnowStaxks is down for the cause https://t.co/Q7LLQxU0Bn', '@haloanimal AGFJSHDK WHY DO GAMES ALWAYS GO ON SALE THE WEEK AFTER I BUY THEM', '@ksorbs Horrible', '@tuskynocontext @ todos menos yo', '@senrobportman Shut up dude you created this', 'RT @springer: Me and my friends were teargassed to make this political ad happen.', '@MsGady__ 1. So I can ride shotgun \\n2. So we go check out some good specs n get a real beast 😉', \"RT @BrutumF: Look at this cop forcing the weapon into the protester's hand to create cause. https://t.co/kT7zNNuTH0\", '@abenaopp @JamesEFoster Is there a plan to stop it. Why are you all going along with it?', 'RT @AudaciousKev: Big facts!', 'RT @YourAnonCentral: Hundreds of thousands take the streets in France in support of Black Lives Matter. They demand an end to racism, impun…', '@dpinsen Cucks', 'Gary Clark Jr. shared a powerful message in an almost 10-minute-long video via his Instagram https://t.co/5xGiZFLwmc', 'EEEEEP I CANT CONTAIN MY EXCITEMENT', 'What my friend said the last election. 😀', '🎙 \"Será complicado que veamos público en las gradas\"\\n\\nhttps://t.co/70s1DZJ1yI', 'RT @nana20199: @TYOUK #OnThisDay 1987 Aranthalawa massacre where 31 Buddhist monks &amp; 3 civilians were killed by the LTTE. \\nOne of the sadde…', '@JoshSnowden9 IMO athletes like doing them and also total motor units involved in doing them, high force high veloc… https://t.co/1gZNbNqVXU', 'Biden’s never done anything unless it was for him.', 'RT @malindalo: Everybody in kidlit publishing putting out those statements supporting Black Lives Matter: have you read Kekla’s essay yet?…', 'Bueno yo Hace 8 meses me mude y casi nadie se fijo ahhh pero se muda un famoso y allí si sale la gente hablando que… https://t.co/VfgW2YA8KP', 'Looking forward to launching the information booklet for parents of children with dyslexia @DyslexiaIreland in a Ga… https://t.co/08lP0oY6Q8', '@20m @Amaltea_Sexolog “Ajo y agua” 🤷🏻\\u200d♂️\\n\\nAunque hoy en día se verá en algún momento la noticia de que es un abuso… https://t.co/rEZLmFp3ov', 'RT @Belen_Larioss: Sra Ministra de Igualdad. No avisó a sus amigas feministas de la información que tenía el 8M, porque hubiera estado sola…', 'RT @20m: Sky Brown, la gran estrella del skate británica de solo 11 años, se fractura el cráneo en una grave caída https://t.co/Xfi0raIoF7', 'RT @Belen_Larioss: Sra Ministra de Igualdad. No avisó a sus amigas feministas de la información que tenía el 8M, porque hubiera estado sola…', 'RT @fmolinaalen: Colas en el consulado de Marruecos de Almería para el papeleo del #IngresoMinimoVital .Otra ruina de España. @Belen_Larios…', 'RT @Ivaningrado: Imagínate la cara de Màxim Huerta que dimitió a la semana de ser nombrado por una infracción tributaria de doce años antes…', 'RT @20m: Ingreso Mínimo Vital: comprueba si cumples los requisitos y la cuantía con este simulador https://t.co/TXqosL8kQf', 'RT @20m: Sky Brown, la gran estrella del skate británica de solo 11 años, se fractura el cráneo en una grave caída https://t.co/Xfi0raIoF7', 'RT @Belen_Larioss: Sra Ministra de Igualdad. No avisó a sus amigas feministas de la información que tenía el 8M, porque hubiera estado sola…', 'RT @PoderAccionSoci: \"Se les dice \\'libros\\' porque pesan 1 libra\"\\n\\n- Carolina Cruz https://t.co/nI30BUcp7w', 'RT @Belen_Larioss: Sra Ministra de Igualdad. No avisó a sus amigas feministas de la información que tenía el 8M, porque hubiera estado sola…', 'RT @history_topics: #NuevoVídeo. Estándar de la #EBAU sobre el contexto internacional de la Guerra Civil española.\\n\\n👉 https://t.co/xkPOmBK3…', '@tenbuendia @gpedranti @epedrini Son una opción...porque desde ese ppo. de“unión” las universidades tb tienen q apo… https://t.co/w3fyIrBDpa', '@Belen_Larioss Esta rata no tiene conciencia', 'Espinosa de los Monteros pide a los inmigrantes que no vengan a España en tres idiomas: \"No serán bien recibidos\" https://t.co/UC0uQKOJiF', 'RT @Ronald_vanLoon: These nets could be the mailboxes of the future\\nby @futurism\\n\\n#AI #ArtificialIntelligence #Digital #5G #Tech #Technolog…', 'Webinar: Posa en valor les teves competències digitals | Xarxa Punt TIC https://t.co/leUTZ96ibE', 'RT @MiNuevoY0: Salta a la vista que Vicente Vallés no es Ferreras https://t.co/tEPkUalS1d', 'RT @20m: Muhammad Ali, sobre el racismo en EEUU hace casi 50 años: \"¿Por qué Tarzán, rey de la jungla en África, es blanco?\" https://t.co/I…', 'RT @rouco64: 🛑Este arremagao es @EduardoFRub un enterao, de Más Madrid que con su \"gran experiencia\" practica el populismo en vena. Degrada…', 'RT @bennyjohnson: Trump supporter: *Exists*\\n\\nThe Tolerant Left: https://t.co/GX4RxVzrD9', 'RT @jesusmendezzz: \\U0001f7e6 El coronavirus puede dar la imagen de un monstruo de mil cabezas, pero en realidad se parece más a un mapa de carreter…', 'RT @20m: Ocho almejas con interruptores pueden cortar el suministro de agua de toda Varsovia si detectan contaminación https://t.co/xj6IWnn…', 'RT @Belen_Larioss: Los jueces piden la dimisión de Marlaska: \"Ha perdido toda legitimidad\" para ser ministro\\n\\nLa Asociación Judicial Franci…', 'RT @Belen_Larioss: Olona #conunpar @Macarena_Olona \\nLe habla claro a Marlaska \\n\" Sr. Marlaska,  Vd. caerá por sus subordinados \"\\n#MarlaskaD…', \"Check out @davedarko's Animatronic BD-1\", 'RT @jcpastrana: La izquierda debe albergar la ilusión de enterrar el delito de los dineros de #Odebrecht y #Rubiales a @JuanManSantos en la…', 'RT @NacionDigital2: 🤛 Brutal repaso de Alvise Pérez a Arrimadas por su apoyo al PSOE pese a que ya hay fecha para la mesa con los golpistas…', '@Belen_Larioss @Rapsies21 Le tendrán que juzgar', '@fmasero @puerto @_soniabn No se hable más, al ataque', 'RT @20m: Espinosa de los Monteros pide a los inmigrantes que no vengan a España en tres idiomas: \"No serán bien recibidos\" https://t.co/UC0…', '@alberto_gilsanz @ieducando @gsuite Tal vez tengo iniciada sesión en Drive con la cuenta personal... ya me ocurrió… https://t.co/ENvzKEF4c4', 'Nueva jornada de protestas pese al toque de queda en EE UU por la muerte de George Floyd https://t.co/0sZJRG8RYI', 'RT @Mariade14194890: Estoy hasta las narices q se metan con mi ortografía\\n  Todos hacemos faltas de ortografía unos más q otros però con mi…', '@Halmu @MdT_TVE Jajajaja pues si 🤗', 'RT @20m: Ocho almejas con interruptores pueden cortar el suministro de agua de toda Varsovia si detectan contaminación https://t.co/xj6IWnn…', 'RT @Belen_Larioss: Olona #conunpar @Macarena_Olona \\nLe habla claro a Marlaska \\n\" Sr. Marlaska,  Vd. caerá por sus subordinados \"\\n#MarlaskaD…', '@20m Vox.', 'RT @RodolfoIrago: Illa matiza a Ábalos: no habrá movimientos entre CCAA el próximo lunes día 8, aunque muchas entren en fase 3. Hay que esp…', 'RT @NewsReputation: Estáis todos invitados a rellenar el cuestionario sobre el confinamiento, desescalada y gestión de la crisis. Tercera o…', 'RT @ecucafd: El glúteo medio juega un papel muy importante en la estabilidad y fuerza de las caderas.\\n\\nLo necesitamos para caminar, correr,…', '@20m Bien hecho']\n",
      "['en', 'en', 'en', 'en', 'en', 'en', 'es', 'en', 'en', 'es', 'es', 'en', 'es', 'es', 'es', 'es', 'en', 'en', 'es', 'en', 'es', 'en', 'es', 'en', 'en', 'en', 'en', 'es', 'en', 'es', 'en', 'en', 'en', 'en', 'en', 'en', 'en', 'en', 'en', 'en', 'en', 'en', 'en', 'en', 'en', 'en', 'en', 'es', 'en', 'en', 'en', 'en', 'en', 'en', 'en', 'es', 'en', 'en', 'en', 'en', 'en', 'en', 'en', 'es', 'en', 'en', 'en', 'en', 'en', 'es', 'en', 'en', 'en', 'en', 'en', 'es', 'en', 'en', 'en', 'en', 'en', 'en', 'en', 'en', 'en', 'en', 'en', 'es', 'en', 'en', 'en', 'en', 'es', 'en', 'es', 'es', 'es', 'es', 'es', 'es', 'es', 'es', 'es', 'es', 'es', 'es', 'es', 'es', 'es', 'en', 'ca', 'es', 'es', 'es', 'en', 'es', 'es', 'es', 'es', 'en', 'es', 'es', 'es', 'es', 'es', 'es', 'es', 'es', 'es', 'es', 'es', 'und', 'es', 'es', 'es', 'es']\n"
     ]
    }
   ],
   "source": [
    "#una vez guardados los datos los veo\n",
    "print(len(stream_listener.statuses))\n",
    "textos = [s.text for s in stream_listener.statuses]\n",
    "lang = [s.lang for s in stream_listener.statuses]\n",
    "print(textos)\n",
    "print(lang)"
   ]
  },
  {
   "cell_type": "code",
   "execution_count": 6,
   "metadata": {},
   "outputs": [],
   "source": [
    "#--seguir---\n",
    "#análisis de sentimiendo de los datos obtenidos\n",
    "import pandas as pd"
   ]
  },
  {
   "cell_type": "code",
   "execution_count": 7,
   "metadata": {},
   "outputs": [
    {
     "ename": "NameError",
     "evalue": "name 'textos' is not defined",
     "output_type": "error",
     "traceback": [
      "\u001b[0;31m---------------------------------------------------------------------------\u001b[0m",
      "\u001b[0;31mNameError\u001b[0m                                 Traceback (most recent call last)",
      "\u001b[0;32m<ipython-input-7-dc78b147781a>\u001b[0m in \u001b[0;36m<module>\u001b[0;34m\u001b[0m\n\u001b[0;32m----> 1\u001b[0;31m \u001b[0mdf\u001b[0m \u001b[0;34m=\u001b[0m \u001b[0mpd\u001b[0m\u001b[0;34m.\u001b[0m\u001b[0mDataFrame\u001b[0m\u001b[0;34m(\u001b[0m\u001b[0mtextos\u001b[0m\u001b[0;34m,\u001b[0m \u001b[0mcolumns\u001b[0m\u001b[0;34m=\u001b[0m\u001b[0;34m[\u001b[0m\u001b[0;34m'textos'\u001b[0m\u001b[0;34m]\u001b[0m\u001b[0;34m)\u001b[0m\u001b[0;34m\u001b[0m\u001b[0;34m\u001b[0m\u001b[0m\n\u001b[0m\u001b[1;32m      2\u001b[0m \u001b[0;32mfor\u001b[0m \u001b[0mtag\u001b[0m \u001b[0;32min\u001b[0m \u001b[0;34m[\u001b[0m\u001b[0;34m'minecraft'\u001b[0m\u001b[0;34m,\u001b[0m\u001b[0;34m'fortnite'\u001b[0m\u001b[0;34m,\u001b[0m\u001b[0;34m'pubg'\u001b[0m\u001b[0;34m]\u001b[0m\u001b[0;34m:\u001b[0m\u001b[0;34m\u001b[0m\u001b[0;34m\u001b[0m\u001b[0m\n\u001b[1;32m      3\u001b[0m     \u001b[0mdf\u001b[0m\u001b[0;34m[\u001b[0m\u001b[0mtag\u001b[0m\u001b[0;34m]\u001b[0m\u001b[0;34m=\u001b[0m\u001b[0mdf\u001b[0m\u001b[0;34m.\u001b[0m\u001b[0mtextos\u001b[0m\u001b[0;34m.\u001b[0m\u001b[0mstr\u001b[0m\u001b[0;34m.\u001b[0m\u001b[0mlower\u001b[0m\u001b[0;34m(\u001b[0m\u001b[0;34m)\u001b[0m\u001b[0;34m.\u001b[0m\u001b[0mstr\u001b[0m\u001b[0;34m.\u001b[0m\u001b[0mcontains\u001b[0m\u001b[0;34m(\u001b[0m\u001b[0mtag\u001b[0m\u001b[0;34m)\u001b[0m\u001b[0;34m\u001b[0m\u001b[0;34m\u001b[0m\u001b[0m\n",
      "\u001b[0;31mNameError\u001b[0m: name 'textos' is not defined"
     ]
    }
   ],
   "source": [
    "df = pd.DataFrame(textos, columns=['textos'])\n",
    "for tag in ['minecraft','fortnite','pubg']:\n",
    "    df[tag]=df.textos.str.lower().str.contains(tag)"
   ]
  },
  {
   "cell_type": "code",
   "execution_count": 8,
   "metadata": {},
   "outputs": [
    {
     "ename": "NameError",
     "evalue": "name 'df' is not defined",
     "output_type": "error",
     "traceback": [
      "\u001b[0;31m---------------------------------------------------------------------------\u001b[0m",
      "\u001b[0;31mNameError\u001b[0m                                 Traceback (most recent call last)",
      "\u001b[0;32m<ipython-input-8-7e5fdb616c56>\u001b[0m in \u001b[0;36m<module>\u001b[0;34m\u001b[0m\n\u001b[0;32m----> 1\u001b[0;31m \u001b[0mdf\u001b[0m\u001b[0;34m.\u001b[0m\u001b[0msum\u001b[0m\u001b[0;34m(\u001b[0m\u001b[0;34m)\u001b[0m\u001b[0;34m\u001b[0m\u001b[0;34m\u001b[0m\u001b[0m\n\u001b[0m",
      "\u001b[0;31mNameError\u001b[0m: name 'df' is not defined"
     ]
    }
   ],
   "source": [
    "#ver la suma de los textos\n",
    "df.sum()"
   ]
  },
  {
   "cell_type": "code",
   "execution_count": null,
   "metadata": {},
   "outputs": [],
   "source": []
  }
 ],
 "metadata": {
  "kernelspec": {
   "display_name": "Python 3",
   "language": "python",
   "name": "python3"
  },
  "language_info": {
   "codemirror_mode": {
    "name": "ipython",
    "version": 3
   },
   "file_extension": ".py",
   "mimetype": "text/x-python",
   "name": "python",
   "nbconvert_exporter": "python",
   "pygments_lexer": "ipython3",
   "version": "3.7.7"
  }
 },
 "nbformat": 4,
 "nbformat_minor": 4
}
