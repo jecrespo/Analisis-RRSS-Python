{
 "cells": [
  {
   "cell_type": "code",
   "execution_count": 1,
   "metadata": {},
   "outputs": [
    {
     "name": "stdout",
     "output_type": "stream",
     "text": [
      "Collecting tensorflow\n",
      "  Downloading tensorflow-2.2.0-cp37-cp37m-win_amd64.whl (459.2 MB)\n",
      "Collecting gast==0.3.3\n",
      "  Using cached gast-0.3.3-py2.py3-none-any.whl (9.7 kB)\n",
      "Collecting astunparse==1.6.3\n",
      "  Using cached astunparse-1.6.3-py2.py3-none-any.whl (12 kB)\n",
      "Collecting opt-einsum>=2.3.2\n",
      "  Using cached opt_einsum-3.2.1-py3-none-any.whl (63 kB)\n",
      "Requirement already satisfied: wheel>=0.26; python_version >= \"3\" in d:\\wpy64-3770\\python-3.7.7.amd64\\lib\\site-packages (from tensorflow) (0.34.2)\n",
      "Requirement already satisfied: scipy==1.4.1; python_version >= \"3\" in d:\\wpy64-3770\\python-3.7.7.amd64\\lib\\site-packages (from tensorflow) (1.4.1)\n",
      "Requirement already satisfied: numpy<2.0,>=1.16.0 in d:\\wpy64-3770\\python-3.7.7.amd64\\lib\\site-packages (from tensorflow) (1.18.2+mkl)\n",
      "Requirement already satisfied: wrapt>=1.11.1 in d:\\wpy64-3770\\python-3.7.7.amd64\\lib\\site-packages (from tensorflow) (1.11.2)\n",
      "Collecting google-pasta>=0.1.8\n",
      "  Using cached google_pasta-0.2.0-py3-none-any.whl (57 kB)\n",
      "Requirement already satisfied: h5py<2.11.0,>=2.10.0 in d:\\wpy64-3770\\python-3.7.7.amd64\\lib\\site-packages (from tensorflow) (2.10.0)\n",
      "Collecting tensorboard<2.3.0,>=2.2.0\n",
      "  Downloading tensorboard-2.2.2-py3-none-any.whl (3.0 MB)\n",
      "Collecting absl-py>=0.7.0\n",
      "  Using cached absl-py-0.9.0.tar.gz (104 kB)\n",
      "Requirement already satisfied: termcolor>=1.1.0 in d:\\wpy64-3770\\python-3.7.7.amd64\\lib\\site-packages (from tensorflow) (1.1.0)\n",
      "Requirement already satisfied: six>=1.12.0 in d:\\wpy64-3770\\python-3.7.7.amd64\\lib\\site-packages (from tensorflow) (1.14.0)\n",
      "Collecting grpcio>=1.8.6\n",
      "  Downloading grpcio-1.29.0-cp37-cp37m-win_amd64.whl (2.3 MB)\n",
      "Requirement already satisfied: protobuf>=3.8.0 in d:\\wpy64-3770\\python-3.7.7.amd64\\lib\\site-packages (from tensorflow) (3.11.3)\n",
      "Requirement already satisfied: keras-preprocessing>=1.1.0 in d:\\wpy64-3770\\python-3.7.7.amd64\\lib\\site-packages (from tensorflow) (1.1.0)\n",
      "Collecting tensorflow-estimator<2.3.0,>=2.2.0\n",
      "  Using cached tensorflow_estimator-2.2.0-py2.py3-none-any.whl (454 kB)\n",
      "Requirement already satisfied: setuptools>=41.0.0 in d:\\wpy64-3770\\python-3.7.7.amd64\\lib\\site-packages (from tensorboard<2.3.0,>=2.2.0->tensorflow) (46.0.0)\n",
      "Requirement already satisfied: requests<3,>=2.21.0 in d:\\wpy64-3770\\python-3.7.7.amd64\\lib\\site-packages (from tensorboard<2.3.0,>=2.2.0->tensorflow) (2.23.0)\n",
      "Collecting google-auth-oauthlib<0.5,>=0.4.1\n",
      "  Using cached google_auth_oauthlib-0.4.1-py2.py3-none-any.whl (18 kB)\n",
      "Requirement already satisfied: werkzeug>=0.11.15 in d:\\wpy64-3770\\python-3.7.7.amd64\\lib\\site-packages (from tensorboard<2.3.0,>=2.2.0->tensorflow) (1.0.0)\n",
      "Requirement already satisfied: markdown>=2.6.8 in d:\\wpy64-3770\\python-3.7.7.amd64\\lib\\site-packages (from tensorboard<2.3.0,>=2.2.0->tensorflow) (3.2.1)\n",
      "Collecting tensorboard-plugin-wit>=1.6.0\n",
      "  Using cached tensorboard_plugin_wit-1.6.0.post3-py3-none-any.whl (777 kB)\n",
      "Collecting google-auth<2,>=1.6.3Note: you may need to restart the kernel to use updated packages.\n",
      "  Downloading google_auth-1.16.0-py2.py3-none-any.whl (90 kB)\n",
      "Requirement already satisfied: certifi>=2017.4.17 in d:\\wpy64-3770\\python-3.7.7.amd64\\lib\\site-packages (from requests<3,>=2.21.0->tensorboard<2.3.0,>=2.2.0->tensorflow) (2019.11.28)\n",
      "Requirement already satisfied: urllib3!=1.25.0,!=1.25.1,<1.26,>=1.21.1 in d:\\wpy64-3770\\python-3.7.7.amd64\\lib\\site-packages (from requests<3,>=2.21.0->tensorboard<2.3.0,>=2.2.0->tensorflow) (1.25.8)\n",
      "Requirement already satisfied: idna<3,>=2.5 in d:\\wpy64-3770\\python-3.7.7.amd64\\lib\\site-packages (from requests<3,>=2.21.0->tensorboard<2.3.0,>=2.2.0->tensorflow) (2.9)\n",
      "Requirement already satisfied: chardet<4,>=3.0.2 in d:\\wpy64-3770\\python-3.7.7.amd64\\lib\\site-packages (from requests<3,>=2.21.0->tensorboard<2.3.0,>=2.2.0->tensorflow) (3.0.4)\n",
      "Requirement already satisfied: requests-oauthlib>=0.7.0 in d:\\wpy64-3770\\python-3.7.7.amd64\\lib\\site-packages (from google-auth-oauthlib<0.5,>=0.4.1->tensorboard<2.3.0,>=2.2.0->tensorflow) (1.3.0)\n",
      "Collecting pyasn1-modules>=0.2.1\n",
      "\n",
      "  Using cached pyasn1_modules-0.2.8-py2.py3-none-any.whl (155 kB)\n",
      "Collecting rsa<4.1,>=3.1.4\n",
      "  Using cached rsa-4.0-py2.py3-none-any.whl (38 kB)\n",
      "Collecting cachetools<5.0,>=2.0.0\n",
      "  Using cached cachetools-4.1.0-py3-none-any.whl (10 kB)\n",
      "Requirement already satisfied: oauthlib>=3.0.0 in d:\\wpy64-3770\\python-3.7.7.amd64\\lib\\site-packages (from requests-oauthlib>=0.7.0->google-auth-oauthlib<0.5,>=0.4.1->tensorboard<2.3.0,>=2.2.0->tensorflow) (3.1.0)"
     ]
    },
    {
     "name": "stderr",
     "output_type": "stream",
     "text": [
      "WARNING: You are using pip version 20.0.2; however, version 20.1.1 is available.\n",
      "You should consider upgrading via the 'D:\\WPy64-3770\\python-3.7.7.amd64\\python.exe -m pip install --upgrade pip' command.\n"
     ]
    },
    {
     "name": "stdout",
     "output_type": "stream",
     "text": [
      "\n",
      "Collecting pyasn1<0.5.0,>=0.4.6\n",
      "  Using cached pyasn1-0.4.8-py2.py3-none-any.whl (77 kB)\n",
      "Building wheels for collected packages: absl-py\n",
      "  Building wheel for absl-py (setup.py): started\n",
      "  Building wheel for absl-py (setup.py): finished with status 'done'\n",
      "  Created wheel for absl-py: filename=absl_py-0.9.0-py3-none-any.whl size=121935 sha256=fa0fe67ee5238a052ee6b8d591ae4a0d308c41124be28027674edbfcf053cfad\n",
      "  Stored in directory: c:\\users\\javi\\appdata\\local\\pip\\cache\\wheels\\cc\\af\\1a\\498a24d0730ef484019e007bb9e8cef3ac00311a672c049a3e\n",
      "Successfully built absl-py\n",
      "Installing collected packages: gast, astunparse, opt-einsum, google-pasta, pyasn1, pyasn1-modules, rsa, cachetools, google-auth, google-auth-oauthlib, absl-py, grpcio, tensorboard-plugin-wit, tensorboard, tensorflow-estimator, tensorflow\n",
      "Successfully installed absl-py-0.9.0 astunparse-1.6.3 cachetools-4.1.0 gast-0.3.3 google-auth-1.16.0 google-auth-oauthlib-0.4.1 google-pasta-0.2.0 grpcio-1.29.0 opt-einsum-3.2.1 pyasn1-0.4.8 pyasn1-modules-0.2.8 rsa-4.0 tensorboard-2.2.2 tensorboard-plugin-wit-1.6.0.post3 tensorflow-2.2.0 tensorflow-estimator-2.2.0\n"
     ]
    }
   ],
   "source": [
    "%pip install tensorflow"
   ]
  },
  {
   "cell_type": "code",
   "execution_count": 2,
   "metadata": {},
   "outputs": [
    {
     "name": "stdout",
     "output_type": "stream",
     "text": [
      "Downloading data from https://storage.googleapis.com/tensorflow/keras-applications/resnet/resnet50_weights_tf_dim_ordering_tf_kernels.h5\n",
      "102973440/102967424 [==============================] - 5s 0us/step\n"
     ]
    }
   ],
   "source": [
    "from tensorflow.keras.applications.resnet50 import ResNet50\n",
    "from tensorflow.keras.preprocessing import image\n",
    "from tensorflow.keras.applications.resnet50 import preprocess_input, decode_predictions\n",
    "import numpy as np\n",
    "\n",
    "model = ResNet50(weights='imagenet')"
   ]
  },
  {
   "cell_type": "code",
   "execution_count": 3,
   "metadata": {},
   "outputs": [
    {
     "name": "stdout",
     "output_type": "stream",
     "text": [
      "Downloading data from https://storage.googleapis.com/download.tensorflow.org/data/imagenet_class_index.json\n",
      "40960/35363 [==================================] - 0s 0us/step\n",
      "Predicted: [('n02504458', 'African_elephant', 0.50447994), ('n01871265', 'tusker', 0.3904704), ('n02504013', 'Indian_elephant', 0.104692645)]\n"
     ]
    }
   ],
   "source": [
    "img_path = 'elephant.jpg'\n",
    "img = image.load_img(img_path, target_size=(224, 224))\n",
    "\n",
    "x = image.img_to_array(img)\n",
    "x = np.expand_dims(x, axis=0)\n",
    "x = preprocess_input(x)\n",
    "\n",
    "preds = model.predict(x)\n",
    "# decode the results into a list of tuples (class, description, probability)\n",
    "# (one such list for each sample in the batch)\n",
    "print('Predicted:', decode_predictions(preds, top=3)[0])\n",
    "# Predicted: [(u'n02504013', u'Indian_elephant', 0.82658225), (u'n01871265', u'tusker', 0.1122357), (u'n02504458', u'African_elephant', 0.061040461)]"
   ]
  },
  {
   "cell_type": "code",
   "execution_count": null,
   "metadata": {},
   "outputs": [],
   "source": []
  }
 ],
 "metadata": {
  "kernelspec": {
   "display_name": "Python 3",
   "language": "python",
   "name": "python3"
  },
  "language_info": {
   "codemirror_mode": {
    "name": "ipython",
    "version": 3
   },
   "file_extension": ".py",
   "mimetype": "text/x-python",
   "name": "python",
   "nbconvert_exporter": "python",
   "pygments_lexer": "ipython3",
   "version": "3.7.7"
  }
 },
 "nbformat": 4,
 "nbformat_minor": 4
}
