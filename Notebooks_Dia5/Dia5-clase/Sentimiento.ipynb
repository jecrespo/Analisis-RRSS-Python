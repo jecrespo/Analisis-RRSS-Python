{
 "cells": [
  {
   "cell_type": "code",
   "execution_count": 2,
   "metadata": {},
   "outputs": [],
   "source": [
    "import tweepy\n",
    "from twitter_secrets import CONSUMER_KEY, CONSUMER_SECRET, ACCESS_TOKEN, ACCESS_TOKEN_SECRET\n",
    "auth = tweepy.OAuthHandler(CONSUMER_KEY, CONSUMER_SECRET)\n",
    "auth.set_access_token(ACCESS_TOKEN, ACCESS_TOKEN_SECRET)\n",
    "\n",
    "api = tweepy.API(auth, wait_on_rate_limit=False, wait_on_rate_limit_notify=False)"
   ]
  },
  {
   "cell_type": "code",
   "execution_count": 13,
   "metadata": {},
   "outputs": [],
   "source": [
    "class MyStreamListener(tweepy.StreamListener):\n",
    "    def on_status(self, status):\n",
    "        print(status.text)\n",
    "stream_listener = MyStreamListener()\n",
    "\n",
    "\n",
    "class OnMemoryStreamListener(tweepy.StreamListener):\n",
    "    def __init__(self, *args, **kwargs):\n",
    "        \n",
    "        super().__init__(*args, **kwargs)\n",
    "        self.statuses = []\n",
    "\n",
    "    def on_status(self, status):\n",
    "        print(status.text)\n",
    "        self.statuses.append(status)\n",
    "        \n",
    "stream_listener = OnMemoryStreamListener()\n"
   ]
  },
  {
   "cell_type": "code",
   "execution_count": null,
   "metadata": {},
   "outputs": [],
   "source": [
    "stream = tweepy.Stream(auth = api.auth, \n",
    "                       listener=stream_listener)\n",
    "continue_capture = True\n",
    "while continue_capture:\n",
    "    try:\n",
    "        print('Start streaming.')\n",
    "        stream.filter(track=['fortnite', 'minecraft', 'pubg'], languages=['es', 'en'])\n",
    "    except KeyboardInterrupt as e :\n",
    "        print(\"Stopped.\")\n",
    "        continue_capture = False\n",
    "    finally:\n",
    "        print('Done.')\n",
    "        stream.disconnect()"
   ]
  },
  {
   "cell_type": "code",
   "execution_count": null,
   "metadata": {},
   "outputs": [],
   "source": [
    "stream = tweepy.Stream(auth = api.auth, \n",
    "                       listener=stream_listener)\n",
    "try:\n",
    "    print('Start streaming.')\n",
    "    stream.sample(languages=['es', 'en'])\n",
    "except KeyboardInterrupt as e :\n",
    "    print(\"Stopped.\")\n",
    "finally:\n",
    "    print('Done.')\n",
    "    stream.disconnect()"
   ]
  },
  {
   "cell_type": "code",
   "execution_count": 32,
   "metadata": {},
   "outputs": [],
   "source": [
    "len(stream_listener.statuses)\n",
    "textos = [s.text for s in stream_listener.statuses]\n",
    "lang = [s.lang for s in stream_listener.statuses]"
   ]
  },
  {
   "cell_type": "code",
   "execution_count": 23,
   "metadata": {},
   "outputs": [],
   "source": [
    "import pandas as pd"
   ]
  },
  {
   "cell_type": "code",
   "execution_count": 24,
   "metadata": {},
   "outputs": [],
   "source": [
    "df = pd.DataFrame(textos, columns=['textos'])"
   ]
  },
  {
   "cell_type": "code",
   "execution_count": 28,
   "metadata": {},
   "outputs": [],
   "source": [
    "for tag in ['minecraft', 'fortnite', 'pubg']:\n",
    "    df[tag] = df.textos.str.lower().str.contains(tag)\n"
   ]
  },
  {
   "cell_type": "code",
   "execution_count": 31,
   "metadata": {},
   "outputs": [
    {
     "data": {
      "text/plain": [
       "textos       Las cartas ya estan encaminadas | Fortnite de ...\n",
       "minecraft                                                  744\n",
       "fortnite                                                   650\n",
       "pubg                                                       150\n",
       "dtype: object"
      ]
     },
     "execution_count": 31,
     "metadata": {},
     "output_type": "execute_result"
    }
   ],
   "source": [
    "df.sum()"
   ]
  },
  {
   "cell_type": "code",
   "execution_count": 33,
   "metadata": {},
   "outputs": [],
   "source": [
    "df['lang'] = lang"
   ]
  },
  {
   "cell_type": "code",
   "execution_count": 37,
   "metadata": {},
   "outputs": [
    {
     "data": {
      "text/plain": [
       "1       RT @OrVideos: Thinkin bout hybrid ™ from fortn...\n",
       "2            @JermSansContext Jerma wanna play Minecraft?\n",
       "3       RT @FNBRHQ: controller players trying to carry...\n",
       "4             What do you think about fortnite right now?\n",
       "5                              getting minecraft dungeons\n",
       "                              ...                        \n",
       "1804    RT @puppyprasanna: ok..let's settle this..\\n\\n...\n",
       "1805    RT @iamwitman: Memes and pubg to me : https://...\n",
       "1806    @dyinghearts @iRaeBandz @_Suicibe_ @luvcnnr @R...\n",
       "1807    RT @WafflesFN: Self Revive in Fortnite??? http...\n",
       "1808    RT @xboxuk: Victory! ✨\\n\\nRT + Follow @XboxUK ...\n",
       "Name: textos, Length: 1585, dtype: object"
      ]
     },
     "execution_count": 37,
     "metadata": {},
     "output_type": "execute_result"
    }
   ],
   "source": [
    "df.textos[df.lang=='en']"
   ]
  },
  {
   "cell_type": "code",
   "execution_count": 38,
   "metadata": {},
   "outputs": [
    {
     "name": "stdout",
     "output_type": "stream",
     "text": [
      "Collecting spanish_sentiment_analysis\n",
      "  Using cached spanish_sentiment_analysis-1.0.0-py3-none-any.whl (15.8 MB)\n",
      "Requirement already satisfied: numpy in d:\\wpy64-3770\\python-3.7.7.amd64\\lib\\site-packages (from spanish_sentiment_analysis) (1.18.2+mkl)\n",
      "Collecting marisa-trie\n",
      "  Using cached marisa-trie-0.7.5.tar.gz (270 kB)\n",
      "Requirement already satisfied: scipy in d:\\wpy64-3770\\python-3.7.7.amd64\\lib\\site-packages (from spanish_sentiment_analysis) (1.4.1)\n",
      "Requirement already satisfied: nltk in d:\\wpy64-3770\\python-3.7.7.amd64\\lib\\site-packages (from spanish_sentiment_analysis) (3.4.5)\n",
      "Processing c:\\users\\javi\\appdata\\local\\pip\\cache\\wheels\\76\\03\\bb\\589d421d27431bcd2c6da284d5f2286c8e3b2ea3cf1594c074\\sklearn-0.0-py2.py3-none-any.whl\n",
      "Requirement already satisfied: six in d:\\wpy64-3770\\python-3.7.7.amd64\\lib\\site-packages (from nltk->spanish_sentiment_analysis) (1.14.0)\n",
      "Requirement already satisfied: scikit-learn in d:\\wpy64-3770\\python-3.7.7.amd64\\lib\\site-packages (from sklearn->spanish_sentiment_analysis) (0.22.2.post1)\n",
      "Requirement already satisfied: joblib>=0.11 in d:\\wpy64-3770\\python-3.7.7.amd64\\lib\\site-packages (from scikit-learn->sklearn->spanish_sentiment_analysis) (0.14.1)\n",
      "Building wheels for collected packages: marisa-trie\n",
      "  Building wheel for marisa-trie (setup.py): started\n",
      "  Building wheel for marisa-trie (setup.py): finished with status 'done'\n",
      "  Created wheel for marisa-trie: filename=marisa_trie-0.7.5-cp37-cp37m-win_amd64.whl size=139421 sha256=40e9d0a8cece09c4cd8bad76516d74e6b67d7618d92323b21b42f108f16aaee3\n",
      "  Stored in directory: c:\\users\\javi\\appdata\\local\\pip\\cache\\wheels\\01\\ac\\46\\c838fd1aee138a8fd92ae30b04020995182eb4d99dec1e12ea\n",
      "Successfully built marisa-trie\n",
      "Installing collected packages: marisa-trie, sklearn, spanish-sentiment-analysis\n",
      "Successfully installed marisa-trie-0.7.5 sklearn-0.0 spanish-sentiment-analysis-1.0.0\n",
      "Note: you may need to restart the kernel to use updated packages.\n"
     ]
    },
    {
     "name": "stderr",
     "output_type": "stream",
     "text": [
      "WARNING: You are using pip version 20.0.2; however, version 20.1.1 is available.\n",
      "You should consider upgrading via the 'D:\\WPy64-3770\\python-3.7.7.amd64\\python.exe -m pip install --upgrade pip' command.\n"
     ]
    }
   ],
   "source": [
    "%pip install spanish_sentiment_analysis"
   ]
  },
  {
   "cell_type": "code",
   "execution_count": 39,
   "metadata": {},
   "outputs": [
    {
     "name": "stderr",
     "output_type": "stream",
     "text": [
      "D:\\WPy64-3770\\python-3.7.7.amd64\\lib\\site-packages\\sklearn\\externals\\joblib\\__init__.py:15: FutureWarning: sklearn.externals.joblib is deprecated in 0.21 and will be removed in 0.23. Please import this functionality directly from joblib, which can be installed with: pip install joblib. If this warning is raised when loading pickled models, you may need to re-serialize those models with scikit-learn 0.21+.\n",
      "  warnings.warn(msg, category=FutureWarning)\n"
     ]
    }
   ],
   "source": [
    "from classifier import SentimentClassifier"
   ]
  },
  {
   "cell_type": "code",
   "execution_count": 40,
   "metadata": {},
   "outputs": [],
   "source": [
    "analizador = SentimentClassifier()"
   ]
  },
  {
   "cell_type": "code",
   "execution_count": 43,
   "metadata": {},
   "outputs": [
    {
     "data": {
      "text/plain": [
       "0.04073721614472117"
      ]
     },
     "execution_count": 43,
     "metadata": {},
     "output_type": "execute_result"
    }
   ],
   "source": [
    "analizador.predict(textos[0])"
   ]
  },
  {
   "cell_type": "code",
   "execution_count": 44,
   "metadata": {},
   "outputs": [],
   "source": [
    "df['sentimiento'] = df.textos.apply(analizador.predict)"
   ]
  },
  {
   "cell_type": "code",
   "execution_count": 47,
   "metadata": {},
   "outputs": [],
   "source": [
    "df['sentimiento'][df.lang=='en'] = -1"
   ]
  },
  {
   "cell_type": "code",
   "execution_count": 49,
   "metadata": {},
   "outputs": [
    {
     "data": {
      "text/plain": [
       "<matplotlib.axes._subplots.AxesSubplot at 0x290f14b7a88>"
      ]
     },
     "execution_count": 49,
     "metadata": {},
     "output_type": "execute_result"
    },
    {
     "data": {
      "image/png": "[encoded data removed]",
      "text/plain": [
       "<Figure size 432x288 with 1 Axes>"
      ]
     },
     "metadata": {
      "needs_background": "light"
     },
     "output_type": "display_data"
    }
   ],
   "source": [
    "df['sentimiento'][df.lang=='es'].hist()"
   ]
  },
  {
   "cell_type": "code",
   "execution_count": 50,
   "metadata": {},
   "outputs": [
    {
     "name": "stdout",
     "output_type": "stream",
     "text": [
      "Collecting textblob\n",
      "  Using cached textblob-0.15.3-py2.py3-none-any.whl (636 kB)\n",
      "Requirement already satisfied: nltk>=3.1 in d:\\wpy64-3770\\python-3.7.7.amd64\\lib\\site-packages (from textblob) (3.4.5)\n",
      "Requirement already satisfied: six in d:\\wpy64-3770\\python-3.7.7.amd64\\lib\\site-packages (from nltk>=3.1->textblob) (1.14.0)\n",
      "Installing collected packages: textblob\n",
      "Successfully installed textblob-0.15.3\n",
      "Note: you may need to restart the kernel to use updated packages.\n"
     ]
    },
    {
     "name": "stderr",
     "output_type": "stream",
     "text": [
      "WARNING: You are using pip version 20.0.2; however, version 20.1.1 is available.\n",
      "You should consider upgrading via the 'D:\\WPy64-3770\\python-3.7.7.amd64\\python.exe -m pip install --upgrade pip' command.\n"
     ]
    }
   ],
   "source": [
    "%pip install textblob"
   ]
  },
  {
   "cell_type": "code",
   "execution_count": 51,
   "metadata": {},
   "outputs": [],
   "source": [
    "from textblob import TextBlob"
   ]
  },
  {
   "cell_type": "code",
   "execution_count": 54,
   "metadata": {},
   "outputs": [],
   "source": [
    "blob = TextBlob(textos[10])"
   ]
  },
  {
   "cell_type": "code",
   "execution_count": 57,
   "metadata": {},
   "outputs": [
    {
     "name": "stdout",
     "output_type": "stream",
     "text": [
      "Sentiment(polarity=0.0, subjectivity=0.0)\n",
      "Sentiment(polarity=0.45000000000000007, subjectivity=0.825)\n"
     ]
    }
   ],
   "source": [
    "for sentence in blob.sentences:\n",
    "    print(sentence.sentiment)"
   ]
  },
  {
   "cell_type": "code",
   "execution_count": 59,
   "metadata": {},
   "outputs": [
    {
     "data": {
      "text/plain": [
       "Sentiment(polarity=0.45000000000000007, subjectivity=0.825)"
      ]
     },
     "execution_count": 59,
     "metadata": {},
     "output_type": "execute_result"
    }
   ],
   "source": [
    "blob.sentiment"
   ]
  },
  {
   "cell_type": "code",
   "execution_count": 60,
   "metadata": {},
   "outputs": [],
   "source": [
    "def analiza_polarity(texto):\n",
    "    blob = TextBlob(texto)\n",
    "    return blob.polarity"
   ]
  },
  {
   "cell_type": "code",
   "execution_count": 61,
   "metadata": {},
   "outputs": [
    {
     "data": {
      "text/plain": [
       "0.45000000000000007"
      ]
     },
     "execution_count": 61,
     "metadata": {},
     "output_type": "execute_result"
    }
   ],
   "source": [
    "analiza_polarity(textos[10])"
   ]
  },
  {
   "cell_type": "code",
   "execution_count": 69,
   "metadata": {},
   "outputs": [],
   "source": [
    "df['sentimiento_en'] = -1.0"
   ]
  },
  {
   "cell_type": "code",
   "execution_count": 70,
   "metadata": {},
   "outputs": [
    {
     "name": "stdout",
     "output_type": "stream",
     "text": [
      "<class 'pandas.core.frame.DataFrame'>\n",
      "RangeIndex: 1809 entries, 0 to 1808\n",
      "Data columns (total 7 columns):\n",
      " #   Column          Non-Null Count  Dtype  \n",
      "---  ------          --------------  -----  \n",
      " 0   textos          1809 non-null   object \n",
      " 1   minecraft       1809 non-null   bool   \n",
      " 2   fortnite        1809 non-null   bool   \n",
      " 3   pubg            1809 non-null   bool   \n",
      " 4   lang            1809 non-null   object \n",
      " 5   sentimiento     1809 non-null   float64\n",
      " 6   sentimiento_en  1809 non-null   float64\n",
      "dtypes: bool(3), float64(2), object(2)\n",
      "memory usage: 62.0+ KB\n"
     ]
    }
   ],
   "source": [
    "df.info()"
   ]
  },
  {
   "cell_type": "code",
   "execution_count": 71,
   "metadata": {},
   "outputs": [],
   "source": [
    "ingles = df.lang == 'en'"
   ]
  },
  {
   "cell_type": "code",
   "execution_count": 72,
   "metadata": {},
   "outputs": [],
   "source": [
    "df.sentimiento_en[ingles] = df.textos[ingles].apply(analiza_polarity)"
   ]
  },
  {
   "cell_type": "code",
   "execution_count": 73,
   "metadata": {},
   "outputs": [
    {
     "data": {
      "text/plain": [
       "0      -1.000000\n",
       "1       0.000000\n",
       "2       0.000000\n",
       "3       0.000000\n",
       "4       0.285714\n",
       "          ...   \n",
       "1804    0.000000\n",
       "1805    0.000000\n",
       "1806    0.000000\n",
       "1807    0.000000\n",
       "1808    0.450000\n",
       "Name: sentimiento_en, Length: 1809, dtype: float64"
      ]
     },
     "execution_count": 73,
     "metadata": {},
     "output_type": "execute_result"
    }
   ],
   "source": [
    "df.sentimiento_en"
   ]
  },
  {
   "cell_type": "code",
   "execution_count": 81,
   "metadata": {},
   "outputs": [
    {
     "data": {
      "text/plain": [
       "<matplotlib.axes._subplots.AxesSubplot at 0x290f14e4388>"
      ]
     },
     "execution_count": 81,
     "metadata": {},
     "output_type": "execute_result"
    },
    {
     "data": {
      "image/png": "[encoded data removed]",
      "text/plain": [
       "<Figure size 432x288 with 1 Axes>"
      ]
     },
     "metadata": {
      "needs_background": "light"
     },
     "output_type": "display_data"
    }
   ],
   "source": [
    "df.sentimiento_en[ingles & df.fortnite].hist()"
   ]
  },
  {
   "cell_type": "code",
   "execution_count": 78,
   "metadata": {},
   "outputs": [
    {
     "name": "stdout",
     "output_type": "stream",
     "text": [
      "@theta1x @NathanielleBuc1 @KnightFN_ Fortnite aint no esports lol just an e-playground for a bunch of kids\n",
      "minecraft cows are the best lesbian represention we have ever had but no one talks about it\n",
      "Minecraft Dungeons Best Armor – Which set should you choose? https://t.co/ZOcUCnkS3d #minecraftdungeons #esrbeveryone #Microsoft #Minecraft\n",
      "This could be another reason lol https://t.co/CBY5FRek3Z\n",
      "@joha7766 @kr4bby @memoirfn @Obeytheboii_11 @VimFN @UnknownxArmy1x Lol there like 100 millions k&amp;b player on fortnite\n",
      "RT @DonaldMustard: So proud and humbled by the talent and dedication of the 1000+ people working, from their homes, to make Fortnite awesom…\n",
      "Amelia Interrupted https://t.co/kOb5VmYHLN via @YouTube great video of her having to pause playing. #pottybreak… https://t.co/n5M6f5B1Y7\n",
      "Very nice\n",
      "@kekflx When is fortnite adding that as a legendary skin\n",
      "RT @Code_Abe: 2800 vbuck giveaway! Retweet and follow me to win. Ends in 48 hours. GOOD LUCK!! #Fortnite #GiveAway https://t.co/gqLIymFCoP\n",
      "@Thypeachcobbler All that makes me happy 🤔 then watching ThePeachCobbler reck some Fortnite lobbies today https://t.co/WW9X6EB9v8\n",
      "@Ph1LzA Hopefully you tchno and will together minecraft championship win\n",
      "Best method for unlocking Agent Peely\n",
      "#fornite \n",
      "\n",
      "https://t.co/hUBL1bWpsL\n",
      "RT @M3rcury115YT: Hey Guys and Gals! im #streaming #stream #Minecraft 115 day!!!  make sure you come and check it out!! \n",
      "#gamedev #GamersUn…\n",
      "@AchievementHunt Today's Minecraft episode was the best YDYD ever.  The end credits were awesome, too!\n",
      "God Level 👑 (Best Fortnite Highlights) - Linear Is Overpowered\n",
      "https://t.co/aXl8EeGDTR\n",
      "#Fortnite\n",
      "Miniamaker :… https://t.co/0EyaACX4NZ\n",
      "Best method for unlocking Agent Peely\n",
      "#Fortnite\n",
      "\n",
      "https://t.co/hUBL1bWpsL\n",
      "Best duo there ever was! Go check them out!\n",
      "RT @BlueFolf: the fox is the best Minecraft mob don't @ me https://t.co/zwCi32vxMl\n",
      "lol i swear\n",
      "RT @DonaldMustard: So proud and humbled by the talent and dedication of the 1000+ people working, from their homes, to make Fortnite awesom…\n",
      "@aeiddias @realclusterfuck and now imagine dialing in workers who are in Fortnite :D\n",
      "🔥 Check out @KinguinNet #Minecraft contest where you can win ❤️ $25 Minecraft Store Gift Cards -&gt; https://t.co/zH7FTu5ncs\n",
      "@JamesDarvall I miss you. Play Fortnite with me please lol 😂 I got a week off soon!\n",
      "RT @NVIDIAGeForceUK: Share Minecraft with RTX content, win awesome prizes! 💎\n",
      "\n",
      "Show us pictures or clips of your builds and explorations in…\n",
      "@Gi_mixer I thought you quit pubg lol 😉\n",
      "RT @ErasedCrew: 5000 followers is something to celebrate !\n",
      "\n",
      "To thank you,\n",
      "\n",
      "We organize an AMAZING CONTEST ! 🎁\n",
      "\n",
      "G-Pro Wireless + 144 Gaming…\n",
      "RT @moombamuffin: Lusse is building a ghibli inspired cat land and I'm so proud of his eye for details 😍😍🐾 #Minecraft https://t.co/GTAFowke…\n",
      "I hope I win\n",
      "@BaddyJessica again who do i have to clap on fortnite lol jk\n",
      "i making a giveaway guys will be gift card prize so come in and enter to win \n",
      "HERE is link https://t.co/V86z9vDeAl… https://t.co/ryNS3FMzf1\n",
      "@ksa_thfc Minecraft very good\n",
      "RT @ILif3ofdreads: Have a great stream buddy #giveaways\n"
     ]
    }
   ],
   "source": [
    "for row in df.textos[df.sentimiento_en >0.75 ]:\n",
    "    print(row)"
   ]
  },
  {
   "cell_type": "code",
   "execution_count": 82,
   "metadata": {},
   "outputs": [
    {
     "name": "stdout",
     "output_type": "stream",
     "text": [
      "Processing c:\\users\\javi\\appdata\\local\\pip\\cache\\wheels\\29\\2c\\06\\957b5a801b311507090697dde39473f3d70154f1ca7142efa8\\googletrans-2.4.0-py3-none-any.whlNote: you may need to restart the kernel to use updated packages.\n",
      "Requirement already satisfied: requests in d:\\wpy64-3770\\python-3.7.7.amd64\\lib\\site-packages (from googletrans) (2.23.0)\n",
      "Requirement already satisfied: chardet<4,>=3.0.2 in d:\\wpy64-3770\\python-3.7.7.amd64\\lib\\site-packages (from requests->googletrans) (3.0.4)\n",
      "Requirement already satisfied: certifi>=2017.4.17 in d:\\wpy64-3770\\python-3.7.7.amd64\\lib\\site-packages (from requests->googletrans) (2019.11.28)\n",
      "Requirement already satisfied: idna<3,>=2.5 in d:\\wpy64-3770\\python-3.7.7.amd64\\lib\\site-packages (from requests->googletrans) (2.9)\n",
      "\n"
     ]
    },
    {
     "name": "stderr",
     "output_type": "stream",
     "text": [
      "WARNING: You are using pip version 20.0.2; however, version 20.1.1 is available.\n",
      "You should consider upgrading via the 'D:\\WPy64-3770\\python-3.7.7.amd64\\python.exe -m pip install --upgrade pip' command.\n"
     ]
    },
    {
     "name": "stdout",
     "output_type": "stream",
     "text": [
      "Requirement already satisfied: urllib3!=1.25.0,!=1.25.1,<1.26,>=1.21.1 in d:\\wpy64-3770\\python-3.7.7.amd64\\lib\\site-packages (from requests->googletrans) (1.25.8)\n",
      "Installing collected packages: googletrans\n",
      "Successfully installed googletrans-2.4.0\n"
     ]
    }
   ],
   "source": [
    "%pip install googletrans"
   ]
  },
  {
   "cell_type": "code",
   "execution_count": 83,
   "metadata": {},
   "outputs": [],
   "source": [
    "from googletrans import Translator"
   ]
  },
  {
   "cell_type": "code",
   "execution_count": 84,
   "metadata": {},
   "outputs": [],
   "source": [
    "traductor = Translator()"
   ]
  },
  {
   "cell_type": "code",
   "execution_count": 86,
   "metadata": {},
   "outputs": [],
   "source": [
    "traduccion = traductor.translate(textos[0])"
   ]
  },
  {
   "cell_type": "code",
   "execution_count": 87,
   "metadata": {},
   "outputs": [
    {
     "data": {
      "text/plain": [
       "'The cards are already underway | Fortnite chill | -10 FPS for ever https://t.co/8AgxfyLYgW'"
      ]
     },
     "execution_count": 87,
     "metadata": {},
     "output_type": "execute_result"
    }
   ],
   "source": [
    "traduccion.text"
   ]
  },
  {
   "cell_type": "code",
   "execution_count": null,
   "metadata": {},
   "outputs": [],
   "source": []
  }
 ],
 "metadata": {
  "kernelspec": {
   "display_name": "Python 3",
   "language": "python",
   "name": "python3"
  },
  "language_info": {
   "codemirror_mode": {
    "name": "ipython",
    "version": 3
   },
   "file_extension": ".py",
   "mimetype": "text/x-python",
   "name": "python",
   "nbconvert_exporter": "python",
   "pygments_lexer": "ipython3",
   "version": "3.7.7"
  }
 },
 "nbformat": 4,
 "nbformat_minor": 4
}
