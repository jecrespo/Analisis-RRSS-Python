{
 "cells": [
  {
   "cell_type": "code",
   "execution_count": 1,
   "metadata": {},
   "outputs": [],
   "source": [
    "import tweepy\n",
    "from twitter_secrets import CONSUMER_KEY, CONSUMER_SECRET, ACCESS_TOKEN, ACCESS_TOKEN_SECRET\n",
    "auth = tweepy.OAuthHandler(CONSUMER_KEY, CONSUMER_SECRET)\n",
    "auth.set_access_token(ACCESS_TOKEN, ACCESS_TOKEN_SECRET)\n",
    "\n",
    "api = tweepy.API(auth, wait_on_rate_limit=False, wait_on_rate_limit_notify=False)"
   ]
  },
  {
   "cell_type": "code",
   "execution_count": 2,
   "metadata": {},
   "outputs": [],
   "source": [
    "class MyStreamListener(tweepy.StreamListener):\n",
    "    def on_status(self, status):\n",
    "        print(status.text)\n",
    "\n",
    "stream_listener = MyStreamListener()\n",
    "\n",
    "\n",
    "class OnMemoryStreamListener(tweepy.StreamListener):\n",
    "    def __init__(self, *args, **kwargs):\n",
    "        \n",
    "        super().__init__(*args, **kwargs)\n",
    "        self.statuses = []\n",
    "\n",
    "    def on_status(self, status):\n",
    "        print(status.text)\n",
    "        self.statuses.append(status)\n",
    "        \n",
    "stream_listener = OnMemoryStreamListener()\n"
   ]
  },
  {
   "cell_type": "code",
   "execution_count": 4,
   "metadata": {},
   "outputs": [
    {
     "name": "stdout",
     "output_type": "stream",
     "text": [
      "Start streaming.\n",
      "RT @NYCSchools: NYC students! 🟩🟦🟥🟧 Join the @PlayCraftLearn's 2020 #MinecraftEdu Challenge to Build a Better World! 🟩🟦🟥🟧 Visit https://t.co…\n",
      "RT @ImEntoYT: SORTEO\n",
      "\n",
      "1x Pase de batalla de la temporada 3 capítulo 2 de #Fortnite\n",
      "\n",
      "- Requisitos en la foto (si no me agregáis no os podré…\n",
      "PUBG: Pacific Underweight Bookcase Glossolalia\n",
      "@RoseHQs Recruit Me 👀🌹\n",
      "#BewareRose #Rose10k #RoseChekz #fortnite #rose \n",
      "@RoseHQs @bababanoush https://t.co/eNDJ1Zo7F2\n",
      "RT @GorditosGatitos: gatito minecraft https://t.co/Yw0olpbeaz\n",
      "RT @GorditosGatitos: gatito minecraft https://t.co/Yw0olpbeaz\n",
      "RT @FNPhootographer: Moxie is up to something 👀💛\n",
      "\n",
      "Just some tests with light!\n",
      "\n",
      "#Fortnite #FortniteArt #Blender3D #Render #FortniteGame #For…\n",
      "RT @_pqppotter: harry styles as minecraft minerals; a thread https://t.co/8ziRjfeog8\n",
      "#الاصنام_في_ببجي Please cancel idols and strengthen the security system of Bigji game to get rid of hackers who des… https://t.co/UHVJ0Mi73s\n",
      "RT @MrKeroro10: Si Fortnite retrasa por lo de Estados Unidos la temporada otra vez y no sale el 11 doy follow a todos los que dejen RT a es…\n",
      "@_Jam0oo @nonnugly @Cosmic_CometX @FortniteFunny Bro stfu. If u don’t like fortnite than get off pages for it. Sped\n",
      "RT @Stolen_4725: Después de mucho tiempo, decidí hacer un wallpaper de minecraft para @MaauGuerrero y @MrSuamps, espero y les guste ya que…\n",
      "#Fortnite según nuevas filtraciones en la siguiente temporada tendremos una moto de agua como nuevo vehículo! https://t.co/v5ihmLU5d3\n",
      "RT @aFortniteMom: note:\n",
      "These were my LAST gifts untill also get supported. Sorry but checked my creator&amp;in January 24 ppl used our code, t…\n",
      "RT @bobaocto: A late night doodle for fun #fortnite #fortnitechapter2 https://t.co/SlmYGQPNey\n",
      "RT @JGamblin: My son spent the first day of his Minecraft development class trying to downgrade from JDK 1.13 to 1.8.  Most realistic devel…\n",
      "juegas minecraft no tienes opinión\n",
      "My kid is very proud that he made me my very own THEME PARK in #MINECRAFT https://t.co/VUHbsYvxyW\n",
      "@NawHydrax @chicho5121 @Dunkface1 @choochoo69_ @Avery_FN Oh wait... you said valorant views will be lower when it c… https://t.co/8cocThSXyj\n",
      "@heshwbarznji Hi Aw xarka wadazann scar L bas la pubg haya bye\n",
      "📢 Attention #Fortnite players, 25 minutes left to signup!\n",
      "\n",
      "🔜 [NA|EU] 1V1 ELIMINATION RACE tournament!\n",
      "\n",
      "Sign your te… https://t.co/rTDmKT4g1Y\n",
      "im convinced all people that still play fortnite take adderall\n",
      "@RzMaTa une pp fortnite y'a 2 ans matanuno jpp\n",
      "RT @GorditosGatitos: gatito minecraft https://t.co/Yw0olpbeaz\n",
      "ill do the whole \"art\" thing once school gets over with (if i dont get kicked out that is) and once i get bored with minecraft.\n",
      "RT @MrKeroro10: Si Fortnite retrasa por lo de Estados Unidos la temporada otra vez y no sale el 11 doy follow a todos los que dejen RT a es…\n",
      "RT @Stolen_4725: Después de mucho tiempo, decidí hacer un wallpaper de minecraft para @MaauGuerrero y @MrSuamps, espero y les guste ya que…\n",
      "Check out my broadcast from my PlayStation 4! #PS4live (Fortnite)  live at https://t.co/YNe3ca1bgZ\n",
      "Playing Minecraft and more bs on stream, watch here https://t.co/wpt8qR1NGj\n",
      "i went to play pubg and now i have whole tl in tr*mps nudes?\n",
      "Minecraft stream tonight🎈\n",
      "RT @GorditosGatitos: gatito minecraft https://t.co/Yw0olpbeaz\n",
      "Check out my broadcast from my PlayStation 4! #PS4live (Fortnite)  live at https://t.co/XOWgi8xduk\n",
      "Harbor Map - Agent Under Fire | Re-made in Fortnite Creative\n",
      "\n",
      "https://t.co/urexTEXNuw\n",
      "\n",
      "#YouTube #Fortnite #FortniteCreative\n",
      "RT @MrKeroro10: Si Fortnite retrasa por lo de Estados Unidos la temporada otra vez y no sale el 11 doy follow a todos los que dejen RT a es…\n",
      "“Fortnite Travis Scott Event But It’s Animal Crossing” out now!\n",
      "\n",
      "❤️+♻️\n",
      "\n",
      "https://t.co/FRaHEeqsYA\n",
      "RT @GorditosGatitos: gatito minecraft https://t.co/Yw0olpbeaz\n",
      "I don't see another delay of fortnite chapter 2, season 3 as an impossibility. I kinda hope not but I would underst… https://t.co/5erNbnK43Q\n",
      "RT @dangwoot: Don't celebrate after killing me with a shotgun. You're not talented you're just a slave to one gun. You have no talent other…\n",
      "RT @Golosidad_: SORTEO OP 👌\n",
      "\n",
      "-1 Capa Email Donator 🎁\n",
      "\n",
      "-1 Minecraft Unmigrated 🎁\n",
      "\n",
      "Seguir:@Golosidad_ @OlaKeAcez @MundoMcVnzla 👀👀\n",
      "\n",
      "DARLE LIKE…\n",
      "RT @GorditosGatitos: gatito minecraft https://t.co/Yw0olpbeaz\n",
      "@pb_vinex mine dungeon, hardcore minecraft, tutoriais do vinexpb, jornal do vinexpb\n",
      "@SingularityFN Make skins are better than female skins in fortnite\n",
      "@Bryson44798643 @Formula Fortnite\n",
      "RT @TheGrefg: #NewVIDEO\n",
      "Vuelve Calvaland, vuelve el peor jugador de Minecraft...\n",
      "\n",
      "🤬🔥 \"AMPETER ME TROLEA CON UN COFRE DEL TESORO\" 🔥🤬\n",
      "\n",
      "RT sis…\n",
      "RT @bobaocto: A late night doodle for fun #fortnite #fortnitechapter2 https://t.co/SlmYGQPNey\n",
      "RT @GorditosGatitos: gatito minecraft https://t.co/Yw0olpbeaz\n",
      "RT @StoolGametime: The Travis Scott concert in Fortnite is UNREAL https://t.co/6FO26eWDI8\n",
      "@yungchip Accept 1 friend request every time you die on fortnite\n",
      "RT @SenixFN: Hey Astronaut! It's time for a giveaway! \n",
      "\n",
      "WIN 1 OF 3 SEASON 3 BATTLE PASSES!\n",
      "1. Follow\n",
      "@SenixFN + @TeamCreativeCM\n",
      " on Twitter…\n",
      "RT @GorditosGatitos: gatito minecraft https://t.co/Yw0olpbeaz\n",
      "RT @JeltyTV: Espero que los de Fortnite se den cuenta que nadie quiere una FNCS de Solos y la cambie por la de Trios en la nueva temporada\n",
      "RT @kaiisyourhomie: anyway I wanna do the fortnite L dance in front of the cops and if I get arrested I can truthfully say I got arrested f…\n",
      "THEY DELAYED THE EVENT AND SEASON TO NEXT WEEK!\n",
      "🔥SUPER TUTORIAL🔥\n",
      "\n",
      "NUEVA CASA DE PIEDRA CON PISCINA!!!!!\n",
      "👉https://t.co/T5jAlPSNeS👈\n",
      "\n",
      "#Minecraft #MinecraftTutorial… https://t.co/6D76GAi73F\n",
      "Check out my broadcast from my PlayStation 4! #PS4live (Minecraft: Story Mode)  live at https://t.co/rSFAeNbwZC\n",
      "RT @bobaocto: A late night doodle for fun #fortnite #fortnitechapter2 https://t.co/SlmYGQPNey\n",
      "Fortnite ! Contigo  siempre es mejor!Que esperas de la nueva season? https://t.co/K6zOz9gInB\n",
      "Valorants back, never playing fortnite again shitty ass game\n",
      "RT @GorditosGatitos: gatito minecraft https://t.co/Yw0olpbeaz\n",
      "RT @Golosidad_: SORTEO OP 👌\n",
      "\n",
      "-1 Capa Email Donator 🎁\n",
      "\n",
      "-1 Minecraft Unmigrated 🎁\n",
      "\n",
      "Seguir:@Golosidad_ @OlaKeAcez @MundoMcVnzla 👀👀\n",
      "\n",
      "DARLE LIKE…\n",
      "@minecraft there's a glitch In my bedrock world where I can not hit other people so there's no PVP\n",
      "RT @AshaSarkar13: You'll never be bored with online streams of #AngryBirds\n",
      "Place bets and may fortune smile on you.\n",
      "\n",
      "⏺https://t.co/i6YzL4X6…\n",
      "RT @GorditosGatitos: gatito minecraft https://t.co/Yw0olpbeaz\n",
      "RT @GorditosGatitos: gatito minecraft https://t.co/Yw0olpbeaz\n",
      "RT @GorditosGatitos: gatito minecraft https://t.co/Yw0olpbeaz\n",
      "RT @StarSki_: COD &gt;&gt;&gt;&gt; Fortnite\n",
      "Follow @zwxaty for more Fortnite vidz\n",
      "#fortnite #fortnitecommunity \n",
      "#fortniteclips #faze5 #fortnitemontage… https://t.co/7Nd9w25cUm\n",
      "RT @jeyfriskrt: \"Desert Palace\"\n",
      "Built on #MCPE\n",
      "GIF by @LordKingCrown \n",
      "More pictures  https://t.co/uwvKIfZmgR\n",
      " #mcpe #mcpebuild #Minecraft h…\n",
      "RT @Godar4President: white people are only okay with looting when it’s done:\n",
      "1. to a foreign country\n",
      "2. in Fortnite\n",
      "RT @Golosidad_: SORTEO OP 👌\n",
      "\n",
      "-1 Capa Email Donator 🎁\n",
      "\n",
      "-1 Minecraft Unmigrated 🎁\n",
      "\n",
      "Seguir:@Golosidad_ @OlaKeAcez @MundoMcVnzla 👀👀\n",
      "\n",
      "DARLE LIKE…\n",
      "Mecánicas: 15%\n",
      "IQ/mindset: 30%\n",
      "Aim: 25%\n",
      "LA SUERTE (zonas,loot, etc): 30%\n",
      "STREAM DE FORTNITE EM https://t.co/X3M286uIiB\n",
      "RT @bbnx_: tw/ dick\n",
      "me and kacey just spent about 4+ hours building a fucking dick in minecraft and and painfully slaved over a schlatt coi…\n",
      "RT @MrKeroro10: Si Fortnite retrasa por lo de Estados Unidos la temporada otra vez y no sale el 11 doy follow a todos los que dejen RT a es…\n",
      "RT @MrKeroro10: Si Fortnite retrasa por lo de Estados Unidos la temporada otra vez y no sale el 11 doy follow a todos los que dejen RT a es…\n",
      "Estoy transmitiendo PUBG en vivo, vení y juguemos https://t.co/qFT7Xb227k\n",
      "📢 I'm starting 🔴 LIVE on #Minecraft !  https://t.co/TRUrWzYjJj #twitch\n",
      "RT @MrKeroro10: Si Fortnite retrasa por lo de Estados Unidos la temporada otra vez y no sale el 11 doy follow a todos los que dejen RT a es…\n",
      "RT @Tata82695324: Kai una un chico muy adorable y soobin era todo lo contrario .\n",
      "Pero un día jugando Minecraft Kai le dice algo muy raro a…\n",
      "RT @corbyn_jones13: You would have thought I played fortnite the way my circle got smaller.😎\n",
      "retweet to get this glitch out there #fortnite #glitch https://t.co/xboZRsDlxf\n",
      "Stopped.\n",
      "Done.\n"
     ]
    }
   ],
   "source": [
    "stream = tweepy.Stream(auth = api.auth, \n",
    "                       listener=stream_listener)\n",
    "continue_capture = True\n",
    "while continue_capture:\n",
    "    try:\n",
    "        print('Start streaming.')\n",
    "        stream.filter(track=['fortnite', 'minecraft', 'pubg'], languages=['es', 'en'])\n",
    "    except KeyboardInterrupt as e :\n",
    "        print(\"Stopped.\")\n",
    "        continue_capture = False\n",
    "    finally:\n",
    "        print('Done.')\n",
    "        stream.disconnect()"
   ]
  },
  {
   "cell_type": "code",
   "execution_count": 5,
   "metadata": {},
   "outputs": [
    {
     "name": "stdout",
     "output_type": "stream",
     "text": [
      "Start streaming.\n",
      "RT @GNBZuliaOficial: En Función de Justicia Social!\n",
      "\n",
      "Efectivos del .@GNB_ZuliaD112 atendiendo al Plan de Contingencia de distribución de Ag…\n",
      "RT @SomosIncesVzla: Min. de Transporte, @HipolitoMRT2: Este miércoles 03 de junio saldrá una resolución con las normas sanitarias para el t…\n",
      "RT @jeonykook: is that all you have to say? terminate our sponsor contract pls ur not answering my emails :)\n",
      "RT @LidiaAc7: @Pameeeeh_ @Leticiacji @Angiefloreshn @_DennisArana Que sad \n",
      "\n",
      "Moría y revivía nuevamente ja,ja\n",
      "\n",
      "BRILLANDO EN LA VOZ\n",
      "RT @brianuzamakii: MY JAW DROPPED SO FAST LMAOO https://t.co/UgBxOrpYFM\n",
      "RT @ChristRobbins: Voice over the police scanner last night: \"Run them over.\"\n",
      "\n",
      "A protester who was there says women were leading a chant in…\n",
      "RT @chancetherapper: ONE bad apple spoils the bunch. And yall got SEVERAL at EVERY precinct. what if I told you the Tree they came from was…\n",
      "@realDonaldTrump Not with you in office! You do not have the integrity, intelligence nor empathy to lead. November can't come soon enough!\n",
      "@JoycyGold Lovely\n",
      "RT @hsawyerrrr: seth rogen explaining it in the simplest way possible https://t.co/UQ24CA1eZf\n",
      "RT @raquelmoralesx: a ver, repetid conmigo:\n",
      "\n",
      "Que alguien tenga un cuerpo normativo no significa que se sienta bien o que no tenga complejos…\n",
      "RT @Mrtdogg: Message to black lives matter,  from angry woman from the bronx ..... https://t.co/E67Cv2ifeB\n",
      "RT @herfavsenpai: Her: I just wanna be one of the guys\n",
      "\n",
      "How I am with the guys: https://t.co/HvilIQhFVy\n",
      "@BreitbartNews F off already. #BlackOutTuesday\n",
      "RT @SenSanders: The American people are sick and tired of police abuse without consequences. Congress must end \"qualified immunity\" now so…\n",
      "RT @_camrynjadee: I’ve been seeing so many people come out about how old they were when they were taken advantage of and then ppl are comin…\n",
      "RT @realDonaldTrump: My Admin has done more for the Black Community than any President since Abraham Lincoln. Passed Opportunity Zones with…\n",
      "RT @JISTHETlC: EVERYONE SHARE THIS BEFORE IT GETS MYSTERIOUSLY TAKEN DOWN https://t.co/eHQFxt2LWx\n",
      "RT @0hmyfuck: Les vengo a alegrar el día. Se acuerdan de la perrita que salió en todos lados porque había sido encontrada en brea? Bueno ht…\n",
      "RT @adamgurri: James Baldwin. I mean, he hits you with this right out of the gate. https://t.co/fLTTw3OaFE\n",
      "RT @snorlaxdoie_: what to do with the bricks: set them up as barricades the way hongkong did so cop cars will have a hard time manouvering…\n",
      "@stillgray This has gotta be staged\n",
      "RT @classybets: Random ass skin in my insvtory \n",
      "RT \n",
      "Follow \n",
      "Tag 10 https://t.co/8ShlcGHhJB\n",
      "Please help support bisexual pride, add a #Twibbon now! https://t.co/V8igBPFwP5\n",
      "RT @petrogustavo: Esta es Francia después de la pandemia. es una manifestación contra el asesinato racial en EEUU.\n",
      "\n",
      "Cuando haremos la prime…\n",
      "@MaricruzOyambu1 Otro borolabot tragatortas que no puede comprobar q no lo es, pero según el borolas no contrata mu… https://t.co/v2zAVZk3Ck\n",
      "RT @RepValDemings: This president, who wouldn’t lift a finger to help Americans dying of COVID-19, will gladly impose martial law. Resist.\n",
      "RT @sza: GET OUT NOW IF YOU ON HOLLYWOOD AND VINE OR IF YOU KNOW SOMEONE OUT THERE THEY BOUT TO BOX YALL IN .\n",
      "Lmfaaaooooo 🤣🤣🤣\n",
      "@britticisms @YazaNico Take it from someone who is half white and lived in mostly white suburbs immediately outside… https://t.co/9TINYTfrl2\n",
      "Ha! No lies told...\n",
      "RT @AyoMadiiii: THESE PEOPLE OPENED THEIR HOMES TO SHELTER PEACEFUL PROTESTERS FROM TEAR GAS AND RUBBER BULLETS!!!! STOP LYING ON THEIR NAM…\n",
      "RT @juisjudy: if he’s unarmed then why do you need to shoot him joe https://t.co/7I1kH19PkF\n",
      "Porque la gente le tiene miedo a la palabra \"política\", automáticamente lo relacionan con algo malo, con que eso no… https://t.co/P0TSdwZUxg\n",
      "#EdomexSinResultados \n",
      " @Edomex no ha atendido la petición de miles de mexiquenses que le piden:*\n",
      "a)*Alimentos* pues… https://t.co/8ucWw0zK6t\n",
      "Oh Dios mi hermana me va a matar de un susto uno de estos días...\n",
      "RT @BarbonPrieto5: ¿Alguien sabe donde esta el boton para reiniciar este 2020?\n",
      "@bron_hansen If 2020 was a person\n",
      "RT @siinverguenzaaa: FUCK racists and FUCK rapists.\n",
      "Me dice que me extraña y cuando vengo aca ni bola, hasta los besos me desprecia 😂 le cuento algo y ni bola, jajaja ya fue\n",
      "RT @7rl: Let's all thank the police for their courage in leaving their families unprotected, while they go thugging.\n",
      "RT @ShitpostRandom: Me voy a desinstalar Twitter adiós https://t.co/4np4BL21Ee\n",
      "RT @fIawina: schools be like:\n",
      "\n",
      "bullying: 🤷🏻‍♀️\n",
      "racism: 🤷🏻‍♀️\n",
      "homophobia: 🤷🏻‍♀️\n",
      "\n",
      "chewing gum: 🤬\n",
      "wearing hats: 🤬\n",
      "shirts that show your should…\n",
      "RT @GovTimWalz: Our Minnesota Department of Human Rights today filed a civil rights charge against the MPD. @mnhumanrights will investigate…\n",
      "RT @zeldacw: Just realized I overestimated ChaCha's height....\n",
      "cuz I forgot about his \"government official boots\"😑\n",
      "\n",
      "168 cm was his height..…\n",
      "RT @RIPmika: Please stop over-praising white creators for tweeting and posting about events right now. Save that energy for your support of…\n",
      "@Radio2000ZA Focus on the current relationship and continue supporting your kids. Materialistic attraction ends.\n",
      "RT @cheybuttaaa: slimeball said light this bitch up ok 🤣 https://t.co/nTWRDWYuSS\n",
      "RT @AdoptionsUk: Please share to help Parsnip 1 find a home Essex UK\n",
      "\n",
      "Available now lovely lurcher looking to be only pet in an adult or ol…\n",
      "RT @sanweeoh: HE DIDNT STUTTER https://t.co/j14U0IHDr6\n",
      "RT @kdpanthera: LMAO MY MAN REALLY SAID \"GO FUCK YOURSELVES, I'LL SEE YOU ALL IN HELL\" AT THE OFFICIAL LA POLICE COMMISSION MEETING https:/…\n",
      "RT @spidadmitchell: Stop it...\n",
      "#EdomexSinResultados @Edomex @alfredodelmazo  @SeducEdomex  donde está el pago a los 702 maestros que trabajan sin… https://t.co/ox7JGp0xGu\n",
      "Statement from the U.S. Federation of the Sisters of St. Joseph @ Sisters of St. Joseph, Brentwood, NY https://t.co/ezMfskzGVL\n",
      "@WalterDossier @GremioDocente @teleSURtv y que quiere q digamos?que va a tomar de su propio chocolate y a empezar a… https://t.co/fRfyT5nXP2\n",
      "RT @MunroShaely: I love seth rogen’s approach to racists https://t.co/QmNRyVCI9s\n",
      "@enorelbot La sociedad la humanidad aún etiqueta todo, separamos unos de otros cuando no, todos somo iguales, seres… https://t.co/ntE1TyeWbl\n",
      "Facts!\n",
      "RT @RichardGrenell: Happy Pride! 🏳️‍🌈 \n",
      "thanks, @realDonaldTrump.\n",
      "I know I’m going through a lot when I start drinking wine nge straw💀\n",
      "RT @OVargas52: Some Bolivian coup supporters are comparing their fascist anti-Evo protests to the BLM movement.\n",
      "\n",
      "Those who supported the ma…\n",
      "@JohnTyl94282125 @YourFriendZippy @mishtal @IDF Why, didn't she sign up with the @BritishArmy?  I guess fighting th… https://t.co/h0cO9J9qAb\n",
      "RT @AtypicxlSoul: ℍ𝕒𝕪 𝕟𝕚𝕧𝕖𝕝𝕖' 𝕡𝕒𝕣𝕒 𝕥𝕠𝕕𝕠 𝕖𝕟 𝕖𝕤𝕥𝕒 𝕧𝕚𝕒'\n",
      "\n",
      "𝑸𝒖𝒆́ 𝒕𝒆 𝒍𝒐 𝒆𝒙𝒑𝒍𝒊𝒒𝒖𝒆 𝒍𝒂 𝒒𝒖𝒆 𝒍𝒍𝒆𝒗𝒂 𝑪𝒂𝒎𝒂𝒓𝒐́𝒏\n",
      "𝒆𝒏 𝒍𝒂 𝒈𝒖𝒂𝒏𝒕𝒆𝒓𝒂, \n",
      "𝒒𝒖𝒆 𝒍𝒐𝒔 𝒒𝒖𝒆 𝒍𝒐 𝒍𝒍𝒆𝒗𝒂𝒏 𝒆𝒏 𝒍…\n",
      "RT @bangtaateez: es buen momento para recordarles que HONGJOONG BEST LEADER existe \n",
      "https://t.co/tZnFJUjMzw\n",
      "RT @satibesss: oye wey era puro pedo https://t.co/OpbnA9mqsu\n",
      "What an interesting show it was 😁😁 #NBSBarometer\n",
      "RT @chancetherapper: They want peaceful protest, but aint too worried about peaceful policing. They’ll lecture you about “fighting violence…\n",
      "RT @Dremodrizzy: Ole l’everybody https://t.co/mX9Zc68wnd\n",
      "RT @genmnz: this. https://t.co/0LC3DYoHer\n",
      "RT @TheBlackLayers: The police kneeling with and hugging protesters is like when your abusive boyfriend brings you flowers after hurting yo…\n",
      "RT @yemialadee: Common sense is not common.😪\n",
      "RT @jadyjordann: Someone genuinely actaully literally said this to me with their whole chest I’m so embarrassed for them https://t.co/5xxR2…\n",
      "i want to d word. my anxiety is through the roof 🤣🤣\n",
      "RT @derekjames150: I find it somewhat ironic that Jacob Rees Mogg, the man who went to Scotland to tell the Queen the PM wanted to prorogue…\n",
      "RT @JAYVERSACE: “when is kendrick gonna speak?”\n",
      "the nigga made a whole entire album about it\n",
      "@aaa_valery duda, ¿qué es para ustedes ~chapulinear~ ?\n",
      "RT @Novaesoul: @ErikReichenb4ch @chumaito Actual conversations on purpose\n",
      "RT @kdrizlee: They attend Vacaville High School and are about to be seniors. Their names are Sierra Hidgon,  Julianna Rowlands and Malia Ba…\n",
      "RT @aulanimitchell_: Please use BlackOutTuesday for your hashtag and not BlackLivesMatter. Though you might not realize it, you’re blocking…\n",
      "RT @_Jermaine36: We Not Done Yet .... 2 On The Way https://t.co/M772roWZpx\n",
      "@BenjaminPDixon But on a national scale\n",
      "RT @hsawyerrrr: seth rogen explaining it in the simplest way possible https://t.co/UQ24CA1eZf\n",
      "@joonrecs ofc aisha bb and idk either but im here for u &lt;33\n",
      "@Piemations Twitter post make me fell guilty for enjoying zootopia\n",
      "RT @gregnasif: Mitch McConnell and Donald Trump must be defeated this November to save the soul of America.\n",
      "\n",
      "Watch @MikeForKY explain how h…\n",
      "Now y'all already know how the French feel about revolution...\n",
      "@itsukarine Step on my balls with them\n",
      "RT @CameronxDonovan: i can confirm that dc police (and the other umpteen law enforcement agencies out there) were in fact breaking people’s…\n",
      "@murphy_marita @TomFitton @KathySoltani Amen\n",
      "RT @springer: Me and my friends were teargassed to make this political ad happen.\n",
      "#BunkerCoward will soon be the #BigLoser\n",
      "To my #LoveLansing friends (and hell, my enemies too), make sure you attend this meet-up with BLM Lansing chapter.\n",
      "\n",
      "https://t.co/oCwqQNLNLL\n",
      "RT @kelseybuckles: just so we're all completely clear, officer holte was killed in a shootout at an apartment last week and officer lyday w…\n",
      "Louis Vuitton leather leggings https://t.co/8js7opYmbc\n",
      "Todavía no puedo creer que te hayas ido, a pesar de que no eramos muy amigos siempre estabas ahí molestando adelant… https://t.co/PqmYosdXiS\n",
      "💖✨🥺COMO NO AMARLO SI ES DEMASIADO HERMOSO💖✨🥺 ÉL SIEMPRE AH DEMOSTRADO QUE AMA DEMASIADO A ARMY  DE ESO ESTOY MUY SE… https://t.co/P0jbjjElXf\n",
      "Han pasado 5 años desde que te vi por última vez ✨ #June2\n",
      "RT @MarskoOo: Yo creo q auron debería jugar pou q opinan\n",
      "RT @Ineoluwa: I pray God grants us PEACE.\n",
      "RT @abstrux: #WendysIsOver my dumbass thought this hashtag was about Wendy Williams https://t.co/y8Cex7rHfW\n",
      "RT @ewarren: Barr should be impeached and removed immediately—this recklessness is going to get more people killed.\n",
      "\n",
      "https://t.co/BTAT0vv28X\n",
      "@JuliaanNahueel Perdón, prometo levantar el nivel.\n",
      "@FreedomError404 By charging $25 per pilgrim, good old JAKAT MODEL from MUGHAL ERA. 🤔🤔\n",
      "RT @The_Acumen: So none of y’all think this blackout day shit is suspicious with how coordinated it is? Especially since today is an electi…\n",
      "RT @RCR750: Vox sobre los inmigrantes que están pensando en venir a España 🇪🇸 : \"No vengan\".\n",
      "https://t.co/gl0Wepkqak\n",
      "RT @CastroVerrier: VIDEOS: Varios periodistas de medios internacionales resultan heridos por la Policía durante las protestas en EE.UU. - R…\n",
      "RT @thereal_sjs17: To those I know and to those who I don’t know who have been affected by sexual violence, know that I love you and stand…\n",
      "RT @goodjobliz: Lot of black squares on my Instagram feed from people who haven’t said shit all week\n",
      "@belairgrassi HIS WHAT\n",
      "@RelatedCoffee @JeffreyCarlisle No I did not, you just have zero reading comprehension.\n",
      "RT @aishasdior: Today was also the one-week anniversary for George Floyd’s murder. \n",
      "#BlackLivesMattter \n",
      "#JusticeForGeorgeFloyd \n",
      "NO JUSTICE…\n",
      "@johnnyCreal @nprpolitics His base are racist idiot fucks. Screw them!\n",
      "@CutBrit @Jake_england123 Hey. Would you like to try share with me ?:))\n",
      "@AshaRangappa_ Proud to be Canadian 🇨🇦\n",
      "RT @ChinnyOh: Christ and racism don’t mix. You can’t say you love God and hate His creation. You can’t say you love God and ignore when peo…\n",
      "RT @rpsubguy: \"Oh...umm...hi there....seems you caught me at an....interesting time. I'm Ash, it's nice to meet you but...umm can you wait…\n",
      "Currently, Rick co-sponsors 335 bills in the House. From my reading, I was unable to find a SINGLE ONE that address… https://t.co/iCwSi6QK1E\n",
      "RT @piscedelic: you are so right the police are being terroists\n",
      "RT @mario_house: A ver si ahora vamos a tener que felicitarlos por no pegar a negros yo es que me cago en dios\n",
      "RT @DonaldJTrumpJr: This is what leadership, action and law &amp; order from @realDonaldTrump looks like. \n",
      "\n",
      "Big difference between this and wha…\n",
      "y’all stream white tears\n",
      "RT @SiberetSiberet: De nombre candidata y de apellido negra.\n",
      "@SarainAnnArbor It literally doesn't matter what the content of your video is. This is not a day to promote white v… https://t.co/e3rx9oYaOt\n",
      "@PatriotRechaza @GirealaDerecha @Macastagnola @FridaSiKahlo @sergioulloa1 @melnicksergio Ahí la tienen ..esos demon… https://t.co/6YBDoOYoSc\n",
      "RT @jroto_: normalicemos sudar de quienes no te hablan ni hacen ningún esfuerzo en mostrar un mínimo de interés en ti\n",
      "RT @NoDictaduras: @DanielDevray @AdelaKdeRaffo @Cabrosa18 @SGChocca @fritopendej @ElOjoChurrinche @DANIELIBARBURU @JulioCesarPradi @Nancyma…\n",
      "RT @jwskart: i miss 옌안 \n",
      "i miss 閆桉 \n",
      "i miss yanan\n",
      "RT @ArashMarkazi: A black family tried to get the attention of the police to protect a neighborhood store in Van Nuys and were immediately…\n",
      "@mancemansell @taylorsantiagoo Martial law is coming. It breaks me heart.\n",
      "RT @chuumaa2: #Anonymuos Por favor twittear xq no hay muchos de este video ,descarguenlo. https://t.co/Swp4i5pi9t\n",
      "RT @ElForoCofrade: La @pasiondelinares tocará tras el misterio de @Hdad_del_Carmen el próximo Miércoles Santo https://t.co/SRkdKUDshw\n",
      "RT @Mau_riicee: All my Fuck Trump Supporters check in 🗣✊🏾\n",
      "RT @milkyapron: FUCK DOLLSKILL! alternatives to shops at: BLACK OWNED EDITION 💗\n",
      "@salaxxxxxxxx Nice dreams for you x\n",
      "majority of the ppl who were protesting and shutting shit down in MN were Africans 💀\n",
      "RT @autumspice: I don't care how many celebrities speak up I WANT THE COPS THAT MURDERED ALL THESE PEOPLE.  CHARGED WITH THEIR MURDERS they…\n",
      "@SAT4NJENO ME MANEMAF\n",
      "@c_nasyyy I knew SOMEONE was gonna get it😭\n",
      "RT @saboralibertad: Micro-agresiones racistas (no tan micro) que debes eliminar. Especialmente si crees que “no eres racista”. Evalúa, escu…\n",
      "RT @ImFromTheBoot: Come on here baby💔😭 ! But y’all worried about your 8 year old being scared of “breathing sounds” gtffffff\n",
      "RT @ricardonirebi: @dssspivak @therecount Well, speaking about body language... https://t.co/E8CbICLpsO\n",
      "RT @jwgop: I expect any depravity from @realDonaldTrump But what in the world was the Chairman of the Joint Chiefs doing there walking arou…\n",
      "RT @berensbby: THREAD OF PETITIONS YOU PROBABLY HAVENT SIGNED\n",
      "RT @TheTrellster: Brenda really was a woke ass bitch 😂😂 https://t.co/f62vg7dySj\n",
      "RT @MonmouthPoll: NATIONAL POLL: 74% say country is on wrong track, an all-time low in seven years of national Monmouth polling. Up from 60…\n",
      "RT @TheJazzSoul: Marvin Gaye \n",
      "\n",
      "“What's Going On\"\n",
      "\n",
      "Soul Classic!\n",
      "\n",
      "https://t.co/pmt9tiaxvK\n",
      "#MarvinGaye #Music #Musica #Soul #BlackLivesMatter…\n",
      "@AnimuTiddieXprt @RatherMalicious Not a meaningful one. Only in junior high when it was like “I like you, you like… https://t.co/PlRr4L07DG\n",
      "RT @tanamongeau: peaceful protestors by the white house were tear gassed and shot with rubber bullets so the president couldn’t have a phot…\n",
      "@ELBUENBRO1 Tres con pasto y llorona güero.\n",
      "RT @amazontrollop: Influencers are the top 5 worst type of people in the world\n",
      "RT @stay_tgod: SAY HIS FUCKIN NAME. HIS PARENTS DIDNT NAME HIM HOMELESS HIGH SCHOOL STUDENT. HIS NAME IS MARTIN FOLSOM!!!\n",
      "RT @izzyjaxon: I see that our older generations still don’t know how cameras work.\n",
      "I am so damn fucking ready for Satan and his demons to take over my mind, body, soul, and anything else they fuckin… https://t.co/vkuHfHHRnI\n",
      "A rock of sense... as always!\n",
      "Trust and empower local innovation, those that work in the actual arena on a local le… https://t.co/fouayutVTu\n",
      "Trump nudes are out?!? I don’t see it one my tl. https://t.co/ePnZOQj8WT\n",
      "@Benzno_k END THEM https://t.co/6uUDdPuPyA\n",
      "Stopped.\n",
      "Done.\n"
     ]
    }
   ],
   "source": [
    "stream = tweepy.Stream(auth = api.auth, \n",
    "                       listener=stream_listener)\n",
    "try:\n",
    "    print('Start streaming.')\n",
    "    stream.sample(languages=['es', 'en'])\n",
    "except KeyboardInterrupt as e :\n",
    "    print(\"Stopped.\")\n",
    "finally:\n",
    "    print('Done.')\n",
    "    stream.disconnect()"
   ]
  },
  {
   "cell_type": "code",
   "execution_count": 9,
   "metadata": {},
   "outputs": [
    {
     "name": "stdout",
     "output_type": "stream",
     "text": [
      "300\n",
      "['#الاصنام_في_ببجي @PUBGMOBILE_ARB @Arabi_PUBG @PUBG @Arabi_PUBG Why are idols added in Sanhok mapWe are Muslims and… https://t.co/G2ajW5ncZa', \"RT @mochicrossing_: I'm not new to twitter but I'd love some more mutuals into any of the following🥺\\n\\nanimal crossing\\nstardew valley\\nzelda…\", \"@xFadePlayz @CheezPlees @notch @philIypao There's a secret Minecraft 2.0 ¯\\\\_(ツ)_/¯\", 'RT @GorditosGatitos: gatito minecraft https://t.co/Yw0olpbeaz', 'Así se verá la nueva temporada de Fortnite!', 'Check out my broadcast from my PlayStation 4! #PS4live (Fortnite)  live at https://t.co/2WoSwLiDD8', 'o|||||o\\nThe Hours of Service has begun for the stream, jump on the convoy!\\nhttps://t.co/Lrn7xqSBuF\\nMinecraft Dungeo… https://t.co/lFFO7a0pty', 'STREAMERS REACT TO *EVERYTHING* NEW in SEASON 2! (SO MUCH CHANGED!) FORTNITE UPDATE\\nhttps://t.co/GrP20Fhqsb', 'STREAMERS REACT TO *EVERYTHING* NEW in SEASON 2! (SO MUCH CHANGED!) FORTNITE UPDATE\\nhttps://t.co/0GQMeHoWY5', 'Minecraft on PS5 would actually be quite sick', 'Nauseating Fortnite moments that makes you love and hate it at the same ... https://t.co/N6t4o8tVsV via @YouTube', '@PUBGMOBILE Almost every day there are new updates and new skins and maps, but what about Pubg Mobile customer serv… https://t.co/zsGRfzSaiI', '@stupidtana fortnite people are weird', '#GameMusicChallenge, Day 11\\nPuzzle Game Music\\n\"Ecliptic\" from #IntelligentQube \\n\\nKudos to the brave producer at Son… https://t.co/madEsNsaW2', 'STREAMERS REACT TO *EVERYTHING* NEW in SEASON 2! (SO MUCH CHANGED!) FORTNITE UPDATE\\nhttps://t.co/QIERFIRu6C', 'RT @RinconFortnite: Duración de las temporadas. #Fortnite \\n\\nT1: 49 días\\nT2: 69 días\\nT3: 67 días\\nT4: 71 días\\nT5: 76 días\\nT6: 69 días\\nT7: 84…', 'RT @monster_rights: Concept made by @xYiiisu !! I really enjoyed drawing her, epic really needs to add more opposite gender counterparts to…', 'SORTEO 🎁  RANDOM. \\n\\n- Minecraft Unmigrated.\\n- Capa Optifine.\\n- Hulu.\\n- Minecraft MFA.\\n- Minecraft SFA.\\n\\n- Like ❤️ &amp;… https://t.co/MScRxoU5q0', 'RT @otaku_ugly: Para mí jugar Minecraft es un compromiso maso menos, kuroo cagaste, aguante team osamu jajsja', \"RT @futureKid: Me: Cool Minecraft stuff, please\\n\\nYouTube recommendation algorithm: Does Jordan Peterson play Minecraft? I don't know, maybe…\", '@SoraFag minecraft coloca governo no site do hacker', 'terraria has been, and always will be better than minecraft\\n\\n(base game-wise) https://t.co/c3hJzAtGZn', \"@destriod_mist @FNBRHQ @MrBeastYT That's what i'm saying. He's constantly posting about the protests on his fortnit… https://t.co/j2YzPLoz3W\", 'RT @DukoAlts: SORTEO.\\n\\n- Minecraft Unmigrated.\\n- Capa Optifine.\\n- Minecraft Full access.\\n\\nLike &amp; Rtweet!\\nFollow @DukoAlts @imBadCroc @akroo…', \"@FerdVendetta @gmoney31339 @MrAndyNgo You missed his point entirely you obtuse sheep. Go back to mommy's basement, Fortnite is calling you.\", '@GoHerping Play Minecraft', 'RT @Minecraft: How do you go about designing a place as eerie as the Nether? How about Hoglins, Striders and Crying Obsidian? And most impo…', \"RT @mochicrossing_: I'm not new to twitter but I'd love some more mutuals into any of the following🥺\\n\\nanimal crossing\\nstardew valley\\nzelda…\", 'Quien xuxa para juegar maincra? Avisen p &gt;u&lt; \\n#Minecraft #karmaland #MinecraftServer', 'İm tired of getting lasered by controller players i cant even build dude they are like a fucking voldemort if they… https://t.co/JC6Wvf4Xb4', '@JarredYbarraGG @l4dmastertroll Definitely fortnite', '@vReignzz Awesome! Welkome beck.\\n\\nAll good.. going to play Kart Rider Beta and Minecraft Dungeons', 'RT @GorditosGatitos: gatito minecraft https://t.co/Yw0olpbeaz', 'Fortnite tuesday With friends come join and chat   https://t.co/GjO34qKhxV', 'Minecraft 🤭🤟🤟', '@FortniteGame WTF is this glider glitch you need to fix it, it just ruined my whole arena game. the game is broken… https://t.co/CTxidYZilq', '@PUBGMOBILE Almost every day there are new updates and new skins and maps, but what about Pubg Mobile customer serv… https://t.co/MHxlfp7YI0', '@GoHerping Play Minecraft Alex', '¡Mira la transmisión de mi PlayStation 4! #PS4live (Fortnite)  live at https://t.co/4sol2gKk78', 'The cops are terrorists (in minecraft)', 'RT @Golosidad_: SORTEO OP 👌\\n\\n-1 Capa Email Donator 🎁\\n\\n-1 Minecraft Unmigrated 🎁\\n\\nSeguir:@Golosidad_ @OlaKeAcez @MundoMcVnzla 👀👀\\n\\nDARLE LIKE…', 'Check it out! I will teach you how to play fortnite for $10 on #Fiverr https://t.co/69B2G7sJ83', 'RT @Golosidad_: SORTEO OP 👌\\n\\n-1 Capa Email Donator 🎁\\n\\n-1 Minecraft Unmigrated 🎁\\n\\nSeguir:@Golosidad_ @OlaKeAcez @MundoMcVnzla 👀👀\\n\\nDARLE LIKE…', 'RT @PepeAltss: SORTEO 🎁  RANDOM. \\n\\n- Minecraft Unmigrated.\\n- Capa Optifine.\\n- Hulu.\\n- Minecraft MFA.\\n- Minecraft SFA.\\n\\n- Like ❤️ &amp; Retweet…', 'RT @MrKeroro10: Si Fortnite retrasa por lo de Estados Unidos la temporada otra vez y no sale el 11 doy follow a todos los que dejen RT a es…', 'RT @JustinStone: Hey I know that guy and that song', 'RT @MrKeroro10: Si Fortnite retrasa por lo de Estados Unidos la temporada otra vez y no sale el 11 doy follow a todos los que dejen RT a es…', '@poemvox es una skin d minecraft', 'ya empezamos directo!!! https://t.co/iTLg7HPqeQ \\n#twitch #QuedateEnCasa #Minecraft #streamer #TwitchDE', 'RT @TheGrefg: #NewVIDEO\\nVuelve Calvaland, vuelve el peor jugador de Minecraft...\\n\\n🤬🔥 \"AMPETER ME TROLEA CON UN COFRE DEL TESORO\" 🔥🤬\\n\\nRT sis…', 'RT @JasperBoerstra: bringing this back https://t.co/veH1AzBbei', 'LMAOOO. people on games always act so annoying.', 'RT @bobaocto: A late night doodle for fun #fortnite #fortnitechapter2 https://t.co/SlmYGQPNey', 'I am reading this article on DappOnline, its name is 《Enjincraft: Supercharge Your Minecraft Server With Blockchain… https://t.co/2vnahTeQDy', \"RT @MaliciousMilk: Hey y'all. Super excited to share some more insane content from @malthreat and our Fortnite side. This thing is sick, le…\", 'RT @PepeAltss: SORTEO 🎁  RANDOM. \\n\\n- Minecraft Unmigrated.\\n- Capa Optifine.\\n- Hulu.\\n- Minecraft MFA.\\n- Minecraft SFA.\\n\\n- Like ❤️ &amp; Retweet…', 'Playing with Viewers (Fortnite) https://t.co/9pyZWd4NKm', 'Didn’t mean to pickaxe lol #fortnite #fortniteclips #FortniteCompetitive #FortniteCommunity https://t.co/W19oWOAXdI', 'RT @Golosidad_: SORTEO OP 👌\\n\\n-1 Capa Email Donator 🎁\\n\\n-1 Minecraft Unmigrated 🎁\\n\\nSeguir:@Golosidad_ @OlaKeAcez @MundoMcVnzla 👀👀\\n\\nDARLE LIKE…', \"Don't celebrate after killing me with a shotgun. You're not talented you're just a slave to one gun. You have no ta… https://t.co/Wsvr5ccDiS\", 'RT @CleverCryptoDog: -\\n⏰ The last 2 days of the #Fortnite #Giveaway ⏰\\n\\n#Giveaways #Airdrop #GiveawayAlert #fortnitecodes #Skin #800cc #SLNS…', 'RT @Stolen_4725: Después de mucho tiempo, decidí hacer un wallpaper de minecraft para @MaauGuerrero y @MrSuamps, espero y les guste ya que…', \"RT @NYCSchools: NYC students! \\U0001f7e9\\U0001f7e6\\U0001f7e5\\U0001f7e7 Join the @PlayCraftLearn's 2020 #MinecraftEdu Challenge to Build a Better World! \\U0001f7e9\\U0001f7e6\\U0001f7e5\\U0001f7e7 Visit https://t.co…\", 'RT @ImEntoYT: SORTEO\\n\\n1x Pase de batalla de la temporada 3 capítulo 2 de #Fortnite\\n\\n- Requisitos en la foto (si no me agregáis no os podré…', 'PUBG: Pacific Underweight Bookcase Glossolalia', '@RoseHQs Recruit Me 👀🌹\\n#BewareRose #Rose10k #RoseChekz #fortnite #rose \\n@RoseHQs @bababanoush https://t.co/eNDJ1Zo7F2', 'RT @GorditosGatitos: gatito minecraft https://t.co/Yw0olpbeaz', 'RT @GorditosGatitos: gatito minecraft https://t.co/Yw0olpbeaz', 'RT @FNPhootographer: Moxie is up to something 👀💛\\n\\nJust some tests with light!\\n\\n#Fortnite #FortniteArt #Blender3D #Render #FortniteGame #For…', 'RT @_pqppotter: harry styles as minecraft minerals; a thread https://t.co/8ziRjfeog8', '#الاصنام_في_ببجي Please cancel idols and strengthen the security system of Bigji game to get rid of hackers who des… https://t.co/UHVJ0Mi73s', 'RT @MrKeroro10: Si Fortnite retrasa por lo de Estados Unidos la temporada otra vez y no sale el 11 doy follow a todos los que dejen RT a es…', '@_Jam0oo @nonnugly @Cosmic_CometX @FortniteFunny Bro stfu. If u don’t like fortnite than get off pages for it. Sped', 'RT @Stolen_4725: Después de mucho tiempo, decidí hacer un wallpaper de minecraft para @MaauGuerrero y @MrSuamps, espero y les guste ya que…', '#Fortnite según nuevas filtraciones en la siguiente temporada tendremos una moto de agua como nuevo vehículo! https://t.co/v5ihmLU5d3', 'RT @aFortniteMom: note:\\nThese were my LAST gifts untill also get supported. Sorry but checked my creator&amp;in January 24 ppl used our code, t…', 'RT @bobaocto: A late night doodle for fun #fortnite #fortnitechapter2 https://t.co/SlmYGQPNey', 'RT @JGamblin: My son spent the first day of his Minecraft development class trying to downgrade from JDK 1.13 to 1.8.  Most realistic devel…', 'juegas minecraft no tienes opinión', 'My kid is very proud that he made me my very own THEME PARK in #MINECRAFT https://t.co/VUHbsYvxyW', '@NawHydrax @chicho5121 @Dunkface1 @choochoo69_ @Avery_FN Oh wait... you said valorant views will be lower when it c… https://t.co/8cocThSXyj', '@heshwbarznji Hi Aw xarka wadazann scar L bas la pubg haya bye', '📢 Attention #Fortnite players, 25 minutes left to signup!\\n\\n🔜 [NA|EU] 1V1 ELIMINATION RACE tournament!\\n\\nSign your te… https://t.co/rTDmKT4g1Y', 'im convinced all people that still play fortnite take adderall', \"@RzMaTa une pp fortnite y'a 2 ans matanuno jpp\", 'RT @GorditosGatitos: gatito minecraft https://t.co/Yw0olpbeaz', 'ill do the whole \"art\" thing once school gets over with (if i dont get kicked out that is) and once i get bored with minecraft.', 'RT @MrKeroro10: Si Fortnite retrasa por lo de Estados Unidos la temporada otra vez y no sale el 11 doy follow a todos los que dejen RT a es…', 'RT @Stolen_4725: Después de mucho tiempo, decidí hacer un wallpaper de minecraft para @MaauGuerrero y @MrSuamps, espero y les guste ya que…', 'Check out my broadcast from my PlayStation 4! #PS4live (Fortnite)  live at https://t.co/YNe3ca1bgZ', 'Playing Minecraft and more bs on stream, watch here https://t.co/wpt8qR1NGj', 'i went to play pubg and now i have whole tl in tr*mps nudes?', 'Minecraft stream tonight🎈', 'RT @GorditosGatitos: gatito minecraft https://t.co/Yw0olpbeaz', 'Check out my broadcast from my PlayStation 4! #PS4live (Fortnite)  live at https://t.co/XOWgi8xduk', 'Harbor Map - Agent Under Fire | Re-made in Fortnite Creative\\n\\nhttps://t.co/urexTEXNuw\\n\\n#YouTube #Fortnite #FortniteCreative', 'RT @MrKeroro10: Si Fortnite retrasa por lo de Estados Unidos la temporada otra vez y no sale el 11 doy follow a todos los que dejen RT a es…', '“Fortnite Travis Scott Event But It’s Animal Crossing” out now!\\n\\n❤️+♻️\\n\\nhttps://t.co/FRaHEeqsYA', 'RT @GorditosGatitos: gatito minecraft https://t.co/Yw0olpbeaz', \"I don't see another delay of fortnite chapter 2, season 3 as an impossibility. I kinda hope not but I would underst… https://t.co/5erNbnK43Q\", \"RT @dangwoot: Don't celebrate after killing me with a shotgun. You're not talented you're just a slave to one gun. You have no talent other…\", 'RT @Golosidad_: SORTEO OP 👌\\n\\n-1 Capa Email Donator 🎁\\n\\n-1 Minecraft Unmigrated 🎁\\n\\nSeguir:@Golosidad_ @OlaKeAcez @MundoMcVnzla 👀👀\\n\\nDARLE LIKE…', 'RT @GorditosGatitos: gatito minecraft https://t.co/Yw0olpbeaz', '@pb_vinex mine dungeon, hardcore minecraft, tutoriais do vinexpb, jornal do vinexpb', '@SingularityFN Make skins are better than female skins in fortnite', '@Bryson44798643 @Formula Fortnite', 'RT @TheGrefg: #NewVIDEO\\nVuelve Calvaland, vuelve el peor jugador de Minecraft...\\n\\n🤬🔥 \"AMPETER ME TROLEA CON UN COFRE DEL TESORO\" 🔥🤬\\n\\nRT sis…', 'RT @bobaocto: A late night doodle for fun #fortnite #fortnitechapter2 https://t.co/SlmYGQPNey', 'RT @GorditosGatitos: gatito minecraft https://t.co/Yw0olpbeaz', 'RT @StoolGametime: The Travis Scott concert in Fortnite is UNREAL https://t.co/6FO26eWDI8', '@yungchip Accept 1 friend request every time you die on fortnite', \"RT @SenixFN: Hey Astronaut! It's time for a giveaway! \\n\\nWIN 1 OF 3 SEASON 3 BATTLE PASSES!\\n1. Follow\\n@SenixFN + @TeamCreativeCM\\n on Twitter…\", 'RT @GorditosGatitos: gatito minecraft https://t.co/Yw0olpbeaz', 'RT @JeltyTV: Espero que los de Fortnite se den cuenta que nadie quiere una FNCS de Solos y la cambie por la de Trios en la nueva temporada', 'RT @kaiisyourhomie: anyway I wanna do the fortnite L dance in front of the cops and if I get arrested I can truthfully say I got arrested f…', 'THEY DELAYED THE EVENT AND SEASON TO NEXT WEEK!', '🔥SUPER TUTORIAL🔥\\n\\nNUEVA CASA DE PIEDRA CON PISCINA!!!!!\\n👉https://t.co/T5jAlPSNeS👈\\n\\n#Minecraft #MinecraftTutorial… https://t.co/6D76GAi73F', 'Check out my broadcast from my PlayStation 4! #PS4live (Minecraft: Story Mode)  live at https://t.co/rSFAeNbwZC', 'RT @bobaocto: A late night doodle for fun #fortnite #fortnitechapter2 https://t.co/SlmYGQPNey', 'Fortnite ! Contigo  siempre es mejor!Que esperas de la nueva season? https://t.co/K6zOz9gInB', 'Valorants back, never playing fortnite again shitty ass game', 'RT @GorditosGatitos: gatito minecraft https://t.co/Yw0olpbeaz', 'RT @Golosidad_: SORTEO OP 👌\\n\\n-1 Capa Email Donator 🎁\\n\\n-1 Minecraft Unmigrated 🎁\\n\\nSeguir:@Golosidad_ @OlaKeAcez @MundoMcVnzla 👀👀\\n\\nDARLE LIKE…', \"@minecraft there's a glitch In my bedrock world where I can not hit other people so there's no PVP\", \"RT @AshaSarkar13: You'll never be bored with online streams of #AngryBirds\\nPlace bets and may fortune smile on you.\\n\\n⏺https://t.co/i6YzL4X6…\", 'RT @GorditosGatitos: gatito minecraft https://t.co/Yw0olpbeaz', 'RT @GorditosGatitos: gatito minecraft https://t.co/Yw0olpbeaz', 'RT @GorditosGatitos: gatito minecraft https://t.co/Yw0olpbeaz', 'RT @StarSki_: COD &gt;&gt;&gt;&gt; Fortnite', 'Follow @zwxaty for more Fortnite vidz\\n#fortnite #fortnitecommunity \\n#fortniteclips #faze5 #fortnitemontage… https://t.co/7Nd9w25cUm', 'RT @jeyfriskrt: \"Desert Palace\"\\nBuilt on #MCPE\\nGIF by @LordKingCrown \\nMore pictures  https://t.co/uwvKIfZmgR\\n #mcpe #mcpebuild #Minecraft h…', 'RT @Godar4President: white people are only okay with looting when it’s done:\\n1. to a foreign country\\n2. in Fortnite', 'RT @Golosidad_: SORTEO OP 👌\\n\\n-1 Capa Email Donator 🎁\\n\\n-1 Minecraft Unmigrated 🎁\\n\\nSeguir:@Golosidad_ @OlaKeAcez @MundoMcVnzla 👀👀\\n\\nDARLE LIKE…', 'Mecánicas: 15%\\nIQ/mindset: 30%\\nAim: 25%\\nLA SUERTE (zonas,loot, etc): 30%', 'STREAM DE FORTNITE EM https://t.co/X3M286uIiB', 'RT @bbnx_: tw/ dick\\nme and kacey just spent about 4+ hours building a fucking dick in minecraft and and painfully slaved over a schlatt coi…', 'RT @MrKeroro10: Si Fortnite retrasa por lo de Estados Unidos la temporada otra vez y no sale el 11 doy follow a todos los que dejen RT a es…', 'RT @MrKeroro10: Si Fortnite retrasa por lo de Estados Unidos la temporada otra vez y no sale el 11 doy follow a todos los que dejen RT a es…', 'Estoy transmitiendo PUBG en vivo, vení y juguemos https://t.co/qFT7Xb227k', \"📢 I'm starting 🔴 LIVE on #Minecraft !  https://t.co/TRUrWzYjJj #twitch\", 'RT @MrKeroro10: Si Fortnite retrasa por lo de Estados Unidos la temporada otra vez y no sale el 11 doy follow a todos los que dejen RT a es…', 'RT @Tata82695324: Kai una un chico muy adorable y soobin era todo lo contrario .\\nPero un día jugando Minecraft Kai le dice algo muy raro a…', 'RT @corbyn_jones13: You would have thought I played fortnite the way my circle got smaller.😎', 'retweet to get this glitch out there #fortnite #glitch https://t.co/xboZRsDlxf', 'RT @GNBZuliaOficial: En Función de Justicia Social!\\n\\nEfectivos del .@GNB_ZuliaD112 atendiendo al Plan de Contingencia de distribución de Ag…', 'RT @SomosIncesVzla: Min. de Transporte, @HipolitoMRT2: Este miércoles 03 de junio saldrá una resolución con las normas sanitarias para el t…', 'RT @jeonykook: is that all you have to say? terminate our sponsor contract pls ur not answering my emails :)', 'RT @LidiaAc7: @Pameeeeh_ @Leticiacji @Angiefloreshn @_DennisArana Que sad \\n\\nMoría y revivía nuevamente ja,ja\\n\\nBRILLANDO EN LA VOZ', 'RT @brianuzamakii: MY JAW DROPPED SO FAST LMAOO https://t.co/UgBxOrpYFM', 'RT @ChristRobbins: Voice over the police scanner last night: \"Run them over.\"\\n\\nA protester who was there says women were leading a chant in…', 'RT @chancetherapper: ONE bad apple spoils the bunch. And yall got SEVERAL at EVERY precinct. what if I told you the Tree they came from was…', \"@realDonaldTrump Not with you in office! You do not have the integrity, intelligence nor empathy to lead. November can't come soon enough!\", '@JoycyGold Lovely', 'RT @hsawyerrrr: seth rogen explaining it in the simplest way possible https://t.co/UQ24CA1eZf', 'RT @raquelmoralesx: a ver, repetid conmigo:\\n\\nQue alguien tenga un cuerpo normativo no significa que se sienta bien o que no tenga complejos…', 'RT @Mrtdogg: Message to black lives matter,  from angry woman from the bronx ..... https://t.co/E67Cv2ifeB', 'RT @herfavsenpai: Her: I just wanna be one of the guys\\n\\nHow I am with the guys: https://t.co/HvilIQhFVy', '@BreitbartNews F off already. #BlackOutTuesday', 'RT @SenSanders: The American people are sick and tired of police abuse without consequences. Congress must end \"qualified immunity\" now so…', 'RT @_camrynjadee: I’ve been seeing so many people come out about how old they were when they were taken advantage of and then ppl are comin…', 'RT @realDonaldTrump: My Admin has done more for the Black Community than any President since Abraham Lincoln. Passed Opportunity Zones with…', 'RT @JISTHETlC: EVERYONE SHARE THIS BEFORE IT GETS MYSTERIOUSLY TAKEN DOWN https://t.co/eHQFxt2LWx', 'RT @0hmyfuck: Les vengo a alegrar el día. Se acuerdan de la perrita que salió en todos lados porque había sido encontrada en brea? Bueno ht…', 'RT @adamgurri: James Baldwin. I mean, he hits you with this right out of the gate. https://t.co/fLTTw3OaFE', 'RT @snorlaxdoie_: what to do with the bricks: set them up as barricades the way hongkong did so cop cars will have a hard time manouvering…', '@stillgray This has gotta be staged', 'RT @classybets: Random ass skin in my insvtory \\nRT \\nFollow \\nTag 10 https://t.co/8ShlcGHhJB', 'Please help support bisexual pride, add a #Twibbon now! https://t.co/V8igBPFwP5', 'RT @petrogustavo: Esta es Francia después de la pandemia. es una manifestación contra el asesinato racial en EEUU.\\n\\nCuando haremos la prime…', '@MaricruzOyambu1 Otro borolabot tragatortas que no puede comprobar q no lo es, pero según el borolas no contrata mu… https://t.co/v2zAVZk3Ck', 'RT @RepValDemings: This president, who wouldn’t lift a finger to help Americans dying of COVID-19, will gladly impose martial law. Resist.', 'RT @sza: GET OUT NOW IF YOU ON HOLLYWOOD AND VINE OR IF YOU KNOW SOMEONE OUT THERE THEY BOUT TO BOX YALL IN .', 'Lmfaaaooooo 🤣🤣🤣', '@britticisms @YazaNico Take it from someone who is half white and lived in mostly white suburbs immediately outside… https://t.co/9TINYTfrl2', 'Ha! No lies told...', 'RT @AyoMadiiii: THESE PEOPLE OPENED THEIR HOMES TO SHELTER PEACEFUL PROTESTERS FROM TEAR GAS AND RUBBER BULLETS!!!! STOP LYING ON THEIR NAM…', 'RT @juisjudy: if he’s unarmed then why do you need to shoot him joe https://t.co/7I1kH19PkF', 'Porque la gente le tiene miedo a la palabra \"política\", automáticamente lo relacionan con algo malo, con que eso no… https://t.co/P0TSdwZUxg', '#EdomexSinResultados \\n @Edomex no ha atendido la petición de miles de mexiquenses que le piden:*\\na)*Alimentos* pues… https://t.co/8ucWw0zK6t', 'Oh Dios mi hermana me va a matar de un susto uno de estos días...', 'RT @BarbonPrieto5: ¿Alguien sabe donde esta el boton para reiniciar este 2020?', '@bron_hansen If 2020 was a person', 'RT @siinverguenzaaa: FUCK racists and FUCK rapists.', 'Me dice que me extraña y cuando vengo aca ni bola, hasta los besos me desprecia 😂 le cuento algo y ni bola, jajaja ya fue', \"RT @7rl: Let's all thank the police for their courage in leaving their families unprotected, while they go thugging.\", 'RT @ShitpostRandom: Me voy a desinstalar Twitter adiós https://t.co/4np4BL21Ee', 'RT @fIawina: schools be like:\\n\\nbullying: 🤷🏻\\u200d♀️\\nracism: 🤷🏻\\u200d♀️\\nhomophobia: 🤷🏻\\u200d♀️\\n\\nchewing gum: 🤬\\nwearing hats: 🤬\\nshirts that show your should…', 'RT @GovTimWalz: Our Minnesota Department of Human Rights today filed a civil rights charge against the MPD. @mnhumanrights will investigate…', 'RT @zeldacw: Just realized I overestimated ChaCha\\'s height....\\ncuz I forgot about his \"government official boots\"😑\\n\\n168 cm was his height..…', 'RT @RIPmika: Please stop over-praising white creators for tweeting and posting about events right now. Save that energy for your support of…', '@Radio2000ZA Focus on the current relationship and continue supporting your kids. Materialistic attraction ends.', 'RT @cheybuttaaa: slimeball said light this bitch up ok 🤣 https://t.co/nTWRDWYuSS', 'RT @AdoptionsUk: Please share to help Parsnip 1 find a home Essex UK\\n\\nAvailable now lovely lurcher looking to be only pet in an adult or ol…', 'RT @sanweeoh: HE DIDNT STUTTER https://t.co/j14U0IHDr6', 'RT @kdpanthera: LMAO MY MAN REALLY SAID \"GO FUCK YOURSELVES, I\\'LL SEE YOU ALL IN HELL\" AT THE OFFICIAL LA POLICE COMMISSION MEETING https:/…', 'RT @spidadmitchell: Stop it...', '#EdomexSinResultados @Edomex @alfredodelmazo  @SeducEdomex  donde está el pago a los 702 maestros que trabajan sin… https://t.co/ox7JGp0xGu', 'Statement from the U.S. Federation of the Sisters of St. Joseph @ Sisters of St. Joseph, Brentwood, NY https://t.co/ezMfskzGVL', '@WalterDossier @GremioDocente @teleSURtv y que quiere q digamos?que va a tomar de su propio chocolate y a empezar a… https://t.co/fRfyT5nXP2', 'RT @MunroShaely: I love seth rogen’s approach to racists https://t.co/QmNRyVCI9s', '@enorelbot La sociedad la humanidad aún etiqueta todo, separamos unos de otros cuando no, todos somo iguales, seres… https://t.co/ntE1TyeWbl', 'Facts!', 'RT @RichardGrenell: Happy Pride! 🏳️\\u200d🌈 \\nthanks, @realDonaldTrump.', 'I know I’m going through a lot when I start drinking wine nge straw💀', 'RT @OVargas52: Some Bolivian coup supporters are comparing their fascist anti-Evo protests to the BLM movement.\\n\\nThose who supported the ma…', \"@JohnTyl94282125 @YourFriendZippy @mishtal @IDF Why, didn't she sign up with the @BritishArmy?  I guess fighting th… https://t.co/h0cO9J9qAb\", \"RT @AtypicxlSoul: ℍ𝕒𝕪 𝕟𝕚𝕧𝕖𝕝𝕖' 𝕡𝕒𝕣𝕒 𝕥𝕠𝕕𝕠 𝕖𝕟 𝕖𝕤𝕥𝕒 𝕧𝕚𝕒'\\n\\n𝑸𝒖𝒆́ 𝒕𝒆 𝒍𝒐 𝒆𝒙𝒑𝒍𝒊𝒒𝒖𝒆 𝒍𝒂 𝒒𝒖𝒆 𝒍𝒍𝒆𝒗𝒂 𝑪𝒂𝒎𝒂𝒓𝒐́𝒏\\n𝒆𝒏 𝒍𝒂 𝒈𝒖𝒂𝒏𝒕𝒆𝒓𝒂, \\n𝒒𝒖𝒆 𝒍𝒐𝒔 𝒒𝒖𝒆 𝒍𝒐 𝒍𝒍𝒆𝒗𝒂𝒏 𝒆𝒏 𝒍…\", 'RT @bangtaateez: es buen momento para recordarles que HONGJOONG BEST LEADER existe \\nhttps://t.co/tZnFJUjMzw', 'RT @satibesss: oye wey era puro pedo https://t.co/OpbnA9mqsu', 'What an interesting show it was 😁😁 #NBSBarometer', 'RT @chancetherapper: They want peaceful protest, but aint too worried about peaceful policing. They’ll lecture you about “fighting violence…', 'RT @Dremodrizzy: Ole l’everybody https://t.co/mX9Zc68wnd', 'RT @genmnz: this. https://t.co/0LC3DYoHer', 'RT @TheBlackLayers: The police kneeling with and hugging protesters is like when your abusive boyfriend brings you flowers after hurting yo…', 'RT @yemialadee: Common sense is not common.😪', 'RT @jadyjordann: Someone genuinely actaully literally said this to me with their whole chest I’m so embarrassed for them https://t.co/5xxR2…', 'i want to d word. my anxiety is through the roof 🤣🤣', 'RT @derekjames150: I find it somewhat ironic that Jacob Rees Mogg, the man who went to Scotland to tell the Queen the PM wanted to prorogue…', 'RT @JAYVERSACE: “when is kendrick gonna speak?”\\nthe nigga made a whole entire album about it', '@aaa_valery duda, ¿qué es para ustedes ~chapulinear~ ?', 'RT @Novaesoul: @ErikReichenb4ch @chumaito Actual conversations on purpose', 'RT @kdrizlee: They attend Vacaville High School and are about to be seniors. Their names are Sierra Hidgon,  Julianna Rowlands and Malia Ba…', 'RT @aulanimitchell_: Please use BlackOutTuesday for your hashtag and not BlackLivesMatter. Though you might not realize it, you’re blocking…', 'RT @_Jermaine36: We Not Done Yet .... 2 On The Way https://t.co/M772roWZpx', '@BenjaminPDixon But on a national scale', 'RT @hsawyerrrr: seth rogen explaining it in the simplest way possible https://t.co/UQ24CA1eZf', '@joonrecs ofc aisha bb and idk either but im here for u &lt;33', '@Piemations Twitter post make me fell guilty for enjoying zootopia', 'RT @gregnasif: Mitch McConnell and Donald Trump must be defeated this November to save the soul of America.\\n\\nWatch @MikeForKY explain how h…', \"Now y'all already know how the French feel about revolution...\", '@itsukarine Step on my balls with them', 'RT @CameronxDonovan: i can confirm that dc police (and the other umpteen law enforcement agencies out there) were in fact breaking people’s…', '@murphy_marita @TomFitton @KathySoltani Amen', 'RT @springer: Me and my friends were teargassed to make this political ad happen.', '#BunkerCoward will soon be the #BigLoser', 'To my #LoveLansing friends (and hell, my enemies too), make sure you attend this meet-up with BLM Lansing chapter.\\n\\nhttps://t.co/oCwqQNLNLL', \"RT @kelseybuckles: just so we're all completely clear, officer holte was killed in a shootout at an apartment last week and officer lyday w…\", 'Louis Vuitton leather leggings https://t.co/8js7opYmbc', 'Todavía no puedo creer que te hayas ido, a pesar de que no eramos muy amigos siempre estabas ahí molestando adelant… https://t.co/PqmYosdXiS', '💖✨🥺COMO NO AMARLO SI ES DEMASIADO HERMOSO💖✨🥺 ÉL SIEMPRE AH DEMOSTRADO QUE AMA DEMASIADO A ARMY  DE ESO ESTOY MUY SE… https://t.co/P0jbjjElXf', 'Han pasado 5 años desde que te vi por última vez ✨ #June2', 'RT @MarskoOo: Yo creo q auron debería jugar pou q opinan', 'RT @Ineoluwa: I pray God grants us PEACE.', 'RT @abstrux: #WendysIsOver my dumbass thought this hashtag was about Wendy Williams https://t.co/y8Cex7rHfW', 'RT @ewarren: Barr should be impeached and removed immediately—this recklessness is going to get more people killed.\\n\\nhttps://t.co/BTAT0vv28X', '@JuliaanNahueel Perdón, prometo levantar el nivel.', '@FreedomError404 By charging $25 per pilgrim, good old JAKAT MODEL from MUGHAL ERA. 🤔🤔', 'RT @The_Acumen: So none of y’all think this blackout day shit is suspicious with how coordinated it is? Especially since today is an electi…', 'RT @RCR750: Vox sobre los inmigrantes que están pensando en venir a España 🇪🇸 : \"No vengan\".\\nhttps://t.co/gl0Wepkqak', 'RT @CastroVerrier: VIDEOS: Varios periodistas de medios internacionales resultan heridos por la Policía durante las protestas en EE.UU. - R…', 'RT @thereal_sjs17: To those I know and to those who I don’t know who have been affected by sexual violence, know that I love you and stand…', 'RT @goodjobliz: Lot of black squares on my Instagram feed from people who haven’t said shit all week', '@belairgrassi HIS WHAT', '@RelatedCoffee @JeffreyCarlisle No I did not, you just have zero reading comprehension.', 'RT @aishasdior: Today was also the one-week anniversary for George Floyd’s murder. \\n#BlackLivesMattter \\n#JusticeForGeorgeFloyd \\nNO JUSTICE…', '@johnnyCreal @nprpolitics His base are racist idiot fucks. Screw them!', '@CutBrit @Jake_england123 Hey. Would you like to try share with me ?:))', '@AshaRangappa_ Proud to be Canadian 🇨🇦', 'RT @ChinnyOh: Christ and racism don’t mix. You can’t say you love God and hate His creation. You can’t say you love God and ignore when peo…', 'RT @rpsubguy: \"Oh...umm...hi there....seems you caught me at an....interesting time. I\\'m Ash, it\\'s nice to meet you but...umm can you wait…', 'Currently, Rick co-sponsors 335 bills in the House. From my reading, I was unable to find a SINGLE ONE that address… https://t.co/iCwSi6QK1E', 'RT @piscedelic: you are so right the police are being terroists', 'RT @mario_house: A ver si ahora vamos a tener que felicitarlos por no pegar a negros yo es que me cago en dios', 'RT @DonaldJTrumpJr: This is what leadership, action and law &amp; order from @realDonaldTrump looks like. \\n\\nBig difference between this and wha…', 'y’all stream white tears', 'RT @SiberetSiberet: De nombre candidata y de apellido negra.', \"@SarainAnnArbor It literally doesn't matter what the content of your video is. This is not a day to promote white v… https://t.co/e3rx9oYaOt\", '@PatriotRechaza @GirealaDerecha @Macastagnola @FridaSiKahlo @sergioulloa1 @melnicksergio Ahí la tienen ..esos demon… https://t.co/6YBDoOYoSc', 'RT @jroto_: normalicemos sudar de quienes no te hablan ni hacen ningún esfuerzo en mostrar un mínimo de interés en ti', 'RT @NoDictaduras: @DanielDevray @AdelaKdeRaffo @Cabrosa18 @SGChocca @fritopendej @ElOjoChurrinche @DANIELIBARBURU @JulioCesarPradi @Nancyma…', 'RT @jwskart: i miss 옌안 \\ni miss 閆桉 \\ni miss yanan', 'RT @ArashMarkazi: A black family tried to get the attention of the police to protect a neighborhood store in Van Nuys and were immediately…', '@mancemansell @taylorsantiagoo Martial law is coming. It breaks me heart.', 'RT @chuumaa2: #Anonymuos Por favor twittear xq no hay muchos de este video ,descarguenlo. https://t.co/Swp4i5pi9t', 'RT @ElForoCofrade: La @pasiondelinares tocará tras el misterio de @Hdad_del_Carmen el próximo Miércoles Santo https://t.co/SRkdKUDshw', 'RT @Mau_riicee: All my Fuck Trump Supporters check in 🗣✊🏾', 'RT @milkyapron: FUCK DOLLSKILL! alternatives to shops at: BLACK OWNED EDITION 💗', '@salaxxxxxxxx Nice dreams for you x', 'majority of the ppl who were protesting and shutting shit down in MN were Africans 💀', \"RT @autumspice: I don't care how many celebrities speak up I WANT THE COPS THAT MURDERED ALL THESE PEOPLE.  CHARGED WITH THEIR MURDERS they…\", '@SAT4NJENO ME MANEMAF', '@c_nasyyy I knew SOMEONE was gonna get it😭', 'RT @saboralibertad: Micro-agresiones racistas (no tan micro) que debes eliminar. Especialmente si crees que “no eres racista”. Evalúa, escu…', 'RT @ImFromTheBoot: Come on here baby💔😭 ! But y’all worried about your 8 year old being scared of “breathing sounds” gtffffff', 'RT @ricardonirebi: @dssspivak @therecount Well, speaking about body language... https://t.co/E8CbICLpsO', 'RT @jwgop: I expect any depravity from @realDonaldTrump But what in the world was the Chairman of the Joint Chiefs doing there walking arou…', 'RT @berensbby: THREAD OF PETITIONS YOU PROBABLY HAVENT SIGNED', 'RT @TheTrellster: Brenda really was a woke ass bitch 😂😂 https://t.co/f62vg7dySj', 'RT @MonmouthPoll: NATIONAL POLL: 74% say country is on wrong track, an all-time low in seven years of national Monmouth polling. Up from 60…', 'RT @TheJazzSoul: Marvin Gaye \\n\\n“What\\'s Going On\"\\n\\nSoul Classic!\\n\\nhttps://t.co/pmt9tiaxvK\\n#MarvinGaye #Music #Musica #Soul #BlackLivesMatter…', '@AnimuTiddieXprt @RatherMalicious Not a meaningful one. Only in junior high when it was like “I like you, you like… https://t.co/PlRr4L07DG', 'RT @tanamongeau: peaceful protestors by the white house were tear gassed and shot with rubber bullets so the president couldn’t have a phot…', '@ELBUENBRO1 Tres con pasto y llorona güero.', 'RT @amazontrollop: Influencers are the top 5 worst type of people in the world', 'RT @stay_tgod: SAY HIS FUCKIN NAME. HIS PARENTS DIDNT NAME HIM HOMELESS HIGH SCHOOL STUDENT. HIS NAME IS MARTIN FOLSOM!!!', 'RT @izzyjaxon: I see that our older generations still don’t know how cameras work.', 'I am so damn fucking ready for Satan and his demons to take over my mind, body, soul, and anything else they fuckin… https://t.co/vkuHfHHRnI', 'A rock of sense... as always!\\nTrust and empower local innovation, those that work in the actual arena on a local le… https://t.co/fouayutVTu', 'Trump nudes are out?!? I don’t see it one my tl. https://t.co/ePnZOQj8WT', '@Benzno_k END THEM https://t.co/6uUDdPuPyA']\n",
      "['en', 'en', 'en', 'en', 'es', 'en', 'en', 'en', 'en', 'en', 'en', 'en', 'en', 'en', 'en', 'es', 'en', 'en', 'es', 'en', 'es', 'en', 'en', 'en', 'en', 'en', 'en', 'en', 'es', 'en', 'en', 'en', 'en', 'en', 'en', 'en', 'en', 'en', 'es', 'en', 'es', 'en', 'es', 'en', 'es', 'en', 'es', 'es', 'es', 'es', 'en', 'en', 'en', 'en', 'en', 'en', 'en', 'en', 'es', 'en', 'en', 'es', 'en', 'es', 'en', 'en', 'en', 'en', 'en', 'en', 'en', 'es', 'en', 'es', 'es', 'en', 'en', 'en', 'es', 'en', 'en', 'es', 'en', 'en', 'es', 'en', 'en', 'es', 'es', 'en', 'en', 'en', 'en', 'en', 'en', 'en', 'es', 'en', 'en', 'en', 'en', 'es', 'en', 'en', 'en', 'en', 'es', 'en', 'en', 'en', 'en', 'en', 'en', 'es', 'en', 'en', 'es', 'en', 'en', 'es', 'en', 'en', 'es', 'en', 'en', 'en', 'en', 'en', 'en', 'en', 'en', 'en', 'es', 'es', 'en', 'en', 'es', 'es', 'es', 'en', 'es', 'es', 'en', 'en', 'es', 'es', 'en', 'es', 'en', 'en', 'en', 'en', 'en', 'en', 'es', 'en', 'en', 'en', 'en', 'en', 'en', 'en', 'es', 'en', 'en', 'en', 'en', 'en', 'es', 'es', 'en', 'en', 'en', 'en', 'en', 'en', 'en', 'es', 'es', 'es', 'es', 'en', 'en', 'es', 'en', 'es', 'en', 'en', 'en', 'en', 'en', 'en', 'en', 'en', 'en', 'en', 'es', 'en', 'es', 'en', 'es', 'en', 'en', 'en', 'en', 'en', 'es', 'es', 'es', 'en', 'en', 'en', 'en', 'en', 'en', 'en', 'en', 'en', 'en', 'es', 'en', 'en', 'en', 'en', 'en', 'en', 'en', 'en', 'en', 'en', 'en', 'en', 'en', 'en', 'en', 'en', 'en', 'en', 'es', 'es', 'es', 'es', 'en', 'en', 'en', 'es', 'en', 'en', 'es', 'es', 'en', 'en', 'en', 'en', 'en', 'en', 'en', 'en', 'en', 'en', 'en', 'en', 'es', 'en', 'en', 'es', 'en', 'es', 'es', 'es', 'en', 'en', 'en', 'es', 'es', 'en', 'en', 'en', 'en', 'en', 'es', 'en', 'es', 'en', 'en', 'en', 'en', 'en', 'en', 'en', 'en', 'en', 'es', 'en', 'en', 'en', 'en', 'en', 'en', 'en']\n"
     ]
    }
   ],
   "source": [
    "#ver los datos capturados\n",
    "print(len(stream_listener.statuses))\n",
    "textos = [s.text for s in stream_listener.statuses]\n",
    "lang = [s.lang for s in stream_listener.statuses]\n",
    "print(textos)\n",
    "print(lang)"
   ]
  },
  {
   "cell_type": "code",
   "execution_count": 23,
   "metadata": {},
   "outputs": [],
   "source": [
    "#--seguir---\n",
    "#análisis de sentimiendo de los datos obtenidos\n",
    "import pandas as pd"
   ]
  },
  {
   "cell_type": "code",
   "execution_count": 24,
   "metadata": {},
   "outputs": [],
   "source": [
    "df = pd.DataFrame(textos, columns=['textos'])"
   ]
  },
  {
   "cell_type": "code",
   "execution_count": 28,
   "metadata": {},
   "outputs": [],
   "source": [
    "for tag in ['minecraft', 'fortnite', 'pubg']:\n",
    "    df[tag] = df.textos.str.lower().str.contains(tag)\n"
   ]
  },
  {
   "cell_type": "code",
   "execution_count": 31,
   "metadata": {},
   "outputs": [
    {
     "data": {
      "text/plain": [
       "textos       Las cartas ya estan encaminadas | Fortnite de ...\n",
       "minecraft                                                  744\n",
       "fortnite                                                   650\n",
       "pubg                                                       150\n",
       "dtype: object"
      ]
     },
     "execution_count": 31,
     "metadata": {},
     "output_type": "execute_result"
    }
   ],
   "source": [
    "df.sum()"
   ]
  },
  {
   "cell_type": "code",
   "execution_count": 33,
   "metadata": {},
   "outputs": [],
   "source": [
    "df['lang'] = lang"
   ]
  },
  {
   "cell_type": "code",
   "execution_count": 37,
   "metadata": {},
   "outputs": [
    {
     "data": {
      "text/plain": [
       "1       RT @OrVideos: Thinkin bout hybrid ™ from fortn...\n",
       "2            @JermSansContext Jerma wanna play Minecraft?\n",
       "3       RT @FNBRHQ: controller players trying to carry...\n",
       "4             What do you think about fortnite right now?\n",
       "5                              getting minecraft dungeons\n",
       "                              ...                        \n",
       "1804    RT @puppyprasanna: ok..let's settle this..\\n\\n...\n",
       "1805    RT @iamwitman: Memes and pubg to me : https://...\n",
       "1806    @dyinghearts @iRaeBandz @_Suicibe_ @luvcnnr @R...\n",
       "1807    RT @WafflesFN: Self Revive in Fortnite??? http...\n",
       "1808    RT @xboxuk: Victory! ✨\\n\\nRT + Follow @XboxUK ...\n",
       "Name: textos, Length: 1585, dtype: object"
      ]
     },
     "execution_count": 37,
     "metadata": {},
     "output_type": "execute_result"
    }
   ],
   "source": [
    "df.textos[df.lang=='en']"
   ]
  },
  {
   "cell_type": "code",
   "execution_count": 38,
   "metadata": {},
   "outputs": [
    {
     "name": "stdout",
     "output_type": "stream",
     "text": [
      "Collecting spanish_sentiment_analysis\n",
      "  Using cached spanish_sentiment_analysis-1.0.0-py3-none-any.whl (15.8 MB)\n",
      "Requirement already satisfied: numpy in d:\\wpy64-3770\\python-3.7.7.amd64\\lib\\site-packages (from spanish_sentiment_analysis) (1.18.2+mkl)\n",
      "Collecting marisa-trie\n",
      "  Using cached marisa-trie-0.7.5.tar.gz (270 kB)\n",
      "Requirement already satisfied: scipy in d:\\wpy64-3770\\python-3.7.7.amd64\\lib\\site-packages (from spanish_sentiment_analysis) (1.4.1)\n",
      "Requirement already satisfied: nltk in d:\\wpy64-3770\\python-3.7.7.amd64\\lib\\site-packages (from spanish_sentiment_analysis) (3.4.5)\n",
      "Processing c:\\users\\javi\\appdata\\local\\pip\\cache\\wheels\\76\\03\\bb\\589d421d27431bcd2c6da284d5f2286c8e3b2ea3cf1594c074\\sklearn-0.0-py2.py3-none-any.whl\n",
      "Requirement already satisfied: six in d:\\wpy64-3770\\python-3.7.7.amd64\\lib\\site-packages (from nltk->spanish_sentiment_analysis) (1.14.0)\n",
      "Requirement already satisfied: scikit-learn in d:\\wpy64-3770\\python-3.7.7.amd64\\lib\\site-packages (from sklearn->spanish_sentiment_analysis) (0.22.2.post1)\n",
      "Requirement already satisfied: joblib>=0.11 in d:\\wpy64-3770\\python-3.7.7.amd64\\lib\\site-packages (from scikit-learn->sklearn->spanish_sentiment_analysis) (0.14.1)\n",
      "Building wheels for collected packages: marisa-trie\n",
      "  Building wheel for marisa-trie (setup.py): started\n",
      "  Building wheel for marisa-trie (setup.py): finished with status 'done'\n",
      "  Created wheel for marisa-trie: filename=marisa_trie-0.7.5-cp37-cp37m-win_amd64.whl size=139421 sha256=40e9d0a8cece09c4cd8bad76516d74e6b67d7618d92323b21b42f108f16aaee3\n",
      "  Stored in directory: c:\\users\\javi\\appdata\\local\\pip\\cache\\wheels\\01\\ac\\46\\c838fd1aee138a8fd92ae30b04020995182eb4d99dec1e12ea\n",
      "Successfully built marisa-trie\n",
      "Installing collected packages: marisa-trie, sklearn, spanish-sentiment-analysis\n",
      "Successfully installed marisa-trie-0.7.5 sklearn-0.0 spanish-sentiment-analysis-1.0.0\n",
      "Note: you may need to restart the kernel to use updated packages.\n"
     ]
    },
    {
     "name": "stderr",
     "output_type": "stream",
     "text": [
      "WARNING: You are using pip version 20.0.2; however, version 20.1.1 is available.\n",
      "You should consider upgrading via the 'D:\\WPy64-3770\\python-3.7.7.amd64\\python.exe -m pip install --upgrade pip' command.\n"
     ]
    }
   ],
   "source": [
    "%pip install spanish_sentiment_analysis"
   ]
  },
  {
   "cell_type": "code",
   "execution_count": 39,
   "metadata": {},
   "outputs": [
    {
     "name": "stderr",
     "output_type": "stream",
     "text": [
      "D:\\WPy64-3770\\python-3.7.7.amd64\\lib\\site-packages\\sklearn\\externals\\joblib\\__init__.py:15: FutureWarning: sklearn.externals.joblib is deprecated in 0.21 and will be removed in 0.23. Please import this functionality directly from joblib, which can be installed with: pip install joblib. If this warning is raised when loading pickled models, you may need to re-serialize those models with scikit-learn 0.21+.\n",
      "  warnings.warn(msg, category=FutureWarning)\n"
     ]
    }
   ],
   "source": [
    "from classifier import SentimentClassifier"
   ]
  },
  {
   "cell_type": "code",
   "execution_count": 40,
   "metadata": {},
   "outputs": [],
   "source": [
    "analizador = SentimentClassifier()"
   ]
  },
  {
   "cell_type": "code",
   "execution_count": 43,
   "metadata": {},
   "outputs": [
    {
     "data": {
      "text/plain": [
       "0.04073721614472117"
      ]
     },
     "execution_count": 43,
     "metadata": {},
     "output_type": "execute_result"
    }
   ],
   "source": [
    "analizador.predict(textos[0])"
   ]
  },
  {
   "cell_type": "code",
   "execution_count": 44,
   "metadata": {},
   "outputs": [],
   "source": [
    "df['sentimiento'] = df.textos.apply(analizador.predict)"
   ]
  },
  {
   "cell_type": "code",
   "execution_count": 47,
   "metadata": {},
   "outputs": [],
   "source": [
    "df['sentimiento'][df.lang=='en'] = -1"
   ]
  },
  {
   "cell_type": "code",
   "execution_count": 49,
   "metadata": {},
   "outputs": [
    {
     "data": {
      "text/plain": [
       "<matplotlib.axes._subplots.AxesSubplot at 0x290f14b7a88>"
      ]
     },
     "execution_count": 49,
     "metadata": {},
     "output_type": "execute_result"
    },
    {
     "data": {
      "image/png": "[encoded data removed]",
      "text/plain": [
       "<Figure size 432x288 with 1 Axes>"
      ]
     },
     "metadata": {
      "needs_background": "light"
     },
     "output_type": "display_data"
    }
   ],
   "source": [
    "df['sentimiento'][df.lang=='es'].hist()"
   ]
  },
  {
   "cell_type": "code",
   "execution_count": 50,
   "metadata": {},
   "outputs": [
    {
     "name": "stdout",
     "output_type": "stream",
     "text": [
      "Collecting textblob\n",
      "  Using cached textblob-0.15.3-py2.py3-none-any.whl (636 kB)\n",
      "Requirement already satisfied: nltk>=3.1 in d:\\wpy64-3770\\python-3.7.7.amd64\\lib\\site-packages (from textblob) (3.4.5)\n",
      "Requirement already satisfied: six in d:\\wpy64-3770\\python-3.7.7.amd64\\lib\\site-packages (from nltk>=3.1->textblob) (1.14.0)\n",
      "Installing collected packages: textblob\n",
      "Successfully installed textblob-0.15.3\n",
      "Note: you may need to restart the kernel to use updated packages.\n"
     ]
    },
    {
     "name": "stderr",
     "output_type": "stream",
     "text": [
      "WARNING: You are using pip version 20.0.2; however, version 20.1.1 is available.\n",
      "You should consider upgrading via the 'D:\\WPy64-3770\\python-3.7.7.amd64\\python.exe -m pip install --upgrade pip' command.\n"
     ]
    }
   ],
   "source": [
    "%pip install textblob"
   ]
  },
  {
   "cell_type": "code",
   "execution_count": 51,
   "metadata": {},
   "outputs": [],
   "source": [
    "from textblob import TextBlob"
   ]
  },
  {
   "cell_type": "code",
   "execution_count": 54,
   "metadata": {},
   "outputs": [],
   "source": [
    "blob = TextBlob(textos[10])"
   ]
  },
  {
   "cell_type": "code",
   "execution_count": 57,
   "metadata": {},
   "outputs": [
    {
     "name": "stdout",
     "output_type": "stream",
     "text": [
      "Sentiment(polarity=0.0, subjectivity=0.0)\n",
      "Sentiment(polarity=0.45000000000000007, subjectivity=0.825)\n"
     ]
    }
   ],
   "source": [
    "for sentence in blob.sentences:\n",
    "    print(sentence.sentiment)"
   ]
  },
  {
   "cell_type": "code",
   "execution_count": 59,
   "metadata": {},
   "outputs": [
    {
     "data": {
      "text/plain": [
       "Sentiment(polarity=0.45000000000000007, subjectivity=0.825)"
      ]
     },
     "execution_count": 59,
     "metadata": {},
     "output_type": "execute_result"
    }
   ],
   "source": [
    "blob.sentiment"
   ]
  },
  {
   "cell_type": "code",
   "execution_count": 60,
   "metadata": {},
   "outputs": [],
   "source": [
    "def analiza_polarity(texto):\n",
    "    blob = TextBlob(texto)\n",
    "    return blob.polarity"
   ]
  },
  {
   "cell_type": "code",
   "execution_count": 61,
   "metadata": {},
   "outputs": [
    {
     "data": {
      "text/plain": [
       "0.45000000000000007"
      ]
     },
     "execution_count": 61,
     "metadata": {},
     "output_type": "execute_result"
    }
   ],
   "source": [
    "analiza_polarity(textos[10])"
   ]
  },
  {
   "cell_type": "code",
   "execution_count": 69,
   "metadata": {},
   "outputs": [],
   "source": [
    "df['sentimiento_en'] = -1.0"
   ]
  },
  {
   "cell_type": "code",
   "execution_count": 70,
   "metadata": {},
   "outputs": [
    {
     "name": "stdout",
     "output_type": "stream",
     "text": [
      "<class 'pandas.core.frame.DataFrame'>\n",
      "RangeIndex: 1809 entries, 0 to 1808\n",
      "Data columns (total 7 columns):\n",
      " #   Column          Non-Null Count  Dtype  \n",
      "---  ------          --------------  -----  \n",
      " 0   textos          1809 non-null   object \n",
      " 1   minecraft       1809 non-null   bool   \n",
      " 2   fortnite        1809 non-null   bool   \n",
      " 3   pubg            1809 non-null   bool   \n",
      " 4   lang            1809 non-null   object \n",
      " 5   sentimiento     1809 non-null   float64\n",
      " 6   sentimiento_en  1809 non-null   float64\n",
      "dtypes: bool(3), float64(2), object(2)\n",
      "memory usage: 62.0+ KB\n"
     ]
    }
   ],
   "source": [
    "df.info()"
   ]
  },
  {
   "cell_type": "code",
   "execution_count": 71,
   "metadata": {},
   "outputs": [],
   "source": [
    "ingles = df.lang == 'en'"
   ]
  },
  {
   "cell_type": "code",
   "execution_count": 72,
   "metadata": {},
   "outputs": [],
   "source": [
    "df.sentimiento_en[ingles] = df.textos[ingles].apply(analiza_polarity)"
   ]
  },
  {
   "cell_type": "code",
   "execution_count": 73,
   "metadata": {},
   "outputs": [
    {
     "data": {
      "text/plain": [
       "0      -1.000000\n",
       "1       0.000000\n",
       "2       0.000000\n",
       "3       0.000000\n",
       "4       0.285714\n",
       "          ...   \n",
       "1804    0.000000\n",
       "1805    0.000000\n",
       "1806    0.000000\n",
       "1807    0.000000\n",
       "1808    0.450000\n",
       "Name: sentimiento_en, Length: 1809, dtype: float64"
      ]
     },
     "execution_count": 73,
     "metadata": {},
     "output_type": "execute_result"
    }
   ],
   "source": [
    "df.sentimiento_en"
   ]
  },
  {
   "cell_type": "code",
   "execution_count": 81,
   "metadata": {},
   "outputs": [
    {
     "data": {
      "text/plain": [
       "<matplotlib.axes._subplots.AxesSubplot at 0x290f14e4388>"
      ]
     },
     "execution_count": 81,
     "metadata": {},
     "output_type": "execute_result"
    },
    {
     "data": {
      "image/png": "[encoded data removed]",
      "text/plain": [
       "<Figure size 432x288 with 1 Axes>"
      ]
     },
     "metadata": {
      "needs_background": "light"
     },
     "output_type": "display_data"
    }
   ],
   "source": [
    "df.sentimiento_en[ingles & df.fortnite].hist()"
   ]
  },
  {
   "cell_type": "code",
   "execution_count": 78,
   "metadata": {},
   "outputs": [
    {
     "name": "stdout",
     "output_type": "stream",
     "text": [
      "@theta1x @NathanielleBuc1 @KnightFN_ Fortnite aint no esports lol just an e-playground for a bunch of kids\n",
      "minecraft cows are the best lesbian represention we have ever had but no one talks about it\n",
      "Minecraft Dungeons Best Armor – Which set should you choose? https://t.co/ZOcUCnkS3d #minecraftdungeons #esrbeveryone #Microsoft #Minecraft\n",
      "This could be another reason lol https://t.co/CBY5FRek3Z\n",
      "@joha7766 @kr4bby @memoirfn @Obeytheboii_11 @VimFN @UnknownxArmy1x Lol there like 100 millions k&amp;b player on fortnite\n",
      "RT @DonaldMustard: So proud and humbled by the talent and dedication of the 1000+ people working, from their homes, to make Fortnite awesom…\n",
      "Amelia Interrupted https://t.co/kOb5VmYHLN via @YouTube great video of her having to pause playing. #pottybreak… https://t.co/n5M6f5B1Y7\n",
      "Very nice\n",
      "@kekflx When is fortnite adding that as a legendary skin\n",
      "RT @Code_Abe: 2800 vbuck giveaway! Retweet and follow me to win. Ends in 48 hours. GOOD LUCK!! #Fortnite #GiveAway https://t.co/gqLIymFCoP\n",
      "@Thypeachcobbler All that makes me happy 🤔 then watching ThePeachCobbler reck some Fortnite lobbies today https://t.co/WW9X6EB9v8\n",
      "@Ph1LzA Hopefully you tchno and will together minecraft championship win\n",
      "Best method for unlocking Agent Peely\n",
      "#fornite \n",
      "\n",
      "https://t.co/hUBL1bWpsL\n",
      "RT @M3rcury115YT: Hey Guys and Gals! im #streaming #stream #Minecraft 115 day!!!  make sure you come and check it out!! \n",
      "#gamedev #GamersUn…\n",
      "@AchievementHunt Today's Minecraft episode was the best YDYD ever.  The end credits were awesome, too!\n",
      "God Level 👑 (Best Fortnite Highlights) - Linear Is Overpowered\n",
      "https://t.co/aXl8EeGDTR\n",
      "#Fortnite\n",
      "Miniamaker :… https://t.co/0EyaACX4NZ\n",
      "Best method for unlocking Agent Peely\n",
      "#Fortnite\n",
      "\n",
      "https://t.co/hUBL1bWpsL\n",
      "Best duo there ever was! Go check them out!\n",
      "RT @BlueFolf: the fox is the best Minecraft mob don't @ me https://t.co/zwCi32vxMl\n",
      "lol i swear\n",
      "RT @DonaldMustard: So proud and humbled by the talent and dedication of the 1000+ people working, from their homes, to make Fortnite awesom…\n",
      "@aeiddias @realclusterfuck and now imagine dialing in workers who are in Fortnite :D\n",
      "🔥 Check out @KinguinNet #Minecraft contest where you can win ❤️ $25 Minecraft Store Gift Cards -&gt; https://t.co/zH7FTu5ncs\n",
      "@JamesDarvall I miss you. Play Fortnite with me please lol 😂 I got a week off soon!\n",
      "RT @NVIDIAGeForceUK: Share Minecraft with RTX content, win awesome prizes! 💎\n",
      "\n",
      "Show us pictures or clips of your builds and explorations in…\n",
      "@Gi_mixer I thought you quit pubg lol 😉\n",
      "RT @ErasedCrew: 5000 followers is something to celebrate !\n",
      "\n",
      "To thank you,\n",
      "\n",
      "We organize an AMAZING CONTEST ! 🎁\n",
      "\n",
      "G-Pro Wireless + 144 Gaming…\n",
      "RT @moombamuffin: Lusse is building a ghibli inspired cat land and I'm so proud of his eye for details 😍😍🐾 #Minecraft https://t.co/GTAFowke…\n",
      "I hope I win\n",
      "@BaddyJessica again who do i have to clap on fortnite lol jk\n",
      "i making a giveaway guys will be gift card prize so come in and enter to win \n",
      "HERE is link https://t.co/V86z9vDeAl… https://t.co/ryNS3FMzf1\n",
      "@ksa_thfc Minecraft very good\n",
      "RT @ILif3ofdreads: Have a great stream buddy #giveaways\n"
     ]
    }
   ],
   "source": [
    "for row in df.textos[df.sentimiento_en >0.75 ]:\n",
    "    print(row)"
   ]
  },
  {
   "cell_type": "code",
   "execution_count": 82,
   "metadata": {},
   "outputs": [
    {
     "name": "stdout",
     "output_type": "stream",
     "text": [
      "Processing c:\\users\\javi\\appdata\\local\\pip\\cache\\wheels\\29\\2c\\06\\957b5a801b311507090697dde39473f3d70154f1ca7142efa8\\googletrans-2.4.0-py3-none-any.whlNote: you may need to restart the kernel to use updated packages.\n",
      "Requirement already satisfied: requests in d:\\wpy64-3770\\python-3.7.7.amd64\\lib\\site-packages (from googletrans) (2.23.0)\n",
      "Requirement already satisfied: chardet<4,>=3.0.2 in d:\\wpy64-3770\\python-3.7.7.amd64\\lib\\site-packages (from requests->googletrans) (3.0.4)\n",
      "Requirement already satisfied: certifi>=2017.4.17 in d:\\wpy64-3770\\python-3.7.7.amd64\\lib\\site-packages (from requests->googletrans) (2019.11.28)\n",
      "Requirement already satisfied: idna<3,>=2.5 in d:\\wpy64-3770\\python-3.7.7.amd64\\lib\\site-packages (from requests->googletrans) (2.9)\n",
      "\n"
     ]
    },
    {
     "name": "stderr",
     "output_type": "stream",
     "text": [
      "WARNING: You are using pip version 20.0.2; however, version 20.1.1 is available.\n",
      "You should consider upgrading via the 'D:\\WPy64-3770\\python-3.7.7.amd64\\python.exe -m pip install --upgrade pip' command.\n"
     ]
    },
    {
     "name": "stdout",
     "output_type": "stream",
     "text": [
      "Requirement already satisfied: urllib3!=1.25.0,!=1.25.1,<1.26,>=1.21.1 in d:\\wpy64-3770\\python-3.7.7.amd64\\lib\\site-packages (from requests->googletrans) (1.25.8)\n",
      "Installing collected packages: googletrans\n",
      "Successfully installed googletrans-2.4.0\n"
     ]
    }
   ],
   "source": [
    "%pip install googletrans"
   ]
  },
  {
   "cell_type": "code",
   "execution_count": 83,
   "metadata": {},
   "outputs": [],
   "source": [
    "from googletrans import Translator"
   ]
  },
  {
   "cell_type": "code",
   "execution_count": 84,
   "metadata": {},
   "outputs": [],
   "source": [
    "traductor = Translator()"
   ]
  },
  {
   "cell_type": "code",
   "execution_count": 86,
   "metadata": {},
   "outputs": [],
   "source": [
    "traduccion = traductor.translate(textos[0])"
   ]
  },
  {
   "cell_type": "code",
   "execution_count": 87,
   "metadata": {},
   "outputs": [
    {
     "data": {
      "text/plain": [
       "'The cards are already underway | Fortnite chill | -10 FPS for ever https://t.co/8AgxfyLYgW'"
      ]
     },
     "execution_count": 87,
     "metadata": {},
     "output_type": "execute_result"
    }
   ],
   "source": [
    "traduccion.text"
   ]
  },
  {
   "cell_type": "code",
   "execution_count": null,
   "metadata": {},
   "outputs": [],
   "source": []
  }
 ],
 "metadata": {
  "kernelspec": {
   "display_name": "Python 3",
   "language": "python",
   "name": "python3"
  },
  "language_info": {
   "codemirror_mode": {
    "name": "ipython",
    "version": 3
   },
   "file_extension": ".py",
   "mimetype": "text/x-python",
   "name": "python",
   "nbconvert_exporter": "python",
   "pygments_lexer": "ipython3",
   "version": "3.7.7"
  }
 },
 "nbformat": 4,
 "nbformat_minor": 4
}
