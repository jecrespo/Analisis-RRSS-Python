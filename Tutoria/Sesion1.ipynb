{
 "cells": [
  {
   "cell_type": "code",
   "execution_count": null,
   "metadata": {},
   "outputs": [],
   "source": [
    "# Esto nos da muchos tweets repetidos\n",
    "\n",
    "all_tweets = []\n",
    "for i in range(10000):\n",
    "    tweets = api.search(q='trump', count=100, extended_tweet=True)\n",
    "    all_tweets.extend(tweets)\n",
    "    \n",
    "    "
   ]
  },
  {
   "cell_type": "code",
   "execution_count": null,
   "metadata": {},
   "outputs": [],
   "source": [
    "# Gestionar manualmente el max_id\n",
    "\n",
    "all_tweets = []\n",
    "max_id = None\n",
    "for i in range(10000):\n",
    "    if max_id is None:\n",
    "        tweets = api.search(q='trump', count=100, extended_tweet=True)\n",
    "    else:\n",
    "        tweets = api.search(q='trump', count=100, extended_tweet=True, max_id=max_id)\n",
    "    all_tweets.extend(tweets)\n",
    "    max_id = max(t.id for t in tweets)\n",
    "    "
   ]
  },
  {
   "cell_type": "code",
   "execution_count": null,
   "metadata": {},
   "outputs": [],
   "source": [
    "# Gestionar utilizando el Cursor\n",
    "\n",
    "for tweet in tweepy.Cursor(api.search, q='trump', count=100, extended_tweet=True).items(100000):\n",
    "    print(tweet.text)\n"
   ]
  },
  {
   "cell_type": "code",
   "execution_count": 3,
   "metadata": {},
   "outputs": [
    {
     "name": "stdout",
     "output_type": "stream",
     "text": [
      "hola\n",
      "juan\n",
      "hola\n",
      "juan\n",
      "hola\n",
      "juan\n",
      "hola\n",
      "juan\n",
      "hola\n",
      "juan\n",
      "hola\n",
      "juan\n",
      "hola\n",
      "juan\n",
      "hola\n",
      "juan\n",
      "hola\n",
      "juan\n",
      "hola\n",
      "juan\n"
     ]
    }
   ],
   "source": [
    "lista = ['hola', 'juan'] * 10\n",
    "for l in lista:\n",
    "    print(l)"
   ]
  },
  {
   "cell_type": "code",
   "execution_count": 11,
   "metadata": {},
   "outputs": [
    {
     "name": "stdout",
     "output_type": "stream",
     "text": [
      "elem_000000.csv\n",
      "elem_000001.csv\n",
      "elem_000002.csv\n",
      "elem_000003.csv\n",
      "elem_000004.csv\n",
      "elem_000005.csv\n",
      "elem_000006.csv\n",
      "elem_000007.csv\n",
      "elem_000008.csv\n",
      "elem_000009.csv\n",
      "elem_000010.csv\n",
      "elem_000011.csv\n",
      "elem_000012.csv\n",
      "elem_000013.csv\n",
      "elem_000014.csv\n",
      "elem_000015.csv\n",
      "elem_000016.csv\n",
      "elem_000017.csv\n",
      "elem_000018.csv\n",
      "elem_000019.csv\n"
     ]
    }
   ],
   "source": [
    "for pos, l in enumerate(lista):\n",
    "    fn = f'elem_{pos:06d}.csv'\n",
    "    print(fn)"
   ]
  },
  {
   "cell_type": "code",
   "execution_count": 13,
   "metadata": {},
   "outputs": [
    {
     "data": {
      "text/plain": [
       "'elem_000010.csv'"
      ]
     },
     "execution_count": 13,
     "metadata": {},
     "output_type": "execute_result"
    }
   ],
   "source": [
    "'elem_%06d.csv' % (10)"
   ]
  },
  {
   "cell_type": "code",
   "execution_count": null,
   "metadata": {},
   "outputs": [],
   "source": []
  },
  {
   "cell_type": "code",
   "execution_count": 17,
   "metadata": {},
   "outputs": [
    {
     "name": "stdout",
     "output_type": "stream",
     "text": [
      "elem_10_6_30.csv\n"
     ]
    }
   ],
   "source": [
    "\n",
    "a = 5\n",
    "b= 6\n",
    "print(f'elem_{10}_{a+1}_{a*b}.csv')"
   ]
  },
  {
   "cell_type": "code",
   "execution_count": 18,
   "metadata": {},
   "outputs": [],
   "source": [
    "import networkx as nx"
   ]
  },
  {
   "cell_type": "code",
   "execution_count": null,
   "metadata": {},
   "outputs": [],
   "source": [
    "nx.katz_centrality()     # Puede fallar\n",
    "nx.katz_centrality_numpy()    # Es más rápida, falla bastante poco\n",
    "nx.eigenvector_centrality()   # Alternativa, no suele fallar\n",
    "nx.eigenvector_centrality_numpy()\n",
    "nx.pagerank()"
   ]
  }
 ],
 "metadata": {
  "kernelspec": {
   "display_name": "Python 3",
   "language": "python",
   "name": "python3"
  },
  "language_info": {
   "codemirror_mode": {
    "name": "ipython",
    "version": 3
   },
   "file_extension": ".py",
   "mimetype": "text/x-python",
   "name": "python",
   "nbconvert_exporter": "python",
   "pygments_lexer": "ipython3",
   "version": "3.7.7"
  }
 },
 "nbformat": 4,
 "nbformat_minor": 4
}
