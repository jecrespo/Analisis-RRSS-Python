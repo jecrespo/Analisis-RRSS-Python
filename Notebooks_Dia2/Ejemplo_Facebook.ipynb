{
 "cells": [
  {
   "cell_type": "code",
   "execution_count": 1,
   "metadata": {},
   "outputs": [
    {
     "name": "stdout",
     "output_type": "stream",
     "text": [
      "Collecting git+git://github.com/mobolic/facebook-sdk\n",
      "  Cloning git://github.com/mobolic/facebook-sdk to /private/var/folders/yy/js6k019n0xbg51n83xcjldlm0000gn/T/pip-req-build-rga4q9v4\n",
      "  Running command git clone -q git://github.com/mobolic/facebook-sdk /private/var/folders/yy/js6k019n0xbg51n83xcjldlm0000gn/T/pip-req-build-rga4q9v4\n",
      "Requirement already satisfied (use --upgrade to upgrade): facebook-sdk==4.0.0rc0 from git+git://github.com/mobolic/facebook-sdk in /Users/ecrespo/opt/anaconda3/lib/python3.7/site-packages\n",
      "Requirement already satisfied: requests in /Users/ecrespo/opt/anaconda3/lib/python3.7/site-packages (from facebook-sdk==4.0.0rc0) (2.23.0)\n",
      "Requirement already satisfied: idna<3,>=2.5 in /Users/ecrespo/opt/anaconda3/lib/python3.7/site-packages (from requests->facebook-sdk==4.0.0rc0) (2.9)\n",
      "Requirement already satisfied: certifi>=2017.4.17 in /Users/ecrespo/opt/anaconda3/lib/python3.7/site-packages (from requests->facebook-sdk==4.0.0rc0) (2020.4.5.1)\n",
      "Requirement already satisfied: urllib3!=1.25.0,!=1.25.1,<1.26,>=1.21.1 in /Users/ecrespo/opt/anaconda3/lib/python3.7/site-packages (from requests->facebook-sdk==4.0.0rc0) (1.25.8)\n",
      "Requirement already satisfied: chardet<4,>=3.0.2 in /Users/ecrespo/opt/anaconda3/lib/python3.7/site-packages (from requests->facebook-sdk==4.0.0rc0) (3.0.4)\n",
      "Building wheels for collected packages: facebook-sdk\n",
      "  Building wheel for facebook-sdk (setup.py) ... \u001b[?25ldone\n",
      "\u001b[?25h  Created wheel for facebook-sdk: filename=facebook_sdk-4.0.0rc0-py3-none-any.whl size=11858 sha256=174ee4cd23a47232149cdb6e4c763be63e1bb2d7591ce0afdfe3f77c9817146b\n",
      "  Stored in directory: /private/var/folders/yy/js6k019n0xbg51n83xcjldlm0000gn/T/pip-ephem-wheel-cache-u8k4rn32/wheels/90/88/08/7f0ca7c2b9d2593ab4c58e0dae9f27a0e29fd9f23151437976\n",
      "Successfully built facebook-sdk\n",
      "Note: you may need to restart the kernel to use updated packages.\n"
     ]
    }
   ],
   "source": [
    "%pip install git+git://github.com/mobolic/facebook-sdk"
   ]
  },
  {
   "cell_type": "code",
   "execution_count": 4,
   "metadata": {},
   "outputs": [],
   "source": [
    "import facebook\n",
    "from facebook_secrets import APP_TOKEN, ACCESS_TOKEN, PAGE_TOKEN"
   ]
  },
  {
   "cell_type": "code",
   "execution_count": 5,
   "metadata": {},
   "outputs": [],
   "source": [
    "graph = facebook.GraphAPI(access_token=ACCESS_TOKEN)"
   ]
  },
  {
   "cell_type": "code",
   "execution_count": 6,
   "metadata": {},
   "outputs": [
    {
     "ename": "GraphAPIError",
     "evalue": "Error validating access token: Session has expired on Tuesday, 26-May-20 11:00:00 PDT. The current time is Wednesday, 03-Jun-20 06:42:06 PDT.",
     "output_type": "error",
     "traceback": [
      "\u001b[0;31m---------------------------------------------------------------------------\u001b[0m",
      "\u001b[0;31mGraphAPIError\u001b[0m                             Traceback (most recent call last)",
      "\u001b[0;32m<ipython-input-6-f9c871adbad5>\u001b[0m in \u001b[0;36m<module>\u001b[0;34m\u001b[0m\n\u001b[0;32m----> 1\u001b[0;31m \u001b[0mdata\u001b[0m \u001b[0;34m=\u001b[0m \u001b[0mgraph\u001b[0m\u001b[0;34m.\u001b[0m\u001b[0msearch\u001b[0m\u001b[0;34m(\u001b[0m\u001b[0mq\u001b[0m\u001b[0;34m=\u001b[0m\u001b[0;34m'Ikea'\u001b[0m\u001b[0;34m,\u001b[0m\u001b[0mtype\u001b[0m\u001b[0;34m=\u001b[0m\u001b[0;34m'place'\u001b[0m\u001b[0;34m,\u001b[0m\u001b[0mfields\u001b[0m\u001b[0;34m=\u001b[0m\u001b[0;34m'name,location'\u001b[0m\u001b[0;34m)\u001b[0m\u001b[0;34m\u001b[0m\u001b[0;34m\u001b[0m\u001b[0m\n\u001b[0m",
      "\u001b[0;32m~/opt/anaconda3/lib/python3.7/site-packages/facebook/__init__.py\u001b[0m in \u001b[0;36msearch\u001b[0;34m(self, type, **args)\u001b[0m\n\u001b[1;32m    147\u001b[0m \u001b[0;34m\u001b[0m\u001b[0m\n\u001b[1;32m    148\u001b[0m         \u001b[0margs\u001b[0m\u001b[0;34m[\u001b[0m\u001b[0;34m\"type\"\u001b[0m\u001b[0;34m]\u001b[0m \u001b[0;34m=\u001b[0m \u001b[0mtype\u001b[0m\u001b[0;34m\u001b[0m\u001b[0;34m\u001b[0m\u001b[0m\n\u001b[0;32m--> 149\u001b[0;31m         \u001b[0;32mreturn\u001b[0m \u001b[0mself\u001b[0m\u001b[0;34m.\u001b[0m\u001b[0mrequest\u001b[0m\u001b[0;34m(\u001b[0m\u001b[0mself\u001b[0m\u001b[0;34m.\u001b[0m\u001b[0mversion\u001b[0m \u001b[0;34m+\u001b[0m \u001b[0;34m\"/search/\"\u001b[0m\u001b[0;34m,\u001b[0m \u001b[0margs\u001b[0m\u001b[0;34m)\u001b[0m\u001b[0;34m\u001b[0m\u001b[0;34m\u001b[0m\u001b[0m\n\u001b[0m\u001b[1;32m    150\u001b[0m \u001b[0;34m\u001b[0m\u001b[0m\n\u001b[1;32m    151\u001b[0m     \u001b[0;32mdef\u001b[0m \u001b[0mget_connections\u001b[0m\u001b[0;34m(\u001b[0m\u001b[0mself\u001b[0m\u001b[0;34m,\u001b[0m \u001b[0mid\u001b[0m\u001b[0;34m,\u001b[0m \u001b[0mconnection_name\u001b[0m\u001b[0;34m,\u001b[0m \u001b[0;34m**\u001b[0m\u001b[0margs\u001b[0m\u001b[0;34m)\u001b[0m\u001b[0;34m:\u001b[0m\u001b[0;34m\u001b[0m\u001b[0;34m\u001b[0m\u001b[0m\n",
      "\u001b[0;32m~/opt/anaconda3/lib/python3.7/site-packages/facebook/__init__.py\u001b[0m in \u001b[0;36mrequest\u001b[0;34m(self, path, args, post_args, files, method)\u001b[0m\n\u001b[1;32m    320\u001b[0m \u001b[0;34m\u001b[0m\u001b[0m\n\u001b[1;32m    321\u001b[0m         \u001b[0;32mif\u001b[0m \u001b[0mresult\u001b[0m \u001b[0;32mand\u001b[0m \u001b[0misinstance\u001b[0m\u001b[0;34m(\u001b[0m\u001b[0mresult\u001b[0m\u001b[0;34m,\u001b[0m \u001b[0mdict\u001b[0m\u001b[0;34m)\u001b[0m \u001b[0;32mand\u001b[0m \u001b[0mresult\u001b[0m\u001b[0;34m.\u001b[0m\u001b[0mget\u001b[0m\u001b[0;34m(\u001b[0m\u001b[0;34m\"error\"\u001b[0m\u001b[0;34m)\u001b[0m\u001b[0;34m:\u001b[0m\u001b[0;34m\u001b[0m\u001b[0;34m\u001b[0m\u001b[0m\n\u001b[0;32m--> 322\u001b[0;31m             \u001b[0;32mraise\u001b[0m \u001b[0mGraphAPIError\u001b[0m\u001b[0;34m(\u001b[0m\u001b[0mresult\u001b[0m\u001b[0;34m)\u001b[0m\u001b[0;34m\u001b[0m\u001b[0;34m\u001b[0m\u001b[0m\n\u001b[0m\u001b[1;32m    323\u001b[0m         \u001b[0;32mreturn\u001b[0m \u001b[0mresult\u001b[0m\u001b[0;34m\u001b[0m\u001b[0;34m\u001b[0m\u001b[0m\n\u001b[1;32m    324\u001b[0m \u001b[0;34m\u001b[0m\u001b[0m\n",
      "\u001b[0;31mGraphAPIError\u001b[0m: Error validating access token: Session has expired on Tuesday, 26-May-20 11:00:00 PDT. The current time is Wednesday, 03-Jun-20 06:42:06 PDT."
     ]
    }
   ],
   "source": [
    "data = graph.search(q='Ikea',type='place',fields='name,location')"
   ]
  },
  {
   "cell_type": "code",
   "execution_count": 5,
   "metadata": {},
   "outputs": [
    {
     "data": {
      "text/plain": [
       "{'data': [{'name': 'IKEA',\n",
       "   'location': {'city': 'Poznan',\n",
       "    'country': 'Poland',\n",
       "    'latitude': 52.38291,\n",
       "    'longitude': 16.98748,\n",
       "    'street': 'Szwedzka 10',\n",
       "    'zip': '61-285'},\n",
       "   'id': '479616079069181'},\n",
       "  {'name': 'Ikea Cheras',\n",
       "   'location': {'city': 'Kuala Lumpur',\n",
       "    'country': 'Malaysia',\n",
       "    'latitude': 3.1353502,\n",
       "    'longitude': 101.7209033},\n",
       "   'id': '100769198214912'},\n",
       "  {'name': 'IKEA Macau',\n",
       "   'location': {'city': 'Macau',\n",
       "    'country': 'Macau',\n",
       "    'latitude': 22.160667497955,\n",
       "    'longitude': 113.55410369699},\n",
       "   'id': '105746171119310'},\n",
       "  {'name': 'IKEA @ Mega Bangna',\n",
       "   'location': {'city': 'Bangkok',\n",
       "    'country': 'Thailand',\n",
       "    'latitude': 13.645154139213,\n",
       "    'longitude': 100.67985805146,\n",
       "    'street': 'IKEA Bangna'},\n",
       "   'id': '158552804243711'},\n",
       "  {'name': 'IKEA',\n",
       "   'location': {'city': 'Kuala Lumpur',\n",
       "    'country': 'Malaysia',\n",
       "    'latitude': 3.157252084212,\n",
       "    'longitude': 101.61300582631,\n",
       "    'street': '2, Jalan PJU 7/2, Mutiara Damansara, 47800 Petaling Jaya, Selangor',\n",
       "    'zip': '47800'},\n",
       "   'id': '100139434701485'},\n",
       "  {'name': '澳門宜家傢俬 Ikea Macau',\n",
       "   'location': {'city': 'Macau',\n",
       "    'country': 'Macau',\n",
       "    'latitude': 22.160205175683,\n",
       "    'longitude': 113.55305561037,\n",
       "    'street': '廣東大馬路'},\n",
       "   'id': '108524697503897'},\n",
       "  {'name': 'IKEA 宜家家居 新店店',\n",
       "   'location': {'city': 'Xinbei',\n",
       "    'country': 'Taiwan',\n",
       "    'latitude': 24.97275,\n",
       "    'located_in': '394386897284718',\n",
       "    'longitude': 121.52981,\n",
       "    'street': '新北市23150新店區中央路159號4樓',\n",
       "    'zip': '23150'},\n",
       "   'id': '290041358287848'},\n",
       "  {'name': 'IKEA',\n",
       "   'location': {'city': 'Belgrade',\n",
       "    'country': 'Serbia',\n",
       "    'latitude': 44.710246039914,\n",
       "    'longitude': 20.562158282623,\n",
       "    'street': 'Astrid Lindgren 11, Beograd-Voždovac, Srbija',\n",
       "    'zip': '11225'},\n",
       "   'id': '1754115567939414'},\n",
       "  {'name': 'イケア・ジャパン (IKEA Japan)',\n",
       "   'location': {'city': 'Nagakute',\n",
       "    'country': 'Japan',\n",
       "    'latitude': 35.175167631811,\n",
       "    'longitude': 137.07560062408,\n",
       "    'state': 'Aichi',\n",
       "    'street': '公園西駅周辺土地区画整理事業地内 1街区',\n",
       "    'zip': '480-1100'},\n",
       "   'id': '327433328126412'},\n",
       "  {'name': 'Ikea Lager Dortmund',\n",
       "   'location': {'city': 'Dortmund',\n",
       "    'country': 'Germany',\n",
       "    'latitude': 51.562122400084,\n",
       "    'longitude': 7.4310756484683,\n",
       "    'street': 'Ellinghauser Str. 213',\n",
       "    'zip': '44359'},\n",
       "   'id': '177111222352699'},\n",
       "  {'name': 'IKEA',\n",
       "   'location': {'city': 'Johor Bahru',\n",
       "    'country': 'Malaysia',\n",
       "    'latitude': 1.5520365288537,\n",
       "    'longitude': 103.79883424449,\n",
       "    'street': '33, Jalan Harmonium 23/13, Taman Desa Tebrau, 81100 Johor Bahru',\n",
       "    'zip': '81100'},\n",
       "   'id': '111027416935798'},\n",
       "  {'name': 'IKEA Praha - Černý most',\n",
       "   'location': {'city': 'Prague',\n",
       "    'country': 'Czech Republic',\n",
       "    'latitude': 50.10449,\n",
       "    'longitude': 14.58762,\n",
       "    'street': 'Chlumecká 664/10',\n",
       "    'zip': '19800'},\n",
       "   'id': '973896699437662'},\n",
       "  {'name': 'IKEA Riga',\n",
       "   'location': {'city': 'Dreilini',\n",
       "    'country': 'Latvia',\n",
       "    'latitude': 56.954836,\n",
       "    'longitude': 24.255108,\n",
       "    'street': 'Biķeru iela 2',\n",
       "    'zip': 'LV-2130'},\n",
       "   'id': '550193352070378'},\n",
       "  {'name': 'IKEA Ostrava',\n",
       "   'location': {'city': 'Ostrava',\n",
       "    'country': 'Czech Republic',\n",
       "    'latitude': 49.79912,\n",
       "    'longitude': 18.22774,\n",
       "    'street': 'Rudná 110',\n",
       "    'zip': '70030'},\n",
       "   'id': '361713677691307'},\n",
       "  {'name': 'Ikea Srbija',\n",
       "   'location': {'city': 'Belgrade',\n",
       "    'country': 'Serbia',\n",
       "    'latitude': 44.71035294876,\n",
       "    'longitude': 20.562099662039,\n",
       "    'street': 'Auto-put E-75 bb'},\n",
       "   'id': '1517462974954120'},\n",
       "  {'name': 'IKEA Larisas',\n",
       "   'location': {'city': 'Larissa',\n",
       "    'country': 'Greece',\n",
       "    'latitude': 39.582090253833,\n",
       "    'longitude': 22.468732391574,\n",
       "    'street': '8ο χλμ. Παλαιάς Εθνικής Οδού Λάρισας - Αθηνών'},\n",
       "   'id': '313176898697902'},\n",
       "  {'name': 'IKEA Phuket | อิเกีย ภูเก็ต',\n",
       "   'location': {'city': 'Amphoe Muang Phuket',\n",
       "    'country': 'Thailand',\n",
       "    'latitude': 7.9369193255506,\n",
       "    'longitude': 98.378469814945,\n",
       "    'street': 'Bypass Biztown 180 Moo 5 Chalermprakiat Ratchakarn Thi 9 Road, Ratsada, Mueang Phuket District',\n",
       "    'zip': '83000'},\n",
       "   'id': '1536550553302862'},\n",
       "  {'name': 'IKEA',\n",
       "   'location': {'city': 'Bydgoszcz',\n",
       "    'country': 'Poland',\n",
       "    'latitude': 53.13235,\n",
       "    'longitude': 18.12003,\n",
       "    'street': 'Skandynawska 1',\n",
       "    'zip': '85-776'},\n",
       "   'id': '649028375293929'},\n",
       "  {'name': 'IKEA',\n",
       "   'location': {'city': 'Santo Domingo',\n",
       "    'country': 'Dominican Republic',\n",
       "    'latitude': 18.485093627242,\n",
       "    'longitude': -69.938825368881,\n",
       "    'street': 'Avenida John F. Kennedy, esquina Calle Bienvenido García Gautier',\n",
       "    'zip': '10508'},\n",
       "   'id': '401747970409755'},\n",
       "  {'name': 'IKEA Bangyai',\n",
       "   'location': {'city': 'Ban Bang Kho Ba',\n",
       "    'country': 'Thailand',\n",
       "    'latitude': 13.877878833224,\n",
       "    'longitude': 100.41249722513},\n",
       "   'id': '687082328330954'},\n",
       "  {'name': 'IKEA 고양',\n",
       "   'location': {'city': 'Goyang',\n",
       "    'country': 'South Korea',\n",
       "    'latitude': 37.629462684196,\n",
       "    'longitude': 126.86260825334,\n",
       "    'street': '덕양구 권율대로 420',\n",
       "    'zip': '10551'},\n",
       "   'id': '370106630090396'},\n",
       "  {'name': 'IKEA',\n",
       "   'location': {'city': 'Abu Dhabi',\n",
       "    'country': 'United Arab Emirates',\n",
       "    'latitude': 24.489926899057,\n",
       "    'longitude': 54.613303171414,\n",
       "    'street': 'Yas Mall',\n",
       "    'zip': 'P.O. Box 52718'},\n",
       "   'id': '432514340255916'},\n",
       "  {'name': 'IKEA',\n",
       "   'location': {'city': 'Genova',\n",
       "    'country': 'Italy',\n",
       "    'latitude': 44.42365391621,\n",
       "    'longitude': 8.8839388934906,\n",
       "    'street': 'Via Luigi Perini, 5',\n",
       "    'zip': '16152'},\n",
       "   'id': '1769112299966945'},\n",
       "  {'name': 'Ikea Distribution Services Gmbh Salzgitter',\n",
       "   'location': {'city': 'Salzgitter',\n",
       "    'country': 'Germany',\n",
       "    'latitude': 52.149674619136,\n",
       "    'longitude': 10.424402812612,\n",
       "    'street': 'Carl-Zeiss-Weg  8',\n",
       "    'zip': '38239'},\n",
       "   'id': '125744790839814'},\n",
       "  {'name': 'IKEA 宜家家居 台中店',\n",
       "   'location': {'city': 'Taichung',\n",
       "    'country': 'Taiwan',\n",
       "    'latitude': 24.1469848,\n",
       "    'longitude': 120.6436948,\n",
       "    'street': '南屯區向上路二段168號',\n",
       "    'zip': '408'},\n",
       "   'id': '1089024601173454'}],\n",
       " 'paging': {'cursors': {'after': 'MjQZD'},\n",
       "  'next': 'https://graph.facebook.com/v7.0/search?access_token=EAAVngbxQqZCIBAJUsoFc0TErux4zwQOzXUHQ3X4ZBlC3lnqTQ3jElSRXhQnr9zx7CYO9bOkekppKhWUFDeYZBX5Ac6RiOglm7uXcaXseiw9PX1m8w2d3LxgRzs3ncUGwW7kqLGp2UZBLcGjUfOQ8IYtZBimMI1XuuhvasIunNzy4hAyNnp7oYBnmtF1xy97DooZAa5KVi7TK21InBB4ZAcw&fields=name%2Clocation&q=Ikea&type=place&limit=25&after=MjQZD'}}"
      ]
     },
     "execution_count": 5,
     "metadata": {},
     "output_type": "execute_result"
    }
   ],
   "source": [
    "data"
   ]
  },
  {
   "cell_type": "code",
   "execution_count": 7,
   "metadata": {},
   "outputs": [],
   "source": [
    "graph=facebook.GraphAPI(access_token=PAGE_TOKEN)"
   ]
  },
  {
   "cell_type": "code",
   "execution_count": 8,
   "metadata": {},
   "outputs": [
    {
     "ename": "GraphAPIError",
     "evalue": "Error validating access token: Session has expired on Tuesday, 26-May-20 11:00:00 PDT. The current time is Wednesday, 03-Jun-20 06:44:14 PDT.",
     "output_type": "error",
     "traceback": [
      "\u001b[0;31m---------------------------------------------------------------------------\u001b[0m",
      "\u001b[0;31mGraphAPIError\u001b[0m                             Traceback (most recent call last)",
      "\u001b[0;32m<ipython-input-8-0c4b14e6f207>\u001b[0m in \u001b[0;36m<module>\u001b[0;34m\u001b[0m\n\u001b[1;32m      4\u001b[0m                                    \u001b[0mdate_preset\u001b[0m\u001b[0;34m=\u001b[0m\u001b[0;34m'yesterday'\u001b[0m\u001b[0;34m,\u001b[0m\u001b[0;34m\u001b[0m\u001b[0;34m\u001b[0m\u001b[0m\n\u001b[1;32m      5\u001b[0m                                    \u001b[0mperiode\u001b[0m\u001b[0;34m=\u001b[0m\u001b[0;34m'month'\u001b[0m\u001b[0;34m,\u001b[0m\u001b[0;34m\u001b[0m\u001b[0;34m\u001b[0m\u001b[0m\n\u001b[0;32m----> 6\u001b[0;31m                                    show_description_from_api_docs=True)\n\u001b[0m",
      "\u001b[0;32m~/opt/anaconda3/lib/python3.7/site-packages/facebook/__init__.py\u001b[0m in \u001b[0;36mget_connections\u001b[0;34m(self, id, connection_name, **args)\u001b[0m\n\u001b[1;32m    152\u001b[0m         \u001b[0;34m\"\"\"Fetches the connections for given object.\"\"\"\u001b[0m\u001b[0;34m\u001b[0m\u001b[0;34m\u001b[0m\u001b[0m\n\u001b[1;32m    153\u001b[0m         return self.request(\n\u001b[0;32m--> 154\u001b[0;31m             \u001b[0;34m\"{0}/{1}/{2}\"\u001b[0m\u001b[0;34m.\u001b[0m\u001b[0mformat\u001b[0m\u001b[0;34m(\u001b[0m\u001b[0mself\u001b[0m\u001b[0;34m.\u001b[0m\u001b[0mversion\u001b[0m\u001b[0;34m,\u001b[0m \u001b[0mid\u001b[0m\u001b[0;34m,\u001b[0m \u001b[0mconnection_name\u001b[0m\u001b[0;34m)\u001b[0m\u001b[0;34m,\u001b[0m \u001b[0margs\u001b[0m\u001b[0;34m\u001b[0m\u001b[0;34m\u001b[0m\u001b[0m\n\u001b[0m\u001b[1;32m    155\u001b[0m         )\n\u001b[1;32m    156\u001b[0m \u001b[0;34m\u001b[0m\u001b[0m\n",
      "\u001b[0;32m~/opt/anaconda3/lib/python3.7/site-packages/facebook/__init__.py\u001b[0m in \u001b[0;36mrequest\u001b[0;34m(self, path, args, post_args, files, method)\u001b[0m\n\u001b[1;32m    320\u001b[0m \u001b[0;34m\u001b[0m\u001b[0m\n\u001b[1;32m    321\u001b[0m         \u001b[0;32mif\u001b[0m \u001b[0mresult\u001b[0m \u001b[0;32mand\u001b[0m \u001b[0misinstance\u001b[0m\u001b[0;34m(\u001b[0m\u001b[0mresult\u001b[0m\u001b[0;34m,\u001b[0m \u001b[0mdict\u001b[0m\u001b[0;34m)\u001b[0m \u001b[0;32mand\u001b[0m \u001b[0mresult\u001b[0m\u001b[0;34m.\u001b[0m\u001b[0mget\u001b[0m\u001b[0;34m(\u001b[0m\u001b[0;34m\"error\"\u001b[0m\u001b[0;34m)\u001b[0m\u001b[0;34m:\u001b[0m\u001b[0;34m\u001b[0m\u001b[0;34m\u001b[0m\u001b[0m\n\u001b[0;32m--> 322\u001b[0;31m             \u001b[0;32mraise\u001b[0m \u001b[0mGraphAPIError\u001b[0m\u001b[0;34m(\u001b[0m\u001b[0mresult\u001b[0m\u001b[0;34m)\u001b[0m\u001b[0;34m\u001b[0m\u001b[0;34m\u001b[0m\u001b[0m\n\u001b[0m\u001b[1;32m    323\u001b[0m         \u001b[0;32mreturn\u001b[0m \u001b[0mresult\u001b[0m\u001b[0;34m\u001b[0m\u001b[0;34m\u001b[0m\u001b[0m\n\u001b[1;32m    324\u001b[0m \u001b[0;34m\u001b[0m\u001b[0m\n",
      "\u001b[0;31mGraphAPIError\u001b[0m: Error validating access token: Session has expired on Tuesday, 26-May-20 11:00:00 PDT. The current time is Wednesday, 03-Jun-20 06:44:14 PDT."
     ]
    }
   ],
   "source": [
    "#veces que se ha mostrado la página en el último mes\n",
    "id = 100290364658917 #Id pagina aprendiendoarduino\n",
    "impressions = graph.get_connections(id=100290364658917,connection_name='insights',metric='page_impressions',\n",
    "                                   date_preset='yesterday',\n",
    "                                   periode='month',\n",
    "                                   show_description_from_api_docs=True)"
   ]
  },
  {
   "cell_type": "code",
   "execution_count": 10,
   "metadata": {},
   "outputs": [
    {
     "name": "stdout",
     "output_type": "stream",
     "text": [
      "{'data': [{'name': 'page_impressions', 'period': 'day', 'values': [{'value': 4, 'end_time': '2020-05-26T07:00:00+0000'}], 'title': 'Daily Total Impressions', 'description': \"Daily: The number of times any content from your Page or about your Page entered a person's screen. This includes posts, stories, check-ins, ads, social information from people who interact with your Page and more. (Total Count)\", 'id': '100290364658917/insights/page_impressions/day'}, {'name': 'page_impressions', 'period': 'week', 'values': [{'value': 75, 'end_time': '2020-05-26T07:00:00+0000'}], 'title': 'Weekly Total Impressions', 'description': \"Weekly: The number of times any content from your Page or about your Page entered a person's screen. This includes posts, stories, check-ins, ads, social information from people who interact with your Page and more. (Total Count)\", 'id': '100290364658917/insights/page_impressions/week'}, {'name': 'page_impressions', 'period': 'days_28', 'values': [{'value': 177, 'end_time': '2020-05-26T07:00:00+0000'}], 'title': '28 Days Total Impressions', 'description': \"28 Days: The number of times any content from your Page or about your Page entered a person's screen. This includes posts, stories, check-ins, ads, social information from people who interact with your Page and more. (Total Count)\", 'id': '100290364658917/insights/page_impressions/days_28'}], 'paging': {'previous': 'https://graph.facebook.com/v7.0/100290364658917/insights?access_token=EAAVngbxQqZCIBAOuMY09EuBdgPkJrp3M1AgY6FZBMi3yspSpThfgqgaZARMPxPKtblF8g4cXTjRf9znnxxIrJ0s8z2mU3n3PvuqY3E5xhcAWqGPcmuGvBPXDEZB5CvvsfJGJeCd5xrOvs3x6hcaZCKjGJZBGZAtP6Rxc9TYbJbd66H3JjfanQTZA0iNAesEJyGxhtYP1isWRv3Uq9pphxErt&metric=page_impressions&date_preset=yesterday&since=1590303600&until=1590390000', 'next': 'https://graph.facebook.com/v7.0/100290364658917/insights?access_token=EAAVngbxQqZCIBAOuMY09EuBdgPkJrp3M1AgY6FZBMi3yspSpThfgqgaZARMPxPKtblF8g4cXTjRf9znnxxIrJ0s8z2mU3n3PvuqY3E5xhcAWqGPcmuGvBPXDEZB5CvvsfJGJeCd5xrOvs3x6hcaZCKjGJZBGZAtP6Rxc9TYbJbd66H3JjfanQTZA0iNAesEJyGxhtYP1isWRv3Uq9pphxErt&metric=page_impressions&date_preset=yesterday&since=1590476400&until=1590562800'}}\n"
     ]
    }
   ],
   "source": [
    "print(impressions)"
   ]
  },
  {
   "cell_type": "code",
   "execution_count": null,
   "metadata": {},
   "outputs": [],
   "source": []
  }
 ],
 "metadata": {
  "kernelspec": {
   "display_name": "Python 3",
   "language": "python",
   "name": "python3"
  },
  "language_info": {
   "codemirror_mode": {
    "name": "ipython",
    "version": 3
   },
   "file_extension": ".py",
   "mimetype": "text/x-python",
   "name": "python",
   "nbconvert_exporter": "python",
   "pygments_lexer": "ipython3",
   "version": "3.7.7"
  }
 },
 "nbformat": 4,
 "nbformat_minor": 4
}
