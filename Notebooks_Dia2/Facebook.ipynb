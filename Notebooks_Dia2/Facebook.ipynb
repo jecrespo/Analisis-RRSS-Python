{
 "cells": [
  {
   "cell_type": "code",
   "execution_count": 1,
   "metadata": {},
   "outputs": [
    {
     "name": "stdout",
     "output_type": "stream",
     "text": [
      "Collecting git+git://github.com/mobolic/facebook-sdk\n",
      "  Cloning git://github.com/mobolic/facebook-sdk to c:\\users\\javi\\appdata\\local\\temp\\pip-req-build-yo64gccm\n",
      "Requirement already satisfied: requests in d:\\wpy64-3770\\python-3.7.7.amd64\\lib\\site-packages (from facebook-sdk==4.0.0rc0) (2.23.0)\n",
      "Requirement already satisfied: chardet<4,>=3.0.2 in d:\\wpy64-3770\\python-3.7.7.amd64\\lib\\site-packages (from requests->facebook-sdk==4.0.0rc0) (3.0.4)\n",
      "Requirement already satisfied: certifi>=2017.4.17 in d:\\wpy64-3770\\python-3.7.7.amd64\\lib\\site-packages (from requests->facebook-sdk==4.0.0rc0) (2019.11.28)\n",
      "Requirement already satisfied: idna<3,>=2.5 in d:\\wpy64-3770\\python-3.7.7.amd64\\lib\\site-packages (from requests->facebook-sdk==4.0.0rc0) (2.9)\n",
      "Requirement already satisfied: urllib3!=1.25.0,!=1.25.1,<1.26,>=1.21.1 in d:\\wpy64-3770\\python-3.7.7.amd64\\lib\\site-packages (from requests->facebook-sdk==4.0.0rc0) (1.25.8)\n",
      "Building wheels for collected packages: facebook-sdk\n",
      "  Building wheel for facebook-sdk (setup.py): started\n",
      "  Building wheel for facebook-sdk (setup.py): finished with status 'done'\n",
      "  Created wheel for facebook-sdk: filename=facebook_sdk-4.0.0rc0-py3-none-any.whl size=11927 sha256=30174d30c0108f52b1f5324bdf6e5f0a351c51246865cd6670130d3a6e182fb4\n",
      "  Stored in directory: C:\\Users\\Javi\\AppData\\Local\\Temp\\pip-ephem-wheel-cache-23ye1_bh\\wheels\\90\\88\\08\\7f0ca7c2b9d2593ab4c58e0dae9f27a0e29fd9f23151437976\n",
      "Successfully built facebook-sdk\n",
      "Installing collected packages: facebook-sdk\n",
      "Successfully installed facebook-sdk-4.0.0rc0\n",
      "Note: you may need to restart the kernel to use updated packages.\n"
     ]
    },
    {
     "name": "stderr",
     "output_type": "stream",
     "text": [
      "  Running command git clone -q git://github.com/mobolic/facebook-sdk 'C:\\Users\\Javi\\AppData\\Local\\Temp\\pip-req-build-yo64gccm'\n",
      "WARNING: You are using pip version 20.0.2; however, version 20.1.1 is available.\n",
      "You should consider upgrading via the 'D:\\WPy64-3770\\python-3.7.7.amd64\\python.exe -m pip install --upgrade pip' command.\n"
     ]
    }
   ],
   "source": [
    "%pip install git+git://github.com/mobolic/facebook-sdk"
   ]
  },
  {
   "cell_type": "code",
   "execution_count": 1,
   "metadata": {},
   "outputs": [],
   "source": [
    "from facebook_secrets import APP_TOKEN2, USER_TOKEN2, USER_TOKEN3, PAGE_TOKEN2"
   ]
  },
  {
   "cell_type": "code",
   "execution_count": 2,
   "metadata": {},
   "outputs": [],
   "source": [
    "import facebook"
   ]
  },
  {
   "cell_type": "code",
   "execution_count": 3,
   "metadata": {},
   "outputs": [],
   "source": [
    "graph = facebook.GraphAPI(access_token=APP_TOKEN2)\n"
   ]
  },
  {
   "cell_type": "code",
   "execution_count": 4,
   "metadata": {},
   "outputs": [
    {
     "ename": "GraphAPIError",
     "evalue": "Error validating application. Application has been deleted.",
     "output_type": "error",
     "traceback": [
      "\u001b[0;31m---------------------------------------------------------------------------\u001b[0m",
      "\u001b[0;31mGraphAPIError\u001b[0m                             Traceback (most recent call last)",
      "\u001b[0;32m<ipython-input-4-23d132cc5bbf>\u001b[0m in \u001b[0;36m<module>\u001b[0;34m\u001b[0m\n\u001b[0;32m----> 1\u001b[0;31m \u001b[0mdata\u001b[0m \u001b[0;34m=\u001b[0m \u001b[0mgraph\u001b[0m\u001b[0;34m.\u001b[0m\u001b[0msearch\u001b[0m\u001b[0;34m(\u001b[0m\u001b[0mq\u001b[0m\u001b[0;34m=\u001b[0m\u001b[0;34m'thinktic'\u001b[0m\u001b[0;34m,\u001b[0m \u001b[0mtype\u001b[0m\u001b[0;34m=\u001b[0m\u001b[0;34m'place'\u001b[0m\u001b[0;34m)\u001b[0m\u001b[0;34m\u001b[0m\u001b[0;34m\u001b[0m\u001b[0m\n\u001b[0m",
      "\u001b[0;32m~/opt/anaconda3/lib/python3.7/site-packages/facebook/__init__.py\u001b[0m in \u001b[0;36msearch\u001b[0;34m(self, type, **args)\u001b[0m\n\u001b[1;32m    147\u001b[0m \u001b[0;34m\u001b[0m\u001b[0m\n\u001b[1;32m    148\u001b[0m         \u001b[0margs\u001b[0m\u001b[0;34m[\u001b[0m\u001b[0;34m\"type\"\u001b[0m\u001b[0;34m]\u001b[0m \u001b[0;34m=\u001b[0m \u001b[0mtype\u001b[0m\u001b[0;34m\u001b[0m\u001b[0;34m\u001b[0m\u001b[0m\n\u001b[0;32m--> 149\u001b[0;31m         \u001b[0;32mreturn\u001b[0m \u001b[0mself\u001b[0m\u001b[0;34m.\u001b[0m\u001b[0mrequest\u001b[0m\u001b[0;34m(\u001b[0m\u001b[0mself\u001b[0m\u001b[0;34m.\u001b[0m\u001b[0mversion\u001b[0m \u001b[0;34m+\u001b[0m \u001b[0;34m\"/search/\"\u001b[0m\u001b[0;34m,\u001b[0m \u001b[0margs\u001b[0m\u001b[0;34m)\u001b[0m\u001b[0;34m\u001b[0m\u001b[0;34m\u001b[0m\u001b[0m\n\u001b[0m\u001b[1;32m    150\u001b[0m \u001b[0;34m\u001b[0m\u001b[0m\n\u001b[1;32m    151\u001b[0m     \u001b[0;32mdef\u001b[0m \u001b[0mget_connections\u001b[0m\u001b[0;34m(\u001b[0m\u001b[0mself\u001b[0m\u001b[0;34m,\u001b[0m \u001b[0mid\u001b[0m\u001b[0;34m,\u001b[0m \u001b[0mconnection_name\u001b[0m\u001b[0;34m,\u001b[0m \u001b[0;34m**\u001b[0m\u001b[0margs\u001b[0m\u001b[0;34m)\u001b[0m\u001b[0;34m:\u001b[0m\u001b[0;34m\u001b[0m\u001b[0;34m\u001b[0m\u001b[0m\n",
      "\u001b[0;32m~/opt/anaconda3/lib/python3.7/site-packages/facebook/__init__.py\u001b[0m in \u001b[0;36mrequest\u001b[0;34m(self, path, args, post_args, files, method)\u001b[0m\n\u001b[1;32m    320\u001b[0m \u001b[0;34m\u001b[0m\u001b[0m\n\u001b[1;32m    321\u001b[0m         \u001b[0;32mif\u001b[0m \u001b[0mresult\u001b[0m \u001b[0;32mand\u001b[0m \u001b[0misinstance\u001b[0m\u001b[0;34m(\u001b[0m\u001b[0mresult\u001b[0m\u001b[0;34m,\u001b[0m \u001b[0mdict\u001b[0m\u001b[0;34m)\u001b[0m \u001b[0;32mand\u001b[0m \u001b[0mresult\u001b[0m\u001b[0;34m.\u001b[0m\u001b[0mget\u001b[0m\u001b[0;34m(\u001b[0m\u001b[0;34m\"error\"\u001b[0m\u001b[0;34m)\u001b[0m\u001b[0;34m:\u001b[0m\u001b[0;34m\u001b[0m\u001b[0;34m\u001b[0m\u001b[0m\n\u001b[0;32m--> 322\u001b[0;31m             \u001b[0;32mraise\u001b[0m \u001b[0mGraphAPIError\u001b[0m\u001b[0;34m(\u001b[0m\u001b[0mresult\u001b[0m\u001b[0;34m)\u001b[0m\u001b[0;34m\u001b[0m\u001b[0;34m\u001b[0m\u001b[0m\n\u001b[0m\u001b[1;32m    323\u001b[0m         \u001b[0;32mreturn\u001b[0m \u001b[0mresult\u001b[0m\u001b[0;34m\u001b[0m\u001b[0;34m\u001b[0m\u001b[0m\n\u001b[1;32m    324\u001b[0m \u001b[0;34m\u001b[0m\u001b[0m\n",
      "\u001b[0;31mGraphAPIError\u001b[0m: Error validating application. Application has been deleted."
     ]
    }
   ],
   "source": [
    "data = graph.search(q='thinktic', type='place')"
   ]
  },
  {
   "cell_type": "code",
   "execution_count": 6,
   "metadata": {},
   "outputs": [
    {
     "data": {
      "text/plain": [
       "{'data': [{'name': 'Think-tic', 'id': '10150294782352878'}]}"
      ]
     },
     "execution_count": 6,
     "metadata": {},
     "output_type": "execute_result"
    }
   ],
   "source": [
    "data"
   ]
  },
  {
   "cell_type": "code",
   "execution_count": 7,
   "metadata": {},
   "outputs": [],
   "source": [
    "data = graph.search(q='Ikea', type='place')"
   ]
  },
  {
   "cell_type": "code",
   "execution_count": 8,
   "metadata": {},
   "outputs": [
    {
     "data": {
      "text/plain": [
       "{'data': [{'name': 'IKEA @ Mega Bangna', 'id': '158552804243711'},\n",
       "  {'name': 'Ikea Cheras', 'id': '100769198214912'},\n",
       "  {'name': 'IKEA', 'id': '100139434701485'},\n",
       "  {'name': 'IKEA 宜家家居 新店店', 'id': '290041358287848'},\n",
       "  {'name': 'IKEA Macau', 'id': '105746171119310'},\n",
       "  {'name': 'IKEA Distribution Center, Perryville MD', 'id': '202055743151263'},\n",
       "  {'name': '澳門宜家傢俬 Ikea Macau', 'id': '108524697503897'},\n",
       "  {'name': 'IKEA', 'id': '111027416935798'},\n",
       "  {'name': 'イケア・ジャパン (IKEA Japan)', 'id': '327433328126412'},\n",
       "  {'name': 'IKEA 青埔新市鎮店', 'id': '606938476437386'},\n",
       "  {'name': 'IKEA Riga', 'id': '550193352070378'},\n",
       "  {'name': 'IKEA Praha - Černý most', 'id': '973896699437662'},\n",
       "  {'name': 'IKEA Soroksár', 'id': '282750338882974'},\n",
       "  {'name': 'Ikea Lager Dortmund', 'id': '177111222352699'},\n",
       "  {'name': 'Ikea Srbija', 'id': '1517462974954120'},\n",
       "  {'name': 'IKEA Phuket | อิเกีย ภูเก็ต', 'id': '1536550553302862'},\n",
       "  {'name': 'IKEA', 'id': '103774851126324'},\n",
       "  {'name': 'IKEA 고양', 'id': '370106630090396'},\n",
       "  {'name': 'IKEA Ostrava', 'id': '361713677691307'},\n",
       "  {'name': 'IKEA', 'id': '1717670288535586'},\n",
       "  {'name': 'IKEA', 'id': '121050891908395'},\n",
       "  {'name': 'IKEA', 'id': '1051089855033048'},\n",
       "  {'name': 'IKEA', 'id': '649028375293929'},\n",
       "  {'name': 'IKEA', 'id': '2185653184992150'},\n",
       "  {'name': 'IKEA Pallady', 'id': '1814891025221127'}],\n",
       " 'paging': {'cursors': {'after': 'MjQZD'},\n",
       "  'next': 'https://graph.facebook.com/v7.0/search?access_token=382528352683082%7C68CgtasgPBC2jyHiM6D2s_49oPc&q=Ikea&type=place&limit=25&after=MjQZD'}}"
      ]
     },
     "execution_count": 8,
     "metadata": {},
     "output_type": "execute_result"
    }
   ],
   "source": [
    "data"
   ]
  },
  {
   "cell_type": "code",
   "execution_count": 9,
   "metadata": {},
   "outputs": [],
   "source": [
    "data = graph.search(q='Ikea', type='place', fields='name,location')"
   ]
  },
  {
   "cell_type": "code",
   "execution_count": 18,
   "metadata": {},
   "outputs": [],
   "source": [
    "graph = facebook.GraphAPI(access_token=USER_TOKEN2)"
   ]
  },
  {
   "cell_type": "code",
   "execution_count": 19,
   "metadata": {},
   "outputs": [],
   "source": [
    "me = graph.get_object(id='me', fields='name,birthday,friends')"
   ]
  },
  {
   "cell_type": "code",
   "execution_count": 20,
   "metadata": {},
   "outputs": [
    {
     "data": {
      "text/plain": [
       "{'name': 'Javier Becerra Elcinto',\n",
       " 'birthday': '02/02/1977',\n",
       " 'friends': {'data': [], 'summary': {'total_count': 32}},\n",
       " 'id': '10156875861421394'}"
      ]
     },
     "execution_count": 20,
     "metadata": {},
     "output_type": "execute_result"
    }
   ],
   "source": [
    "me"
   ]
  },
  {
   "cell_type": "code",
   "execution_count": 34,
   "metadata": {},
   "outputs": [],
   "source": [
    "\n",
    "graph = facebook.GraphAPI(access_token=USER_TOKEN3)\n",
    "data = graph.get_object(id=\"panoimagen\", fields='access_token')\n",
    "PAGE_TOKEN = data['access_token']\n"
   ]
  },
  {
   "cell_type": "code",
   "execution_count": 35,
   "metadata": {},
   "outputs": [],
   "source": [
    "graph = facebook.GraphAPI(access_token=PAGE_TOKEN2)"
   ]
  },
  {
   "cell_type": "code",
   "execution_count": 36,
   "metadata": {},
   "outputs": [],
   "source": [
    "page_impressions = graph.get_connections(\n",
    "id=\"panoimagen\",\n",
    "connection_name='insights',\n",
    "metric='page_impressions',\n",
    "date_preset='yesterday',\n",
    "period='month',\n",
    "show_description_from_api_doc=True)"
   ]
  },
  {
   "cell_type": "code",
   "execution_count": 37,
   "metadata": {},
   "outputs": [
    {
     "data": {
      "text/plain": [
       "{'data': [{'name': 'page_impressions',\n",
       "   'period': 'month',\n",
       "   'values': [{'value': 22, 'end_time': '2020-05-26T07:00:00+0000'}],\n",
       "   'title': None,\n",
       "   'description': 'Número de veces que se ha mostrado en la pantalla de una persona contenido de tu página o sobre esta. Se incluyen publicaciones, historias, visitas, anuncios, información social de personas que interactúan con tu página y más.',\n",
       "   'id': '346458492190952/insights/page_impressions/month'}],\n",
       " 'paging': {'previous': 'https://graph.facebook.com/v7.0/346458492190952/insights?access_token=EAAFb6FKUBEoBAL4LAfctwBiy5n7BcwjRwLgGKJINl7Ta6gMjvYZBlefiq6RMZBfx4ALoAxLtIB1RVIos3N9CHpbjOUQtd4UD9OBC2cA2DT4fEeJENB32nmCxAmnhVw5eU3k60NVmL5OdqUrxyyiDKZAlugnYK5ymbZBosiCz53jq4DKMey0oDxZBr602AD83f1reEsU30eAZDZD&metric=page_impressions&period=month&show_description_from_api_doc=True&date_preset=yesterday&since=1590303600&until=1590390000',\n",
       "  'next': 'https://graph.facebook.com/v7.0/346458492190952/insights?access_token=EAAFb6FKUBEoBAL4LAfctwBiy5n7BcwjRwLgGKJINl7Ta6gMjvYZBlefiq6RMZBfx4ALoAxLtIB1RVIos3N9CHpbjOUQtd4UD9OBC2cA2DT4fEeJENB32nmCxAmnhVw5eU3k60NVmL5OdqUrxyyiDKZAlugnYK5ymbZBosiCz53jq4DKMey0oDxZBr602AD83f1reEsU30eAZDZD&metric=page_impressions&period=month&show_description_from_api_doc=True&date_preset=yesterday&since=1590476400&until=1590562800'}}"
      ]
     },
     "execution_count": 37,
     "metadata": {},
     "output_type": "execute_result"
    }
   ],
   "source": [
    "page_impressions"
   ]
  },
  {
   "cell_type": "code",
   "execution_count": null,
   "metadata": {},
   "outputs": [],
   "source": []
  }
 ],
 "metadata": {
  "kernelspec": {
   "display_name": "Python 3",
   "language": "python",
   "name": "python3"
  },
  "language_info": {
   "codemirror_mode": {
    "name": "ipython",
    "version": 3
   },
   "file_extension": ".py",
   "mimetype": "text/x-python",
   "name": "python",
   "nbconvert_exporter": "python",
   "pygments_lexer": "ipython3",
   "version": "3.7.7"
  }
 },
 "nbformat": 4,
 "nbformat_minor": 4
}
